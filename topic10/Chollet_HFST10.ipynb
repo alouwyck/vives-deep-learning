{
  "cells": [
    {
      "cell_type": "markdown",
      "metadata": {
        "id": "view-in-github",
        "colab_type": "text"
      },
      "source": [
        "<a href=\"https://colab.research.google.com/github/alouwyck/vives-deep-learning/blob/main/topic10/Chollet_HFST10.ipynb\" target=\"_parent\"><img src=\"https://colab.research.google.com/assets/colab-badge.svg\" alt=\"Open In Colab\"/></a>"
      ]
    },
    {
      "cell_type": "markdown",
      "metadata": {
        "id": "p34cmLp6FrA6"
      },
      "source": [
        "<img src=\"data:image/png;base64,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\" align=\"right\" /><br>\n",
        "\n",
        "\n",
        "**DEEP LEARNING**<br>\n",
        "Academiejaar 2022-2023<br>\n",
        "Andy Louwyck\n",
        "\n",
        "---\n",
        "\n",
        "\n",
        "\n",
        "---\n",
        "\n"
      ]
    },
    {
      "cell_type": "markdown",
      "metadata": {
        "id": "Y7pEsCIGnCRu"
      },
      "source": [
        "# 10. Deep learning for timeseries"
      ]
    },
    {
      "cell_type": "markdown",
      "source": [
        "Deze notebook bevat de codevoorbeelden (met aanvullende uitleg) uit hoofdstuk 10 van het boek \"Deep Learning with Python\" (2e editie) van François Chollet."
      ],
      "metadata": {
        "id": "Jjl4un9dcIKL"
      }
    },
    {
      "cell_type": "markdown",
      "metadata": {
        "id": "QYvId6SGnCRv"
      },
      "source": [
        "## 10.1. Different kinds of timeseries tasks"
      ]
    },
    {
      "cell_type": "markdown",
      "source": [
        "Naast **forecasting** kan men ook andere machine learning taken uitvoeren met data die uit tijdreeksen bestaan:\n",
        "\n",
        "- **classificatie**: tijdreeksen labelen;\n",
        "- **event detection**: een verwachte gebeurtenis detecteren;\n",
        "- **anomaly detection**: ongewone gebeurtenissen detecteren;\n",
        "- ..."
      ],
      "metadata": {
        "id": "xDBJkqDICUE3"
      }
    },
    {
      "cell_type": "markdown",
      "source": [
        "In dit hoofdstuk beperken we ons tot forecasting. Concreet gaan we adhv een dataset met échte meteorologische gegevens de temperatuur proberen te voorspellen."
      ],
      "metadata": {
        "id": "MB-7jzUFKzWH"
      }
    },
    {
      "cell_type": "markdown",
      "metadata": {
        "id": "UAsQDr-tnCRv"
      },
      "source": [
        "## 10.2. A temperature-forecasting example"
      ]
    },
    {
      "cell_type": "markdown",
      "source": [
        "### The Jena dataset"
      ],
      "metadata": {
        "id": "KHoAaD1POJIb"
      }
    },
    {
      "cell_type": "markdown",
      "source": [
        "Uit het boek:\n",
        "\n",
        "*We’ll work with a weather timeseries dataset recorded at the weather station at the\n",
        "Max Planck Institute for Biogeochemistry in Jena, Germany. In this dataset, 14 different\n",
        "quantities (such as temperature, pressure, humidity, wind direction, and so on)\n",
        "were recorded every 10 minutes over several years. The original data goes back to\n",
        "2003, but the subset of the data we’ll download is limited to 2009–2016.*"
      ],
      "metadata": {
        "id": "GDJRwQFYL69p"
      }
    },
    {
      "cell_type": "code",
      "execution_count": null,
      "metadata": {
        "colab": {
          "base_uri": "https://localhost:8080/"
        },
        "id": "_gxfO657ZgjK",
        "outputId": "63b30b27-27e6-4678-f195-5b7fa4a90fe9"
      },
      "outputs": [
        {
          "output_type": "stream",
          "name": "stdout",
          "text": [
            "--2022-12-09 16:09:50--  https://s3.amazonaws.com/keras-datasets/jena_climate_2009_2016.csv.zip\n",
            "Resolving s3.amazonaws.com (s3.amazonaws.com)... 52.216.84.221, 54.231.197.8, 52.217.228.160, ...\n",
            "Connecting to s3.amazonaws.com (s3.amazonaws.com)|52.216.84.221|:443... connected.\n",
            "HTTP request sent, awaiting response... 200 OK\n",
            "Length: 13565642 (13M) [application/zip]\n",
            "Saving to: ‘jena_climate_2009_2016.csv.zip’\n",
            "\n",
            "jena_climate_2009_2 100%[===================>]  12.94M  14.9MB/s    in 0.9s    \n",
            "\n",
            "2022-12-09 16:09:52 (14.9 MB/s) - ‘jena_climate_2009_2016.csv.zip’ saved [13565642/13565642]\n",
            "\n",
            "Archive:  jena_climate_2009_2016.csv.zip\n",
            "  inflating: jena_climate_2009_2016.csv  \n",
            "  inflating: __MACOSX/._jena_climate_2009_2016.csv  \n"
          ]
        }
      ],
      "source": [
        "!wget https://s3.amazonaws.com/keras-datasets/jena_climate_2009_2016.csv.zip\n",
        "!unzip jena_climate_2009_2016.csv.zip"
      ]
    },
    {
      "cell_type": "markdown",
      "source": [
        "We krijgen dus een csv-file en gaan die inlezen en inspecteren met Pandas:"
      ],
      "metadata": {
        "id": "zaqu0-qBMNyL"
      }
    },
    {
      "cell_type": "code",
      "source": [
        "import pandas as pd\n",
        "\n",
        "df = pd.read_csv(\"jena_climate_2009_2016.csv\")\n",
        "list(df.columns)"
      ],
      "metadata": {
        "colab": {
          "base_uri": "https://localhost:8080/"
        },
        "id": "prcjGqcGZrgQ",
        "outputId": "951e9bd3-cebe-4749-e3a4-e3a8e5c80332"
      },
      "execution_count": null,
      "outputs": [
        {
          "output_type": "execute_result",
          "data": {
            "text/plain": [
              "['Date Time',\n",
              " 'p (mbar)',\n",
              " 'T (degC)',\n",
              " 'Tpot (K)',\n",
              " 'Tdew (degC)',\n",
              " 'rh (%)',\n",
              " 'VPmax (mbar)',\n",
              " 'VPact (mbar)',\n",
              " 'VPdef (mbar)',\n",
              " 'sh (g/kg)',\n",
              " 'H2OC (mmol/mol)',\n",
              " 'rho (g/m**3)',\n",
              " 'wv (m/s)',\n",
              " 'max. wv (m/s)',\n",
              " 'wd (deg)']"
            ]
          },
          "metadata": {},
          "execution_count": 8
        }
      ]
    },
    {
      "cell_type": "markdown",
      "source": [
        "Statistieken:"
      ],
      "metadata": {
        "id": "XIQrD849M3oq"
      }
    },
    {
      "cell_type": "code",
      "source": [
        "df.describe().T"
      ],
      "metadata": {
        "colab": {
          "base_uri": "https://localhost:8080/",
          "height": 488
        },
        "id": "3CJll-bbaBdn",
        "outputId": "c897478b-df06-42b2-c925-c5b699bbacae"
      },
      "execution_count": null,
      "outputs": [
        {
          "output_type": "execute_result",
          "data": {
            "text/plain": [
              "                    count         mean        std      min      25%      50%  \\\n",
              "p (mbar)         420451.0   989.212508   8.359454   913.60   984.20   989.57   \n",
              "T (degC)         420451.0     9.448567   8.423685   -23.01     3.36     9.41   \n",
              "Tpot (K)         420451.0   283.491182   8.504820   250.60   277.43   283.46   \n",
              "Tdew (degC)      420451.0     4.954011   6.730411   -25.01     0.24     5.21   \n",
              "rh (%)           420451.0    76.007045  16.477126    12.95    65.21    79.30   \n",
              "VPmax (mbar)     420451.0    13.575089   7.739481     0.95     7.78    11.82   \n",
              "VPact (mbar)     420451.0     9.532524   4.183895     0.79     6.21     8.86   \n",
              "VPdef (mbar)     420451.0     4.042483   4.897270     0.00     0.87     2.19   \n",
              "sh (g/kg)        420451.0     6.021630   2.655973     0.50     3.92     5.59   \n",
              "H2OC (mmol/mol)  420451.0     9.638982   4.235130     0.80     6.29     8.96   \n",
              "rho (g/m**3)     420451.0  1216.069883  39.977065  1059.45  1187.49  1213.80   \n",
              "wv (m/s)         420451.0     2.130309   1.541830     0.00     0.99     1.76   \n",
              "max. wv (m/s)    420451.0     3.532381   2.340482     0.00     1.76     2.96   \n",
              "wd (deg)         420451.0   174.726164  86.675965     0.00   124.80   198.10   \n",
              "\n",
              "                     75%      max  \n",
              "p (mbar)          994.72  1015.35  \n",
              "T (degC)           15.47    37.28  \n",
              "Tpot (K)          289.53   311.34  \n",
              "Tdew (degC)        10.07    23.11  \n",
              "rh (%)             89.40   100.00  \n",
              "VPmax (mbar)       17.60    63.77  \n",
              "VPact (mbar)       12.35    28.32  \n",
              "VPdef (mbar)        5.30    46.01  \n",
              "sh (g/kg)           7.80    18.13  \n",
              "H2OC (mmol/mol)    12.48    28.82  \n",
              "rho (g/m**3)     1242.77  1393.54  \n",
              "wv (m/s)            2.86    14.63  \n",
              "max. wv (m/s)       4.74    23.50  \n",
              "wd (deg)          234.10   360.00  "
            ],
            "text/html": [
              "\n",
              "  <div id=\"df-d193f5ee-f895-46c5-9ce6-029860e7c279\">\n",
              "    <div class=\"colab-df-container\">\n",
              "      <div>\n",
              "<style scoped>\n",
              "    .dataframe tbody tr th:only-of-type {\n",
              "        vertical-align: middle;\n",
              "    }\n",
              "\n",
              "    .dataframe tbody tr th {\n",
              "        vertical-align: top;\n",
              "    }\n",
              "\n",
              "    .dataframe thead th {\n",
              "        text-align: right;\n",
              "    }\n",
              "</style>\n",
              "<table border=\"1\" class=\"dataframe\">\n",
              "  <thead>\n",
              "    <tr style=\"text-align: right;\">\n",
              "      <th></th>\n",
              "      <th>count</th>\n",
              "      <th>mean</th>\n",
              "      <th>std</th>\n",
              "      <th>min</th>\n",
              "      <th>25%</th>\n",
              "      <th>50%</th>\n",
              "      <th>75%</th>\n",
              "      <th>max</th>\n",
              "    </tr>\n",
              "  </thead>\n",
              "  <tbody>\n",
              "    <tr>\n",
              "      <th>p (mbar)</th>\n",
              "      <td>420451.0</td>\n",
              "      <td>989.212508</td>\n",
              "      <td>8.359454</td>\n",
              "      <td>913.60</td>\n",
              "      <td>984.20</td>\n",
              "      <td>989.57</td>\n",
              "      <td>994.72</td>\n",
              "      <td>1015.35</td>\n",
              "    </tr>\n",
              "    <tr>\n",
              "      <th>T (degC)</th>\n",
              "      <td>420451.0</td>\n",
              "      <td>9.448567</td>\n",
              "      <td>8.423685</td>\n",
              "      <td>-23.01</td>\n",
              "      <td>3.36</td>\n",
              "      <td>9.41</td>\n",
              "      <td>15.47</td>\n",
              "      <td>37.28</td>\n",
              "    </tr>\n",
              "    <tr>\n",
              "      <th>Tpot (K)</th>\n",
              "      <td>420451.0</td>\n",
              "      <td>283.491182</td>\n",
              "      <td>8.504820</td>\n",
              "      <td>250.60</td>\n",
              "      <td>277.43</td>\n",
              "      <td>283.46</td>\n",
              "      <td>289.53</td>\n",
              "      <td>311.34</td>\n",
              "    </tr>\n",
              "    <tr>\n",
              "      <th>Tdew (degC)</th>\n",
              "      <td>420451.0</td>\n",
              "      <td>4.954011</td>\n",
              "      <td>6.730411</td>\n",
              "      <td>-25.01</td>\n",
              "      <td>0.24</td>\n",
              "      <td>5.21</td>\n",
              "      <td>10.07</td>\n",
              "      <td>23.11</td>\n",
              "    </tr>\n",
              "    <tr>\n",
              "      <th>rh (%)</th>\n",
              "      <td>420451.0</td>\n",
              "      <td>76.007045</td>\n",
              "      <td>16.477126</td>\n",
              "      <td>12.95</td>\n",
              "      <td>65.21</td>\n",
              "      <td>79.30</td>\n",
              "      <td>89.40</td>\n",
              "      <td>100.00</td>\n",
              "    </tr>\n",
              "    <tr>\n",
              "      <th>VPmax (mbar)</th>\n",
              "      <td>420451.0</td>\n",
              "      <td>13.575089</td>\n",
              "      <td>7.739481</td>\n",
              "      <td>0.95</td>\n",
              "      <td>7.78</td>\n",
              "      <td>11.82</td>\n",
              "      <td>17.60</td>\n",
              "      <td>63.77</td>\n",
              "    </tr>\n",
              "    <tr>\n",
              "      <th>VPact (mbar)</th>\n",
              "      <td>420451.0</td>\n",
              "      <td>9.532524</td>\n",
              "      <td>4.183895</td>\n",
              "      <td>0.79</td>\n",
              "      <td>6.21</td>\n",
              "      <td>8.86</td>\n",
              "      <td>12.35</td>\n",
              "      <td>28.32</td>\n",
              "    </tr>\n",
              "    <tr>\n",
              "      <th>VPdef (mbar)</th>\n",
              "      <td>420451.0</td>\n",
              "      <td>4.042483</td>\n",
              "      <td>4.897270</td>\n",
              "      <td>0.00</td>\n",
              "      <td>0.87</td>\n",
              "      <td>2.19</td>\n",
              "      <td>5.30</td>\n",
              "      <td>46.01</td>\n",
              "    </tr>\n",
              "    <tr>\n",
              "      <th>sh (g/kg)</th>\n",
              "      <td>420451.0</td>\n",
              "      <td>6.021630</td>\n",
              "      <td>2.655973</td>\n",
              "      <td>0.50</td>\n",
              "      <td>3.92</td>\n",
              "      <td>5.59</td>\n",
              "      <td>7.80</td>\n",
              "      <td>18.13</td>\n",
              "    </tr>\n",
              "    <tr>\n",
              "      <th>H2OC (mmol/mol)</th>\n",
              "      <td>420451.0</td>\n",
              "      <td>9.638982</td>\n",
              "      <td>4.235130</td>\n",
              "      <td>0.80</td>\n",
              "      <td>6.29</td>\n",
              "      <td>8.96</td>\n",
              "      <td>12.48</td>\n",
              "      <td>28.82</td>\n",
              "    </tr>\n",
              "    <tr>\n",
              "      <th>rho (g/m**3)</th>\n",
              "      <td>420451.0</td>\n",
              "      <td>1216.069883</td>\n",
              "      <td>39.977065</td>\n",
              "      <td>1059.45</td>\n",
              "      <td>1187.49</td>\n",
              "      <td>1213.80</td>\n",
              "      <td>1242.77</td>\n",
              "      <td>1393.54</td>\n",
              "    </tr>\n",
              "    <tr>\n",
              "      <th>wv (m/s)</th>\n",
              "      <td>420451.0</td>\n",
              "      <td>2.130309</td>\n",
              "      <td>1.541830</td>\n",
              "      <td>0.00</td>\n",
              "      <td>0.99</td>\n",
              "      <td>1.76</td>\n",
              "      <td>2.86</td>\n",
              "      <td>14.63</td>\n",
              "    </tr>\n",
              "    <tr>\n",
              "      <th>max. wv (m/s)</th>\n",
              "      <td>420451.0</td>\n",
              "      <td>3.532381</td>\n",
              "      <td>2.340482</td>\n",
              "      <td>0.00</td>\n",
              "      <td>1.76</td>\n",
              "      <td>2.96</td>\n",
              "      <td>4.74</td>\n",
              "      <td>23.50</td>\n",
              "    </tr>\n",
              "    <tr>\n",
              "      <th>wd (deg)</th>\n",
              "      <td>420451.0</td>\n",
              "      <td>174.726164</td>\n",
              "      <td>86.675965</td>\n",
              "      <td>0.00</td>\n",
              "      <td>124.80</td>\n",
              "      <td>198.10</td>\n",
              "      <td>234.10</td>\n",
              "      <td>360.00</td>\n",
              "    </tr>\n",
              "  </tbody>\n",
              "</table>\n",
              "</div>\n",
              "      <button class=\"colab-df-convert\" onclick=\"convertToInteractive('df-d193f5ee-f895-46c5-9ce6-029860e7c279')\"\n",
              "              title=\"Convert this dataframe to an interactive table.\"\n",
              "              style=\"display:none;\">\n",
              "        \n",
              "  <svg xmlns=\"http://www.w3.org/2000/svg\" height=\"24px\"viewBox=\"0 0 24 24\"\n",
              "       width=\"24px\">\n",
              "    <path d=\"M0 0h24v24H0V0z\" fill=\"none\"/>\n",
              "    <path d=\"M18.56 5.44l.94 2.06.94-2.06 2.06-.94-2.06-.94-.94-2.06-.94 2.06-2.06.94zm-11 1L8.5 8.5l.94-2.06 2.06-.94-2.06-.94L8.5 2.5l-.94 2.06-2.06.94zm10 10l.94 2.06.94-2.06 2.06-.94-2.06-.94-.94-2.06-.94 2.06-2.06.94z\"/><path d=\"M17.41 7.96l-1.37-1.37c-.4-.4-.92-.59-1.43-.59-.52 0-1.04.2-1.43.59L10.3 9.45l-7.72 7.72c-.78.78-.78 2.05 0 2.83L4 21.41c.39.39.9.59 1.41.59.51 0 1.02-.2 1.41-.59l7.78-7.78 2.81-2.81c.8-.78.8-2.07 0-2.86zM5.41 20L4 18.59l7.72-7.72 1.47 1.35L5.41 20z\"/>\n",
              "  </svg>\n",
              "      </button>\n",
              "      \n",
              "  <style>\n",
              "    .colab-df-container {\n",
              "      display:flex;\n",
              "      flex-wrap:wrap;\n",
              "      gap: 12px;\n",
              "    }\n",
              "\n",
              "    .colab-df-convert {\n",
              "      background-color: #E8F0FE;\n",
              "      border: none;\n",
              "      border-radius: 50%;\n",
              "      cursor: pointer;\n",
              "      display: none;\n",
              "      fill: #1967D2;\n",
              "      height: 32px;\n",
              "      padding: 0 0 0 0;\n",
              "      width: 32px;\n",
              "    }\n",
              "\n",
              "    .colab-df-convert:hover {\n",
              "      background-color: #E2EBFA;\n",
              "      box-shadow: 0px 1px 2px rgba(60, 64, 67, 0.3), 0px 1px 3px 1px rgba(60, 64, 67, 0.15);\n",
              "      fill: #174EA6;\n",
              "    }\n",
              "\n",
              "    [theme=dark] .colab-df-convert {\n",
              "      background-color: #3B4455;\n",
              "      fill: #D2E3FC;\n",
              "    }\n",
              "\n",
              "    [theme=dark] .colab-df-convert:hover {\n",
              "      background-color: #434B5C;\n",
              "      box-shadow: 0px 1px 3px 1px rgba(0, 0, 0, 0.15);\n",
              "      filter: drop-shadow(0px 1px 2px rgba(0, 0, 0, 0.3));\n",
              "      fill: #FFFFFF;\n",
              "    }\n",
              "  </style>\n",
              "\n",
              "      <script>\n",
              "        const buttonEl =\n",
              "          document.querySelector('#df-d193f5ee-f895-46c5-9ce6-029860e7c279 button.colab-df-convert');\n",
              "        buttonEl.style.display =\n",
              "          google.colab.kernel.accessAllowed ? 'block' : 'none';\n",
              "\n",
              "        async function convertToInteractive(key) {\n",
              "          const element = document.querySelector('#df-d193f5ee-f895-46c5-9ce6-029860e7c279');\n",
              "          const dataTable =\n",
              "            await google.colab.kernel.invokeFunction('convertToInteractive',\n",
              "                                                     [key], {});\n",
              "          if (!dataTable) return;\n",
              "\n",
              "          const docLinkHtml = 'Like what you see? Visit the ' +\n",
              "            '<a target=\"_blank\" href=https://colab.research.google.com/notebooks/data_table.ipynb>data table notebook</a>'\n",
              "            + ' to learn more about interactive tables.';\n",
              "          element.innerHTML = '';\n",
              "          dataTable['output_type'] = 'display_data';\n",
              "          await google.colab.output.renderOutput(dataTable, element);\n",
              "          const docLink = document.createElement('div');\n",
              "          docLink.innerHTML = docLinkHtml;\n",
              "          element.appendChild(docLink);\n",
              "        }\n",
              "      </script>\n",
              "    </div>\n",
              "  </div>\n",
              "  "
            ]
          },
          "metadata": {},
          "execution_count": 4
        }
      ]
    },
    {
      "cell_type": "markdown",
      "source": [
        "Begin- en eindtijdstip:"
      ],
      "metadata": {
        "id": "6nDWsHluMsZH"
      }
    },
    {
      "cell_type": "code",
      "source": [
        "df[\"Date Time\"].iloc[[0, -1]]"
      ],
      "metadata": {
        "colab": {
          "base_uri": "https://localhost:8080/"
        },
        "id": "QFnF1cnfaWdG",
        "outputId": "4c39d052-2796-4358-e743-324925ecbdfb"
      },
      "execution_count": null,
      "outputs": [
        {
          "output_type": "execute_result",
          "data": {
            "text/plain": [
              "0         01.01.2009 00:10:00\n",
              "420450    01.01.2017 00:00:00\n",
              "Name: Date Time, dtype: object"
            ]
          },
          "metadata": {},
          "execution_count": 5
        }
      ]
    },
    {
      "cell_type": "markdown",
      "source": [
        "Plot:"
      ],
      "metadata": {
        "id": "uMtZ1X-wM1lm"
      }
    },
    {
      "cell_type": "code",
      "source": [
        "df.plot(y=\"T (degC)\");"
      ],
      "metadata": {
        "colab": {
          "base_uri": "https://localhost:8080/",
          "height": 268
        },
        "id": "9WSsnzIxaFUs",
        "outputId": "2e709ad4-58ae-4eae-a6a5-8d6ada33ef8b"
      },
      "execution_count": null,
      "outputs": [
        {
          "output_type": "display_data",
          "data": {
            "text/plain": [
              "<Figure size 432x288 with 1 Axes>"
            ],
            "image/png": "[encoded data removed]"
          },
          "metadata": {
            "needs_background": "light"
          }
        }
      ]
    },
    {
      "cell_type": "markdown",
      "source": [
        "Er is een meting om de 10 minuten. Als we willen inzoomen op de eerste 10 dagen, dan zijn dat de eerste 1440 metingen:"
      ],
      "metadata": {
        "id": "DWdWfZofM6iB"
      }
    },
    {
      "cell_type": "code",
      "source": [
        "i = 10 * 24 * 6  # 10 dag van 24 uren met 6 metingen per uur\n",
        "print(i)\n",
        "df.loc[:i, \"T (degC)\"].plot();"
      ],
      "metadata": {
        "colab": {
          "base_uri": "https://localhost:8080/",
          "height": 282
        },
        "id": "2PkxRW99akaM",
        "outputId": "41e0fd69-96cd-471b-f4ea-50402d2df5e9"
      },
      "execution_count": null,
      "outputs": [
        {
          "output_type": "stream",
          "name": "stdout",
          "text": [
            "1440\n"
          ]
        },
        {
          "output_type": "display_data",
          "data": {
            "text/plain": [
              "<Figure size 432x288 with 1 Axes>"
            ],
            "image/png": "[encoded data removed]"
          },
          "metadata": {
            "needs_background": "light"
          }
        }
      ]
    },
    {
      "cell_type": "markdown",
      "source": [
        "We lezen de dataset opnieuw in zoals in het boek:"
      ],
      "metadata": {
        "id": "Y5GkZ4gGNWv6"
      }
    },
    {
      "cell_type": "code",
      "execution_count": null,
      "metadata": {
        "id": "c3-3MnEInCRy",
        "colab": {
          "base_uri": "https://localhost:8080/"
        },
        "outputId": "0fb3470f-3c50-4cea-e7c9-37bca8e8b9c6"
      },
      "outputs": [
        {
          "output_type": "stream",
          "name": "stdout",
          "text": [
            "15 kolommen\n",
            "420451 rijen\n"
          ]
        }
      ],
      "source": [
        "import os\n",
        "\n",
        "fname = \"jena_climate_2009_2016.csv\"\n",
        "\n",
        "with open(fname) as f:\n",
        "    data = f.read()\n",
        "\n",
        "lines = data.split(\"\\n\")\n",
        "header = lines[0].split(\",\")\n",
        "lines = lines[1:]\n",
        "\n",
        "print(f\"{len(header)} kolommen\")\n",
        "print(f\"{len(lines)} rijen\")"
      ]
    },
    {
      "cell_type": "code",
      "execution_count": null,
      "metadata": {
        "id": "LfryknThnCR0"
      },
      "outputs": [],
      "source": [
        "import numpy as np\n",
        "\n",
        "temperature = np.zeros((len(lines),))\n",
        "raw_data = np.zeros((len(lines), len(header) - 1))\n",
        "for i, line in enumerate(lines):\n",
        "    values = [float(x) for x in line.split(\",\")[1:]]\n",
        "    temperature[i] = values[1]\n",
        "    raw_data[i, :] = values[:]"
      ]
    },
    {
      "cell_type": "markdown",
      "metadata": {
        "id": "OfAKJ_EQnCR2"
      },
      "source": [
        "Aantal samples berekenen voor de data split:"
      ]
    },
    {
      "cell_type": "code",
      "execution_count": null,
      "metadata": {
        "id": "d9nReq5xnCR2",
        "colab": {
          "base_uri": "https://localhost:8080/"
        },
        "outputId": "d3bdd633-1ba5-4a65-86e8-930ed61c7d15"
      },
      "outputs": [
        {
          "output_type": "stream",
          "name": "stdout",
          "text": [
            "num_train_samples: 210225\n",
            "num_val_samples: 105112\n",
            "num_test_samples: 105114\n"
          ]
        }
      ],
      "source": [
        "num_train_samples = int(0.5 * len(raw_data))  # 50% training\n",
        "num_val_samples = int(0.25 * len(raw_data))  # 25% validatie\n",
        "num_test_samples = len(raw_data) - num_train_samples - num_val_samples  # 25% test\n",
        "print(\"num_train_samples:\", num_train_samples)\n",
        "print(\"num_val_samples:\", num_val_samples)\n",
        "print(\"num_test_samples:\", num_test_samples)"
      ]
    },
    {
      "cell_type": "markdown",
      "metadata": {
        "id": "BsgYvLfmnCR3"
      },
      "source": [
        "### Preparing the data"
      ]
    },
    {
      "cell_type": "markdown",
      "source": [
        "Ipv de `TimeseriesGenerator` gebruiken we hier de `timeseries_dataset_from_array`. Die past echter ook de sliding window methode toe. Laten we die functie eerst eens uittesten met een simpele reeks van integers van 0 tot 10:"
      ],
      "metadata": {
        "id": "ft4kVEhYOfI5"
      }
    },
    {
      "cell_type": "code",
      "execution_count": null,
      "metadata": {
        "id": "pXLzMJuhnCR3",
        "colab": {
          "base_uri": "https://localhost:8080/"
        },
        "outputId": "041eee99-89b5-4d51-a2dc-afdd46bf5232"
      },
      "outputs": [
        {
          "output_type": "stream",
          "name": "stdout",
          "text": [
            "[0 1 2 3 4 5 6 7 8 9]\n",
            "\n",
            "[0, 1, 2] 3\n",
            "[1, 2, 3] 4\n",
            "[2, 3, 4] 5\n",
            "[3, 4, 5] 6\n",
            "[4, 5, 6] 7\n",
            "[5, 6, 7] 8\n",
            "[6, 7, 8] 9\n"
          ]
        }
      ],
      "source": [
        "import numpy as np\n",
        "from tensorflow import keras\n",
        "\n",
        "int_sequence = np.arange(10)\n",
        "print(int_sequence)\n",
        "print()\n",
        "\n",
        "m = 3\n",
        "dummy_dataset = keras.utils.timeseries_dataset_from_array(\n",
        "    data=int_sequence,\n",
        "    targets=int_sequence[m:],  # pas op! [m:] is vereist!!\n",
        "    sequence_length=m,\n",
        "    batch_size=1,\n",
        ")\n",
        "\n",
        "\n",
        "for inputs, targets in dummy_dataset:\n",
        "    for i in range(inputs.shape[0]):\n",
        "        print([int(x) for x in inputs[i]], int(targets[i]))"
      ]
    },
    {
      "cell_type": "markdown",
      "source": [
        "Ter vergelijking doen we nu hetzelfde met de `TimeseriesGenerator`. Bemerk dat we hier bij `targets` gewoon de tijdreeks mogen opgeven, terwijl we bij `timeseries_dataset_from_array` de reeks moeten opgeven startend bij `m`!"
      ],
      "metadata": {
        "id": "eAZkp4mLOmMV"
      }
    },
    {
      "cell_type": "code",
      "source": [
        "from keras.preprocessing.sequence import TimeseriesGenerator\n",
        "\n",
        "dummy_dataset = TimeseriesGenerator(\n",
        "    data=int_sequence,\n",
        "    targets=int_sequence,  # [m:] niet nodig hier!\n",
        "    length=m\n",
        ")\n",
        "\n",
        "for inputs, targets in dummy_dataset:\n",
        "    for i in range(inputs.shape[0]):\n",
        "        print([int(x) for x in inputs[i]], int(targets[i]))"
      ],
      "metadata": {
        "colab": {
          "base_uri": "https://localhost:8080/"
        },
        "id": "-wjKhuQkPQ_p",
        "outputId": "cd0f354b-d4af-4355-e54c-043abe128e55"
      },
      "execution_count": null,
      "outputs": [
        {
          "output_type": "stream",
          "name": "stdout",
          "text": [
            "[0, 1, 2] 3\n",
            "[1, 2, 3] 4\n",
            "[2, 3, 4] 5\n",
            "[3, 4, 5] 6\n",
            "[4, 5, 6] 7\n",
            "[5, 6, 7] 8\n",
            "[6, 7, 8] 9\n"
          ]
        }
      ]
    },
    {
      "cell_type": "markdown",
      "source": [
        "Voor het aanmaken van de input datasets nemen we de volgende inputargumenten voor functie `timeseries_dataset_from_array`:\n",
        "\n",
        "- `sampling_rate = 6`: *Observations will be sampled at one data point per hour: we will only keep one data point out of 6.*\n",
        "- `sequence_length = 120`: *Observations will go back 5 days (120 hours).*\n",
        "- `delay = sampling_rate * (sequence_length + 24 - 1)`: *The target for a sequence\n",
        "will be the temperature 24 hours after the end of the sequence.*"
      ],
      "metadata": {
        "id": "tiCJxdc2ROAO"
      }
    },
    {
      "cell_type": "markdown",
      "source": [
        "Vooraleer we de definitieve datasets aanmaken, gaan we eerst eens het effect van die inputparameters onderzoeken. Om goed te snappen wat er juist gebeurt, voegen we de tijd toe aan de arrays met observaties:"
      ],
      "metadata": {
        "id": "vkV7SpMPRtPa"
      }
    },
    {
      "cell_type": "code",
      "source": [
        "t = np.arange(0, len(temperature))[:, np.newaxis] * 10  # tijd t met tijdstappen om de 10 minuten\n",
        "raw_data_plus_t = np.hstack((t, raw_data.copy()))  # tijd toevoegen aan de raw data\n",
        "temperature_plus_t = np.hstack((t, temperature.copy()[:, np.newaxis]))  # tijd toevoegen aan de temperatuur"
      ],
      "metadata": {
        "id": "jII9ksyZTqNU"
      },
      "execution_count": null,
      "outputs": []
    },
    {
      "cell_type": "markdown",
      "source": [
        "We passen nu functie `timeseries_dataset_from_array` toe op de uitgebreide arrays met features en temperaturen:"
      ],
      "metadata": {
        "id": "CNbmVmE-T4vZ"
      }
    },
    {
      "cell_type": "code",
      "source": [
        "sampling_rate = 6  # samples bevatten metingen om het uur\n",
        "sequence_length = 120  # 120 metingen per sample\n",
        "delay = sampling_rate * (sequence_length + 24 - 1)  # target is 24 uur later - delay is parameter m van hierboven\n",
        "print(delay)\n",
        "\n",
        "dataset = keras.utils.timeseries_dataset_from_array(\n",
        "    raw_data_plus_t[:-delay],\n",
        "    targets=temperature_plus_t[delay:],\n",
        "    sampling_rate=sampling_rate,\n",
        "    sequence_length=sequence_length,\n",
        "    batch_size=2,  # we willen 2 samples bekijken\n",
        "    shuffle=False,  # hier shuffelen we niet omdat we de eerste 2 samples willen bekijken\n",
        "    start_index=0,\n",
        "    end_index=num_train_samples\n",
        ")"
      ],
      "metadata": {
        "colab": {
          "base_uri": "https://localhost:8080/"
        },
        "id": "IzfUJ_N2k8hL",
        "outputId": "9de32b7c-6384-4749-c871-b7bb5bf1aa59"
      },
      "execution_count": null,
      "outputs": [
        {
          "output_type": "stream",
          "name": "stdout",
          "text": [
            "858\n"
          ]
        }
      ]
    },
    {
      "cell_type": "markdown",
      "source": [
        "We nemen de eerste batch met 2 samples:"
      ],
      "metadata": {
        "id": "i9VhTIRnS0px"
      }
    },
    {
      "cell_type": "code",
      "source": [
        "for batch, targets in dataset:  # we nemen de eerste batch\n",
        "    break\n",
        "batch = batch.numpy()  # tensor omzetten naar numpy array\n",
        "print(batch.shape)\n",
        "targets = targets.numpy()  # tensor omzetten naar numpy array\n",
        "print(targets.shape)"
      ],
      "metadata": {
        "colab": {
          "base_uri": "https://localhost:8080/"
        },
        "id": "47_kPf6qlDX4",
        "outputId": "feac0a84-7d2d-4170-da22-6c72d87e32e1"
      },
      "execution_count": null,
      "outputs": [
        {
          "output_type": "stream",
          "name": "stdout",
          "text": [
            "(2, 120, 15)\n",
            "(2, 2)\n"
          ]
        }
      ]
    },
    {
      "cell_type": "markdown",
      "source": [
        "We plotten die eerste 2 samples op de oorspronkelijke tijdreeks:"
      ],
      "metadata": {
        "id": "3-N-UCFJS3Sp"
      }
    },
    {
      "cell_type": "code",
      "source": [
        "from matplotlib import pyplot as plt\n",
        "\n",
        "_, ax = plt.subplots(1, 1, figsize=(15, 5))\n",
        "color = ['r', 'b']\n",
        "b = ((batch[0, :, 0].min() <= t) & (t <= targets[1, 0])).squeeze()\n",
        "ax.plot(t[b], temperature_plus_t[b, 1], \"y-\")\n",
        "for i in range(2):\n",
        "    ax.plot(batch[i, :, 0], batch[i, :, 2], color[i] + '.', label=\"batch\" + str(i+1));\n",
        "    ax.plot(targets[i, 0], targets[i, 1], color[i] + '.');\n",
        "plt.grid();\n",
        "plt.legend();"
      ],
      "metadata": {
        "colab": {
          "base_uri": "https://localhost:8080/",
          "height": 320
        },
        "id": "E7358nSplOsn",
        "outputId": "fa818e4a-774f-4957-8b10-d03cc6c598a1"
      },
      "execution_count": null,
      "outputs": [
        {
          "output_type": "display_data",
          "data": {
            "text/plain": [
              "<Figure size 1080x360 with 1 Axes>"
            ],
            "image/png": "[encoded data removed]"
          },
          "metadata": {
            "needs_background": "light"
          }
        }
      ]
    },
    {
      "cell_type": "markdown",
      "source": [
        "We zien dat de tweede reeks 1 meting verder ligt dan de eerste reeks. Binnen een reeks zijn de metingen inderdaad om de 6 tijdstappen gesampled. De targets van elke reeks liggen 24 uur verder en dat kunnen we als volgt checken:"
      ],
      "metadata": {
        "id": "X1u2xhQjUX6W"
      }
    },
    {
      "cell_type": "code",
      "source": [
        "for i in range(2):\n",
        "    print(targets[i, 0])  # tijdstip van de target\n",
        "    print(batch[i, -1, 0])  # tijdstip van de laatste meting in de reeks\n",
        "    print(targets[i, 0] - batch[i, -1, 0])  # verschil tussen beide\n",
        "    print()"
      ],
      "metadata": {
        "colab": {
          "base_uri": "https://localhost:8080/"
        },
        "id": "79cSe8RHtcXT",
        "outputId": "856be138-23e2-4320-af4e-e79245dd1261"
      },
      "execution_count": null,
      "outputs": [
        {
          "output_type": "stream",
          "name": "stdout",
          "text": [
            "8580.0\n",
            "7140.0\n",
            "1440.0\n",
            "\n",
            "8590.0\n",
            "7150.0\n",
            "1440.0\n",
            "\n"
          ]
        }
      ]
    },
    {
      "cell_type": "markdown",
      "source": [
        "Het verschil tussen de laatste meting en de target is in elke sample 1440 minuten. Dat zijn exact 24 uren:"
      ],
      "metadata": {
        "id": "eQjnx2CsVYFo"
      }
    },
    {
      "cell_type": "code",
      "source": [
        "1440 / 60"
      ],
      "metadata": {
        "colab": {
          "base_uri": "https://localhost:8080/"
        },
        "id": "3uJoPM8iJCrV",
        "outputId": "22745adf-56f0-4150-bc9a-73cabea332d7"
      },
      "execution_count": null,
      "outputs": [
        {
          "output_type": "execute_result",
          "data": {
            "text/plain": [
              "24.0"
            ]
          },
          "metadata": {},
          "execution_count": 65
        }
      ]
    },
    {
      "cell_type": "markdown",
      "source": [
        "Als we inzoomen op het einde van de reeks, dan zien we heel duidelijk dat de `sample_rate` inderdaad 6 is:"
      ],
      "metadata": {
        "id": "pYibuNHXVkdI"
      }
    },
    {
      "cell_type": "code",
      "source": [
        "_, ax = plt.subplots(1, 1, figsize=(15, 5))\n",
        "color = ['r', 'k']\n",
        "b = ((batch[0, :, 0].min() <= t) & (t <= targets[1, 0])).squeeze()\n",
        "ax.plot(t[b], temperature_plus_t[b, 1], \"y.\")\n",
        "for i in range(2):\n",
        "    ax.plot(batch[i, :, 0], batch[i, :, 2], color[i] + '.', label=\"batch\" + str(i+1));\n",
        "    ax.plot(targets[i, 0], targets[i, 1], color[i] + '.');\n",
        "plt.xlim([7000, 8600]);\n",
        "plt.ylim([-22, -9]);\n",
        "plt.grid();\n",
        "plt.legend();"
      ],
      "metadata": {
        "colab": {
          "base_uri": "https://localhost:8080/",
          "height": 320
        },
        "id": "EzGTzTZAqaW1",
        "outputId": "a2a9e302-1ebe-4a6d-b5ae-4cf641e670c4"
      },
      "execution_count": null,
      "outputs": [
        {
          "output_type": "display_data",
          "data": {
            "text/plain": [
              "<Figure size 1080x360 with 1 Axes>"
            ],
            "image/png": "[encoded data removed]"
          },
          "metadata": {
            "needs_background": "light"
          }
        }
      ]
    },
    {
      "cell_type": "markdown",
      "metadata": {
        "id": "BTauc8L8nCR3"
      },
      "source": [
        "Nu we snappen hoe de datasets worden aangemaakt, zijn we klaar om de training-, validatie- en testset aan te maken. Maar eerst moeten we de data standaardiseren:"
      ]
    },
    {
      "cell_type": "code",
      "execution_count": null,
      "metadata": {
        "id": "MtYvhkJAnCR3"
      },
      "outputs": [],
      "source": [
        "mean = raw_data[:num_train_samples].mean(axis=0)\n",
        "raw_data -= mean\n",
        "std = raw_data[:num_train_samples].std(axis=0)\n",
        "raw_data /= std"
      ]
    },
    {
      "cell_type": "markdown",
      "metadata": {
        "id": "E9lb3QrCnCR4"
      },
      "source": [
        "Voor het aanmaken van de uiteindelijke datasets voor training, validatie, en evaluatie nemen we een batch size van 256 en we shuffelen de samples!"
      ]
    },
    {
      "cell_type": "code",
      "execution_count": null,
      "metadata": {
        "id": "NXZF3BM0nCR4"
      },
      "outputs": [],
      "source": [
        "sampling_rate = 6\n",
        "sequence_length = 120\n",
        "delay = sampling_rate * (sequence_length + 24 - 1)\n",
        "batch_size = 256\n",
        "\n",
        "train_dataset = keras.utils.timeseries_dataset_from_array(\n",
        "    raw_data[:-delay],\n",
        "    targets=temperature[delay:],\n",
        "    sampling_rate=sampling_rate,\n",
        "    sequence_length=sequence_length,\n",
        "    shuffle=True,\n",
        "    batch_size=batch_size,\n",
        "    start_index=0,\n",
        "    end_index=num_train_samples)\n",
        "\n",
        "val_dataset = keras.utils.timeseries_dataset_from_array(\n",
        "    raw_data[:-delay],\n",
        "    targets=temperature[delay:],\n",
        "    sampling_rate=sampling_rate,\n",
        "    sequence_length=sequence_length,\n",
        "    shuffle=True,\n",
        "    batch_size=batch_size,\n",
        "    start_index=num_train_samples,\n",
        "    end_index=num_train_samples + num_val_samples)\n",
        "\n",
        "test_dataset = keras.utils.timeseries_dataset_from_array(\n",
        "    raw_data[:-delay],\n",
        "    targets=temperature[delay:],\n",
        "    sampling_rate=sampling_rate,\n",
        "    sequence_length=sequence_length,\n",
        "    shuffle=True,\n",
        "    batch_size=batch_size,\n",
        "    start_index=num_train_samples + num_val_samples)"
      ]
    },
    {
      "cell_type": "markdown",
      "metadata": {
        "id": "z3NJn3b0nCR5"
      },
      "source": [
        "De shapes controleren van de batches in onze datasets:"
      ]
    },
    {
      "cell_type": "code",
      "execution_count": null,
      "metadata": {
        "id": "F2vpSU_wnCR5",
        "colab": {
          "base_uri": "https://localhost:8080/"
        },
        "outputId": "c781b1e8-3f1e-43d5-82ff-755fe26af97e"
      },
      "outputs": [
        {
          "output_type": "stream",
          "name": "stdout",
          "text": [
            "samples shape: (256, 120, 14)\n",
            "targets shape: (256,)\n"
          ]
        }
      ],
      "source": [
        "for samples, targets in train_dataset:\n",
        "    print(\"samples shape:\", samples.shape)\n",
        "    print(\"targets shape:\", targets.shape)\n",
        "    break"
      ]
    },
    {
      "cell_type": "markdown",
      "metadata": {
        "id": "_f1S5uDInCR5"
      },
      "source": [
        "### A common-sense, non-machine-learning baseline"
      ]
    },
    {
      "cell_type": "markdown",
      "metadata": {
        "id": "V18iu26dnCR6"
      },
      "source": [
        "Uit het boek:\n",
        "\n",
        "*In this case, the temperature timeseries can safely be assumed to be continuous\n",
        "(the temperatures tomorrow are likely to be close to the temperatures today) as\n",
        "well as periodical with a daily period. Thus a common-sense approach is to always\n",
        "predict that the temperature 24 hours from now will be equal to the temperature\n",
        "right now.*\n",
        "\n",
        "*Let’s evaluate this approach, using the mean absolute error (MAE) metric,\n",
        "defined as follows:*\n",
        "\n",
        "> `np.mean(np.abs(preds - targets))`"
      ]
    },
    {
      "cell_type": "code",
      "execution_count": null,
      "metadata": {
        "id": "Mr3nx3UQnCR6",
        "colab": {
          "base_uri": "https://localhost:8080/"
        },
        "outputId": "53fc16bd-f6cb-4db8-d263-176d8cede6a2"
      },
      "outputs": [
        {
          "output_type": "stream",
          "name": "stdout",
          "text": [
            "Validation MAE: 2.44\n",
            "Test MAE: 2.62\n"
          ]
        }
      ],
      "source": [
        "def evaluate_naive_method(dataset):\n",
        "    total_abs_err = 0.\n",
        "    samples_seen = 0\n",
        "    for samples, targets in dataset:\n",
        "        preds = samples[:, -1, 1]  # laatste temperatuur nemen (= 2e feature -> index 1)\n",
        "        preds = preds * std[1] + mean[1]  # de-standaardiseren!\n",
        "        total_abs_err += np.sum(np.abs(preds - targets))\n",
        "        samples_seen += samples.shape[0]\n",
        "    return total_abs_err / samples_seen\n",
        "\n",
        "print(f\"Validation MAE: {evaluate_naive_method(val_dataset):.2f}\")\n",
        "print(f\"Test MAE: {evaluate_naive_method(test_dataset):.2f}\")"
      ]
    },
    {
      "cell_type": "markdown",
      "source": [
        "De naïve forecasting geeft dus een MAE van 2.62 op de testset. M.a.w. de gemiddelde absolute fout op de voorspelling is slechts 2.62 graden. Dat is onze baseline en het is duidelijk dat het niet makkelijk zal zijn om daar onder te gaan!"
      ],
      "metadata": {
        "id": "2WFUCURPZzUa"
      }
    },
    {
      "cell_type": "markdown",
      "metadata": {
        "id": "bsSbM_VxnCR6"
      },
      "source": [
        "### Let's try a basic machine-learning model"
      ]
    },
    {
      "cell_type": "markdown",
      "metadata": {
        "id": "0MiNnSaonCR6"
      },
      "source": [
        "Laten we starten met een \"densely connected\" model en zien wat dat geeft:"
      ]
    },
    {
      "cell_type": "code",
      "execution_count": null,
      "metadata": {
        "id": "I1hoHYdtnCR7",
        "colab": {
          "base_uri": "https://localhost:8080/"
        },
        "outputId": "6b3ef2f7-9bf9-4756-c02d-e8ee404503c9"
      },
      "outputs": [
        {
          "output_type": "stream",
          "name": "stdout",
          "text": [
            "Epoch 1/10\n",
            "819/819 [==============================] - 49s 56ms/step - loss: 12.4262 - mae: 2.7329 - val_loss: 10.9819 - val_mae: 2.6178\n",
            "Epoch 2/10\n",
            "819/819 [==============================] - 43s 52ms/step - loss: 9.1380 - mae: 2.3759 - val_loss: 14.4117 - val_mae: 3.0340\n",
            "Epoch 3/10\n",
            "819/819 [==============================] - 40s 48ms/step - loss: 8.4088 - mae: 2.2794 - val_loss: 11.8036 - val_mae: 2.7174\n",
            "Epoch 4/10\n",
            "819/819 [==============================] - 39s 47ms/step - loss: 7.9172 - mae: 2.2130 - val_loss: 10.6861 - val_mae: 2.5911\n",
            "Epoch 5/10\n",
            "819/819 [==============================] - 41s 49ms/step - loss: 7.5807 - mae: 2.1707 - val_loss: 11.2793 - val_mae: 2.6628\n",
            "Epoch 6/10\n",
            "819/819 [==============================] - 39s 48ms/step - loss: 7.3148 - mae: 2.1332 - val_loss: 10.8656 - val_mae: 2.6113\n",
            "Epoch 7/10\n",
            "819/819 [==============================] - 39s 48ms/step - loss: 7.0851 - mae: 2.0992 - val_loss: 10.6854 - val_mae: 2.5940\n",
            "Epoch 8/10\n",
            "819/819 [==============================] - 40s 48ms/step - loss: 6.9257 - mae: 2.0736 - val_loss: 10.6586 - val_mae: 2.5870\n",
            "Epoch 9/10\n",
            "819/819 [==============================] - 39s 48ms/step - loss: 6.7800 - mae: 2.0509 - val_loss: 11.5768 - val_mae: 2.6991\n",
            "Epoch 10/10\n",
            "819/819 [==============================] - 39s 47ms/step - loss: 6.6645 - mae: 2.0341 - val_loss: 11.2398 - val_mae: 2.6575\n",
            "405/405 [==============================] - 13s 33ms/step - loss: 11.5590 - mae: 2.6783\n",
            "Test MAE: 2.68\n"
          ]
        }
      ],
      "source": [
        "from tensorflow import keras\n",
        "from keras import layers\n",
        "\n",
        "inputs = keras.Input(shape=(sequence_length, raw_data.shape[-1]))\n",
        "x = layers.Flatten()(inputs)\n",
        "x = layers.Dense(16, activation=\"relu\")(x)\n",
        "outputs = layers.Dense(1)(x)\n",
        "model = keras.Model(inputs, outputs)\n",
        "\n",
        "filename = \"jena_dense.keras\"\n",
        "\n",
        "callbacks = [\n",
        "    keras.callbacks.ModelCheckpoint(filename,\n",
        "                                    save_best_only=True)\n",
        "]\n",
        "\n",
        "model.compile(optimizer=\"rmsprop\", loss=\"mse\", metrics=[\"mae\"])\n",
        "\n",
        "history = model.fit(train_dataset,\n",
        "                    epochs=10,\n",
        "                    validation_data=val_dataset,\n",
        "                    callbacks=callbacks)\n",
        "\n",
        "model = keras.models.load_model(filename)\n",
        "print(f\"Test MAE: {model.evaluate(test_dataset)[1]:.2f}\")"
      ]
    },
    {
      "cell_type": "markdown",
      "source": [
        "De MAEs van validatie- en testset zijn ongeveer even groot als die van onze naïeve voorspeller! Als we de MAE uitplotten van training en validatie, dan zien we dat we vrij snel overfitting krijgen:"
      ],
      "metadata": {
        "id": "2HW1eQ0fbm2I"
      }
    },
    {
      "cell_type": "code",
      "execution_count": null,
      "metadata": {
        "id": "sqmkytuKnCR7",
        "colab": {
          "base_uri": "https://localhost:8080/",
          "height": 281
        },
        "outputId": "4c5f287e-fb2e-405f-b5ea-84c56bc0680a"
      },
      "outputs": [
        {
          "output_type": "display_data",
          "data": {
            "text/plain": [
              "<Figure size 432x288 with 1 Axes>"
            ],
            "image/png": "[encoded data removed]"
          },
          "metadata": {
            "needs_background": "light"
          }
        }
      ],
      "source": [
        "loss = history.history[\"mae\"]\n",
        "val_loss = history.history[\"val_mae\"]\n",
        "epochs = range(1, len(loss) + 1)\n",
        "plt.figure()\n",
        "plt.plot(epochs, loss, \"bo\", label=\"Training MAE\")\n",
        "plt.plot(epochs, val_loss, \"b\", label=\"Validation MAE\")\n",
        "plt.title(\"Training and validation MAE\")\n",
        "plt.legend();"
      ]
    },
    {
      "cell_type": "markdown",
      "metadata": {
        "id": "eXqn7BhznCR7"
      },
      "source": [
        "### Let's try a 1D convolutional model"
      ]
    },
    {
      "cell_type": "markdown",
      "source": [
        "Zal een convnet het beter doen?"
      ],
      "metadata": {
        "id": "_fIgQOXkch97"
      }
    },
    {
      "cell_type": "code",
      "execution_count": null,
      "metadata": {
        "id": "9kc6P1C4nCR8",
        "colab": {
          "base_uri": "https://localhost:8080/"
        },
        "outputId": "ef85bb2f-6d3d-40d5-b0e6-38fe75ccf3be"
      },
      "outputs": [
        {
          "output_type": "stream",
          "name": "stdout",
          "text": [
            "Epoch 1/10\n",
            "819/819 [==============================] - 46s 49ms/step - loss: 22.4782 - mae: 3.7017 - val_loss: 15.6057 - val_mae: 3.1443\n",
            "Epoch 2/10\n",
            "819/819 [==============================] - 40s 49ms/step - loss: 15.6685 - mae: 3.1420 - val_loss: 17.1904 - val_mae: 3.2804\n",
            "Epoch 3/10\n",
            "819/819 [==============================] - 40s 48ms/step - loss: 14.6620 - mae: 3.0350 - val_loss: 15.0014 - val_mae: 3.0877\n",
            "Epoch 4/10\n",
            "819/819 [==============================] - 40s 48ms/step - loss: 13.9574 - mae: 2.9605 - val_loss: 16.4975 - val_mae: 3.2237\n",
            "Epoch 5/10\n",
            "819/819 [==============================] - 40s 48ms/step - loss: 13.3255 - mae: 2.8876 - val_loss: 14.3036 - val_mae: 2.9871\n",
            "Epoch 6/10\n",
            "819/819 [==============================] - 40s 48ms/step - loss: 12.8212 - mae: 2.8310 - val_loss: 14.0462 - val_mae: 2.9543\n",
            "Epoch 7/10\n",
            "819/819 [==============================] - 40s 48ms/step - loss: 12.3949 - mae: 2.7813 - val_loss: 15.2991 - val_mae: 3.0821\n",
            "Epoch 8/10\n",
            "819/819 [==============================] - 40s 49ms/step - loss: 11.9684 - mae: 2.7330 - val_loss: 13.6230 - val_mae: 2.9046\n",
            "Epoch 9/10\n",
            "819/819 [==============================] - 40s 48ms/step - loss: 11.6583 - mae: 2.6951 - val_loss: 16.2083 - val_mae: 3.1909\n",
            "Epoch 10/10\n",
            "819/819 [==============================] - 40s 48ms/step - loss: 11.3874 - mae: 2.6665 - val_loss: 13.6614 - val_mae: 2.9101\n",
            "405/405 [==============================] - 13s 32ms/step - loss: 15.6460 - mae: 3.1056\n",
            "Test MAE: 3.11\n"
          ]
        }
      ],
      "source": [
        "inputs = keras.Input(shape=(sequence_length, raw_data.shape[-1]))\n",
        "x = layers.Conv1D(8, 24, activation=\"relu\")(inputs)  # we moeten hier Conv1D gebruiken ipv Conv2D!\n",
        "x = layers.MaxPooling1D(2)(x)\n",
        "x = layers.Conv1D(8, 12, activation=\"relu\")(x)\n",
        "x = layers.MaxPooling1D(2)(x)\n",
        "x = layers.Conv1D(8, 6, activation=\"relu\")(x)\n",
        "x = layers.GlobalAveragePooling1D()(x)\n",
        "outputs = layers.Dense(1)(x)\n",
        "model = keras.Model(inputs, outputs)\n",
        "\n",
        "filename = \"jena_conv.keras\"\n",
        "\n",
        "callbacks = [\n",
        "    keras.callbacks.ModelCheckpoint(filename,\n",
        "                                    save_best_only=True)\n",
        "]\n",
        "\n",
        "model.compile(optimizer=\"rmsprop\", loss=\"mse\", metrics=[\"mae\"])\n",
        "\n",
        "history = model.fit(train_dataset,\n",
        "                    epochs=10,\n",
        "                    validation_data=val_dataset,\n",
        "                    callbacks=callbacks)\n",
        "\n",
        "model = keras.models.load_model(filename)\n",
        "print(f\"Test MAE: {model.evaluate(test_dataset)[1]:.2f}\")"
      ]
    },
    {
      "cell_type": "markdown",
      "source": [
        "De convnet doet het zelfs slechter dan onze naïeve voorspeller! En er is ook vrij snel overfitting:"
      ],
      "metadata": {
        "id": "ZP0XJHoRcygp"
      }
    },
    {
      "cell_type": "code",
      "source": [
        "loss = history.history[\"mae\"]\n",
        "val_loss = history.history[\"val_mae\"]\n",
        "epochs = range(1, len(loss) + 1)\n",
        "plt.figure()\n",
        "plt.plot(epochs, loss, \"bo\", label=\"Training MAE\")\n",
        "plt.plot(epochs, val_loss, \"b\", label=\"Validation MAE\")\n",
        "plt.title(\"Training and validation MAE\")\n",
        "plt.legend()\n",
        "plt.show()"
      ],
      "metadata": {
        "colab": {
          "base_uri": "https://localhost:8080/",
          "height": 281
        },
        "id": "ZVOzAtcgTL_C",
        "outputId": "9b9056dc-22b2-4ec4-c213-97f4f0d12e73"
      },
      "execution_count": null,
      "outputs": [
        {
          "output_type": "display_data",
          "data": {
            "text/plain": [
              "<Figure size 432x288 with 1 Axes>"
            ],
            "image/png": "[encoded data removed]"
          },
          "metadata": {
            "needs_background": "light"
          }
        }
      ]
    },
    {
      "cell_type": "markdown",
      "metadata": {
        "id": "S-u9x9gonCR8"
      },
      "source": [
        "### A first recurrent baseline"
      ]
    },
    {
      "cell_type": "markdown",
      "source": [
        "Uit het boek:\n",
        "\n",
        "*Neither the fully connected approach nor the convolutional approach did well, but\n",
        "that doesn’t mean machine learning isn’t applicable to this problem. The densely connected\n",
        "approach first flattened the timeseries, which removed the notion of time\n",
        "from the input data. The convolutional approach treated every segment of the data in\n",
        "the same way, even applying pooling, which destroyed order information. Let’s\n",
        "instead look at the data as what it is: a sequence, where causality and order matter.*\n",
        "\n",
        "*There’s a family of neural network architectures designed specifically for this use\n",
        "case: recurrent neural networks. Among them, the **Long Short Term Memory (LSTM)**\n",
        "layer has long been very popular. We’ll see in a minute how these models work, but\n",
        "let’s start by giving the LSTM layer a try.*"
      ],
      "metadata": {
        "id": "Zm6_54YoddHI"
      }
    },
    {
      "cell_type": "code",
      "execution_count": null,
      "metadata": {
        "id": "Lkn02P2ynCR8",
        "colab": {
          "base_uri": "https://localhost:8080/"
        },
        "outputId": "133a7ede-8ee4-4216-bb5a-2e6130ba6d7e"
      },
      "outputs": [
        {
          "output_type": "stream",
          "name": "stdout",
          "text": [
            "Epoch 1/10\n",
            "819/819 [==============================] - 47s 54ms/step - loss: 43.0127 - mae: 4.7835 - val_loss: 13.0957 - val_mae: 2.7502\n",
            "Epoch 2/10\n",
            "819/819 [==============================] - 45s 55ms/step - loss: 11.2604 - mae: 2.6015 - val_loss: 9.8289 - val_mae: 2.4289\n",
            "Epoch 3/10\n",
            "819/819 [==============================] - 45s 55ms/step - loss: 9.8468 - mae: 2.4454 - val_loss: 9.7997 - val_mae: 2.4172\n",
            "Epoch 4/10\n",
            "819/819 [==============================] - 43s 53ms/step - loss: 9.3147 - mae: 2.3756 - val_loss: 9.7248 - val_mae: 2.4033\n",
            "Epoch 5/10\n",
            "819/819 [==============================] - 43s 53ms/step - loss: 8.9062 - mae: 2.3234 - val_loss: 9.8480 - val_mae: 2.4190\n",
            "Epoch 6/10\n",
            "819/819 [==============================] - 43s 53ms/step - loss: 8.6680 - mae: 2.2897 - val_loss: 9.9028 - val_mae: 2.4280\n",
            "Epoch 7/10\n",
            "819/819 [==============================] - 50s 61ms/step - loss: 8.4517 - mae: 2.2638 - val_loss: 9.9019 - val_mae: 2.4340\n",
            "Epoch 8/10\n",
            "819/819 [==============================] - 46s 55ms/step - loss: 8.2650 - mae: 2.2395 - val_loss: 10.1723 - val_mae: 2.4643\n",
            "Epoch 9/10\n",
            "819/819 [==============================] - 53s 64ms/step - loss: 8.0990 - mae: 2.2172 - val_loss: 10.1749 - val_mae: 2.4700\n",
            "Epoch 10/10\n",
            "819/819 [==============================] - 49s 59ms/step - loss: 7.9479 - mae: 2.1976 - val_loss: 10.2659 - val_mae: 2.4788\n",
            "405/405 [==============================] - 14s 33ms/step - loss: 10.4036 - mae: 2.5470\n",
            "Test MAE: 2.55\n"
          ]
        }
      ],
      "source": [
        "inputs = keras.Input(shape=(sequence_length, raw_data.shape[-1]))\n",
        "x = layers.LSTM(16)(inputs)\n",
        "outputs = layers.Dense(1)(x)\n",
        "model = keras.Model(inputs, outputs)\n",
        "\n",
        "filename = \"jena_lstm.keras\"\n",
        "\n",
        "callbacks = [\n",
        "    keras.callbacks.ModelCheckpoint(filename,\n",
        "                                    save_best_only=True)\n",
        "]\n",
        "\n",
        "model.compile(optimizer=\"rmsprop\", loss=\"mse\", metrics=[\"mae\"])\n",
        "\n",
        "history = model.fit(train_dataset,\n",
        "                    epochs=10,\n",
        "                    validation_data=val_dataset,\n",
        "                    callbacks=callbacks)\n",
        "\n",
        "model = keras.models.load_model(filename)\n",
        "print(f\"Test MAE: {model.evaluate(test_dataset)[1]:.2f}\")"
      ]
    },
    {
      "cell_type": "markdown",
      "source": [
        "Het LSTM model doet het beter en klopt de naïeve voorspeller! (Zij het niet op spectaculaire wijze...)\n",
        "\n",
        "Waarom? Dat zien we in de volgende sectie!"
      ],
      "metadata": {
        "id": "zjScGeQ4d359"
      }
    },
    {
      "cell_type": "markdown",
      "source": [
        "Laten we eerst nog eens de evolutie van de MAEs van training en validatie plotten. Die ziet er ook al beter uit:"
      ],
      "metadata": {
        "id": "_eOj9QEZeN5b"
      }
    },
    {
      "cell_type": "code",
      "source": [
        "loss = history.history[\"mae\"]\n",
        "val_loss = history.history[\"val_mae\"]\n",
        "epochs = range(1, len(loss) + 1)\n",
        "plt.figure()\n",
        "plt.plot(epochs, loss, \"bo\", label=\"Training MAE\")\n",
        "plt.plot(epochs, val_loss, \"b\", label=\"Validation MAE\")\n",
        "plt.title(\"Training and validation MAE\")\n",
        "plt.legend();"
      ],
      "metadata": {
        "colab": {
          "base_uri": "https://localhost:8080/",
          "height": 281
        },
        "id": "IMiBxqmtZiOp",
        "outputId": "d6844f52-66e6-44be-8004-563295e385ca"
      },
      "execution_count": null,
      "outputs": [
        {
          "output_type": "display_data",
          "data": {
            "text/plain": [
              "<Figure size 432x288 with 1 Axes>"
            ],
            "image/png": "[encoded data removed]"
          },
          "metadata": {
            "needs_background": "light"
          }
        }
      ]
    },
    {
      "cell_type": "markdown",
      "metadata": {
        "id": "GkHAcsxgnCR9"
      },
      "source": [
        "## 10.3. Understanding recurrent neural networks"
      ]
    },
    {
      "cell_type": "markdown",
      "source": [
        "De neurale netwerken die we tot nu toe hebben gezien hebben geen *geheugen*. De inputs worden onafhankelijk van elkaar verwerkt en er wordt geen toestand (*state*) bij gehouden. Tijdreeksen worden door die netwerken (*feedforward networks*) in één keer verwerkt.\n",
        "\n",
        "Uit het boek:\n",
        "\n",
        "*In contrast, a **recurrent neural network** (RNN) processes\n",
        "sequences by iterating through the sequence elements and\n",
        "maintaining a state that contains information relative to what\n",
        "it has seen so far. In effect, an RNN is a type of neural network\n",
        "that has an internal loop.*"
      ],
      "metadata": {
        "id": "o1BLiqCUJ5Cl"
      }
    },
    {
      "cell_type": "markdown",
      "source": [
        "![image.png](data:image/png;base64,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)"
      ],
      "metadata": {
        "id": "1tNpDIp5LLg6"
      }
    },
    {
      "cell_type": "markdown",
      "source": [
        "*The state of the RNN is reset between processing two different,\n",
        "independent sequences (such as two samples in a\n",
        "batch), so you still consider one sequence to be a single data\n",
        "point: a single input to the network. What changes is that this\n",
        "data point is no longer processed in a single step; rather, the\n",
        "network internally loops over sequence elements.*"
      ],
      "metadata": {
        "id": "V-Nw84QZLZ2g"
      }
    },
    {
      "cell_type": "markdown",
      "source": [
        "### RNN: naive implementation"
      ],
      "metadata": {
        "id": "iTjZZrykSb5x"
      }
    },
    {
      "cell_type": "markdown",
      "source": [
        "*To make these notions of loop and state clear, let’s implement the forward pass of a\n",
        "toy RNN. This RNN takes as input a sequence of vectors, which we’ll encode as a rank-2\n",
        "tensor of size (timesteps, input_features). It loops over timesteps, and at each timestep,\n",
        "it considers its current state at t and the input at t, and combines them to obtain the output at t. We’ll then set the state for the next step\n",
        "to be this previous output. For the first timestep, the previous output isn’t defined;\n",
        "hence, there is no current state. So we’ll initialize the state as an all-zero vector called\n",
        "the initial state of the network.\n",
        "In pseudocode, this is the RNN:*\n",
        "\n",
        "```python\n",
        "state_t = 0\n",
        "for input_t in input_sequence:\n",
        "    output_t = f(input_t, state_t)\n",
        "    state_t = output_t\n",
        "```"
      ],
      "metadata": {
        "id": "s2xxCXY1LzLW"
      }
    },
    {
      "cell_type": "markdown",
      "source": [
        "*You can even flesh out the function f: the transformation of the input and state into an\n",
        "output will be parameterized by two matrices, W and U, and a bias vector. It’s similar to\n",
        "the transformation operated by a densely connected layer in a feedforward network:*\n",
        "\n",
        "```python\n",
        "state_t = 0\n",
        "for input_t in input_sequence:\n",
        "    output_t = activation(dot(W, input_t) + dot(U, state_t) + b)\n",
        "    state_t = output_t\n",
        "```"
      ],
      "metadata": {
        "id": "VJdKzXt1MqMB"
      }
    },
    {
      "cell_type": "markdown",
      "source": [
        "*To make these notions absolutely unambiguous, let’s write a naive NumPy implementation\n",
        "of the forward pass of the simple RNN:*"
      ],
      "metadata": {
        "id": "Zkt3R_o4NGuo"
      }
    },
    {
      "cell_type": "code",
      "execution_count": null,
      "metadata": {
        "id": "ky83vg1CnCR9"
      },
      "outputs": [],
      "source": [
        "import numpy as np\n",
        "\n",
        "timesteps = 100  # number of timesteps in the sequence\n",
        "input_features = 32  # dimensionality of the input feature space\n",
        "output_features = 64  # dimensionality of the output feature space\n",
        "\n",
        "inputs = np.random.random((timesteps, input_features))  # input data: random noise for the sake of the example\n",
        "\n",
        "state_t = np.zeros((output_features,))  # initial state: an all-zero vector\n",
        "W = np.random.random((output_features, input_features))  # create random weight matrix W\n",
        "U = np.random.random((output_features, output_features))  # create random weight matrix U\n",
        "b = np.random.random((output_features,))  # create random bias vector\n",
        "\n",
        "successive_outputs = []  # initialize list that stores outputs\n",
        "for input_t in inputs:  # input_t is a vector of shape (input_features, )\n",
        "    output_t = np.tanh(np.dot(W, input_t) + np.dot(U, state_t) + b)  # combines input with current state\n",
        "    successive_outputs.append(output_t)  # append output to list\n",
        "    state_t = output_t  # update state\n",
        "final_output_sequence = np.stack(successive_outputs, axis=0)  # final output has shape (timesteps, output_features)"
      ]
    },
    {
      "cell_type": "markdown",
      "source": [
        "*RNNs are characterized by their step function,\n",
        "such as the following function in this case:*\n",
        "\n",
        "```python\n",
        "output_t = np.tanh(np.dot(W, input_t) + np.dot(U, state_t) + b)\n",
        "```\n",
        "\n",
        "*We use tanh to add non-linearity (we could use any other activation function).*"
      ],
      "metadata": {
        "id": "MY_P2I26OiYn"
      }
    },
    {
      "cell_type": "markdown",
      "source": [
        "We kunnen de naïeve implementatie van een RNN schematisch als volgt weergeven (waarbij de for-loop is 'ontvouwen' in de tijd):"
      ],
      "metadata": {
        "id": "PjA5HbWCPCMn"
      }
    },
    {
      "cell_type": "markdown",
      "source": [
        "![image.png](data:image/png;base64,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)"
      ],
      "metadata": {
        "id": "QhiZSACKPJgC"
      }
    },
    {
      "cell_type": "markdown",
      "metadata": {
        "id": "hY9QKpdenCR9"
      },
      "source": [
        "### A recurrent layer in Keras: `SimpleRNN`"
      ]
    },
    {
      "cell_type": "markdown",
      "source": [
        "De `SimpleRNN` layer in Keras implementeert het proces dat we daarnet op een naïeve manier hebben gecodeerd. Het grote verschil is dat die laag met batches kan werken, en dus is de shape van de input tensor gelijk aan `(batch_size, timesteps, input_features)`. Het aantal tijdstappen mag zelfs variëren, voor het geval de tijdreeksen in de dataset een variabele lengte hebben (wat in realiteit vaak het geval is):"
      ],
      "metadata": {
        "id": "lTUGlClpQVGS"
      }
    },
    {
      "cell_type": "code",
      "execution_count": null,
      "metadata": {
        "id": "na5KqxmqnCR-"
      },
      "outputs": [],
      "source": [
        "from tensorflow import keras\n",
        "num_features = 14\n",
        "inputs = keras.Input(shape=(None, num_features))  # None -> timeseries have variable length!\n",
        "outputs = keras.layers.SimpleRNN(16)(inputs)"
      ]
    },
    {
      "cell_type": "markdown",
      "source": [
        "Als de tijdreeksen in de dataset wel allemaal dezelfde lengte hebben, dan is het om performantieredenen toch beter om die lengte op te geven ipv `None`."
      ],
      "metadata": {
        "id": "27K6LI-SRwh_"
      }
    },
    {
      "cell_type": "markdown",
      "source": [
        "Naast `SimpleRNN` zijn er ook nog andere recurrente layers, zoals `LSTM` en `GRU`. Al deze lagen kunnen ofwel de volledige reeks als output retourneren, of enkel het laatste element van de reeks. Dat laatste is de default en de shape van de output is dan `(batch_size, output_features)`. In het eerste geval is de shape van de output `(batch_size, timesteps, output_features)`. Welk van de twee wordt gekozen hangt af van inputparameter `return_sequences`."
      ],
      "metadata": {
        "id": "AdMx5yYrTWJ-"
      }
    },
    {
      "cell_type": "code",
      "execution_count": null,
      "metadata": {
        "id": "m40gvMr1nCR-",
        "colab": {
          "base_uri": "https://localhost:8080/"
        },
        "outputId": "e58bc025-9bda-4f74-d3ab-cb2da40859cd"
      },
      "outputs": [
        {
          "output_type": "stream",
          "name": "stdout",
          "text": [
            "(None, 16)\n"
          ]
        }
      ],
      "source": [
        "# An RNN layer that returns only its last output step\n",
        "num_features = 14\n",
        "steps = 120\n",
        "inputs = keras.Input(shape=(steps, num_features))\n",
        "outputs = keras.layers.SimpleRNN(16, return_sequences=False)(inputs)  # default\n",
        "print(outputs.shape)  # (batch_size, output_features)"
      ]
    },
    {
      "cell_type": "code",
      "execution_count": null,
      "metadata": {
        "id": "VmcUBnRmnCR-",
        "colab": {
          "base_uri": "https://localhost:8080/"
        },
        "outputId": "31a012b7-b51e-4cfe-c6ce-d592ede3f6ae"
      },
      "outputs": [
        {
          "output_type": "stream",
          "name": "stdout",
          "text": [
            "(None, 120, 16)\n"
          ]
        }
      ],
      "source": [
        "# An RNN layer that returns its full output sequence\n",
        "num_features = 14\n",
        "steps = 120\n",
        "inputs = keras.Input(shape=(steps, num_features))\n",
        "outputs = keras.layers.SimpleRNN(16, return_sequences=True)(inputs)\n",
        "print(outputs.shape)  # (batch_size, timesteps, output_features)"
      ]
    },
    {
      "cell_type": "markdown",
      "source": [
        "Wanneer RNN layers op elkaar gestapeld worden, dan moet uiteraard de volledige tijdreeks geretourneerd worden! Doe je dat niet dan krijg je een foutmelding..."
      ],
      "metadata": {
        "id": "iHMy0YFtUiCD"
      }
    },
    {
      "cell_type": "code",
      "execution_count": null,
      "metadata": {
        "id": "l9ROQ4SYnCR_",
        "colab": {
          "base_uri": "https://localhost:8080/"
        },
        "outputId": "827f2d7b-2acd-4849-e995-1860fa7f9c73"
      },
      "outputs": [
        {
          "output_type": "stream",
          "name": "stdout",
          "text": [
            "Input 0 of layer \"simple_rnn_10\" is incompatible with the layer: expected ndim=3, found ndim=2. Full shape received: (None, 16)\n",
            "\n",
            "Model: \"model_1\"\n",
            "_________________________________________________________________\n",
            " Layer (type)                Output Shape              Param #   \n",
            "=================================================================\n",
            " input_8 (InputLayer)        [(None, 120, 14)]         0         \n",
            "                                                                 \n",
            " simple_rnn_11 (SimpleRNN)   (None, 120, 16)           496       \n",
            "                                                                 \n",
            " simple_rnn_12 (SimpleRNN)   (None, 120, 16)           528       \n",
            "                                                                 \n",
            " simple_rnn_13 (SimpleRNN)   (None, 16)                528       \n",
            "                                                                 \n",
            "=================================================================\n",
            "Total params: 1,552\n",
            "Trainable params: 1,552\n",
            "Non-trainable params: 0\n",
            "_________________________________________________________________\n"
          ]
        }
      ],
      "source": [
        "# Stacking RNN layers\n",
        "try:\n",
        "    inputs = keras.Input(shape=(steps, num_features))\n",
        "    x = keras.layers.SimpleRNN(16)(inputs)\n",
        "    x = keras.layers.SimpleRNN(16)(x)\n",
        "    outputs = keras.layers.SimpleRNN(16)(x)\n",
        "    model = keras.Model(inputs, outputs)\n",
        "except Exception as error:\n",
        "    print(error)\n",
        "    print()\n",
        "    inputs = keras.Input(shape=(steps, num_features))\n",
        "    x = keras.layers.SimpleRNN(16, return_sequences=True)(inputs)  # moet True zijn!\n",
        "    x = keras.layers.SimpleRNN(16, return_sequences=True)(x)  # moet True zijn!\n",
        "    outputs = keras.layers.SimpleRNN(16)(x)  # mag True of False zijn...\n",
        "    model = keras.Model(inputs, outputs)\n",
        "model.summary()"
      ]
    },
    {
      "cell_type": "markdown",
      "source": [
        "De `SimpleRNN` layer wordt in de praktijk niet vaak toegepast omwille van het risico op het optreden van het **vanishing gradients problem**. De oplossing voor dat probleem is de LSTM layer!"
      ],
      "metadata": {
        "id": "ZVv9Q4pTVMA5"
      }
    },
    {
      "cell_type": "markdown",
      "source": [
        "### LSTM"
      ],
      "metadata": {
        "id": "JTik07LPSjs7"
      }
    },
    {
      "cell_type": "markdown",
      "source": [
        "Uit het boek:\n",
        "\n",
        "*The LSTM layer is a variant of the SimpleRNN layer you already know about; it adds a way\n",
        "to carry information across many timesteps. Imagine a conveyor belt running parallel\n",
        "to the sequence you’re processing. Information from the sequence can jump onto the\n",
        "conveyor belt at any point, be transported to a later timestep, and jump off, intact,\n",
        "when you need it. This is essentially what LSTM does: it saves information for later,\n",
        "thus preventing older signals from gradually vanishing during processing. This should remind you of residual connections, which you learned about in chapter 9: it’s pretty much the same idea.*"
      ],
      "metadata": {
        "id": "1B98RuT0Wy0d"
      }
    },
    {
      "cell_type": "markdown",
      "source": [
        "*The anatomy of an LSTM:*"
      ],
      "metadata": {
        "id": "XQvw8djiXd4y"
      }
    },
    {
      "cell_type": "markdown",
      "source": [
        "![image.png](data:image/png;base64,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)"
      ],
      "metadata": {
        "id": "Hk0aSnizXZLq"
      }
    },
    {
      "cell_type": "markdown",
      "source": [
        "*Compared to the picture of a SimleRNN, an additional data flow is added that carries information across timesteps.\n",
        "Call its values at different timesteps c_t, where C stands for carry. This information\n",
        "will have the following impact on the cell: it will be combined with the input\n",
        "connection and the recurrent connection (via a dense transformation: a dot product\n",
        "with a weight matrix followed by a bias add and the application of an activation function),\n",
        "and it will affect the state being sent to the next timestep (via an activation function\n",
        "and a multiplication operation). Conceptually, the carry dataflow is a way to\n",
        "modulate the next output and the next state.*"
      ],
      "metadata": {
        "id": "ENiIkKt4X39-"
      }
    },
    {
      "cell_type": "markdown",
      "source": [
        "*Now the subtlety — the way the next value of the carry dataflow is computed. It involves\n",
        "three distinct transformations. All three have the form of a SimpleRNN cell:*\n",
        "\n",
        "```python\n",
        "y = activation(dot(state_t, U) + dot(input_t, W) + b)\n",
        "```\n",
        "\n",
        "*But all three transformations have their own weight matrices, which we’ll index with the letters i, f, and k:*\n",
        "\n",
        "```python\n",
        "output_t = activation(dot(state_t, Uo) + dot(input_t, Wo) + dot(c_t, Vo) + bo)\n",
        "i_t = activation(dot(state_t, Ui) + dot(input_t, Wi) + bi)\n",
        "f_t = activation(dot(state_t, Uf) + dot(input_t, Wf) + bf)\n",
        "k_t = activation(dot(state_t, Uk) + dot(input_t, Wk) + bk)\n",
        "```\n",
        "\n",
        "*We obtain the new carry state (the next c_t) by combining i_t, f_t, and k_t:*\n",
        "\n",
        "```python\n",
        "c_t+1 = i_t * k_t + c_t * f_t\n",
        "```"
      ],
      "metadata": {
        "id": "D4d6_qxpYe5w"
      }
    },
    {
      "cell_type": "markdown",
      "source": [
        "*The combination\n",
        "of operations making up an RNN cell is better interpreted as a set of constraints\n",
        "on your search, not as a design in an engineering sense.\n",
        "Arguably, the choice of such constraints — the question of how to implement RNN\n",
        "cells — is better left to optimization algorithms (like genetic algorithms or reinforcementlearning\n",
        "processes) than to human engineers. In the future, that’s how we’ll build our\n",
        "models. So you don’t need to understand anything about the specific architecture\n",
        "of an LSTM cell; as a human, it shouldn’t be your job to understand it. Just\n",
        "keep in mind what the LSTM cell is meant to do: allow past information to be reinjected\n",
        "at a later time, thus fighting the vanishing-gradient problem.*"
      ],
      "metadata": {
        "id": "l72n3rMTZxh6"
      }
    },
    {
      "cell_type": "markdown",
      "metadata": {
        "id": "LK2qZis4nCR_"
      },
      "source": [
        "## 10.4. Advanced use of recurrent neural networks"
      ]
    },
    {
      "cell_type": "markdown",
      "source": [
        "In dit stuk worden enkele geavanceerde technieken van RNNs besproken:\n",
        "- *Recurrent dropout*\n",
        "- *Stacking recurrent layers*\n",
        "- *Bidirectional recurrent layers*"
      ],
      "metadata": {
        "id": "trPTZZwfaStM"
      }
    },
    {
      "cell_type": "markdown",
      "metadata": {
        "id": "nTHtD9vJnCR_"
      },
      "source": [
        "### Using recurrent dropout to fight overfitting"
      ]
    },
    {
      "cell_type": "markdown",
      "source": [
        "Tijdens het trainen van ons eerste LSTM model zagen we vrij snel *overfitting* optreden. Net zoals bij andere neurale netwerken kunnen we bij RNNs ook **dropout** toepassen als regularisatietechniek, alleen is het niet zo evident, want willekeurig dropout toepassen na elke tijdstap heeft een negatieve impact op het trainingproces. Dropout werkt wel als dezelfde random dropout mask wordt toegepast bij alle tijdstappen. Bovendien kan er ook een **recurrent dropout** gedefinieerd worden voor het regulariseren van de interne activaties van de LSTM eenheden. De LSTM laag heeft dus twee soorten dropout:\n",
        "- `dropout`: fraction of the units to drop for the linear transformation of the inputs;\n",
        "- `recurrent_dropout`: fraction of the units to drop for the linear transformation of the recurrent state.\n"
      ],
      "metadata": {
        "id": "sWDRFDTU_MYs"
      }
    },
    {
      "cell_type": "markdown",
      "source": [
        "We passen ons baseline LSTM model aan door recurrent dropout toe te voegen aan de LSTM layer. Zo kunnen we 32 eenheden ipv 16 gebruiken en zo hopen we de overfitting kunnen uitstellen. We voegen ook dropout toe na de LSTM laag om de input van de Dense layer te regulariseren. Omdat het model 'groter' is, trainen we gedurende 50 epochs ipv 10. Maar eerst moeten we nog iets zeggen over de rekentijd van RNN modellen!"
      ],
      "metadata": {
        "id": "AF7mZyMvDbtN"
      }
    },
    {
      "cell_type": "markdown",
      "source": [
        "Wanneer je het onderstaande model met recurrent dropout runt in Google Colab met GPU als hardware accelerator, dan zal je de volgende warning krijgen:\n",
        "\n",
        "`Layer will not use cuDNN kernel since it doesn't meet the cuDNN kernel criteria`\n",
        "\n",
        "Uit het boek:\n",
        "\n",
        "*Recurrent models with very few parameters, like the ones in this chapter, tend to\n",
        "be significantly faster on a multicore CPU than on GPU, because they only involve\n",
        "small matrix multiplications, and the chain of multiplications is not well parallelizable\n",
        "due to the presence of a for loop. But larger RNNs can greatly benefit from a\n",
        "GPU runtime.\n",
        "When using a Keras LSTM or GRU layer on GPU with default keyword arguments, your\n",
        "layer will be leveraging a cuDNN kernel, a highly optimized, low-level, NVIDIA-provided\n",
        "implementation of the underlying algorithm.\n",
        "Unfortunately, recurrent dropout isn’t supported by the LSTM and GRU cuDNN kernels, so\n",
        "adding it to your layers forces the runtime to fall back to the regular TensorFlow implementation,\n",
        "which is generally two to five times slower on GPU (even though its computational\n",
        "cost is the same).*\n"
      ],
      "metadata": {
        "id": "hI7M4nsAEw-3"
      }
    },
    {
      "cell_type": "markdown",
      "source": [
        "De criteria waaraan de LSTM layer moet voldoen om van de cuDNN kernel gebruik te kunnen maken vind je hier terug:\n",
        "\n",
        "https://www.tensorflow.org/api_docs/python/tf/keras/layers/GRU#used-in-the-notebooks_1"
      ],
      "metadata": {
        "id": "GkxJ2h-z21ht"
      }
    },
    {
      "cell_type": "markdown",
      "source": [
        "Indien je geen gebruik kan maken van de cuDNN kernel, kan je de LSTM layer ook 'unrollen':\n",
        "\n",
        "```python\n",
        "inputs = keras.Input(shape=(sequence_length, raw_data.shape[-1]))\n",
        "x = layers.LSTM(32, recurrent_dropout=0.2, unroll=True)(inputs)  # set unroll to True (defauls is False)\n",
        "```\n",
        "\n",
        "Uit het boek:\n",
        "\n",
        "*Unrolling a for loop consists of removing the loop and simply inlining its content\n",
        "N times. In the case of the for loop of an RNN, unrolling can help TensorFlow optimize\n",
        "the underlying computation graph. However, it will also considerably increase the memory consumption of your RNN — as such, it’s only viable for relatively small\n",
        "sequences (around 100 steps or fewer). Also, note that you can only do this if the\n",
        "number of timesteps in the data is known in advance by the model (that is to say, if\n",
        "you pass a shape without any None entries to your initial input).*\n",
        "\n",
        "\n",
        "\n"
      ],
      "metadata": {
        "id": "91YOkZYQGC0h"
      }
    },
    {
      "cell_type": "markdown",
      "source": [
        "Nu we dat weten, kiezen we gewoon voor CPU als accelerator om het LSTM model met recurrent dropout te trainen. Dat duur wel een paar uur, maar helaas is de GPU niet sneller, dus kunnen we die beter sparen..."
      ],
      "metadata": {
        "id": "_n1gSyJqHYZu"
      }
    },
    {
      "cell_type": "code",
      "execution_count": null,
      "metadata": {
        "id": "d5dGfo_MnCSA",
        "colab": {
          "base_uri": "https://localhost:8080/"
        },
        "outputId": "95d91856-c924-4221-bcc7-711722cd1abf"
      },
      "outputs": [
        {
          "output_type": "stream",
          "name": "stdout",
          "text": [
            "Epoch 1/50\n",
            "819/819 [==============================] - 204s 246ms/step - loss: 28.3954 - mae: 3.9318 - val_loss: 9.5360 - val_mae: 2.3949\n",
            "Epoch 2/50\n",
            "819/819 [==============================] - 203s 248ms/step - loss: 14.7603 - mae: 2.9806 - val_loss: 9.9088 - val_mae: 2.4358\n",
            "Epoch 3/50\n",
            "819/819 [==============================] - 205s 250ms/step - loss: 13.8776 - mae: 2.8864 - val_loss: 10.2395 - val_mae: 2.4950\n",
            "Epoch 4/50\n",
            "819/819 [==============================] - 204s 249ms/step - loss: 13.1218 - mae: 2.8091 - val_loss: 9.5139 - val_mae: 2.4033\n",
            "Epoch 5/50\n",
            "819/819 [==============================] - 199s 243ms/step - loss: 12.6092 - mae: 2.7534 - val_loss: 9.2097 - val_mae: 2.3664\n",
            "Epoch 6/50\n",
            "819/819 [==============================] - 202s 246ms/step - loss: 12.2097 - mae: 2.7047 - val_loss: 9.3910 - val_mae: 2.4020\n",
            "Epoch 7/50\n",
            "819/819 [==============================] - 202s 246ms/step - loss: 11.8717 - mae: 2.6702 - val_loss: 9.3689 - val_mae: 2.3773\n",
            "Epoch 8/50\n",
            "819/819 [==============================] - 203s 247ms/step - loss: 11.6510 - mae: 2.6448 - val_loss: 9.2984 - val_mae: 2.3852\n",
            "Epoch 9/50\n",
            "819/819 [==============================] - 199s 243ms/step - loss: 11.4271 - mae: 2.6213 - val_loss: 9.5543 - val_mae: 2.4112\n",
            "Epoch 10/50\n",
            "819/819 [==============================] - 204s 249ms/step - loss: 11.2475 - mae: 2.5966 - val_loss: 9.4980 - val_mae: 2.4083\n",
            "Epoch 11/50\n",
            "819/819 [==============================] - 206s 251ms/step - loss: 11.0292 - mae: 2.5727 - val_loss: 9.7960 - val_mae: 2.4479\n",
            "Epoch 12/50\n",
            "819/819 [==============================] - 201s 245ms/step - loss: 10.9005 - mae: 2.5576 - val_loss: 9.4720 - val_mae: 2.4110\n",
            "Epoch 13/50\n",
            "819/819 [==============================] - 204s 249ms/step - loss: 10.7408 - mae: 2.5385 - val_loss: 9.4679 - val_mae: 2.4059\n",
            "Epoch 14/50\n",
            "819/819 [==============================] - 199s 243ms/step - loss: 10.6312 - mae: 2.5266 - val_loss: 9.4199 - val_mae: 2.3944\n",
            "Epoch 15/50\n",
            "819/819 [==============================] - 204s 249ms/step - loss: 10.5022 - mae: 2.5115 - val_loss: 9.7437 - val_mae: 2.4381\n",
            "Epoch 16/50\n",
            "819/819 [==============================] - 200s 243ms/step - loss: 10.3665 - mae: 2.4951 - val_loss: 9.4832 - val_mae: 2.4087\n",
            "Epoch 17/50\n",
            "819/819 [==============================] - 198s 242ms/step - loss: 10.2596 - mae: 2.4835 - val_loss: 9.7229 - val_mae: 2.4413\n",
            "Epoch 18/50\n",
            "819/819 [==============================] - 202s 246ms/step - loss: 10.1378 - mae: 2.4672 - val_loss: 9.6988 - val_mae: 2.4210\n",
            "Epoch 19/50\n",
            "819/819 [==============================] - 198s 242ms/step - loss: 10.0926 - mae: 2.4616 - val_loss: 9.8665 - val_mae: 2.4573\n",
            "Epoch 20/50\n",
            "819/819 [==============================] - 203s 248ms/step - loss: 9.9961 - mae: 2.4523 - val_loss: 10.0024 - val_mae: 2.4798\n",
            "Epoch 21/50\n",
            "819/819 [==============================] - 200s 243ms/step - loss: 9.9337 - mae: 2.4410 - val_loss: 9.6940 - val_mae: 2.4337\n",
            "Epoch 22/50\n",
            "819/819 [==============================] - 203s 248ms/step - loss: 9.8171 - mae: 2.4317 - val_loss: 9.9621 - val_mae: 2.4603\n",
            "Epoch 23/50\n",
            "819/819 [==============================] - 198s 242ms/step - loss: 9.7720 - mae: 2.4191 - val_loss: 10.3049 - val_mae: 2.5093\n",
            "Epoch 24/50\n",
            "819/819 [==============================] - 205s 249ms/step - loss: 9.7037 - mae: 2.4124 - val_loss: 9.9929 - val_mae: 2.4701\n",
            "Epoch 25/50\n",
            "819/819 [==============================] - 199s 243ms/step - loss: 9.6092 - mae: 2.4033 - val_loss: 10.2711 - val_mae: 2.5028\n",
            "Epoch 26/50\n",
            "819/819 [==============================] - 205s 250ms/step - loss: 9.5268 - mae: 2.3906 - val_loss: 10.2299 - val_mae: 2.5045\n",
            "Epoch 27/50\n",
            "819/819 [==============================] - 200s 244ms/step - loss: 9.4799 - mae: 2.3826 - val_loss: 10.2745 - val_mae: 2.5105\n",
            "Epoch 28/50\n",
            "819/819 [==============================] - 205s 250ms/step - loss: 9.4333 - mae: 2.3799 - val_loss: 10.0880 - val_mae: 2.4760\n",
            "Epoch 29/50\n",
            "819/819 [==============================] - 200s 243ms/step - loss: 9.3296 - mae: 2.3690 - val_loss: 10.4671 - val_mae: 2.5284\n",
            "Epoch 30/50\n",
            "819/819 [==============================] - 200s 244ms/step - loss: 9.2659 - mae: 2.3605 - val_loss: 10.1810 - val_mae: 2.4916\n",
            "Epoch 31/50\n",
            "819/819 [==============================] - 206s 251ms/step - loss: 9.2543 - mae: 2.3563 - val_loss: 10.4991 - val_mae: 2.5237\n",
            "Epoch 32/50\n",
            "819/819 [==============================] - 204s 249ms/step - loss: 9.1643 - mae: 2.3461 - val_loss: 10.3147 - val_mae: 2.5098\n",
            "Epoch 33/50\n",
            "819/819 [==============================] - 204s 248ms/step - loss: 9.1570 - mae: 2.3445 - val_loss: 10.6259 - val_mae: 2.5432\n",
            "Epoch 34/50\n",
            "819/819 [==============================] - 201s 245ms/step - loss: 9.1314 - mae: 2.3403 - val_loss: 10.3787 - val_mae: 2.5189\n",
            "Epoch 35/50\n",
            "819/819 [==============================] - 203s 247ms/step - loss: 9.0624 - mae: 2.3332 - val_loss: 10.4489 - val_mae: 2.5193\n",
            "Epoch 36/50\n",
            "819/819 [==============================] - 207s 253ms/step - loss: 9.0020 - mae: 2.3211 - val_loss: 10.6133 - val_mae: 2.5472\n",
            "Epoch 37/50\n",
            "819/819 [==============================] - 202s 247ms/step - loss: 8.9344 - mae: 2.3158 - val_loss: 10.3400 - val_mae: 2.4995\n",
            "Epoch 38/50\n",
            "819/819 [==============================] - 204s 249ms/step - loss: 8.9432 - mae: 2.3188 - val_loss: 10.4198 - val_mae: 2.5110\n",
            "Epoch 39/50\n",
            "819/819 [==============================] - 199s 243ms/step - loss: 8.9308 - mae: 2.3122 - val_loss: 10.6611 - val_mae: 2.5414\n",
            "Epoch 40/50\n",
            "819/819 [==============================] - 202s 247ms/step - loss: 8.8595 - mae: 2.3074 - val_loss: 10.7822 - val_mae: 2.5694\n",
            "Epoch 41/50\n",
            "819/819 [==============================] - 198s 241ms/step - loss: 8.8374 - mae: 2.3015 - val_loss: 10.5146 - val_mae: 2.5220\n",
            "Epoch 42/50\n",
            "819/819 [==============================] - 201s 245ms/step - loss: 8.7552 - mae: 2.2935 - val_loss: 10.6319 - val_mae: 2.5421\n",
            "Epoch 43/50\n",
            "819/819 [==============================] - 198s 241ms/step - loss: 8.8069 - mae: 2.2964 - val_loss: 10.5671 - val_mae: 2.5340\n",
            "Epoch 44/50\n",
            "819/819 [==============================] - 205s 250ms/step - loss: 8.6512 - mae: 2.2787 - val_loss: 10.8362 - val_mae: 2.5597\n",
            "Epoch 45/50\n",
            "819/819 [==============================] - 199s 243ms/step - loss: 8.6820 - mae: 2.2827 - val_loss: 10.8217 - val_mae: 2.5641\n",
            "Epoch 46/50\n",
            "819/819 [==============================] - 200s 244ms/step - loss: 8.6413 - mae: 2.2756 - val_loss: 10.6761 - val_mae: 2.5330\n",
            "Epoch 47/50\n",
            "819/819 [==============================] - 199s 242ms/step - loss: 8.6785 - mae: 2.2786 - val_loss: 10.8348 - val_mae: 2.5607\n",
            "Epoch 48/50\n",
            "819/819 [==============================] - 202s 246ms/step - loss: 8.6590 - mae: 2.2761 - val_loss: 10.6871 - val_mae: 2.5511\n",
            "Epoch 49/50\n",
            "819/819 [==============================] - 200s 244ms/step - loss: 8.6037 - mae: 2.2687 - val_loss: 10.7983 - val_mae: 2.5627\n",
            "Epoch 50/50\n",
            "819/819 [==============================] - 202s 246ms/step - loss: 8.5954 - mae: 2.2679 - val_loss: 10.7384 - val_mae: 2.5485\n",
            "405/405 [==============================] - 30s 73ms/step - loss: 10.5496 - mae: 2.5634\n",
            "Test MAE: 2.56\n"
          ]
        }
      ],
      "source": [
        "inputs = keras.Input(shape=(sequence_length, raw_data.shape[-1]))\n",
        "x = layers.LSTM(32, recurrent_dropout=0.25)(inputs)  # 32 units instead of 16 and recurrent_dropout of 25%\n",
        "x = layers.Dropout(0.5)(x)  # To regularize the Dense layer, we also add a Dropout layer after the LSTM.\n",
        "outputs = layers.Dense(1)(x)\n",
        "model = keras.Model(inputs, outputs)\n",
        "\n",
        "filename = \"jena_lstm_dropout.keras\"\n",
        "\n",
        "callbacks = [\n",
        "    keras.callbacks.ModelCheckpoint(filename,\n",
        "                                    save_best_only=True)\n",
        "]\n",
        "\n",
        "model.compile(optimizer=\"rmsprop\", loss=\"mse\", metrics=[\"mae\"])\n",
        "\n",
        "history = model.fit(train_dataset,\n",
        "                    epochs=50,\n",
        "                    validation_data=val_dataset,\n",
        "                    callbacks=callbacks)\n",
        "\n",
        "model = keras.models.load_model(filename)\n",
        "print(f\"Test MAE: {model.evaluate(test_dataset)[1]:.2f}\")"
      ]
    },
    {
      "cell_type": "markdown",
      "source": [
        "Het boek spreekt van een validatie MAE van 2.27 en een test MAE van 2.45 wat inderdaad significant beter is dan de test MAE gelijk aan 2.62 van onze naïeve forecasting. Ons resultaat is iets minder succesvol. Wanneer we de evolutie van de MAE uitplotten van training en validatie, dan zien we wel dat de overfitting pas rond epoch 20 optreedt, wat dus effectief een verbetering is door de recurrent dropout!"
      ],
      "metadata": {
        "id": "eUKD31EXH2XW"
      }
    },
    {
      "cell_type": "code",
      "source": [
        "loss = history.history[\"mae\"]\n",
        "val_loss = history.history[\"val_mae\"]\n",
        "epochs = range(1, len(loss) + 1)\n",
        "plt.figure()\n",
        "plt.plot(epochs, loss, \"bo\", label=\"Training MAE\")\n",
        "plt.plot(epochs, val_loss, \"b\", label=\"Validation MAE\")\n",
        "plt.title(\"Training and validation MAE\")\n",
        "plt.legend();"
      ],
      "metadata": {
        "colab": {
          "base_uri": "https://localhost:8080/",
          "height": 281
        },
        "id": "kvN1cWarBE_3",
        "outputId": "5fdd0824-8881-41ac-e011-775ed2439a18"
      },
      "execution_count": null,
      "outputs": [
        {
          "output_type": "display_data",
          "data": {
            "text/plain": [
              "<Figure size 432x288 with 1 Axes>"
            ],
            "image/png": "[encoded data removed]"
          },
          "metadata": {
            "needs_background": "light"
          }
        }
      ]
    },
    {
      "cell_type": "markdown",
      "metadata": {
        "id": "pvUZVCoPnCSA"
      },
      "source": [
        "### Stacking recurrent layers"
      ]
    },
    {
      "cell_type": "markdown",
      "source": [
        "We hebben het probleem van de overfitting aangepakt, maar het lijkt er nu op dat het model niet goed genoeg presteert. Dus moeten we de capaciteit van het model vergroten, d.w.z. eenheden en/of lagen toevoegen.\n",
        "\n",
        "Hier gaan we een extra laag toevoegen. Maar deze keer gebruiken we een **Gated Recurrent Unit** (GRU) layer. De GRU kan je zien als een recente en verbeterde versie van de LSTM, maar het achterliggende mechanisme is gelijkaardig.\n",
        "\n",
        "Vergeet ook niet om de `return_sequences` op `True` te zetten! En we maken weer gebruik van CPU, want de GRU kan ook geen cuDNN kernel gebruiken als er recurrent dropout wordt toegepast."
      ],
      "metadata": {
        "id": "TAeVvY9rKBOJ"
      }
    },
    {
      "cell_type": "code",
      "execution_count": null,
      "metadata": {
        "id": "VB-beF15nCSA",
        "colab": {
          "base_uri": "https://localhost:8080/"
        },
        "outputId": "c932e451-b61e-4315-df30-46a1fcc300ad"
      },
      "outputs": [
        {
          "output_type": "stream",
          "name": "stdout",
          "text": [
            "Epoch 1/50\n",
            "819/819 [==============================] - 338s 407ms/step - loss: 25.0065 - mae: 3.6999 - val_loss: 9.4155 - val_mae: 2.3876\n",
            "Epoch 2/50\n",
            "819/819 [==============================] - 332s 405ms/step - loss: 14.1180 - mae: 2.9099 - val_loss: 8.9153 - val_mae: 2.3226\n",
            "Epoch 3/50\n",
            "819/819 [==============================] - 330s 403ms/step - loss: 13.2211 - mae: 2.8171 - val_loss: 8.8101 - val_mae: 2.3030\n",
            "Epoch 4/50\n",
            "819/819 [==============================] - 331s 404ms/step - loss: 12.6645 - mae: 2.7561 - val_loss: 9.3060 - val_mae: 2.3616\n",
            "Epoch 5/50\n",
            "819/819 [==============================] - 331s 404ms/step - loss: 12.1778 - mae: 2.7081 - val_loss: 8.8321 - val_mae: 2.2962\n",
            "Epoch 6/50\n",
            "819/819 [==============================] - 329s 402ms/step - loss: 11.6790 - mae: 2.6518 - val_loss: 9.5764 - val_mae: 2.3941\n",
            "Epoch 7/50\n",
            "819/819 [==============================] - 331s 403ms/step - loss: 11.3166 - mae: 2.6118 - val_loss: 9.2970 - val_mae: 2.3458\n",
            "Epoch 8/50\n",
            "819/819 [==============================] - 327s 400ms/step - loss: 10.9714 - mae: 2.5707 - val_loss: 9.4808 - val_mae: 2.3733\n",
            "Epoch 9/50\n",
            "819/819 [==============================] - 328s 400ms/step - loss: 10.6174 - mae: 2.5300 - val_loss: 10.0981 - val_mae: 2.4315\n",
            "Epoch 10/50\n",
            "819/819 [==============================] - 330s 402ms/step - loss: 10.3508 - mae: 2.5019 - val_loss: 10.4844 - val_mae: 2.5164\n",
            "Epoch 11/50\n",
            "819/819 [==============================] - 329s 401ms/step - loss: 10.0693 - mae: 2.4669 - val_loss: 10.0262 - val_mae: 2.4349\n",
            "Epoch 12/50\n",
            "819/819 [==============================] - 328s 401ms/step - loss: 9.9263 - mae: 2.4473 - val_loss: 11.0458 - val_mae: 2.5392\n",
            "Epoch 13/50\n",
            "819/819 [==============================] - 328s 400ms/step - loss: 9.7030 - mae: 2.4192 - val_loss: 10.1483 - val_mae: 2.4678\n",
            "Epoch 14/50\n",
            "819/819 [==============================] - 329s 401ms/step - loss: 9.5723 - mae: 2.4054 - val_loss: 10.2372 - val_mae: 2.4765\n",
            "Epoch 15/50\n",
            "819/819 [==============================] - 328s 400ms/step - loss: 9.3961 - mae: 2.3823 - val_loss: 11.1382 - val_mae: 2.5520\n",
            "Epoch 16/50\n",
            "819/819 [==============================] - 327s 399ms/step - loss: 9.2401 - mae: 2.3642 - val_loss: 10.8607 - val_mae: 2.5337\n",
            "Epoch 17/50\n",
            "819/819 [==============================] - 330s 403ms/step - loss: 9.0170 - mae: 2.3325 - val_loss: 10.6507 - val_mae: 2.5060\n",
            "Epoch 18/50\n",
            "819/819 [==============================] - 330s 402ms/step - loss: 8.9610 - mae: 2.3292 - val_loss: 11.2255 - val_mae: 2.5884\n",
            "Epoch 19/50\n",
            "819/819 [==============================] - 330s 403ms/step - loss: 8.8067 - mae: 2.3073 - val_loss: 11.6903 - val_mae: 2.6115\n",
            "Epoch 20/50\n",
            "819/819 [==============================] - 327s 398ms/step - loss: 8.7498 - mae: 2.3019 - val_loss: 11.4521 - val_mae: 2.5902\n",
            "Epoch 21/50\n",
            "819/819 [==============================] - 333s 407ms/step - loss: 8.5922 - mae: 2.2814 - val_loss: 11.7967 - val_mae: 2.6212\n",
            "Epoch 22/50\n",
            "819/819 [==============================] - 333s 406ms/step - loss: 8.5263 - mae: 2.2725 - val_loss: 10.9951 - val_mae: 2.5613\n",
            "Epoch 23/50\n",
            "819/819 [==============================] - 332s 405ms/step - loss: 8.4061 - mae: 2.2575 - val_loss: 11.3131 - val_mae: 2.5851\n",
            "Epoch 24/50\n",
            "819/819 [==============================] - 332s 405ms/step - loss: 8.3467 - mae: 2.2478 - val_loss: 11.4182 - val_mae: 2.6034\n",
            "Epoch 25/50\n",
            "819/819 [==============================] - 330s 403ms/step - loss: 8.2489 - mae: 2.2342 - val_loss: 10.9875 - val_mae: 2.5708\n",
            "Epoch 26/50\n",
            "819/819 [==============================] - 335s 408ms/step - loss: 8.1764 - mae: 2.2206 - val_loss: 11.8120 - val_mae: 2.6477\n",
            "Epoch 27/50\n",
            "819/819 [==============================] - 335s 409ms/step - loss: 8.0768 - mae: 2.2107 - val_loss: 11.4940 - val_mae: 2.6435\n",
            "Epoch 28/50\n",
            "819/819 [==============================] - 334s 407ms/step - loss: 8.0226 - mae: 2.1997 - val_loss: 11.8852 - val_mae: 2.6451\n",
            "Epoch 29/50\n",
            "819/819 [==============================] - 337s 411ms/step - loss: 7.9542 - mae: 2.1917 - val_loss: 11.8686 - val_mae: 2.6607\n",
            "Epoch 30/50\n",
            "819/819 [==============================] - 335s 409ms/step - loss: 7.8900 - mae: 2.1862 - val_loss: 11.4033 - val_mae: 2.6143\n",
            "Epoch 31/50\n",
            "819/819 [==============================] - 334s 408ms/step - loss: 7.8408 - mae: 2.1753 - val_loss: 11.8185 - val_mae: 2.6471\n",
            "Epoch 32/50\n",
            "819/819 [==============================] - 336s 410ms/step - loss: 7.8173 - mae: 2.1739 - val_loss: 11.6245 - val_mae: 2.6440\n",
            "Epoch 33/50\n",
            "819/819 [==============================] - 334s 408ms/step - loss: 7.7517 - mae: 2.1634 - val_loss: 12.4932 - val_mae: 2.7298\n",
            "Epoch 34/50\n",
            "819/819 [==============================] - 333s 406ms/step - loss: 7.6533 - mae: 2.1502 - val_loss: 11.3390 - val_mae: 2.6065\n",
            "Epoch 35/50\n",
            "819/819 [==============================] - 334s 408ms/step - loss: 7.6340 - mae: 2.1471 - val_loss: 11.6789 - val_mae: 2.6310\n",
            "Epoch 36/50\n",
            "819/819 [==============================] - 340s 415ms/step - loss: 7.6488 - mae: 2.1498 - val_loss: 11.5885 - val_mae: 2.6402\n",
            "Epoch 37/50\n",
            "819/819 [==============================] - 340s 415ms/step - loss: 7.5310 - mae: 2.1318 - val_loss: 12.4007 - val_mae: 2.7131\n",
            "Epoch 38/50\n",
            "819/819 [==============================] - 337s 411ms/step - loss: 7.5335 - mae: 2.1331 - val_loss: 11.8878 - val_mae: 2.6822\n",
            "Epoch 39/50\n",
            "819/819 [==============================] - 338s 413ms/step - loss: 7.4973 - mae: 2.1241 - val_loss: 12.4400 - val_mae: 2.7132\n",
            "Epoch 40/50\n",
            "819/819 [==============================] - 341s 416ms/step - loss: 7.4153 - mae: 2.1142 - val_loss: 11.8393 - val_mae: 2.6501\n",
            "Epoch 41/50\n",
            "819/819 [==============================] - 338s 412ms/step - loss: 7.3804 - mae: 2.1114 - val_loss: 12.0338 - val_mae: 2.6736\n",
            "Epoch 42/50\n",
            "819/819 [==============================] - 339s 414ms/step - loss: 7.3663 - mae: 2.1077 - val_loss: 11.7151 - val_mae: 2.6437\n",
            "Epoch 43/50\n",
            "819/819 [==============================] - 341s 415ms/step - loss: 7.3072 - mae: 2.1006 - val_loss: 12.2058 - val_mae: 2.7130\n",
            "Epoch 44/50\n",
            "819/819 [==============================] - 341s 417ms/step - loss: 7.2265 - mae: 2.0894 - val_loss: 12.2608 - val_mae: 2.7013\n",
            "Epoch 45/50\n",
            "819/819 [==============================] - 341s 417ms/step - loss: 7.2514 - mae: 2.0911 - val_loss: 11.9173 - val_mae: 2.6777\n",
            "Epoch 46/50\n",
            "819/819 [==============================] - 337s 412ms/step - loss: 7.2180 - mae: 2.0857 - val_loss: 11.6698 - val_mae: 2.6383\n",
            "Epoch 47/50\n",
            "819/819 [==============================] - 341s 415ms/step - loss: 7.1882 - mae: 2.0776 - val_loss: 12.5484 - val_mae: 2.7361\n",
            "Epoch 48/50\n",
            "819/819 [==============================] - 339s 414ms/step - loss: 7.1901 - mae: 2.0807 - val_loss: 12.5565 - val_mae: 2.7473\n",
            "Epoch 49/50\n",
            "819/819 [==============================] - 339s 413ms/step - loss: 7.1116 - mae: 2.0695 - val_loss: 11.8239 - val_mae: 2.6554\n",
            "Epoch 50/50\n",
            "819/819 [==============================] - 339s 414ms/step - loss: 7.0747 - mae: 2.0647 - val_loss: 11.9581 - val_mae: 2.6761\n",
            "405/405 [==============================] - 42s 102ms/step - loss: 9.7519 - mae: 2.4430\n",
            "Test MAE: 2.44\n"
          ]
        }
      ],
      "source": [
        "inputs = keras.Input(shape=(sequence_length, raw_data.shape[-1]))\n",
        "x = layers.GRU(32, recurrent_dropout=0.5, return_sequences=True)(inputs)  # return_sequences=True!\n",
        "x = layers.GRU(32, recurrent_dropout=0.5)(x)\n",
        "x = layers.Dropout(0.5)(x)\n",
        "outputs = layers.Dense(1)(x)\n",
        "model = keras.Model(inputs, outputs)\n",
        "\n",
        "filename = \"jena_stacked_gru_dropout.keras\"\n",
        "\n",
        "callbacks = [\n",
        "    keras.callbacks.ModelCheckpoint(filename,\n",
        "                                    save_best_only=True)\n",
        "]\n",
        "\n",
        "model.compile(optimizer=\"rmsprop\", loss=\"mse\", metrics=[\"mae\"])\n",
        "\n",
        "history = model.fit(train_dataset,\n",
        "                    epochs=50,\n",
        "                    validation_data=val_dataset,\n",
        "                    callbacks=callbacks)\n",
        "\n",
        "model = keras.models.load_model(filename)\n",
        "print(f\"Test MAE: {model.evaluate(test_dataset)[1]:.2f}\")"
      ]
    },
    {
      "cell_type": "markdown",
      "source": [
        "Hier krijgen we wel duidelijk een verbetering van de MAE bij zowel validatie- als testset! De overfitting treedt op na ongeveer 10 epochs ipv 20, ook al zijn de dropout percentages hoger. Maar het model bevat natuurlijk meer parameters door de extra laag."
      ],
      "metadata": {
        "id": "-6oUqloYLUBL"
      }
    },
    {
      "cell_type": "code",
      "source": [
        "loss = history.history[\"mae\"]\n",
        "val_loss = history.history[\"val_mae\"]\n",
        "epochs = range(1, len(loss) + 1)\n",
        "plt.figure()\n",
        "plt.plot(epochs, loss, \"bo\", label=\"Training MAE\")\n",
        "plt.plot(epochs, val_loss, \"b\", label=\"Validation MAE\")\n",
        "plt.title(\"Training and validation MAE\")\n",
        "plt.legend();"
      ],
      "metadata": {
        "colab": {
          "base_uri": "https://localhost:8080/",
          "height": 281
        },
        "id": "wZmgGday0Rzt",
        "outputId": "02793448-b277-4f27-eab3-73f60ea731bf"
      },
      "execution_count": null,
      "outputs": [
        {
          "output_type": "display_data",
          "data": {
            "text/plain": [
              "<Figure size 432x288 with 1 Axes>"
            ],
            "image/png": "[encoded data removed]"
          },
          "metadata": {
            "needs_background": "light"
          }
        }
      ]
    },
    {
      "cell_type": "markdown",
      "metadata": {
        "id": "Jw7v9zGsnCSB"
      },
      "source": [
        "### Using bidirectional RNNs"
      ]
    },
    {
      "cell_type": "markdown",
      "source": [
        "**Training the recurrent baseline model antichronologically**"
      ],
      "metadata": {
        "id": "dPxawZwpskXn"
      }
    },
    {
      "cell_type": "markdown",
      "source": [
        "In onze dataset is de volgorde van de punten belangrijk. Dat is duidelijk. Daarom dat we de data in chronologische volgorde laten verwerken door onze neurale netwerken. M.a.w. we volgen de pijl van de tijd. Maar wat zou het geven moesten we nu van heden naar verleden gaan? Anti-chronologisch dus?\n",
        "\n",
        "We kunnen dat vlug uittesten adhv ons eerste baseline LSTM model. We moeten dan natuurlijk wel eerst een nieuwe training-, validatie- en testset aanmaken obv de \"omgedraaide\" tijdreeks:"
      ],
      "metadata": {
        "id": "XG3UTh0vocrO"
      }
    },
    {
      "cell_type": "code",
      "source": [
        "raw_data_reversed = raw_data[::-1, :]  # rijen omkeren in raw_data\n",
        "temperature_reversed = temperature[::-1]  # temperature omkeren"
      ],
      "metadata": {
        "id": "qE2eZMFkq2dX"
      },
      "execution_count": null,
      "outputs": []
    },
    {
      "cell_type": "markdown",
      "source": [
        "Als we de omgekeerde tijdreeks naast de oorspronkelijke plotten, dan zien we dat die inderdaad het spiegelbeeld is:"
      ],
      "metadata": {
        "id": "zvOEs6f4rxxS"
      }
    },
    {
      "cell_type": "code",
      "source": [
        "_, (ax1, ax2) = plt.subplots(1, 2, sharey=True, figsize=(12, 3))\n",
        "ax1.plot(temperature);\n",
        "ax2.plot(temperature_reversed);"
      ],
      "metadata": {
        "colab": {
          "base_uri": "https://localhost:8080/",
          "height": 214
        },
        "id": "D2pgwTQKr5D5",
        "outputId": "b292f921-cabb-4c31-91fb-7cd08cb9483e"
      },
      "execution_count": null,
      "outputs": [
        {
          "output_type": "display_data",
          "data": {
            "text/plain": [
              "<Figure size 864x216 with 2 Axes>"
            ],
            "image/png": "[encoded data removed]"
          },
          "metadata": {
            "needs_background": "light"
          }
        }
      ]
    },
    {
      "cell_type": "markdown",
      "source": [
        "Obv die omgekeerde tijdreeks maken we de dataset generators aan voor training, validatie en evaluatie:"
      ],
      "metadata": {
        "id": "94tLKrhCr7HT"
      }
    },
    {
      "cell_type": "code",
      "source": [
        "sampling_rate = 6\n",
        "sequence_length = 120\n",
        "delay = sampling_rate * (sequence_length + 24 - 1)\n",
        "batch_size = 256\n",
        "\n",
        "train_dataset_reversed = keras.utils.timeseries_dataset_from_array(\n",
        "    raw_data_reversed[:-delay],\n",
        "    targets=temperature_reversed[delay:],\n",
        "    sampling_rate=sampling_rate,\n",
        "    sequence_length=sequence_length,\n",
        "    shuffle=True,\n",
        "    batch_size=batch_size,\n",
        "    start_index=0,\n",
        "    end_index=num_train_samples)\n",
        "\n",
        "val_dataset_reversed = keras.utils.timeseries_dataset_from_array(\n",
        "    raw_data_reversed[:-delay],\n",
        "    targets=temperature_reversed[delay:],\n",
        "    sampling_rate=sampling_rate,\n",
        "    sequence_length=sequence_length,\n",
        "    shuffle=True,\n",
        "    batch_size=batch_size,\n",
        "    start_index=num_train_samples,\n",
        "    end_index=num_train_samples + num_val_samples)\n",
        "\n",
        "test_dataset_reversed = keras.utils.timeseries_dataset_from_array(\n",
        "    raw_data_reversed[:-delay],\n",
        "    targets=temperature_reversed[delay:],\n",
        "    sampling_rate=sampling_rate,\n",
        "    sequence_length=sequence_length,\n",
        "    shuffle=True,\n",
        "    batch_size=batch_size,\n",
        "    start_index=num_train_samples + num_val_samples)"
      ],
      "metadata": {
        "id": "rPk4jABqqk9D"
      },
      "execution_count": null,
      "outputs": []
    },
    {
      "cell_type": "markdown",
      "source": [
        "En nu trainen we het model met de antichronologische reeksen:"
      ],
      "metadata": {
        "id": "Awqgc_iQsJJY"
      }
    },
    {
      "cell_type": "code",
      "source": [
        "inputs = keras.Input(shape=(sequence_length, raw_data_reversed.shape[-1]))\n",
        "x = layers.LSTM(16)(inputs)\n",
        "outputs = layers.Dense(1)(x)\n",
        "model = keras.Model(inputs, outputs)\n",
        "\n",
        "filename = \"jena_lstm_reversed.keras\"\n",
        "\n",
        "callbacks = [\n",
        "    keras.callbacks.ModelCheckpoint(filename,\n",
        "                                    save_best_only=True)\n",
        "]\n",
        "\n",
        "model.compile(optimizer=\"rmsprop\", loss=\"mse\", metrics=[\"mae\"])\n",
        "\n",
        "history = model.fit(train_dataset_reversed,\n",
        "                    epochs=10,\n",
        "                    validation_data=val_dataset_reversed,\n",
        "                    callbacks=callbacks)\n",
        "\n",
        "model = keras.models.load_model(filename)\n",
        "print(f\"Test MAE: {model.evaluate(test_dataset_reversed)[1]:.2f}\")"
      ],
      "metadata": {
        "colab": {
          "base_uri": "https://localhost:8080/"
        },
        "id": "fr73OnnqpBrc",
        "outputId": "7b7e76ed-4f09-40b6-b73c-4fc77cbad5a7"
      },
      "execution_count": null,
      "outputs": [
        {
          "output_type": "stream",
          "name": "stdout",
          "text": [
            "Epoch 1/10\n",
            "819/819 [==============================] - 55s 60ms/step - loss: 49.1791 - mae: 5.0280 - val_loss: 17.6432 - val_mae: 3.1466\n",
            "Epoch 2/10\n",
            "819/819 [==============================] - 49s 60ms/step - loss: 10.8911 - mae: 2.4849 - val_loss: 13.5111 - val_mae: 2.7957\n",
            "Epoch 3/10\n",
            "819/819 [==============================] - 44s 53ms/step - loss: 9.3762 - mae: 2.3320 - val_loss: 13.4158 - val_mae: 2.7703\n",
            "Epoch 4/10\n",
            "819/819 [==============================] - 53s 65ms/step - loss: 9.0757 - mae: 2.2969 - val_loss: 13.1471 - val_mae: 2.7511\n",
            "Epoch 5/10\n",
            "819/819 [==============================] - 44s 53ms/step - loss: 8.8609 - mae: 2.2727 - val_loss: 13.1086 - val_mae: 2.7420\n",
            "Epoch 6/10\n",
            "819/819 [==============================] - 43s 53ms/step - loss: 8.6414 - mae: 2.2444 - val_loss: 13.0693 - val_mae: 2.7352\n",
            "Epoch 7/10\n",
            "819/819 [==============================] - 46s 55ms/step - loss: 8.4656 - mae: 2.2216 - val_loss: 13.3025 - val_mae: 2.7557\n",
            "Epoch 8/10\n",
            "819/819 [==============================] - 47s 57ms/step - loss: 8.2906 - mae: 2.1978 - val_loss: 13.3292 - val_mae: 2.7510\n",
            "Epoch 9/10\n",
            "819/819 [==============================] - 59s 72ms/step - loss: 8.1437 - mae: 2.1789 - val_loss: 13.5819 - val_mae: 2.7869\n",
            "Epoch 10/10\n",
            "819/819 [==============================] - 47s 58ms/step - loss: 8.0224 - mae: 2.1620 - val_loss: 13.5646 - val_mae: 2.7822\n",
            "405/405 [==============================] - 14s 33ms/step - loss: 11.1313 - mae: 2.5149\n",
            "Test MAE: 2.51\n"
          ]
        }
      ]
    },
    {
      "cell_type": "markdown",
      "source": [
        "We krijgen geen significant beter resultaat dan bij hetzelfde model dat de tijdreeksen chronologisch doorliep. Ook de overfitting treedt niet later op:"
      ],
      "metadata": {
        "id": "OHxWUvfcvG81"
      }
    },
    {
      "cell_type": "code",
      "source": [
        "loss = history.history[\"mae\"]\n",
        "val_loss = history.history[\"val_mae\"]\n",
        "epochs = range(1, len(loss) + 1)\n",
        "plt.figure()\n",
        "plt.plot(epochs, loss, \"bo\", label=\"Training MAE\")\n",
        "plt.plot(epochs, val_loss, \"b\", label=\"Validation MAE\")\n",
        "plt.title(\"Training and validation MAE\")\n",
        "plt.legend();"
      ],
      "metadata": {
        "colab": {
          "base_uri": "https://localhost:8080/",
          "height": 281
        },
        "id": "XbZLSthIs1Qy",
        "outputId": "27f158a0-c84e-410e-89c6-261879187af3"
      },
      "execution_count": null,
      "outputs": [
        {
          "output_type": "display_data",
          "data": {
            "text/plain": [
              "<Figure size 432x288 with 1 Axes>"
            ],
            "image/png": "[encoded data removed]"
          },
          "metadata": {
            "needs_background": "light"
          }
        }
      ]
    },
    {
      "cell_type": "markdown",
      "source": [
        "Dat is logisch, want de pijl van de tijd is belangrijk wanneer we temperaturen willen voorspellen. Inderdaad, de temperatuur van gisteren zegt meer over de temperatuur van vandaag dan de temperatuur van vorige week.\n",
        "\n",
        "Maar dat is niet het geval bij alle problemen waar volgorde belangrijk is! Bij natural language processing (NLP) bijvoorbeeld is het wel nuttig om reeksen van woorden in twee richtingen te doorlopen. En dat kan met een bidirectioneel LSTM!"
      ],
      "metadata": {
        "id": "34290gvHvPsP"
      }
    },
    {
      "cell_type": "markdown",
      "metadata": {
        "id": "-jT9ORPmnCSB"
      },
      "source": [
        "**Training and evaluating a bidirectional LSTM**"
      ]
    },
    {
      "cell_type": "markdown",
      "source": [
        "Uit het boek:\n",
        "\n",
        "*A bidirectional RNN exploits the order sensitivity of RNNs: it uses two regular RNNs, such as the GRU and LSTM layers you’re already familiar with,\n",
        "each of which processes the input sequence in one direction (chronologically and\n",
        "antichronologically), and then merges their representations. By processing a sequence\n",
        "both ways, a bidirectional RNN can catch patterns that may be overlooked by a unidirectional\n",
        "RNN.*"
      ],
      "metadata": {
        "id": "RN4mlPwgtg3X"
      }
    },
    {
      "cell_type": "markdown",
      "source": [
        "![image.png](data:image/png;base64,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)"
      ],
      "metadata": {
        "id": "grKKak-juBai"
      }
    },
    {
      "cell_type": "markdown",
      "source": [
        "*To instantiate a bidirectional RNN in Keras, you use the* `Bidirectional` *layer, which\n",
        "takes as its first argument a recurrent layer instance. Bidirectional creates a second,\n",
        "separate instance of this recurrent layer and uses one instance for processing the\n",
        "input sequences in chronological order and the other instance for processing the\n",
        "input sequences in reversed order:*"
      ],
      "metadata": {
        "id": "EwvwVKrhuPA8"
      }
    },
    {
      "cell_type": "code",
      "execution_count": null,
      "metadata": {
        "id": "ryyLMxUfnCSB",
        "colab": {
          "base_uri": "https://localhost:8080/"
        },
        "outputId": "db6a6514-8039-4d62-e5a6-998a635242e3"
      },
      "outputs": [
        {
          "output_type": "stream",
          "name": "stdout",
          "text": [
            "Epoch 1/10\n",
            "819/819 [==============================] - 150s 178ms/step - loss: 25.7067 - mae: 3.6580 - val_loss: 10.4363 - val_mae: 2.4961\n",
            "Epoch 2/10\n",
            "819/819 [==============================] - 146s 178ms/step - loss: 9.5913 - mae: 2.4161 - val_loss: 9.9697 - val_mae: 2.4473\n",
            "Epoch 3/10\n",
            "819/819 [==============================] - 151s 184ms/step - loss: 8.7291 - mae: 2.2989 - val_loss: 10.3582 - val_mae: 2.4877\n",
            "Epoch 4/10\n",
            "819/819 [==============================] - 145s 177ms/step - loss: 8.2053 - mae: 2.2296 - val_loss: 10.0930 - val_mae: 2.4614\n",
            "Epoch 5/10\n",
            "819/819 [==============================] - 149s 182ms/step - loss: 7.7594 - mae: 2.1708 - val_loss: 10.3485 - val_mae: 2.4890\n",
            "Epoch 6/10\n",
            "819/819 [==============================] - 146s 178ms/step - loss: 7.3603 - mae: 2.1176 - val_loss: 10.4263 - val_mae: 2.4956\n",
            "Epoch 7/10\n",
            "819/819 [==============================] - 148s 180ms/step - loss: 7.0759 - mae: 2.0754 - val_loss: 10.6878 - val_mae: 2.5326\n",
            "Epoch 8/10\n",
            "819/819 [==============================] - 150s 182ms/step - loss: 6.9156 - mae: 2.0496 - val_loss: 10.6484 - val_mae: 2.5246\n",
            "Epoch 9/10\n",
            "819/819 [==============================] - 150s 183ms/step - loss: 6.7586 - mae: 2.0261 - val_loss: 10.6496 - val_mae: 2.5282\n",
            "Epoch 10/10\n",
            "819/819 [==============================] - 152s 185ms/step - loss: 6.6109 - mae: 2.0039 - val_loss: 11.0809 - val_mae: 2.5750\n",
            "405/405 [==============================] - 32s 77ms/step - loss: 11.3497 - mae: 2.6264\n",
            "Test MAE: 2.63\n"
          ]
        }
      ],
      "source": [
        "inputs = keras.Input(shape=(sequence_length, raw_data.shape[-1]))\n",
        "x = layers.Bidirectional(layers.LSTM(16))(inputs)\n",
        "outputs = layers.Dense(1)(x)\n",
        "model = keras.Model(inputs, outputs)\n",
        "\n",
        "filename = \"jena_bidirectional_lstm.keras\"\n",
        "\n",
        "callbacks = [\n",
        "    keras.callbacks.ModelCheckpoint(filename,\n",
        "                                    save_best_only=True)\n",
        "]\n",
        "\n",
        "model.compile(optimizer=\"rmsprop\", loss=\"mse\", metrics=[\"mae\"])\n",
        "\n",
        "history = model.fit(train_dataset,\n",
        "                    epochs=10,\n",
        "                    validation_data=val_dataset,\n",
        "                    callbacks=callbacks)\n",
        "\n",
        "model = keras.models.load_model(filename)\n",
        "print(f\"Test MAE: {model.evaluate(test_dataset)[1]:.2f}\")"
      ]
    },
    {
      "cell_type": "markdown",
      "source": [
        "We wisten natuurlijk al dat het doorlopen van de tijdreeks in twee richtingen geen verbetering zou opleveren in dit geval. Integendeel, we krijgen sneller overfitting omdat er nu twee keer zoveel parameters zijn!"
      ],
      "metadata": {
        "id": "eRt8MhzMuwLU"
      }
    },
    {
      "cell_type": "code",
      "source": [
        "loss = history.history[\"mae\"]\n",
        "val_loss = history.history[\"val_mae\"]\n",
        "epochs = range(1, len(loss) + 1)\n",
        "plt.figure()\n",
        "plt.plot(epochs, loss, \"bo\", label=\"Training MAE\")\n",
        "plt.plot(epochs, val_loss, \"b\", label=\"Validation MAE\")\n",
        "plt.title(\"Training and validation MAE\")\n",
        "plt.legend()\n",
        "plt.show()"
      ],
      "metadata": {
        "colab": {
          "base_uri": "https://localhost:8080/",
          "height": 281
        },
        "id": "iHsi0iBl5lwY",
        "outputId": "f8a3cc07-0791-46cc-9a68-e9c4ce60148e"
      },
      "execution_count": null,
      "outputs": [
        {
          "output_type": "display_data",
          "data": {
            "text/plain": [
              "<Figure size 432x288 with 1 Axes>"
            ],
            "image/png": "[encoded data removed]"
          },
          "metadata": {
            "needs_background": "light"
          }
        }
      ]
    },
    {
      "cell_type": "markdown",
      "source": [
        "Maar zoals gezegd is zo'n bidirectioneel LSTM wel nuttig bij andere problemen!\n",
        "\n",
        "Uit het boek:\n",
        "\n",
        "*A bidirectional\n",
        "RNN is a common RNN variant that can offer greater performance than a regular\n",
        "RNN on certain tasks. For instance, bidirectional RNNs are a great fit for text data, or any other kind of data\n",
        "where order matters, yet where which order you use doesn’t matter. In fact, for a while\n",
        "in 2016, bidirectional LSTMs were considered the state of the art on many natural language\n",
        "processing tasks. You could\n",
        "call it the Swiss Army knife of deep learning for natural language processing!*"
      ],
      "metadata": {
        "id": "e0q4BF3CufPS"
      }
    },
    {
      "cell_type": "markdown",
      "metadata": {
        "id": "hXOkSDBunCSB"
      },
      "source": [
        "### Going even further"
      ]
    },
    {
      "cell_type": "markdown",
      "source": [
        "Je kan nog andere dingen uitproberen om het model te verbeteren:\n",
        "- het aantal units in de LSTM of GRU lagen aanpassen\n",
        "- spelen met de dropout percentages\n",
        "- de learning rate verhogen of verlagen\n",
        "- een andere optimizer proberen, zoals ADAM\n",
        "- Dense layers toevoegen na de LSTM base\n",
        "- De input aanpassen door bijv. de lengte van de reeksen te vermeerderen of te verminderen, of de sampling rate te veranderen\n",
        "- ..."
      ],
      "metadata": {
        "id": "capbE1ZKMmW9"
      }
    },
    {
      "cell_type": "markdown",
      "source": [
        "Uit het boek:\n",
        "\n",
        "*As always, deep learning is more an art than a science. We can provide guidelines that\n",
        "suggest what is likely to work or not work on a given problem, but, ultimately, every\n",
        "dataset is unique; you’ll have to evaluate different strategies empirically.* **There is currently\n",
        "no theory that will tell you in advance precisely what you should do to optimally\n",
        "solve a problem. You must iterate.**\n",
        "\n",
        "*In my experience, improving on the no-learning baseline by about 10% is likely\n",
        "the best you can do with this dataset. This isn’t so great, but these results make sense:\n",
        "while near-future weather is highly predictable if you have access to data from a wide\n",
        "grid of different locations, it’s not very predictable if you only have measurements\n",
        "from a single location. The evolution of the weather where you are depends on current\n",
        "weather patterns in surrounding locations.*"
      ],
      "metadata": {
        "id": "UxFTES43NVZJ"
      }
    },
    {
      "cell_type": "markdown",
      "source": [
        "En nog een belangrijke noot uit het boek over het toepassen van deep learning om op de beurs te spelen:\n"
      ],
      "metadata": {
        "id": "jr-aXLhxNw3a"
      }
    },
    {
      "cell_type": "markdown",
      "source": [
        "![image.png](data:image/png;base64,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)"
      ],
      "metadata": {
        "id": "8T_EkTgGODtF"
      }
    },
    {
      "cell_type": "markdown",
      "source": [
        "---"
      ],
      "metadata": {
        "id": "H4JL8AZnN7Yj"
      }
    }
  ],
  "metadata": {
    "colab": {
      "provenance": [],
      "toc_visible": true,
      "include_colab_link": true
    },
    "kernelspec": {
      "display_name": "Python 3",
      "language": "python",
      "name": "python3"
    },
    "language_info": {
      "codemirror_mode": {
        "name": "ipython",
        "version": 3
      },
      "file_extension": ".py",
      "mimetype": "text/x-python",
      "name": "python",
      "nbconvert_exporter": "python",
      "pygments_lexer": "ipython3",
      "version": "3.7.0"
    },
    "gpuClass": "standard",
    "accelerator": "GPU"
  },
  "nbformat": 4,
  "nbformat_minor": 0
}