{
  "nbformat": 4,
  "nbformat_minor": 0,
  "metadata": {
    "colab": {
      "provenance": [],
      "authorship_tag": "ABX9TyNXNQD9+H+p1UDF8gaku3Je",
      "include_colab_link": true
    },
    "kernelspec": {
      "name": "python3",
      "display_name": "Python 3"
    },
    "language_info": {
      "name": "python"
    }
  },
  "cells": [
    {
      "cell_type": "markdown",
      "metadata": {
        "id": "view-in-github",
        "colab_type": "text"
      },
      "source": [
        "<a href=\"https://colab.research.google.com/github/alouwyck/vives-deep-learning/blob/main/topic4/Chollet_DL_HFST4_no_output.ipynb\" target=\"_parent\"><img src=\"https://colab.research.google.com/assets/colab-badge.svg\" alt=\"Open In Colab\"/></a>"
      ]
    },
    {
      "cell_type": "markdown",
      "metadata": {
        "id": "p34cmLp6FrA6"
      },
      "source": [
        "<img src=\"data:image/png;base64,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\" align=\"right\" /><br>\n",
        "\n",
        "\n",
        "**DEEP LEARNING**<br>\n",
        "Academiejaar 2022-2023<br>\n",
        "Andy Louwyck\n",
        "\n",
        "---\n",
        "\n",
        "\n",
        "\n",
        "---\n",
        "\n"
      ]
    },
    {
      "cell_type": "markdown",
      "metadata": {
        "id": "f991UkXbAgAD"
      },
      "source": [
        "# **4. Getting started with neural networks**"
      ]
    },
    {
      "cell_type": "markdown",
      "metadata": {
        "id": "IRxs4lx2Ap12"
      },
      "source": [
        "Hoofdstuk 4 uit het boek \"Deep Learning with Python\" (2e editie) van François Chollet"
      ]
    },
    {
      "cell_type": "markdown",
      "metadata": {
        "id": "pSNgPRpiA4Xn"
      },
      "source": [
        "- Classifying movie reviews:\n",
        "  - Binaire classificatie\n",
        "  - IMDB dataset\n",
        "- Classifying newswires:\n",
        "  - Multi-class classificatie\n",
        "  - Reuters dataset\n",
        "- Predicting house prices:\n",
        "  - Regressie\n",
        "  - Boston Housing Prices dataset"
      ]
    },
    {
      "cell_type": "markdown",
      "metadata": {
        "id": "ih7vArEHB2ev"
      },
      "source": [
        "##  4.1. Classifying movie reviews: A binary classification example"
      ]
    },
    {
      "cell_type": "markdown",
      "metadata": {
        "id": "xljvGij3CpjJ"
      },
      "source": [
        "- Binaire classificatie: 2 klassen\n",
        "- Hier: is de review van een film positief of negatief?"
      ]
    },
    {
      "cell_type": "markdown",
      "metadata": {
        "id": "_ZNU5CAYB-Ns"
      },
      "source": [
        "### 4.1.1. The IMDB dataset"
      ]
    },
    {
      "cell_type": "markdown",
      "metadata": {
        "id": "chwv_22eCTeI"
      },
      "source": [
        "- https://www.imdb.com/\n",
        "- 50.000 reviews:\n",
        "  - 50% positief, 50% negatief = gebalanceerde dataset!\n",
        "  - 25.000 training, 25.000 testing\n"
      ]
    },
    {
      "cell_type": "code",
      "metadata": {
        "id": "J4Q4lA4qApAu"
      },
      "source": [
        "from tensorflow.keras.datasets import imdb  # beschikbaar in Keras!"
      ],
      "execution_count": null,
      "outputs": []
    },
    {
      "cell_type": "code",
      "metadata": {
        "id": "h5dOUjbqC9pT",
        "colab": {
          "base_uri": "https://localhost:8080/"
        },
        "outputId": "50cc71a1-c47a-4501-9dbb-6cb484c701cf"
      },
      "source": [
        "# load_data functie retourneert tuple van 2 tuples met telkens 2 elementen: data en labels\n",
        "# num_words beperkt de bag of words tot de 10.000 meest voorkomende woorden\n",
        "\n",
        "num_words = 10_000\n",
        "(train_data, train_labels), (test_data, test_labels) = imdb.load_data(num_words=num_words)"
      ],
      "execution_count": null,
      "outputs": [
        {
          "output_type": "stream",
          "name": "stdout",
          "text": [
            "Downloading data from https://storage.googleapis.com/tensorflow/tf-keras-datasets/imdb.npz\n",
            "17464789/17464789 [==============================] - 0s 0us/step\n"
          ]
        }
      ]
    },
    {
      "cell_type": "code",
      "metadata": {
        "id": "hnW1U6lhDFYM",
        "colab": {
          "base_uri": "https://localhost:8080/"
        },
        "outputId": "ac883c66-65f9-4d29-df76-8b11244bc1fd"
      },
      "source": [
        "# elke sample is een review\n",
        "# elke sample bestaat uit een list met indices van de woorden uit de review\n",
        "train_data[0][:10]  # eerste 10 woorden uit de eerste review"
      ],
      "execution_count": null,
      "outputs": [
        {
          "output_type": "execute_result",
          "data": {
            "text/plain": [
              "[1, 14, 22, 16, 43, 530, 973, 1622, 1385, 65]"
            ]
          },
          "metadata": {},
          "execution_count": 3
        }
      ]
    },
    {
      "cell_type": "code",
      "metadata": {
        "id": "ihFFLdh7D91z",
        "colab": {
          "base_uri": "https://localhost:8080/"
        },
        "outputId": "22716cf7-0cc5-40fb-b265-28ebae86cb6e"
      },
      "source": [
        "# label = 1: positieve review\n",
        "# label = 0: negatieve review\n",
        "train_labels[0]"
      ],
      "execution_count": null,
      "outputs": [
        {
          "output_type": "execute_result",
          "data": {
            "text/plain": [
              "1"
            ]
          },
          "metadata": {},
          "execution_count": 4
        }
      ]
    },
    {
      "cell_type": "code",
      "metadata": {
        "id": "fexiAp2XEPm8",
        "colab": {
          "base_uri": "https://localhost:8080/"
        },
        "outputId": "7c438c30-ce1b-4dc2-929e-9d6018eaabf4"
      },
      "source": [
        "# 10.000 woorden in de bag of words -> maximale index is 9999!\n",
        "print(max([max(review) for review in train_data]))  # list comprehension\n",
        "print(max([max(review) for review in test_data]))"
      ],
      "execution_count": null,
      "outputs": [
        {
          "output_type": "stream",
          "name": "stdout",
          "text": [
            "9999\n",
            "9999\n"
          ]
        }
      ]
    },
    {
      "cell_type": "code",
      "metadata": {
        "id": "5A7xIEVkEgAZ",
        "colab": {
          "base_uri": "https://localhost:8080/",
          "height": 191
        },
        "outputId": "7b0895ff-3477-4483-9d62-39e4b12d0c7c"
      },
      "source": [
        "# indices omzetten naar woorden\n",
        "word_index = imdb.get_word_index()  # dict {word=index}\n",
        "reverse_word_index = {index: value for value, index in word_index.items()} # we willen dict {index=word}\n",
        "\" \".join([reverse_word_index[i] for i in train_data[0]])"
      ],
      "execution_count": null,
      "outputs": [
        {
          "output_type": "stream",
          "name": "stdout",
          "text": [
            "Downloading data from https://storage.googleapis.com/tensorflow/tf-keras-datasets/imdb_word_index.json\n",
            "1641221/1641221 [==============================] - 0s 0us/step\n"
          ]
        },
        {
          "output_type": "execute_result",
          "data": {
            "text/plain": [
              "\"the as you with out themselves powerful lets loves their becomes reaching had journalist of lot from anyone to have after out atmosphere never more room and it so heart shows to years of every never going and help moments or of every chest visual movie except her was several of enough more with is now current film as you of mine potentially unfortunately of you than him that with out themselves her get for was camp of you movie sometimes movie that with scary but and to story wonderful that in seeing in character to of 70s musicians with heart had shadows they of here that with her serious to have does when from why what have critics they is you that isn't one will very to as itself with other and in of seen over landed for anyone of and br show's to whether from than out themselves history he name half some br of and odd was two most of mean for 1 any an boat she he should is thought frog but of script you not while history he heart to real at barrel but when from one bit then have two of script their with her nobody most that with wasn't to with armed acting watch an for with heartfelt film want an\""
            ],
            "application/vnd.google.colaboratory.intrinsic+json": {
              "type": "string"
            }
          },
          "metadata": {},
          "execution_count": 6
        }
      ]
    },
    {
      "cell_type": "markdown",
      "metadata": {
        "id": "qsSnq8QRGfcf"
      },
      "source": [
        "### 4.1.2. Preparing the data"
      ]
    },
    {
      "cell_type": "markdown",
      "metadata": {
        "id": "_8OXLCjoHM5f"
      },
      "source": [
        "Probleem: samples hebben niet dezelfde lengte, want elke review heeft verschillend aantal woorden\n",
        "\n",
        "Hoe de lists met indices even lang maken?\n",
        "- **Padding**: nullen toevoegen --> integer tensor (num_samples, max_length) --> Embedding layer\n",
        "- **Multi-Hot Enconding**: boolean tensor (num_samples, num_words) --> Dense layer"
      ]
    },
    {
      "cell_type": "code",
      "metadata": {
        "id": "0ZAIVGezFFBJ"
      },
      "source": [
        "# Multi-hot encoding\n",
        "import numpy as np\n",
        "\n",
        "def vectorize(data):\n",
        "    x = np.zeros((len(data), num_words))\n",
        "    for i, review in enumerate(data):\n",
        "        x[i, review] = 1.\n",
        "    return x\n",
        "\n",
        "x_train = vectorize(train_data)\n",
        "x_test = vectorize(test_data)"
      ],
      "execution_count": null,
      "outputs": []
    },
    {
      "cell_type": "code",
      "metadata": {
        "id": "X40K8kR5JiX3"
      },
      "source": [
        "# labels omzetten naar numpy array van type float32\n",
        "y_train = np.asarray(train_labels).astype(\"float32\")\n",
        "y_test = np.asarray(test_labels).astype(\"float32\")"
      ],
      "execution_count": null,
      "outputs": []
    },
    {
      "cell_type": "markdown",
      "metadata": {
        "id": "eSEGpILmK-EM"
      },
      "source": [
        "### 4.1.3. Building your model"
      ]
    },
    {
      "cell_type": "markdown",
      "metadata": {
        "id": "9bahoHbXLYbn"
      },
      "source": [
        "![image.png](data:image/png;base64,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)"
      ]
    },
    {
      "cell_type": "markdown",
      "metadata": {
        "id": "3xn6U-x8Lqmd"
      },
      "source": [
        "- Tussenlagen: RELU activatiefunctie\n",
        "- Outputlaag: Sigmoïde activatiefunctie"
      ]
    },
    {
      "cell_type": "markdown",
      "metadata": {
        "id": "wAcPRGZpNEMF"
      },
      "source": [
        "![image.png](data:image/png;base64,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)"
      ]
    },
    {
      "cell_type": "markdown",
      "metadata": {
        "id": "WYqerI63NLxp"
      },
      "source": [
        "![image.png](data:image/png;base64,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)"
      ]
    },
    {
      "cell_type": "markdown",
      "metadata": {
        "id": "LNREqj-kNP5m"
      },
      "source": [
        "**Activatiefuncties?**\n",
        "- zie cursus Machine Learning Fundamentals\n",
        "- boek pag 100-101"
      ]
    },
    {
      "cell_type": "markdown",
      "metadata": {
        "id": "nSkIWdEfNzPu"
      },
      "source": [
        "**Loss functie?**\n",
        "- binaire classificatie: `binary_crossentropy`\n",
        "- nog andere mogelijkheden, bv. `mean_squared_error`\n",
        "- zie cursus Machine Learning Fundamentals"
      ]
    },
    {
      "cell_type": "markdown",
      "metadata": {
        "id": "PlxSA48uOGCe"
      },
      "source": [
        "**Optimizer?**\n",
        "- `rmsprop`\n",
        "- variant op Stochastic Gradient descent\n",
        "- goeie keuze ongeacht het probleem..."
      ]
    },
    {
      "cell_type": "markdown",
      "metadata": {
        "id": "qemA5-QoPDvK"
      },
      "source": [
        "**Evaluatiemetriek?**\n",
        "- nauwkeurigheid (accuracy)\n",
        "- zie cursus Machine Learning Fundamentals"
      ]
    },
    {
      "cell_type": "code",
      "metadata": {
        "id": "5SX9-o-3K8zK"
      },
      "source": [
        "# model definiëren\n",
        "\n",
        "from tensorflow import keras\n",
        "from tensorflow.keras import layers\n",
        "\n",
        "model = keras.Sequential([\n",
        "    layers.Dense(16, activation='relu'),\n",
        "    layers.Dense(16, activation='relu'),\n",
        "    layers.Dense(1, activation='sigmoid'),\n",
        "])"
      ],
      "execution_count": null,
      "outputs": []
    },
    {
      "cell_type": "code",
      "metadata": {
        "id": "l_7GR4vqO0cP"
      },
      "source": [
        "# model compileren\n",
        "\n",
        "model.compile(\n",
        "    optimizer=\"rmsprop\",\n",
        "    loss=\"binary_crossentropy\",\n",
        "    metrics=[\"accuracy\"]\n",
        ")"
      ],
      "execution_count": null,
      "outputs": []
    },
    {
      "cell_type": "markdown",
      "metadata": {
        "id": "xzsgXz_ARH9E"
      },
      "source": [
        "### 4.1.4. Validating your approach"
      ]
    },
    {
      "cell_type": "markdown",
      "metadata": {
        "id": "hPo-4B8WSdHa"
      },
      "source": [
        "- training dataset: aanpassen van gewichten/parameters door het algoritme\n",
        "- validatie dataset: aanpassen hyperparameters door gebruiker + checken of er geen ovefitting is\n",
        "- test dataset: finale evaluatie door gebruiker op data die niet tijdens het trainen zijn gebruikt"
      ]
    },
    {
      "cell_type": "code",
      "metadata": {
        "id": "26w1waXtRiFg"
      },
      "source": [
        "# 10.000 samples uit trainingset opzij zetten voor validatie\n",
        "\n",
        "n = 10_000\n",
        "x_val = x_train[:n]\n",
        "partial_x_train = x_train[n:]\n",
        "y_val = y_train[:n]\n",
        "partial_y_train = y_train[n:]"
      ],
      "execution_count": null,
      "outputs": []
    },
    {
      "cell_type": "code",
      "metadata": {
        "id": "PL1gM3dbTBCf",
        "colab": {
          "base_uri": "https://localhost:8080/"
        },
        "outputId": "8b0e3d64-2e21-4d29-d803-05143ab6eac9"
      },
      "source": [
        "# model trainen\n",
        "\n",
        "result = model.fit(\n",
        "    partial_x_train,  # samples\n",
        "    partial_y_train,  # labels\n",
        "    epochs=20,        # aantal keren dat trainingset wordt doorlopen\n",
        "    batch_size=512,   # batch = aantal samples dat samen wordt genomen\n",
        "    validation_data=(x_val, y_val)  # validatieset\n",
        ")"
      ],
      "execution_count": null,
      "outputs": [
        {
          "output_type": "stream",
          "name": "stdout",
          "text": [
            "Epoch 1/20\n",
            "30/30 [==============================] - 3s 64ms/step - loss: 0.5191 - accuracy: 0.7802 - val_loss: 0.3996 - val_accuracy: 0.8563\n",
            "Epoch 2/20\n",
            "30/30 [==============================] - 1s 40ms/step - loss: 0.3065 - accuracy: 0.9013 - val_loss: 0.3022 - val_accuracy: 0.8892\n",
            "Epoch 3/20\n",
            "30/30 [==============================] - 1s 39ms/step - loss: 0.2230 - accuracy: 0.9275 - val_loss: 0.2936 - val_accuracy: 0.8818\n",
            "Epoch 4/20\n",
            "30/30 [==============================] - 1s 39ms/step - loss: 0.1747 - accuracy: 0.9441 - val_loss: 0.2788 - val_accuracy: 0.8882\n",
            "Epoch 5/20\n",
            "30/30 [==============================] - 1s 42ms/step - loss: 0.1422 - accuracy: 0.9546 - val_loss: 0.2819 - val_accuracy: 0.8878\n",
            "Epoch 6/20\n",
            "30/30 [==============================] - 1s 40ms/step - loss: 0.1161 - accuracy: 0.9651 - val_loss: 0.2921 - val_accuracy: 0.8870\n",
            "Epoch 7/20\n",
            "30/30 [==============================] - 1s 41ms/step - loss: 0.0961 - accuracy: 0.9732 - val_loss: 0.3166 - val_accuracy: 0.8816\n",
            "Epoch 8/20\n",
            "30/30 [==============================] - 1s 40ms/step - loss: 0.0770 - accuracy: 0.9790 - val_loss: 0.3555 - val_accuracy: 0.8750\n",
            "Epoch 9/20\n",
            "30/30 [==============================] - 1s 39ms/step - loss: 0.0624 - accuracy: 0.9850 - val_loss: 0.3813 - val_accuracy: 0.8724\n",
            "Epoch 10/20\n",
            "30/30 [==============================] - 1s 40ms/step - loss: 0.0534 - accuracy: 0.9863 - val_loss: 0.3735 - val_accuracy: 0.8799\n",
            "Epoch 11/20\n",
            "30/30 [==============================] - 1s 41ms/step - loss: 0.0398 - accuracy: 0.9923 - val_loss: 0.4025 - val_accuracy: 0.8754\n",
            "Epoch 12/20\n",
            "30/30 [==============================] - 1s 40ms/step - loss: 0.0344 - accuracy: 0.9927 - val_loss: 0.4282 - val_accuracy: 0.8752\n",
            "Epoch 13/20\n",
            "30/30 [==============================] - 1s 40ms/step - loss: 0.0249 - accuracy: 0.9964 - val_loss: 0.4691 - val_accuracy: 0.8690\n",
            "Epoch 14/20\n",
            "30/30 [==============================] - 1s 40ms/step - loss: 0.0204 - accuracy: 0.9975 - val_loss: 0.4879 - val_accuracy: 0.8734\n",
            "Epoch 15/20\n",
            "30/30 [==============================] - 1s 41ms/step - loss: 0.0165 - accuracy: 0.9981 - val_loss: 0.5193 - val_accuracy: 0.8702\n",
            "Epoch 16/20\n",
            "30/30 [==============================] - 1s 40ms/step - loss: 0.0121 - accuracy: 0.9985 - val_loss: 0.5535 - val_accuracy: 0.8673\n",
            "Epoch 17/20\n",
            "30/30 [==============================] - 1s 40ms/step - loss: 0.0076 - accuracy: 0.9995 - val_loss: 0.6188 - val_accuracy: 0.8657\n",
            "Epoch 18/20\n",
            "30/30 [==============================] - 1s 41ms/step - loss: 0.0078 - accuracy: 0.9989 - val_loss: 0.6318 - val_accuracy: 0.8659\n",
            "Epoch 19/20\n",
            "30/30 [==============================] - 1s 41ms/step - loss: 0.0035 - accuracy: 0.9999 - val_loss: 0.6578 - val_accuracy: 0.8656\n",
            "Epoch 20/20\n",
            "30/30 [==============================] - 1s 40ms/step - loss: 0.0069 - accuracy: 0.9983 - val_loss: 0.6894 - val_accuracy: 0.8668\n"
          ]
        }
      ]
    },
    {
      "cell_type": "code",
      "metadata": {
        "id": "0ZWIwyIKTcFD",
        "colab": {
          "base_uri": "https://localhost:8080/"
        },
        "outputId": "daefeadc-bbc1-48ee-9a2b-9b2d1fb3170f"
      },
      "source": [
        "result.history.keys()"
      ],
      "execution_count": null,
      "outputs": [
        {
          "output_type": "execute_result",
          "data": {
            "text/plain": [
              "dict_keys(['loss', 'accuracy', 'val_loss', 'val_accuracy'])"
            ]
          },
          "metadata": {},
          "execution_count": 22
        }
      ]
    },
    {
      "cell_type": "code",
      "metadata": {
        "id": "KDgzrfyjTrgD",
        "colab": {
          "base_uri": "https://localhost:8080/",
          "height": 295
        },
        "outputId": "42ed4e69-6b5f-48c2-92c9-11ef5d5ca7ef"
      },
      "source": [
        "# loss-functie plotten\n",
        "\n",
        "import matplotlib.pyplot as plt\n",
        "\n",
        "history_dict = result.history\n",
        "loss_values = history_dict[\"loss\"]\n",
        "val_loss_values = history_dict[\"val_loss\"]\n",
        "epochs = range(1, len(loss_values) + 1)\n",
        "plt.plot(epochs, loss_values, \"bo\", label=\"Training loss\")\n",
        "plt.plot(epochs, val_loss_values, \"b\", label=\"Validation loss\")\n",
        "plt.title(\"Training and validation loss\")\n",
        "plt.xlabel(\"Epochs\")\n",
        "plt.ylabel(\"Loss\")\n",
        "plt.legend();"
      ],
      "execution_count": null,
      "outputs": [
        {
          "output_type": "display_data",
          "data": {
            "text/plain": [
              "<Figure size 432x288 with 1 Axes>"
            ],
            "image/png": "[encoded data removed]"
          },
          "metadata": {
            "needs_background": "light"
          }
        }
      ]
    },
    {
      "cell_type": "code",
      "metadata": {
        "id": "nH87R8NGT7p5",
        "colab": {
          "base_uri": "https://localhost:8080/",
          "height": 295
        },
        "outputId": "b658b9b4-5193-4f4e-db92-6f096ef93f86"
      },
      "source": [
        "# nauwkeurighied plotten\n",
        "\n",
        "acc = history_dict[\"accuracy\"]\n",
        "val_acc = history_dict[\"val_accuracy\"]\n",
        "plt.plot(epochs, acc, \"bo\", label=\"Training acc\")\n",
        "plt.plot(epochs, val_acc, \"b\", label=\"Validation acc\")\n",
        "plt.title(\"Training and validation accuracy\")\n",
        "plt.xlabel(\"Epochs\")\n",
        "plt.ylabel(\"Accuracy\")\n",
        "plt.legend();"
      ],
      "execution_count": null,
      "outputs": [
        {
          "output_type": "display_data",
          "data": {
            "text/plain": [
              "<Figure size 432x288 with 1 Axes>"
            ],
            "image/png": "[encoded data removed]"
          },
          "metadata": {
            "needs_background": "light"
          }
        }
      ]
    },
    {
      "cell_type": "markdown",
      "metadata": {
        "id": "w4c8tDiSUkIi"
      },
      "source": [
        "Conclusie: **OVERFITTING!!**\n",
        "\n",
        "=> opnieuw trainen:\n",
        "\n",
        "- Training stoppen na 4 epochs (omdat vanaf dan de validation loss weer stijgt...)\n",
        "- We hoeven niet meer te valideren, dus we gebruiken de volledige training dataset!\n",
        "- We doen een finale evaluatie op de testset"
      ]
    },
    {
      "cell_type": "code",
      "metadata": {
        "id": "rQPxPw0-UChW",
        "colab": {
          "base_uri": "https://localhost:8080/"
        },
        "outputId": "dbc49acb-eff3-41ec-facc-66cf1755bc8b"
      },
      "source": [
        "# hertrainen model \"from scratch\"\n",
        "\n",
        "# build\n",
        "model = keras.Sequential([\n",
        "    layers.Dense(16, activation='relu'),\n",
        "    layers.Dense(16, activation='relu'),\n",
        "    layers.Dense(1, activation='sigmoid'),\n",
        "])\n",
        "\n",
        "# compile\n",
        "model.compile(\n",
        "    optimizer=\"rmsprop\",\n",
        "    loss=\"binary_crossentropy\",\n",
        "    metrics=[\"accuracy\"]\n",
        ")\n",
        "\n",
        "# fit\n",
        "result = model.fit(\n",
        "    x_train,   # we nemen de volledige trainingset!\n",
        "    y_train,\n",
        "    epochs=4,  # 4 ipv 20!!\n",
        "    batch_size=512,\n",
        ")"
      ],
      "execution_count": null,
      "outputs": [
        {
          "output_type": "stream",
          "name": "stdout",
          "text": [
            "Epoch 1/4\n",
            "49/49 [==============================] - 2s 31ms/step - loss: 0.4962 - accuracy: 0.8017\n",
            "Epoch 2/4\n",
            "49/49 [==============================] - 2s 32ms/step - loss: 0.2924 - accuracy: 0.9042\n",
            "Epoch 3/4\n",
            "49/49 [==============================] - 2s 32ms/step - loss: 0.2200 - accuracy: 0.9222\n",
            "Epoch 4/4\n",
            "49/49 [==============================] - 2s 31ms/step - loss: 0.1819 - accuracy: 0.9367\n"
          ]
        }
      ]
    },
    {
      "cell_type": "code",
      "metadata": {
        "id": "3eaYeZT9WMJi",
        "colab": {
          "base_uri": "https://localhost:8080/"
        },
        "outputId": "b92d02e6-283d-4ef9-bd9e-60a9078bccfe"
      },
      "source": [
        "# test\n",
        "model.evaluate(x_test, y_test)  # retourneert [loss, acc]"
      ],
      "execution_count": null,
      "outputs": [
        {
          "output_type": "stream",
          "name": "stdout",
          "text": [
            "782/782 [==============================] - 2s 3ms/step - loss: 0.2821 - accuracy: 0.8884\n"
          ]
        },
        {
          "output_type": "execute_result",
          "data": {
            "text/plain": [
              "[0.2821335792541504, 0.8884400129318237]"
            ]
          },
          "metadata": {},
          "execution_count": 26
        }
      ]
    },
    {
      "cell_type": "markdown",
      "metadata": {
        "id": "3a2JH7okXoQt"
      },
      "source": [
        "Niet bijster goed! State-of-the-art benadering nodig om 95% nauwkeurigheid te halen!"
      ]
    },
    {
      "cell_type": "markdown",
      "metadata": {
        "id": "nNWoHj-WXy0_"
      },
      "source": [
        "### 4.1.5. Using a trained model te generate predictions on new data"
      ]
    },
    {
      "cell_type": "code",
      "metadata": {
        "id": "x97ul33aXIcV",
        "colab": {
          "base_uri": "https://localhost:8080/"
        },
        "outputId": "d06d23eb-8c10-4664-a6bc-46900bf2152f"
      },
      "source": [
        "# voorspelling maken met nieuwe data\n",
        "predictions = model.predict(x_test)  # geeft voor elke sample de kans dat review positief is\n",
        "predictions"
      ],
      "execution_count": null,
      "outputs": [
        {
          "output_type": "stream",
          "name": "stdout",
          "text": [
            "782/782 [==============================] - 3s 3ms/step\n"
          ]
        },
        {
          "output_type": "execute_result",
          "data": {
            "text/plain": [
              "array([[0.23031431],\n",
              "       [0.9973652 ],\n",
              "       [0.9679569 ],\n",
              "       ...,\n",
              "       [0.12519123],\n",
              "       [0.06816528],\n",
              "       [0.57253855]], dtype=float32)"
            ]
          },
          "metadata": {},
          "execution_count": 27
        }
      ]
    },
    {
      "cell_type": "code",
      "metadata": {
        "id": "LT0toeIiZSFB",
        "colab": {
          "base_uri": "https://localhost:8080/"
        },
        "outputId": "1bcd865c-fe0d-4369-f519-f29bcba16ea3"
      },
      "source": [
        "# labels: 0 (=negatief) of 1 (=positief)\n",
        "y_pred = np.round(predictions)  # afronden\n",
        "y_pred"
      ],
      "execution_count": null,
      "outputs": [
        {
          "output_type": "execute_result",
          "data": {
            "text/plain": [
              "array([[0.],\n",
              "       [1.],\n",
              "       [1.],\n",
              "       ...,\n",
              "       [0.],\n",
              "       [0.],\n",
              "       [1.]], dtype=float32)"
            ]
          },
          "metadata": {},
          "execution_count": 28
        }
      ]
    },
    {
      "cell_type": "code",
      "metadata": {
        "id": "nO9wOmu9Uhp3",
        "colab": {
          "base_uri": "https://localhost:8080/"
        },
        "outputId": "1a6c3ef7-6bdf-4b56-9dde-978f5cc9de70"
      },
      "source": [
        "# confusion matrix\n",
        "from sklearn.metrics import confusion_matrix\n",
        "\n",
        "confusion_matrix(y_true=y_test, y_pred=y_pred)"
      ],
      "execution_count": null,
      "outputs": [
        {
          "output_type": "execute_result",
          "data": {
            "text/plain": [
              "array([[11015,  1485],\n",
              "       [ 1304, 11196]])"
            ]
          },
          "metadata": {},
          "execution_count": 29
        }
      ]
    },
    {
      "cell_type": "code",
      "metadata": {
        "id": "aaQ-ZwbmVauW",
        "colab": {
          "base_uri": "https://localhost:8080/"
        },
        "outputId": "30d1ad57-9ac6-497d-c544-fbbe612e7235"
      },
      "source": [
        "confusion_matrix(y_true=y_test, y_pred=y_pred).sum()"
      ],
      "execution_count": null,
      "outputs": [
        {
          "output_type": "execute_result",
          "data": {
            "text/plain": [
              "25000"
            ]
          },
          "metadata": {},
          "execution_count": 30
        }
      ]
    },
    {
      "cell_type": "code",
      "metadata": {
        "id": "iMB7FF3yVUOk",
        "colab": {
          "base_uri": "https://localhost:8080/"
        },
        "outputId": "a2059966-9050-4743-8980-f1185f1786f3"
      },
      "source": [
        "confusion_matrix(y_true=y_test, y_pred=y_pred, labels=[0, 1], normalize='true')"
      ],
      "execution_count": null,
      "outputs": [
        {
          "output_type": "execute_result",
          "data": {
            "text/plain": [
              "array([[0.8812 , 0.1188 ],\n",
              "       [0.10432, 0.89568]])"
            ]
          },
          "metadata": {},
          "execution_count": 31
        }
      ]
    },
    {
      "cell_type": "code",
      "metadata": {
        "id": "S9I3QkHvV1g6",
        "colab": {
          "base_uri": "https://localhost:8080/"
        },
        "outputId": "ef1e6d38-ebf8-4563-bb06-b42aa8ca5a15"
      },
      "source": [
        "# true negatives, false positives, false negatives, true positives\n",
        "tn, fp, fn, tp = confusion_matrix(y_true=y_test, y_pred=y_pred).ravel()\n",
        "tn, fp, fn, tp"
      ],
      "execution_count": null,
      "outputs": [
        {
          "output_type": "execute_result",
          "data": {
            "text/plain": [
              "(11015, 1485, 1304, 11196)"
            ]
          },
          "metadata": {},
          "execution_count": 32
        }
      ]
    },
    {
      "cell_type": "markdown",
      "metadata": {
        "id": "qtWfCdIbZoUp"
      },
      "source": [
        "### 4.1.6. Further experiments"
      ]
    },
    {
      "cell_type": "markdown",
      "metadata": {
        "id": "B7ISpT9tZsA9"
      },
      "source": [
        "- boek pag 105 (onderaan)\n",
        "- zelf uitproberen!"
      ]
    },
    {
      "cell_type": "markdown",
      "metadata": {
        "id": "HgszRsOeZzOq"
      },
      "source": [
        "## 4.2. Classifying newswires: A multiclass classification example"
      ]
    },
    {
      "cell_type": "markdown",
      "metadata": {
        "id": "RdRfH4SA7cKe"
      },
      "source": [
        "Multiclass classificatie: meer dan 2 klassen\n",
        "\n",
        "- klassen zijn disjunct (= mutueel exclusief): elke sample behoort tot juist 1 klasse = **SINGLE-label multiclass classification**\n",
        "- klassen \"overlappen\": elke sample kan tot meerdere klassen behoren = **MULTIlabel multiclass classification**"
      ]
    },
    {
      "cell_type": "markdown",
      "metadata": {
        "id": "FH2ROKFY8cuM"
      },
      "source": [
        "Hier: elk nieuwsitem uit de Reuters dataset onderbrengen in 1 van 46 mogelijke topics (=single-label multiclass classificatie)"
      ]
    },
    {
      "cell_type": "markdown",
      "metadata": {
        "id": "unPdX1nk9Np-"
      },
      "source": [
        "### 4.2.1. The Reuters dataset"
      ]
    },
    {
      "cell_type": "markdown",
      "metadata": {
        "id": "oVQLYBbT9Sxj"
      },
      "source": [
        "- Reuters is een internationale nieuwsdienst: https://www.reuters.com/\n",
        "- nieuwsitems uit 1986\n",
        "  - 46 topics, elk topic heeft minstens 10 examples in de dataset\n",
        "  - 8982 examples in de training dataset\n",
        "  - 2246 examples in de test dataset\n",
        "  "
      ]
    },
    {
      "cell_type": "code",
      "metadata": {
        "id": "wDjcELqE-PE0"
      },
      "source": [
        "from tensorflow.keras.datasets import reuters  # beschikbaar in Keras!"
      ],
      "execution_count": null,
      "outputs": []
    },
    {
      "cell_type": "code",
      "metadata": {
        "id": "0yv2TTNdZgfW",
        "colab": {
          "base_uri": "https://localhost:8080/"
        },
        "outputId": "a87a61de-2c4a-441d-c444-991dc52091d4"
      },
      "source": [
        "# load_data functie retourneert tuple van 2 tuples met telkens 2 elementen: data en labels\n",
        "# num_words beperkt de bag of words tot de 10.000 meest voorkomende woorden\n",
        "\n",
        "num_words = 10_000\n",
        "(train_data, train_labels), (test_data, test_labels) = reuters.load_data(num_words=num_words)"
      ],
      "execution_count": null,
      "outputs": [
        {
          "output_type": "stream",
          "name": "stdout",
          "text": [
            "Downloading data from https://storage.googleapis.com/tensorflow/tf-keras-datasets/reuters.npz\n",
            "2110848/2110848 [==============================] - 0s 0us/step\n"
          ]
        }
      ]
    },
    {
      "cell_type": "code",
      "metadata": {
        "id": "0Lssg02U-HbU",
        "colab": {
          "base_uri": "https://localhost:8080/"
        },
        "outputId": "4e149237-de5f-45c4-f37b-112c32ef791d"
      },
      "source": [
        "# check aantal samples\n",
        "print(len(train_data))\n",
        "print(len(test_data))"
      ],
      "execution_count": null,
      "outputs": [
        {
          "output_type": "stream",
          "name": "stdout",
          "text": [
            "8982\n",
            "2246\n"
          ]
        }
      ]
    },
    {
      "cell_type": "code",
      "metadata": {
        "id": "iuCrpuxU-cND",
        "colab": {
          "base_uri": "https://localhost:8080/"
        },
        "outputId": "62fca2ed-4a02-46cb-fc4b-cc04e7e58741"
      },
      "source": [
        "# cfr IMDB dataset: elke sample is een list van integers (= woord indices)\n",
        "train_data[10][:5]  # eerste 5 indices van 11e example (= nieuwsitem)"
      ],
      "execution_count": null,
      "outputs": [
        {
          "output_type": "execute_result",
          "data": {
            "text/plain": [
              "[1, 245, 273, 207, 156]"
            ]
          },
          "metadata": {},
          "execution_count": 36
        }
      ]
    },
    {
      "cell_type": "code",
      "metadata": {
        "id": "bHC2KVWi-oRQ",
        "colab": {
          "base_uri": "https://localhost:8080/"
        },
        "outputId": "597bdb04-d1f0-4508-8a74-bcb69cf730d2"
      },
      "source": [
        "# label geeft de klasse (= topic)\n",
        "train_labels[10]  # geeft de index, zoek via internet de overeenkomstige topic op!"
      ],
      "execution_count": null,
      "outputs": [
        {
          "output_type": "execute_result",
          "data": {
            "text/plain": [
              "3"
            ]
          },
          "metadata": {},
          "execution_count": 37
        }
      ]
    },
    {
      "cell_type": "code",
      "metadata": {
        "id": "Wm4GQjlz-9KS",
        "colab": {
          "base_uri": "https://localhost:8080/"
        },
        "outputId": "3b4f918d-0d86-42a4-8033-c4ff04106c48"
      },
      "source": [
        "# cfr IMDB dataset: 10.000 woorden in de bag of words -> maximale index is 9999!\n",
        "print(max([max(item) for item in train_data]))  # list comprehension\n",
        "print(max([max(item) for item in test_data]))"
      ],
      "execution_count": null,
      "outputs": [
        {
          "output_type": "stream",
          "name": "stdout",
          "text": [
            "9999\n",
            "9999\n"
          ]
        }
      ]
    },
    {
      "cell_type": "code",
      "metadata": {
        "id": "bLE_9Rd3Blig",
        "colab": {
          "base_uri": "https://localhost:8080/"
        },
        "outputId": "447d0cef-ce8b-4895-ca5c-95e96af39ab1"
      },
      "source": [
        "# 46 klassen -> maximale index in labels is 45!\n",
        "print(max(train_labels))\n",
        "print(max(test_labels))"
      ],
      "execution_count": null,
      "outputs": [
        {
          "output_type": "stream",
          "name": "stdout",
          "text": [
            "45\n",
            "45\n"
          ]
        }
      ]
    },
    {
      "cell_type": "code",
      "metadata": {
        "id": "DiIRWkIq_FOE",
        "colab": {
          "base_uri": "https://localhost:8080/",
          "height": 87
        },
        "outputId": "996aa079-84f2-4fd1-d991-87a333b420c8"
      },
      "source": [
        "# cfr IMDB dataset: indices omzetten naar woorden\n",
        "word_index = reuters.get_word_index()  # dict {word=index}\n",
        "reverse_word_index = {index: value for value, index in word_index.items()} # we willen dict {index=word}\n",
        "\" \".join([reverse_word_index[i] for i in train_data[10]])"
      ],
      "execution_count": null,
      "outputs": [
        {
          "output_type": "stream",
          "name": "stdout",
          "text": [
            "Downloading data from https://storage.googleapis.com/tensorflow/tf-keras-datasets/reuters_word_index.json\n",
            "550378/550378 [==============================] - 0s 0us/step\n"
          ]
        },
        {
          "output_type": "execute_result",
          "data": {
            "text/plain": [
              "'the federal gain only growth lt they meeting year reuter company did year an they ground edouard reuter company 608 653 1987 had autumn objectives reuter had profits 653 pct dlrs'"
            ],
            "application/vnd.google.colaboratory.intrinsic+json": {
              "type": "string"
            }
          },
          "metadata": {},
          "execution_count": 40
        }
      ]
    },
    {
      "cell_type": "markdown",
      "metadata": {
        "id": "2ICf__5y_2ys"
      },
      "source": [
        "### 4.2.2. Preparing the data"
      ]
    },
    {
      "cell_type": "markdown",
      "metadata": {
        "id": "qMXw3jgGAfXy"
      },
      "source": [
        "Training examples:"
      ]
    },
    {
      "cell_type": "code",
      "metadata": {
        "id": "BER_O1B5_y8O"
      },
      "source": [
        "# Cfr IMDB dataset: Multi-hot encoding\n",
        "import numpy as np\n",
        "\n",
        "def vectorize(data):\n",
        "    x = np.zeros((len(data), num_words))\n",
        "    for i, review in enumerate(data):\n",
        "        x[i, review] = 1.\n",
        "    return x\n",
        "\n",
        "x_train = vectorize(train_data)\n",
        "x_test = vectorize(test_data)"
      ],
      "execution_count": null,
      "outputs": []
    },
    {
      "cell_type": "markdown",
      "metadata": {
        "id": "Xnah6ejuAjCv"
      },
      "source": [
        "Labels:\n",
        "- **casting**: list -> integer tensor\n",
        "- **one-hot encoding**: zie Machine Learning Fundamentals"
      ]
    },
    {
      "cell_type": "code",
      "metadata": {
        "id": "y2yONBvEA5Mf"
      },
      "source": [
        "# One-hot encoding\n",
        "\n",
        "num_classes = 46\n",
        "\n",
        "def to_one_hot(labels):\n",
        "    n = len(labels)\n",
        "    y = np.zeros((n, num_classes))\n",
        "    y[np.arange(n), labels] = 1.0\n",
        "    return y\n",
        "\n",
        "y_train = to_one_hot(train_labels)\n",
        "y_test = to_one_hot(test_labels)"
      ],
      "execution_count": null,
      "outputs": []
    },
    {
      "cell_type": "code",
      "metadata": {
        "id": "NNfcDd8zCIwO"
      },
      "source": [
        "# of built-in functie van Keras gebruiken...\n",
        "from tensorflow.keras.utils import to_categorical\n",
        "\n",
        "y_train = to_categorical(train_labels)\n",
        "y_test = to_categorical(test_labels)"
      ],
      "execution_count": null,
      "outputs": []
    },
    {
      "cell_type": "markdown",
      "metadata": {
        "id": "i9mHIor2ADTj"
      },
      "source": [
        "### 4.2.3. Building your model"
      ]
    },
    {
      "cell_type": "markdown",
      "metadata": {
        "id": "356XlJvDCn9y"
      },
      "source": [
        "Cfr IMDB model... Maar:\n",
        "- Output laag moet nu size 46 hebben ipv 2!\n",
        "- Daarom hebben ook de tussenlagen nu een grotere size, nl. 46\n",
        "- Activatiefunctie van outputlaag is nu `softmax` ipv sigmoïde:\n",
        "  - geeft per example 46 kansen waarvan de som gelijk is aan 1\n",
        "  - zie Machine Learning Fundamentals\n",
        "- Loss functie is nu `categorical_crossentropy` ipv `binary_crossentropy`"
      ]
    },
    {
      "cell_type": "code",
      "metadata": {
        "id": "vpP-YGuuAGJN"
      },
      "source": [
        "from tensorflow import keras\n",
        "from tensorflow.keras import layers\n",
        "\n",
        "\n",
        "# build\n",
        "model = keras.Sequential([\n",
        "    layers.Dense(64, activation=\"relu\"),\n",
        "    layers.Dense(64, activation=\"relu\"),\n",
        "    layers.Dense(46, activation=\"softmax\")  # softmax ipv sigmoid!\n",
        "])\n",
        "\n",
        "# compile\n",
        "model.compile(\n",
        "    optimizer=\"rmsprop\",\n",
        "    loss=\"categorical_crossentropy\",  # categorical ipv binary!\n",
        "    metrics=[\"accuracy\"]\n",
        ")"
      ],
      "execution_count": null,
      "outputs": []
    },
    {
      "cell_type": "markdown",
      "metadata": {
        "id": "toSPmZoTEZ8S"
      },
      "source": [
        "### 4.2.4. Validating your approach"
      ]
    },
    {
      "cell_type": "code",
      "metadata": {
        "id": "Q82lyCycEEMr"
      },
      "source": [
        "# 1000 samples uit trainingset opzij zetten voor validatie\n",
        "\n",
        "n = 1000\n",
        "x_val = x_train[:n]\n",
        "partial_x_train = x_train[n:]\n",
        "y_val = y_train[:n]\n",
        "partial_y_train = y_train[n:]"
      ],
      "execution_count": null,
      "outputs": []
    },
    {
      "cell_type": "code",
      "metadata": {
        "id": "5xu4cmhIElET",
        "colab": {
          "base_uri": "https://localhost:8080/"
        },
        "outputId": "71f24512-2a1e-4c3d-e139-9f55ffa90573"
      },
      "source": [
        "# model trainen\n",
        "\n",
        "result = model.fit(\n",
        "    partial_x_train,\n",
        "    partial_y_train,\n",
        "    epochs=20,\n",
        "    batch_size=512,\n",
        "    validation_data=(x_val, y_val)\n",
        ")"
      ],
      "execution_count": null,
      "outputs": [
        {
          "output_type": "stream",
          "name": "stdout",
          "text": [
            "Epoch 1/20\n",
            "16/16 [==============================] - 3s 124ms/step - loss: 2.6079 - accuracy: 0.5355 - val_loss: 1.7680 - val_accuracy: 0.6490\n",
            "Epoch 2/20\n",
            "16/16 [==============================] - 1s 66ms/step - loss: 1.4282 - accuracy: 0.7022 - val_loss: 1.3297 - val_accuracy: 0.7160\n",
            "Epoch 3/20\n",
            "16/16 [==============================] - 1s 61ms/step - loss: 1.0666 - accuracy: 0.7653 - val_loss: 1.1772 - val_accuracy: 0.7310\n",
            "Epoch 4/20\n",
            "16/16 [==============================] - 1s 61ms/step - loss: 0.8382 - accuracy: 0.8213 - val_loss: 1.0608 - val_accuracy: 0.7730\n",
            "Epoch 5/20\n",
            "16/16 [==============================] - 1s 61ms/step - loss: 0.6647 - accuracy: 0.8666 - val_loss: 0.9795 - val_accuracy: 0.7960\n",
            "Epoch 6/20\n",
            "16/16 [==============================] - 1s 60ms/step - loss: 0.5266 - accuracy: 0.8928 - val_loss: 0.9261 - val_accuracy: 0.8140\n",
            "Epoch 7/20\n",
            "16/16 [==============================] - 1s 61ms/step - loss: 0.4207 - accuracy: 0.9136 - val_loss: 0.9257 - val_accuracy: 0.8020\n",
            "Epoch 8/20\n",
            "16/16 [==============================] - 1s 65ms/step - loss: 0.3409 - accuracy: 0.9283 - val_loss: 0.9078 - val_accuracy: 0.8090\n",
            "Epoch 9/20\n",
            "16/16 [==============================] - 1s 62ms/step - loss: 0.2855 - accuracy: 0.9379 - val_loss: 0.9347 - val_accuracy: 0.8000\n",
            "Epoch 10/20\n",
            "16/16 [==============================] - 1s 64ms/step - loss: 0.2377 - accuracy: 0.9459 - val_loss: 0.9110 - val_accuracy: 0.8140\n",
            "Epoch 11/20\n",
            "16/16 [==============================] - 1s 63ms/step - loss: 0.2060 - accuracy: 0.9506 - val_loss: 0.9833 - val_accuracy: 0.7900\n",
            "Epoch 12/20\n",
            "16/16 [==============================] - 1s 62ms/step - loss: 0.1830 - accuracy: 0.9533 - val_loss: 0.9634 - val_accuracy: 0.8040\n",
            "Epoch 13/20\n",
            "16/16 [==============================] - 1s 64ms/step - loss: 0.1690 - accuracy: 0.9538 - val_loss: 0.9436 - val_accuracy: 0.8100\n",
            "Epoch 14/20\n",
            "16/16 [==============================] - 1s 62ms/step - loss: 0.1516 - accuracy: 0.9568 - val_loss: 1.0452 - val_accuracy: 0.7980\n",
            "Epoch 15/20\n",
            "16/16 [==============================] - 1s 60ms/step - loss: 0.1412 - accuracy: 0.9549 - val_loss: 0.9787 - val_accuracy: 0.8080\n",
            "Epoch 16/20\n",
            "16/16 [==============================] - 1s 62ms/step - loss: 0.1284 - accuracy: 0.9564 - val_loss: 1.0501 - val_accuracy: 0.7960\n",
            "Epoch 17/20\n",
            "16/16 [==============================] - 1s 62ms/step - loss: 0.1296 - accuracy: 0.9568 - val_loss: 1.0066 - val_accuracy: 0.8130\n",
            "Epoch 18/20\n",
            "16/16 [==============================] - 1s 61ms/step - loss: 0.1180 - accuracy: 0.9574 - val_loss: 1.1052 - val_accuracy: 0.7900\n",
            "Epoch 19/20\n",
            "16/16 [==============================] - 1s 63ms/step - loss: 0.1173 - accuracy: 0.9579 - val_loss: 1.1120 - val_accuracy: 0.7910\n",
            "Epoch 20/20\n",
            "16/16 [==============================] - 1s 65ms/step - loss: 0.1131 - accuracy: 0.9573 - val_loss: 1.1029 - val_accuracy: 0.7960\n"
          ]
        }
      ]
    },
    {
      "cell_type": "code",
      "metadata": {
        "id": "RdGvyN0DE0Pm",
        "colab": {
          "base_uri": "https://localhost:8080/",
          "height": 295
        },
        "outputId": "aec7c94e-d311-4b63-e18d-02ba1611c6eb"
      },
      "source": [
        "import matplotlib.pyplot as plt\n",
        "\n",
        "# loss plotten\n",
        "loss = result.history[\"loss\"]\n",
        "val_loss = result.history[\"val_loss\"]\n",
        "epochs = range(1, len(loss) + 1)\n",
        "plt.plot(epochs, loss, \"bo\", label=\"Training loss\")\n",
        "plt.plot(epochs, val_loss, \"b\", label=\"Validation loss\")\n",
        "plt.title(\"Training and validation loss\")\n",
        "plt.xlabel(\"Epochs\")\n",
        "plt.ylabel(\"Loss\")\n",
        "plt.legend();"
      ],
      "execution_count": null,
      "outputs": [
        {
          "output_type": "display_data",
          "data": {
            "text/plain": [
              "<Figure size 432x288 with 1 Axes>"
            ],
            "image/png": "[encoded data removed]"
          },
          "metadata": {
            "needs_background": "light"
          }
        }
      ]
    },
    {
      "cell_type": "code",
      "metadata": {
        "id": "1SHhsmxCFCKN",
        "colab": {
          "base_uri": "https://localhost:8080/",
          "height": 295
        },
        "outputId": "5e94489b-c970-4618-e284-6e5942c24ccf"
      },
      "source": [
        "# nauwkeurigheid plotten\n",
        "acc = result.history[\"accuracy\"]\n",
        "val_acc = result.history[\"val_accuracy\"]\n",
        "plt.plot(epochs, acc, \"bo\", label=\"Training accuracy\")\n",
        "plt.plot(epochs, val_acc, \"b\", label=\"Validation accuracy\")\n",
        "plt.title(\"Training and validation accuracy\")\n",
        "plt.xlabel(\"Epochs\")\n",
        "plt.ylabel(\"Accuracy\")\n",
        "plt.legend();"
      ],
      "execution_count": null,
      "outputs": [
        {
          "output_type": "display_data",
          "data": {
            "text/plain": [
              "<Figure size 432x288 with 1 Axes>"
            ],
            "image/png": "[encoded data removed]"
          },
          "metadata": {
            "needs_background": "light"
          }
        }
      ]
    },
    {
      "cell_type": "markdown",
      "metadata": {
        "id": "p4tntf_lFQzz"
      },
      "source": [
        "Conclusie: OVERFITTING vanaf epoch 9\n",
        "\n",
        "=> model hertrainen + finaal evalueren op test dataset"
      ]
    },
    {
      "cell_type": "code",
      "metadata": {
        "id": "kzQmpJduFNGN",
        "colab": {
          "base_uri": "https://localhost:8080/"
        },
        "outputId": "24553078-7140-469b-b025-baa6580b60b8"
      },
      "source": [
        "# build\n",
        "model = keras.Sequential([\n",
        "    layers.Dense(64, activation=\"relu\"),\n",
        "    layers.Dense(64, activation=\"relu\"),\n",
        "    layers.Dense(46, activation=\"softmax\")\n",
        "])\n",
        "\n",
        "# compile\n",
        "model.compile(\n",
        "    optimizer=\"rmsprop\",\n",
        "    loss=\"categorical_crossentropy\",\n",
        "    metrics=[\"accuracy\"]\n",
        ")\n",
        "\n",
        "# trainen: geen validatie meer nodig!\n",
        "result = model.fit(\n",
        "    x_train,  # op volledige training set!\n",
        "    y_train,\n",
        "    epochs=9,  # beperken tot 9 epochs ipv 20\n",
        "    batch_size=512\n",
        ")"
      ],
      "execution_count": null,
      "outputs": [
        {
          "output_type": "stream",
          "name": "stdout",
          "text": [
            "Epoch 1/9\n",
            "18/18 [==============================] - 2s 59ms/step - loss: 2.6390 - accuracy: 0.5478\n",
            "Epoch 2/9\n",
            "18/18 [==============================] - 1s 55ms/step - loss: 1.3869 - accuracy: 0.7175\n",
            "Epoch 3/9\n",
            "18/18 [==============================] - 1s 56ms/step - loss: 1.0161 - accuracy: 0.7869\n",
            "Epoch 4/9\n",
            "18/18 [==============================] - 1s 55ms/step - loss: 0.7879 - accuracy: 0.8336\n",
            "Epoch 5/9\n",
            "18/18 [==============================] - 1s 56ms/step - loss: 0.6191 - accuracy: 0.8716\n",
            "Epoch 6/9\n",
            "18/18 [==============================] - 1s 55ms/step - loss: 0.4925 - accuracy: 0.8989\n",
            "Epoch 7/9\n",
            "18/18 [==============================] - 1s 55ms/step - loss: 0.3935 - accuracy: 0.9167\n",
            "Epoch 8/9\n",
            "18/18 [==============================] - 1s 56ms/step - loss: 0.3263 - accuracy: 0.9282\n",
            "Epoch 9/9\n",
            "18/18 [==============================] - 1s 55ms/step - loss: 0.2723 - accuracy: 0.9381\n"
          ]
        }
      ]
    },
    {
      "cell_type": "code",
      "metadata": {
        "id": "TK4lZ6WIF6S3",
        "colab": {
          "base_uri": "https://localhost:8080/"
        },
        "outputId": "e92a10a2-68ae-4db0-8d1c-d1d6e0592fe1"
      },
      "source": [
        "# evalueren op test dataset\n",
        "model.evaluate(x_test, y_test)  # retourneert [loss, acc]"
      ],
      "execution_count": null,
      "outputs": [
        {
          "output_type": "stream",
          "name": "stdout",
          "text": [
            "71/71 [==============================] - 1s 6ms/step - loss: 0.9634 - accuracy: 0.7881\n"
          ]
        },
        {
          "output_type": "execute_result",
          "data": {
            "text/plain": [
              "[0.9634299874305725, 0.7880676984786987]"
            ]
          },
          "metadata": {},
          "execution_count": 54
        }
      ]
    },
    {
      "cell_type": "markdown",
      "metadata": {
        "id": "FPt_iWzlNCvt"
      },
      "source": [
        "Wat betekent die bijna 80% nauwkeurigheid?\n",
        "- Random binaire classifier geeft 50% nauwkeurigheid\n",
        "- Welke nauwkeurigheid geeft random multiclass classifier?"
      ]
    },
    {
      "cell_type": "code",
      "metadata": {
        "id": "VGs7hScmGDes",
        "colab": {
          "base_uri": "https://localhost:8080/"
        },
        "outputId": "2b300025-eeea-41a4-8a59-5b454830542a"
      },
      "source": [
        "test_labels_copy = test_labels.copy()\n",
        "np.random.shuffle(test_labels_copy)  # shuffle de labels willekeurig = random classifier\n",
        "hits = test_labels_copy == test_labels\n",
        "hits.mean()"
      ],
      "execution_count": null,
      "outputs": [
        {
          "output_type": "execute_result",
          "data": {
            "text/plain": [
              "0.18165627782724844"
            ]
          },
          "metadata": {},
          "execution_count": 55
        }
      ]
    },
    {
      "cell_type": "markdown",
      "metadata": {
        "id": "RG-JbDFtODy6"
      },
      "source": [
        "Conclusie: random classifier geeft bijna 20%, ons neuraal netwerk geeft bijna 80%, dus niet slecht :-)"
      ]
    },
    {
      "cell_type": "markdown",
      "metadata": {
        "id": "tkRNQvPIGP4d"
      },
      "source": [
        "### 4.2.5. Generating predictions on new data"
      ]
    },
    {
      "cell_type": "code",
      "metadata": {
        "id": "CaFA0crUGS4z",
        "colab": {
          "base_uri": "https://localhost:8080/"
        },
        "outputId": "aebfc874-56fc-4f52-a2f6-60d2e6a8d074"
      },
      "source": [
        "# voorspelling maken met nieuwe data\n",
        "predictions = model.predict(x_test)  # geeft voor elke sample 46 kansen\n",
        "predictions.shape"
      ],
      "execution_count": null,
      "outputs": [
        {
          "output_type": "stream",
          "name": "stdout",
          "text": [
            "71/71 [==============================] - 0s 4ms/step\n"
          ]
        },
        {
          "output_type": "execute_result",
          "data": {
            "text/plain": [
              "(2246, 46)"
            ]
          },
          "metadata": {},
          "execution_count": 57
        }
      ]
    },
    {
      "cell_type": "code",
      "metadata": {
        "id": "LVd4EVmlOmme",
        "colab": {
          "base_uri": "https://localhost:8080/"
        },
        "outputId": "e78b8013-39c3-4adf-fd4a-785742466146"
      },
      "source": [
        "# kansen voor elke sample moeten in totaal gelijk zijn aan 1 (= 100%)\n",
        "print(np.all(predictions.sum(axis=1) == 1.0))  # geeft False door afrondingsfouten\n",
        "print(np.all(predictions.sum(axis=1) > 0.99999))  # geeft True"
      ],
      "execution_count": null,
      "outputs": [
        {
          "output_type": "stream",
          "name": "stdout",
          "text": [
            "False\n",
            "True\n"
          ]
        }
      ]
    },
    {
      "cell_type": "code",
      "metadata": {
        "id": "6PdcEIkiPF3M",
        "colab": {
          "base_uri": "https://localhost:8080/"
        },
        "outputId": "6df2d3f5-284a-4f57-bec9-d40aeef5ebcb"
      },
      "source": [
        "# de kansen van het eerste nieuwsitem uit de test dataset\n",
        "print(len(predictions[0]))  # 46 kansen\n",
        "predictions[0]"
      ],
      "execution_count": null,
      "outputs": [
        {
          "output_type": "stream",
          "name": "stdout",
          "text": [
            "46\n"
          ]
        },
        {
          "output_type": "execute_result",
          "data": {
            "text/plain": [
              "array([4.3807326e-05, 5.3699303e-05, 9.9530107e-06, 5.9361088e-01,\n",
              "       3.9906716e-01, 2.4178414e-06, 1.2391212e-05, 3.0043426e-05,\n",
              "       2.4956389e-04, 7.9275997e-06, 3.4050838e-05, 6.6872388e-05,\n",
              "       4.6357385e-05, 1.4523169e-04, 6.6478657e-05, 1.2961312e-06,\n",
              "       1.5204120e-03, 5.3005025e-04, 1.7478193e-05, 7.2830357e-04,\n",
              "       1.8767313e-03, 2.3319197e-04, 7.4783356e-06, 1.0671461e-04,\n",
              "       2.2169857e-05, 1.6367706e-04, 3.7761124e-06, 3.9706765e-06,\n",
              "       9.6669805e-07, 1.3390525e-04, 6.7999361e-05, 1.9333260e-05,\n",
              "       6.3081163e-05, 6.4173219e-06, 1.5956080e-05, 5.4396067e-05,\n",
              "       1.7759454e-04, 2.2599359e-05, 4.5865245e-06, 6.2286190e-04,\n",
              "       4.8294427e-05, 5.8211349e-06, 2.9721543e-05, 1.8721988e-05,\n",
              "       4.8365614e-06, 4.0954983e-05], dtype=float32)"
            ]
          },
          "metadata": {},
          "execution_count": 59
        }
      ]
    },
    {
      "cell_type": "code",
      "metadata": {
        "id": "cd-W4_k7PifM",
        "colab": {
          "base_uri": "https://localhost:8080/"
        },
        "outputId": "81c5e0a5-1662-4679-89e8-1bcb5a2d70fb"
      },
      "source": [
        "# gebruik argmax functie om de klasse te vinden met de grootste kans\n",
        "np.argmax(predictions[0])"
      ],
      "execution_count": null,
      "outputs": [
        {
          "output_type": "execute_result",
          "data": {
            "text/plain": [
              "3"
            ]
          },
          "metadata": {},
          "execution_count": 60
        }
      ]
    },
    {
      "cell_type": "markdown",
      "metadata": {
        "id": "85AbtEWpP3zf"
      },
      "source": [
        "### 4.2.6. A different way to handle the labels and the loss"
      ]
    },
    {
      "cell_type": "markdown",
      "metadata": {
        "id": "TWT_oknCRBRR"
      },
      "source": [
        "Labels parsen naar integer tensor/array"
      ]
    },
    {
      "cell_type": "code",
      "metadata": {
        "id": "EyymKZRzPy_D",
        "colab": {
          "base_uri": "https://localhost:8080/"
        },
        "outputId": "57b9cdc0-1cd7-4828-d9c2-e71f81bb01b6"
      },
      "source": [
        "y_train = np.array(train_labels)\n",
        "y_test = np.array(test_labels)\n",
        "\n",
        "print(y_train.dtype)\n",
        "print(y_test.dtype)"
      ],
      "execution_count": null,
      "outputs": [
        {
          "output_type": "stream",
          "name": "stdout",
          "text": [
            "int64\n",
            "int64\n"
          ]
        }
      ]
    },
    {
      "cell_type": "markdown",
      "metadata": {
        "id": "bvXRIy7ERj2P"
      },
      "source": [
        "Enkel loss functie aanpassen:\n",
        "- `categorical_entropy`: categorical (one-hot) encoding\n",
        "- `sparse_categorical_entropy`: integer labels\n",
        "- beide loss functies zijn wiskundig hetzelfde, maar hebben andere interface"
      ]
    },
    {
      "cell_type": "code",
      "metadata": {
        "id": "mbkDgcmNRTsx",
        "colab": {
          "base_uri": "https://localhost:8080/"
        },
        "outputId": "de042574-0987-442a-ca05-52b4f6e798d8"
      },
      "source": [
        "# build\n",
        "model = keras.Sequential([\n",
        "    layers.Dense(64, activation=\"relu\"),\n",
        "    layers.Dense(64, activation=\"relu\"),\n",
        "    layers.Dense(46, activation=\"softmax\")\n",
        "])\n",
        "\n",
        "# compile\n",
        "model.compile(\n",
        "    optimizer=\"rmsprop\",\n",
        "    loss=\"sparse_categorical_crossentropy\",  # sparse !!\n",
        "    metrics=[\"accuracy\"]\n",
        ")\n",
        "\n",
        "# trainen\n",
        "result = model.fit(\n",
        "    x_train,\n",
        "    y_train,\n",
        "    epochs=9,\n",
        "    batch_size=512\n",
        ")"
      ],
      "execution_count": null,
      "outputs": [
        {
          "output_type": "stream",
          "name": "stdout",
          "text": [
            "Epoch 1/9\n",
            "18/18 [==============================] - 2s 56ms/step - loss: 2.4868 - accuracy: 0.5452\n",
            "Epoch 2/9\n",
            "18/18 [==============================] - 1s 57ms/step - loss: 1.3523 - accuracy: 0.7131\n",
            "Epoch 3/9\n",
            "18/18 [==============================] - 1s 55ms/step - loss: 1.0070 - accuracy: 0.7881\n",
            "Epoch 4/9\n",
            "18/18 [==============================] - 1s 54ms/step - loss: 0.7926 - accuracy: 0.8264\n",
            "Epoch 5/9\n",
            "18/18 [==============================] - 1s 54ms/step - loss: 0.6256 - accuracy: 0.8634\n",
            "Epoch 6/9\n",
            "18/18 [==============================] - 1s 54ms/step - loss: 0.4959 - accuracy: 0.8932\n",
            "Epoch 7/9\n",
            "18/18 [==============================] - 1s 54ms/step - loss: 0.4000 - accuracy: 0.9151\n",
            "Epoch 8/9\n",
            "18/18 [==============================] - 1s 55ms/step - loss: 0.3276 - accuracy: 0.9287\n",
            "Epoch 9/9\n",
            "18/18 [==============================] - 1s 54ms/step - loss: 0.2740 - accuracy: 0.9370\n"
          ]
        }
      ]
    },
    {
      "cell_type": "code",
      "metadata": {
        "id": "RtJIrPRoR1fr",
        "colab": {
          "base_uri": "https://localhost:8080/"
        },
        "outputId": "7146fe2d-3b49-4871-b9bc-2b874efc1d7c"
      },
      "source": [
        "# evalueren op test dataset\n",
        "model.evaluate(x_test, y_test)  # retourneert [loss, acc]"
      ],
      "execution_count": null,
      "outputs": [
        {
          "output_type": "stream",
          "name": "stdout",
          "text": [
            "71/71 [==============================] - 1s 5ms/step - loss: 0.9393 - accuracy: 0.7970\n"
          ]
        },
        {
          "output_type": "execute_result",
          "data": {
            "text/plain": [
              "[0.9393221139907837, 0.796972393989563]"
            ]
          },
          "metadata": {},
          "execution_count": 63
        }
      ]
    },
    {
      "cell_type": "markdown",
      "metadata": {
        "id": "GTawW_hNSAsm"
      },
      "source": [
        "### 4.2.7. The importance of having sufficiently large intermediate layers"
      ]
    },
    {
      "cell_type": "markdown",
      "metadata": {
        "id": "UPUwEctKSL7g"
      },
      "source": [
        "Outputlaag is 46 dimensionaal\n",
        "\n",
        "=> Tussenlagen mogen niet minder dan 46 knopen hebben!"
      ]
    },
    {
      "cell_type": "code",
      "metadata": {
        "id": "HZClgTD4R-lm",
        "colab": {
          "base_uri": "https://localhost:8080/"
        },
        "outputId": "5dff8b15-cbd3-4e75-d993-9fbc56675909"
      },
      "source": [
        "# build\n",
        "model = keras.Sequential([\n",
        "    layers.Dense(64, activation=\"relu\"),\n",
        "    layers.Dense(4, activation=\"relu\"),  # 4 nodes ipv 64!!\n",
        "    layers.Dense(46, activation=\"softmax\")\n",
        "])\n",
        "\n",
        "# compile\n",
        "model.compile(\n",
        "    optimizer=\"rmsprop\",\n",
        "    loss=\"categorical_crossentropy\",\n",
        "    metrics=[\"accuracy\"]\n",
        ")\n",
        "\n",
        "# fit\n",
        "model.fit(\n",
        "    partial_x_train,\n",
        "    partial_y_train,\n",
        "    epochs=20,\n",
        "    batch_size=128,\n",
        "    validation_data=(x_val, y_val)\n",
        ")"
      ],
      "execution_count": null,
      "outputs": [
        {
          "output_type": "stream",
          "name": "stdout",
          "text": [
            "Epoch 1/20\n",
            "63/63 [==============================] - 2s 25ms/step - loss: 2.8685 - accuracy: 0.2884 - val_loss: 2.0715 - val_accuracy: 0.6130\n",
            "Epoch 2/20\n",
            "63/63 [==============================] - 1s 21ms/step - loss: 1.6657 - accuracy: 0.6541 - val_loss: 1.4856 - val_accuracy: 0.6570\n",
            "Epoch 3/20\n",
            "63/63 [==============================] - 1s 23ms/step - loss: 1.2844 - accuracy: 0.6880 - val_loss: 1.3371 - val_accuracy: 0.6860\n",
            "Epoch 4/20\n",
            "63/63 [==============================] - 1s 21ms/step - loss: 1.1096 - accuracy: 0.7278 - val_loss: 1.2682 - val_accuracy: 0.6960\n",
            "Epoch 5/20\n",
            "63/63 [==============================] - 1s 22ms/step - loss: 0.9886 - accuracy: 0.7601 - val_loss: 1.2458 - val_accuracy: 0.7080\n",
            "Epoch 6/20\n",
            "63/63 [==============================] - 1s 21ms/step - loss: 0.8968 - accuracy: 0.7783 - val_loss: 1.2382 - val_accuracy: 0.7070\n",
            "Epoch 7/20\n",
            "63/63 [==============================] - 1s 22ms/step - loss: 0.8181 - accuracy: 0.7993 - val_loss: 1.2453 - val_accuracy: 0.7110\n",
            "Epoch 8/20\n",
            "63/63 [==============================] - 1s 22ms/step - loss: 0.7516 - accuracy: 0.8148 - val_loss: 1.2540 - val_accuracy: 0.7250\n",
            "Epoch 9/20\n",
            "63/63 [==============================] - 1s 22ms/step - loss: 0.6957 - accuracy: 0.8269 - val_loss: 1.2836 - val_accuracy: 0.7210\n",
            "Epoch 10/20\n",
            "63/63 [==============================] - 1s 22ms/step - loss: 0.6466 - accuracy: 0.8369 - val_loss: 1.2860 - val_accuracy: 0.7210\n",
            "Epoch 11/20\n",
            "63/63 [==============================] - 1s 22ms/step - loss: 0.6064 - accuracy: 0.8445 - val_loss: 1.3449 - val_accuracy: 0.7210\n",
            "Epoch 12/20\n",
            "63/63 [==============================] - 1s 21ms/step - loss: 0.5745 - accuracy: 0.8482 - val_loss: 1.3738 - val_accuracy: 0.7010\n",
            "Epoch 13/20\n",
            "63/63 [==============================] - 1s 22ms/step - loss: 0.5436 - accuracy: 0.8555 - val_loss: 1.3984 - val_accuracy: 0.7120\n",
            "Epoch 14/20\n",
            "63/63 [==============================] - 1s 22ms/step - loss: 0.5150 - accuracy: 0.8596 - val_loss: 1.4769 - val_accuracy: 0.7160\n",
            "Epoch 15/20\n",
            "63/63 [==============================] - 1s 22ms/step - loss: 0.4938 - accuracy: 0.8624 - val_loss: 1.5607 - val_accuracy: 0.7100\n",
            "Epoch 16/20\n",
            "63/63 [==============================] - 1s 22ms/step - loss: 0.4714 - accuracy: 0.8682 - val_loss: 1.5860 - val_accuracy: 0.7080\n",
            "Epoch 17/20\n",
            "63/63 [==============================] - 1s 21ms/step - loss: 0.4558 - accuracy: 0.8753 - val_loss: 1.6213 - val_accuracy: 0.7140\n",
            "Epoch 18/20\n",
            "63/63 [==============================] - 2s 24ms/step - loss: 0.4390 - accuracy: 0.8782 - val_loss: 1.6099 - val_accuracy: 0.7160\n",
            "Epoch 19/20\n",
            "63/63 [==============================] - 2s 25ms/step - loss: 0.4235 - accuracy: 0.8832 - val_loss: 1.7259 - val_accuracy: 0.7150\n",
            "Epoch 20/20\n",
            "63/63 [==============================] - 2s 29ms/step - loss: 0.4104 - accuracy: 0.8866 - val_loss: 1.7744 - val_accuracy: 0.7170\n"
          ]
        },
        {
          "output_type": "execute_result",
          "data": {
            "text/plain": [
              "<keras.callbacks.History at 0x7f9d94f04910>"
            ]
          },
          "metadata": {},
          "execution_count": 64
        }
      ]
    },
    {
      "cell_type": "markdown",
      "metadata": {
        "id": "x-PSYN4YS92Q"
      },
      "source": [
        "Conclusie: veel lagere nauwkeurigheid door verlies aan informatie!!"
      ]
    },
    {
      "cell_type": "markdown",
      "metadata": {
        "id": "iHryM_NCTZtJ"
      },
      "source": [
        "### 4.2.6. Further experiments"
      ]
    },
    {
      "cell_type": "markdown",
      "metadata": {
        "id": "iaCa5S0LTZtK"
      },
      "source": [
        "- boek pag 113 (bovenaan)\n",
        "- zelf uitproberen!"
      ]
    },
    {
      "cell_type": "markdown",
      "metadata": {
        "id": "vWLZknYwTfPQ"
      },
      "source": [
        "## 4.3.  Predicting house prices: A regression example"
      ]
    },
    {
      "cell_type": "markdown",
      "metadata": {
        "id": "cLrHqxKcWbzQ"
      },
      "source": [
        "- Classificatie: labels zijn kwalitatief (discreet)\n",
        "- Regressie: labels zijn kwantitatief (continu)"
      ]
    },
    {
      "cell_type": "markdown",
      "metadata": {
        "id": "GeIn8UXuWzBw"
      },
      "source": [
        "### 4.3.1. The Boston housing price dataset"
      ]
    },
    {
      "cell_type": "markdown",
      "metadata": {
        "id": "9JO5AIUb-gyR"
      },
      "source": [
        "- prijzen van huizen in Boston (USA) uit de jaren '70 + gegevens over aantal kamers, criminaliteit, belastingen, ...\n",
        "- weinig datapunten:\n",
        "  - 404 training samples\n",
        "  - 102 test samples\n",
        "- features hebben verschillende schaal -> herschalen\n",
        "- we voorspellen huisprijzen = regressie"
      ]
    },
    {
      "cell_type": "markdown",
      "metadata": {
        "id": "DRXdGL2qCmIo"
      },
      "source": [
        "NOOT: de dataset zit ook in scikit-learn, maar zal er uit verwijderd worden in toekomstige versie omwille van ethische problemen:\n",
        "\n",
        "- https://scikit-learn.org/stable/modules/generated/sklearn.datasets.load_boston.html\n",
        "- https://medium.com/@docintangible/racist-data-destruction-113e3eff54a8"
      ]
    },
    {
      "cell_type": "code",
      "metadata": {
        "id": "ohDzIuSESyBa"
      },
      "source": [
        "from tensorflow.keras.datasets import boston_housing  # beschikbaar in Keras!"
      ],
      "execution_count": null,
      "outputs": []
    },
    {
      "cell_type": "code",
      "metadata": {
        "id": "G28EB1qEAE3D",
        "colab": {
          "base_uri": "https://localhost:8080/"
        },
        "outputId": "a1f7a25c-26ce-42ba-dc70-44c5e605c866"
      },
      "source": [
        "# load_data functie retourneert tuple van 2 tuples met telkens 2 elementen: data en labels\n",
        "\n",
        "(train_data, train_labels), (test_data, test_labels) = boston_housing.load_data()"
      ],
      "execution_count": null,
      "outputs": [
        {
          "output_type": "stream",
          "name": "stdout",
          "text": [
            "Downloading data from https://storage.googleapis.com/tensorflow/tf-keras-datasets/boston_housing.npz\n",
            "57026/57026 [==============================] - 0s 0us/step\n"
          ]
        }
      ]
    },
    {
      "cell_type": "code",
      "metadata": {
        "id": "njZo24_bAKgi",
        "colab": {
          "base_uri": "https://localhost:8080/"
        },
        "outputId": "ecabab47-5a9f-49b2-dc8a-68f040ce5d2a"
      },
      "source": [
        "# aantal samples checken\n",
        "print(train_data.shape)  # 404 samples, 13 features\n",
        "print(test_data.shape)  # 102 samples, 13 features"
      ],
      "execution_count": null,
      "outputs": [
        {
          "output_type": "stream",
          "name": "stdout",
          "text": [
            "(404, 13)\n",
            "(102, 13)\n"
          ]
        }
      ]
    },
    {
      "cell_type": "code",
      "metadata": {
        "id": "-CwPup26Dlt4",
        "colab": {
          "base_uri": "https://localhost:8080/"
        },
        "outputId": "72958baa-14e9-4877-91ca-262ca3b3c409"
      },
      "source": [
        "# labels: mediaan van huisprijzen in 1000$\n",
        "print(train_labels.dtype)\n",
        "train_labels[:10]"
      ],
      "execution_count": null,
      "outputs": [
        {
          "output_type": "stream",
          "name": "stdout",
          "text": [
            "float64\n"
          ]
        },
        {
          "output_type": "execute_result",
          "data": {
            "text/plain": [
              "array([15.2, 42.3, 50. , 21.1, 17.7, 18.5, 11.3, 15.6, 15.6, 14.4])"
            ]
          },
          "metadata": {},
          "execution_count": 68
        }
      ]
    },
    {
      "cell_type": "markdown",
      "metadata": {
        "id": "hW21Sq8aXAaA"
      },
      "source": [
        "### 4.3.2. Preparing the data"
      ]
    },
    {
      "cell_type": "markdown",
      "metadata": {
        "id": "rh_aBR-aKUCl"
      },
      "source": [
        "- **Herschalen**:\n",
        "  - zie cursus Machine Learning Fundamentals\n",
        "  - formule: `(x - xmin) / (xmax - xmin)`\n",
        "  - met `xmin` en `xmax` het minimum en maximum van `x` resp.\n",
        "  - voorbeeld: percentages omzetten naar getallen tussen 0 en 1 met `xmin = 0` en `xmax = 100`\n",
        "- **Standaardiseren**:\n",
        "  - data omzetten naar z-scores die standaardnormaal verdeeld zijn.\n",
        "  - formule: `(x - xmean) / xstd`\n",
        "  - met `xmean` en `xstd` het gemiddelde en de standaardafwijking van `x` resp.\n",
        "- Opgelet!\n",
        "  - standaardiseren en normaliseren worden vaak door elkaar gebruikt\n",
        "  - normaliseren betekent in het Engels vaak standardize...\n",
        "  - en in het boek is standaardiseren gelijk aan normalize.\n",
        "  "
      ]
    },
    {
      "cell_type": "code",
      "metadata": {
        "id": "ri2OJs1vXCsQ"
      },
      "source": [
        "# standaardiseren\n",
        "mean = train_data.mean(axis=0)  # gemiddelde\n",
        "std = train_data.std(axis=0)  # standaarddeviatie\n",
        "train_data -= mean\n",
        "train_data /= std\n",
        "test_data -= mean\n",
        "test_data /= std"
      ],
      "execution_count": null,
      "outputs": []
    },
    {
      "cell_type": "markdown",
      "metadata": {
        "id": "BHDkeNNyPKKK"
      },
      "source": [
        "**OPGELET!!!**\n",
        "- gemiddelde en standaarddeviatie van trainingdata worden ook gebruikt om de test data te standaardiseren!\n",
        "- gebruik nooit test data voor de training!"
      ]
    },
    {
      "cell_type": "markdown",
      "metadata": {
        "id": "ZsaweCkkXFJx"
      },
      "source": [
        "### 4.3.3. Building your model"
      ]
    },
    {
      "cell_type": "markdown",
      "metadata": {
        "id": "liPdFwkLQaVW"
      },
      "source": [
        "scalar regression (= 1 continue waarde voorspellen):\n",
        "- outputlaag heeft geen activatiefunctie = lineair\n",
        "- loss-functie: Mean Squared Error (MSE) (zie cursus Machine Learning Fundamentals)\n",
        "- evaluatiemetriek: Mean Absolute Error (MAE) (zie cursus Machine Learning Fundamentals)"
      ]
    },
    {
      "cell_type": "code",
      "metadata": {
        "id": "7k0CMKY5XHUj"
      },
      "source": [
        "from tensorflow import keras\n",
        "from keras import layers\n",
        "\n",
        "# functie definiëren omdat we het model meerdere keren moeten instantiëren\n",
        "def build_model():\n",
        "    model = keras.Sequential([\n",
        "        layers.Dense(64, activation=\"relu\"),\n",
        "        layers.Dense(64, activation=\"relu\"),\n",
        "        layers.Dense(1)  # lineaire laag\n",
        "    ])\n",
        "    model.compile(optimizer=\"rmsprop\", loss=\"mse\", metrics=[\"mae\"])\n",
        "    return model"
      ],
      "execution_count": null,
      "outputs": []
    },
    {
      "cell_type": "markdown",
      "metadata": {
        "id": "KSer70rKXJYA"
      },
      "source": [
        "### 4.3.4. Validating your approach using K-fold validation"
      ]
    },
    {
      "cell_type": "markdown",
      "metadata": {
        "id": "IgoSBbq2kOjz"
      },
      "source": [
        "weinig data -> k-fold cross validation"
      ]
    },
    {
      "cell_type": "markdown",
      "metadata": {
        "id": "7wukSpYKkPET"
      },
      "source": [
        "![image.png](data:image/png;base64,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)"
      ]
    },
    {
      "cell_type": "code",
      "metadata": {
        "id": "PkjGfigkXM2S",
        "colab": {
          "base_uri": "https://localhost:8080/"
        },
        "outputId": "e88b3693-b25a-45d5-e63c-9bf42f6966e8"
      },
      "source": [
        "# k-fold cross-validation\n",
        "# listings 4.26 en 4.27 samengevoegd\n",
        "\n",
        "import numpy as np\n",
        "\n",
        "k = 4  # 4 partities of \"folds\"\n",
        "num_val_samples = len(train_data) // k  # integer division!!\n",
        "num_epochs = 500\n",
        "all_mae_histories = []\n",
        "all_scores = []\n",
        "\n",
        "for i in range(k):\n",
        "\n",
        "  print(f\"Processing fold #{i}\")\n",
        "\n",
        "  val_data = train_data[i * num_val_samples: (i + 1) * num_val_samples]\n",
        "  val_labels = train_labels[i * num_val_samples: (i + 1) * num_val_samples]\n",
        "\n",
        "  partial_train_data = np.concatenate(\n",
        "      [train_data[:i * num_val_samples],\n",
        "      train_data[(i + 1) * num_val_samples:]],\n",
        "      axis=0\n",
        "  )\n",
        "  partial_train_labels = np.concatenate(\n",
        "      [train_labels[:i * num_val_samples],\n",
        "      train_labels[(i + 1) * num_val_samples:]],\n",
        "      axis=0\n",
        "  )\n",
        "\n",
        "  model = build_model()\n",
        "  result = model.fit(\n",
        "      partial_train_data,\n",
        "      partial_train_labels,\n",
        "      epochs=num_epochs,\n",
        "      batch_size=16,\n",
        "      verbose=0,  # silent mode\n",
        "      validation_data=(val_data, val_labels)  # \"automatische\" validatie via methode fit()\n",
        "  )\n",
        "\n",
        "  mae_history = result.history['val_mae']\n",
        "  all_mae_histories.append(mae_history)  # list van arrays\n",
        "  val_mse, val_mae = model.evaluate(val_data, val_labels, verbose=0)  # \"manuele\" validatie via methode evaluate()\n",
        "  all_scores.append(val_mae)  # list van scores"
      ],
      "execution_count": null,
      "outputs": [
        {
          "output_type": "stream",
          "name": "stdout",
          "text": [
            "Processing fold #0\n",
            "Processing fold #1\n",
            "Processing fold #2\n",
            "Processing fold #3\n"
          ]
        }
      ]
    },
    {
      "cell_type": "code",
      "metadata": {
        "id": "LjtHi9cun4Wn"
      },
      "source": [
        "# gemiddelde MAE berekend via fit()\n",
        "# all_mae_histories is een list van k=4 arrays\n",
        "# elke array bevat de MAE na elke epoch\n",
        "# we berekenen nu voor elke epoch het gemiddelde van de 4 folds\n",
        "all_mae_histories = np.asarray(all_mae_histories)  # omzetten naar numpy array\n",
        "average_mae_history = np.mean(all_mae_histories, axis=0)  # gemiddelde nemen per kolom"
      ],
      "execution_count": null,
      "outputs": []
    },
    {
      "cell_type": "markdown",
      "metadata": {
        "id": "wBpcTp4Lt5-3"
      },
      "source": [
        "![image.png](data:image/png;base64,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)"
      ]
    },
    {
      "cell_type": "code",
      "metadata": {
        "id": "iG_gStsUn05j",
        "colab": {
          "base_uri": "https://localhost:8080/"
        },
        "outputId": "b7e0b3ce-4af0-47bc-8515-4fc05bb1fdc7"
      },
      "source": [
        "# finale MAE berekend via evaluate()\n",
        "print(all_scores)\n",
        "print(np.mean(all_scores))"
      ],
      "execution_count": null,
      "outputs": [
        {
          "output_type": "stream",
          "name": "stdout",
          "text": [
            "[1.9880279302597046, 2.5352940559387207, 2.634874105453491, 2.409959316253662]\n",
            "2.3920388519763947\n"
          ]
        }
      ]
    },
    {
      "cell_type": "code",
      "metadata": {
        "id": "nXPup6k7phG-",
        "colab": {
          "base_uri": "https://localhost:8080/"
        },
        "outputId": "472b1de2-74f1-4ba4-8cbc-491ff24c8631"
      },
      "source": [
        "# Neem MAE van laatste epoch uit all_mae_histories om hetzelfde resultaat te bekomen!\n",
        "print([mae[-1] for mae in all_mae_histories])\n",
        "print(np.mean([mae[-1] for mae in all_mae_histories]))"
      ],
      "execution_count": null,
      "outputs": [
        {
          "output_type": "stream",
          "name": "stdout",
          "text": [
            "[1.9880279302597046, 2.5352942943573, 2.634873867034912, 2.409959554672241]\n",
            "2.3920389115810394\n"
          ]
        }
      ]
    },
    {
      "cell_type": "code",
      "metadata": {
        "id": "uA0eusExu1zg",
        "colab": {
          "base_uri": "https://localhost:8080/",
          "height": 279
        },
        "outputId": "72102f29-4273-4146-981a-51ef0a931688"
      },
      "source": [
        "# plotten\n",
        "import matplotlib.pyplot as plt\n",
        "\n",
        "# we laten de eerste 10 epochs weg (zie boek voor uitleg)\n",
        "plt.plot(range(11, len(average_mae_history) + 1), average_mae_history[10:])\n",
        "plt.xlabel(\"Epochs\")\n",
        "plt.ylabel(\"Validation MAE\");"
      ],
      "execution_count": null,
      "outputs": [
        {
          "output_type": "display_data",
          "data": {
            "text/plain": [
              "<Figure size 432x288 with 1 Axes>"
            ],
            "image/png": "[encoded data removed]"
          },
          "metadata": {
            "needs_background": "light"
          }
        }
      ]
    },
    {
      "cell_type": "markdown",
      "metadata": {
        "id": "CkkULNV2vfQc"
      },
      "source": [
        "Conclusie: vanaf ongeveer 130 epochs begint de overfitting\n",
        "\n",
        "=> model hertrainen op volledige training set gedurende 130 epochs"
      ]
    },
    {
      "cell_type": "code",
      "metadata": {
        "id": "Ve7AAtwqmMV6",
        "colab": {
          "base_uri": "https://localhost:8080/"
        },
        "outputId": "9cee3737-dbed-4c55-9772-340faef30382"
      },
      "source": [
        "model = build_model()\n",
        "model.fit(train_data, train_labels, epochs=130, batch_size=16, verbose=0)\n",
        "test_mse_score, test_mae_score = model.evaluate(test_data, test_labels)\n",
        "test_mae_score"
      ],
      "execution_count": null,
      "outputs": [
        {
          "output_type": "stream",
          "name": "stdout",
          "text": [
            "4/4 [==============================] - 0s 4ms/step - loss: 15.7362 - mae: 2.6089\n"
          ]
        },
        {
          "output_type": "execute_result",
          "data": {
            "text/plain": [
              "2.6088619232177734"
            ]
          },
          "metadata": {},
          "execution_count": 76
        }
      ]
    },
    {
      "cell_type": "markdown",
      "metadata": {
        "id": "pnvHbV8iXR0Z"
      },
      "source": [
        "### 4.3.5. Generating predictions on new data"
      ]
    },
    {
      "cell_type": "markdown",
      "metadata": {
        "id": "eB3ysVn0wHtc"
      },
      "source": [
        "Regressie, dus we krijgen geen kansen maar echte prijzen!"
      ]
    },
    {
      "cell_type": "code",
      "metadata": {
        "id": "VQq7kpjhXU3f",
        "colab": {
          "base_uri": "https://localhost:8080/"
        },
        "outputId": "2f75a302-f284-4601-e83d-481dcc1af251"
      },
      "source": [
        "predictions = model.predict(test_data)\n",
        "predictions[0]"
      ],
      "execution_count": null,
      "outputs": [
        {
          "output_type": "stream",
          "name": "stdout",
          "text": [
            "4/4 [==============================] - 0s 5ms/step\n"
          ]
        },
        {
          "output_type": "execute_result",
          "data": {
            "text/plain": [
              "array([9.087694], dtype=float32)"
            ]
          },
          "metadata": {},
          "execution_count": 77
        }
      ]
    },
    {
      "cell_type": "code",
      "source": [],
      "metadata": {
        "id": "Dsxu82oQdo--"
      },
      "execution_count": null,
      "outputs": []
    }
  ]
}