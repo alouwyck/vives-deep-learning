{
  "cells": [
    {
      "cell_type": "markdown",
      "metadata": {
        "id": "view-in-github",
        "colab_type": "text"
      },
      "source": [
        "<a href=\"https://colab.research.google.com/github/alouwyck/vives-deep-learning/blob/main/topic13/Chollet_HFST13_keras_tuner.ipynb\" target=\"_parent\"><img src=\"https://colab.research.google.com/assets/colab-badge.svg\" alt=\"Open In Colab\"/></a>"
      ]
    },
    {
      "cell_type": "markdown",
      "metadata": {
        "id": "p34cmLp6FrA6"
      },
      "source": [
        "<img src=\"data:image/png;base64,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\" align=\"right\" /><br>\n",
        "\n",
        "\n",
        "**DEEP LEARNING**<br>\n",
        "Academiejaar 2022-2023<br>\n",
        "Andy Louwyck\n",
        "\n",
        "---\n",
        "\n",
        "\n",
        "\n",
        "---\n",
        "\n"
      ]
    },
    {
      "cell_type": "markdown",
      "metadata": {
        "id": "zfh8zwxx1O5_"
      },
      "source": [
        "# Hyperparameter optimization using KerasTuner"
      ]
    },
    {
      "cell_type": "markdown",
      "source": [
        "Deze notebook bevat de codevoorbeelden over KerasTuner uit hoofdstuk 13.1.1 van het boek \"Deep Learning with Python\" (2e editie) van François Chollet."
      ],
      "metadata": {
        "id": "fyYRYjghgKqU"
      }
    },
    {
      "cell_type": "code",
      "execution_count": null,
      "metadata": {
        "colab": {
          "base_uri": "https://localhost:8080/"
        },
        "id": "ouBS8S2T1O6D",
        "outputId": "ed4b8e90-5dde-43eb-f1fc-ea9ec5b63ed5"
      },
      "outputs": [
        {
          "output_type": "stream",
          "name": "stdout",
          "text": [
            "\u001b[K     |████████████████████████████████| 135 kB 30.8 MB/s \n",
            "\u001b[K     |████████████████████████████████| 1.6 MB 45.3 MB/s \n",
            "\u001b[?25h"
          ]
        }
      ],
      "source": [
        "!pip install keras-tuner -q"
      ]
    },
    {
      "cell_type": "markdown",
      "metadata": {
        "id": "vbfpqmXf1O6F"
      },
      "source": [
        "**A KerasTuner model-building function**"
      ]
    },
    {
      "cell_type": "code",
      "execution_count": null,
      "metadata": {
        "id": "pIy7P7iP1O6G"
      },
      "outputs": [],
      "source": [
        "from tensorflow import keras\n",
        "from tensorflow.keras import layers\n",
        "\n",
        "def build_model(hp):\n",
        "    units = hp.Int(name=\"units\", min_value=16, max_value=64, step=16)\n",
        "    model = keras.Sequential([\n",
        "        layers.Dense(units, activation=\"relu\"),\n",
        "        layers.Dense(10, activation=\"softmax\")\n",
        "    ])\n",
        "    optimizer = hp.Choice(name=\"optimizer\", values=[\"rmsprop\", \"adam\"])\n",
        "    model.compile(\n",
        "        optimizer=optimizer,\n",
        "        loss=\"sparse_categorical_crossentropy\",\n",
        "        metrics=[\"accuracy\"])\n",
        "    return model"
      ]
    },
    {
      "cell_type": "markdown",
      "metadata": {
        "id": "nsV5V-pd1O6J"
      },
      "source": [
        "**A KerasTuner `HyperModel`**"
      ]
    },
    {
      "cell_type": "code",
      "execution_count": null,
      "metadata": {
        "colab": {
          "base_uri": "https://localhost:8080/"
        },
        "id": "sWEawwMV1O6K",
        "outputId": "9dc58546-6253-44f6-acf4-ac7a331899c0"
      },
      "outputs": [
        {
          "output_type": "stream",
          "name": "stderr",
          "text": [
            "<ipython-input-4-643dcc05e516>:1: DeprecationWarning: `import kerastuner` is deprecated, please use `import keras_tuner`.\n",
            "  import kerastuner as kt\n"
          ]
        }
      ],
      "source": [
        "import kerastuner as kt\n",
        "\n",
        "class SimpleMLP(kt.HyperModel):\n",
        "    def __init__(self, num_classes):\n",
        "        self.num_classes = num_classes\n",
        "\n",
        "    def build(self, hp):\n",
        "        units = hp.Int(name=\"units\", min_value=16, max_value=64, step=16)\n",
        "        model = keras.Sequential([\n",
        "            layers.Dense(units, activation=\"relu\"),\n",
        "            layers.Dense(self.num_classes, activation=\"softmax\")\n",
        "        ])\n",
        "        optimizer = hp.Choice(name=\"optimizer\", values=[\"rmsprop\", \"adam\"])\n",
        "        model.compile(\n",
        "            optimizer=optimizer,\n",
        "            loss=\"sparse_categorical_crossentropy\",\n",
        "            metrics=[\"accuracy\"])\n",
        "        return model\n",
        "\n",
        "hypermodel = SimpleMLP(num_classes=10)"
      ]
    },
    {
      "cell_type": "code",
      "execution_count": null,
      "metadata": {
        "id": "TWZpDhc51O6L"
      },
      "outputs": [],
      "source": [
        "tuner = kt.BayesianOptimization(\n",
        "    build_model,\n",
        "    objective=\"val_accuracy\",\n",
        "    max_trials=100,\n",
        "    executions_per_trial=2,\n",
        "    directory=\"mnist_kt_test\",\n",
        "    overwrite=True,\n",
        ")"
      ]
    },
    {
      "cell_type": "code",
      "execution_count": null,
      "metadata": {
        "colab": {
          "base_uri": "https://localhost:8080/"
        },
        "id": "RUKBXBmg1O6M",
        "outputId": "a3b4e73e-5dc2-4720-cf96-b55230ec8e95"
      },
      "outputs": [
        {
          "output_type": "stream",
          "name": "stdout",
          "text": [
            "Search space summary\n",
            "Default search space size: 2\n",
            "units (Int)\n",
            "{'default': None, 'conditions': [], 'min_value': 16, 'max_value': 64, 'step': 16, 'sampling': None}\n",
            "optimizer (Choice)\n",
            "{'default': 'rmsprop', 'conditions': [], 'values': ['rmsprop', 'adam'], 'ordered': False}\n"
          ]
        }
      ],
      "source": [
        "tuner.search_space_summary()"
      ]
    },
    {
      "cell_type": "code",
      "execution_count": null,
      "metadata": {
        "colab": {
          "base_uri": "https://localhost:8080/"
        },
        "id": "871ZpUcU1O6N",
        "outputId": "69917898-99d1-4e81-f85b-85d1f1fcbbd4"
      },
      "outputs": [
        {
          "output_type": "stream",
          "name": "stdout",
          "text": [
            "Trial 100 Complete [00h 01m 08s]\n",
            "val_accuracy: 0.9736999869346619\n",
            "\n",
            "Best val_accuracy So Far: 0.9764000177383423\n",
            "Total elapsed time: 01h 43m 45s\n"
          ]
        }
      ],
      "source": [
        "(x_train, y_train), (x_test, y_test) = keras.datasets.mnist.load_data()\n",
        "x_train = x_train.reshape((-1, 28 * 28)).astype(\"float32\") / 255\n",
        "x_test = x_test.reshape((-1, 28 * 28)).astype(\"float32\") / 255\n",
        "x_train_full = x_train[:]\n",
        "y_train_full = y_train[:]\n",
        "num_val_samples = 10000\n",
        "x_train, x_val = x_train[:-num_val_samples], x_train[-num_val_samples:]\n",
        "y_train, y_val = y_train[:-num_val_samples], y_train[-num_val_samples:]\n",
        "\n",
        "callbacks = [\n",
        "    keras.callbacks.EarlyStopping(monitor=\"val_loss\", patience=5),\n",
        "]\n",
        "tuner.search(\n",
        "    x_train, y_train,\n",
        "    batch_size=128,\n",
        "    epochs=100,\n",
        "    validation_data=(x_val, y_val),\n",
        "    callbacks=callbacks,\n",
        "    verbose=2,\n",
        ")"
      ]
    },
    {
      "cell_type": "markdown",
      "metadata": {
        "id": "aoN7mb1F1O6O"
      },
      "source": [
        "**Querying the best hyperparameter configurations**"
      ]
    },
    {
      "cell_type": "code",
      "execution_count": null,
      "metadata": {
        "id": "YV-99s1g1O6P"
      },
      "outputs": [],
      "source": [
        "top_n = 4\n",
        "best_hps = tuner.get_best_hyperparameters(top_n)"
      ]
    },
    {
      "cell_type": "code",
      "execution_count": null,
      "metadata": {
        "id": "OCkfbCTG1O6Q"
      },
      "outputs": [],
      "source": [
        "def get_best_epoch(hp):\n",
        "    model = build_model(hp)\n",
        "    callbacks=[\n",
        "        keras.callbacks.EarlyStopping(\n",
        "            monitor=\"val_loss\", mode=\"min\", patience=10)\n",
        "    ]\n",
        "    history = model.fit(\n",
        "        x_train, y_train,\n",
        "        validation_data=(x_val, y_val),\n",
        "        epochs=100,\n",
        "        batch_size=128,\n",
        "        callbacks=callbacks)\n",
        "    val_loss_per_epoch = history.history[\"val_loss\"]\n",
        "    best_epoch = val_loss_per_epoch.index(min(val_loss_per_epoch)) + 1\n",
        "    print(f\"Best epoch: {best_epoch}\")\n",
        "    return best_epoch"
      ]
    },
    {
      "cell_type": "code",
      "execution_count": null,
      "metadata": {
        "colab": {
          "base_uri": "https://localhost:8080/"
        },
        "id": "g17gxp6f1O6Q",
        "outputId": "0bd55803-95da-4415-da08-bec7c22b339b"
      },
      "outputs": [
        {
          "output_type": "stream",
          "name": "stdout",
          "text": [
            "Epoch 1/100\n",
            "391/391 [==============================] - 2s 4ms/step - loss: 0.4479 - accuracy: 0.8792 - val_loss: 0.2382 - val_accuracy: 0.9355\n",
            "Epoch 2/100\n",
            "391/391 [==============================] - 1s 3ms/step - loss: 0.2204 - accuracy: 0.9373 - val_loss: 0.1837 - val_accuracy: 0.9504\n",
            "Epoch 3/100\n",
            "391/391 [==============================] - 1s 3ms/step - loss: 0.1694 - accuracy: 0.9518 - val_loss: 0.1554 - val_accuracy: 0.9563\n",
            "Epoch 4/100\n",
            "391/391 [==============================] - 1s 3ms/step - loss: 0.1377 - accuracy: 0.9606 - val_loss: 0.1375 - val_accuracy: 0.9611\n",
            "Epoch 5/100\n",
            "391/391 [==============================] - 1s 3ms/step - loss: 0.1169 - accuracy: 0.9666 - val_loss: 0.1219 - val_accuracy: 0.9667\n",
            "Epoch 6/100\n",
            "391/391 [==============================] - 1s 3ms/step - loss: 0.1019 - accuracy: 0.9708 - val_loss: 0.1173 - val_accuracy: 0.9662\n",
            "Epoch 7/100\n",
            "391/391 [==============================] - 1s 3ms/step - loss: 0.0893 - accuracy: 0.9739 - val_loss: 0.1083 - val_accuracy: 0.9699\n",
            "Epoch 8/100\n",
            "391/391 [==============================] - 1s 3ms/step - loss: 0.0791 - accuracy: 0.9773 - val_loss: 0.1019 - val_accuracy: 0.9709\n",
            "Epoch 9/100\n",
            "391/391 [==============================] - 1s 3ms/step - loss: 0.0712 - accuracy: 0.9794 - val_loss: 0.1054 - val_accuracy: 0.9700\n",
            "Epoch 10/100\n",
            "391/391 [==============================] - 1s 3ms/step - loss: 0.0652 - accuracy: 0.9807 - val_loss: 0.1034 - val_accuracy: 0.9707\n",
            "Epoch 11/100\n",
            "391/391 [==============================] - 1s 3ms/step - loss: 0.0579 - accuracy: 0.9831 - val_loss: 0.0946 - val_accuracy: 0.9730\n",
            "Epoch 12/100\n",
            "391/391 [==============================] - 1s 3ms/step - loss: 0.0533 - accuracy: 0.9846 - val_loss: 0.0984 - val_accuracy: 0.9733\n",
            "Epoch 13/100\n",
            "391/391 [==============================] - 1s 3ms/step - loss: 0.0491 - accuracy: 0.9857 - val_loss: 0.0977 - val_accuracy: 0.9707\n",
            "Epoch 14/100\n",
            "391/391 [==============================] - 1s 3ms/step - loss: 0.0439 - accuracy: 0.9876 - val_loss: 0.0965 - val_accuracy: 0.9712\n",
            "Epoch 15/100\n",
            "391/391 [==============================] - 1s 3ms/step - loss: 0.0397 - accuracy: 0.9889 - val_loss: 0.1054 - val_accuracy: 0.9702\n",
            "Epoch 16/100\n",
            "391/391 [==============================] - 1s 3ms/step - loss: 0.0367 - accuracy: 0.9897 - val_loss: 0.0941 - val_accuracy: 0.9736\n",
            "Epoch 17/100\n",
            "391/391 [==============================] - 1s 3ms/step - loss: 0.0332 - accuracy: 0.9912 - val_loss: 0.0926 - val_accuracy: 0.9725\n",
            "Epoch 18/100\n",
            "391/391 [==============================] - 1s 3ms/step - loss: 0.0297 - accuracy: 0.9925 - val_loss: 0.0954 - val_accuracy: 0.9725\n",
            "Epoch 19/100\n",
            "391/391 [==============================] - 1s 3ms/step - loss: 0.0278 - accuracy: 0.9929 - val_loss: 0.0971 - val_accuracy: 0.9729\n",
            "Epoch 20/100\n",
            "391/391 [==============================] - 1s 3ms/step - loss: 0.0253 - accuracy: 0.9936 - val_loss: 0.1005 - val_accuracy: 0.9724\n",
            "Epoch 21/100\n",
            "391/391 [==============================] - 1s 3ms/step - loss: 0.0230 - accuracy: 0.9944 - val_loss: 0.0978 - val_accuracy: 0.9733\n",
            "Epoch 22/100\n",
            "391/391 [==============================] - 1s 3ms/step - loss: 0.0209 - accuracy: 0.9948 - val_loss: 0.0986 - val_accuracy: 0.9737\n",
            "Epoch 23/100\n",
            "391/391 [==============================] - 1s 3ms/step - loss: 0.0193 - accuracy: 0.9954 - val_loss: 0.1016 - val_accuracy: 0.9725\n",
            "Epoch 24/100\n",
            "391/391 [==============================] - 1s 3ms/step - loss: 0.0178 - accuracy: 0.9958 - val_loss: 0.0955 - val_accuracy: 0.9744\n",
            "Epoch 25/100\n",
            "391/391 [==============================] - 1s 3ms/step - loss: 0.0159 - accuracy: 0.9965 - val_loss: 0.1059 - val_accuracy: 0.9725\n",
            "Epoch 26/100\n",
            "391/391 [==============================] - 1s 3ms/step - loss: 0.0146 - accuracy: 0.9968 - val_loss: 0.1088 - val_accuracy: 0.9719\n",
            "Epoch 27/100\n",
            "391/391 [==============================] - 1s 3ms/step - loss: 0.0133 - accuracy: 0.9972 - val_loss: 0.1070 - val_accuracy: 0.9728\n",
            "Best epoch: 17\n",
            "Epoch 1/20\n",
            "469/469 [==============================] - 2s 3ms/step - loss: 0.4231 - accuracy: 0.8842\n",
            "Epoch 2/20\n",
            "469/469 [==============================] - 1s 3ms/step - loss: 0.2049 - accuracy: 0.9421\n",
            "Epoch 3/20\n",
            "469/469 [==============================] - 1s 3ms/step - loss: 0.1589 - accuracy: 0.9549\n",
            "Epoch 4/20\n",
            "469/469 [==============================] - 1s 3ms/step - loss: 0.1306 - accuracy: 0.9625\n",
            "Epoch 5/20\n",
            "469/469 [==============================] - 1s 3ms/step - loss: 0.1105 - accuracy: 0.9680\n",
            "Epoch 6/20\n",
            "469/469 [==============================] - 1s 3ms/step - loss: 0.0957 - accuracy: 0.9721\n",
            "Epoch 7/20\n",
            "469/469 [==============================] - 1s 3ms/step - loss: 0.0832 - accuracy: 0.9756\n",
            "Epoch 8/20\n",
            "469/469 [==============================] - 1s 3ms/step - loss: 0.0742 - accuracy: 0.9776\n",
            "Epoch 9/20\n",
            "469/469 [==============================] - 1s 3ms/step - loss: 0.0656 - accuracy: 0.9808\n",
            "Epoch 10/20\n",
            "469/469 [==============================] - 1s 3ms/step - loss: 0.0590 - accuracy: 0.9820\n",
            "Epoch 11/20\n",
            "469/469 [==============================] - 1s 3ms/step - loss: 0.0537 - accuracy: 0.9841\n",
            "Epoch 12/20\n",
            "469/469 [==============================] - 1s 3ms/step - loss: 0.0480 - accuracy: 0.9862\n",
            "Epoch 13/20\n",
            "469/469 [==============================] - 1s 3ms/step - loss: 0.0435 - accuracy: 0.9867\n",
            "Epoch 14/20\n",
            "469/469 [==============================] - 1s 3ms/step - loss: 0.0398 - accuracy: 0.9885\n",
            "Epoch 15/20\n",
            "469/469 [==============================] - 1s 3ms/step - loss: 0.0353 - accuracy: 0.9901\n",
            "Epoch 16/20\n",
            "469/469 [==============================] - 1s 3ms/step - loss: 0.0326 - accuracy: 0.9907\n",
            "Epoch 17/20\n",
            "469/469 [==============================] - 1s 3ms/step - loss: 0.0293 - accuracy: 0.9923\n",
            "Epoch 18/20\n",
            "469/469 [==============================] - 1s 3ms/step - loss: 0.0271 - accuracy: 0.9927\n",
            "Epoch 19/20\n",
            "469/469 [==============================] - 1s 3ms/step - loss: 0.0246 - accuracy: 0.9934\n",
            "Epoch 20/20\n",
            "469/469 [==============================] - 1s 3ms/step - loss: 0.0224 - accuracy: 0.9943\n",
            "313/313 [==============================] - 1s 2ms/step - loss: 0.0894 - accuracy: 0.9747\n",
            "Epoch 1/100\n",
            "391/391 [==============================] - 2s 4ms/step - loss: 0.4728 - accuracy: 0.8710 - val_loss: 0.2452 - val_accuracy: 0.9321\n",
            "Epoch 2/100\n",
            "391/391 [==============================] - 1s 3ms/step - loss: 0.2253 - accuracy: 0.9363 - val_loss: 0.1808 - val_accuracy: 0.9489\n",
            "Epoch 3/100\n",
            "391/391 [==============================] - 1s 3ms/step - loss: 0.1717 - accuracy: 0.9516 - val_loss: 0.1505 - val_accuracy: 0.9585\n",
            "Epoch 4/100\n",
            "391/391 [==============================] - 1s 3ms/step - loss: 0.1426 - accuracy: 0.9594 - val_loss: 0.1327 - val_accuracy: 0.9607\n",
            "Epoch 5/100\n",
            "391/391 [==============================] - 1s 3ms/step - loss: 0.1218 - accuracy: 0.9654 - val_loss: 0.1218 - val_accuracy: 0.9635\n",
            "Epoch 6/100\n",
            "391/391 [==============================] - 1s 3ms/step - loss: 0.1052 - accuracy: 0.9699 - val_loss: 0.1130 - val_accuracy: 0.9678\n",
            "Epoch 7/100\n",
            "391/391 [==============================] - 1s 3ms/step - loss: 0.0924 - accuracy: 0.9735 - val_loss: 0.1107 - val_accuracy: 0.9679\n",
            "Epoch 8/100\n",
            "391/391 [==============================] - 1s 3ms/step - loss: 0.0810 - accuracy: 0.9772 - val_loss: 0.1016 - val_accuracy: 0.9698\n",
            "Epoch 9/100\n",
            "391/391 [==============================] - 1s 3ms/step - loss: 0.0723 - accuracy: 0.9795 - val_loss: 0.1082 - val_accuracy: 0.9676\n",
            "Epoch 10/100\n",
            "391/391 [==============================] - 1s 3ms/step - loss: 0.0655 - accuracy: 0.9811 - val_loss: 0.0954 - val_accuracy: 0.9725\n",
            "Epoch 11/100\n",
            "391/391 [==============================] - 1s 3ms/step - loss: 0.0591 - accuracy: 0.9835 - val_loss: 0.0961 - val_accuracy: 0.9724\n",
            "Epoch 12/100\n",
            "391/391 [==============================] - 1s 3ms/step - loss: 0.0530 - accuracy: 0.9851 - val_loss: 0.0934 - val_accuracy: 0.9727\n",
            "Epoch 13/100\n",
            "391/391 [==============================] - 1s 3ms/step - loss: 0.0472 - accuracy: 0.9874 - val_loss: 0.0956 - val_accuracy: 0.9719\n",
            "Epoch 14/100\n",
            "391/391 [==============================] - 1s 4ms/step - loss: 0.0433 - accuracy: 0.9881 - val_loss: 0.0920 - val_accuracy: 0.9731\n",
            "Epoch 15/100\n",
            "391/391 [==============================] - 1s 3ms/step - loss: 0.0388 - accuracy: 0.9900 - val_loss: 0.0929 - val_accuracy: 0.9730\n",
            "Epoch 16/100\n",
            "391/391 [==============================] - 1s 3ms/step - loss: 0.0354 - accuracy: 0.9911 - val_loss: 0.0931 - val_accuracy: 0.9722\n",
            "Epoch 17/100\n",
            "391/391 [==============================] - 1s 3ms/step - loss: 0.0316 - accuracy: 0.9923 - val_loss: 0.0924 - val_accuracy: 0.9746\n",
            "Epoch 18/100\n",
            "391/391 [==============================] - 1s 3ms/step - loss: 0.0293 - accuracy: 0.9922 - val_loss: 0.0966 - val_accuracy: 0.9733\n",
            "Epoch 19/100\n",
            "391/391 [==============================] - 1s 3ms/step - loss: 0.0269 - accuracy: 0.9931 - val_loss: 0.0970 - val_accuracy: 0.9739\n",
            "Epoch 20/100\n",
            "391/391 [==============================] - 1s 3ms/step - loss: 0.0238 - accuracy: 0.9945 - val_loss: 0.0981 - val_accuracy: 0.9719\n",
            "Epoch 21/100\n",
            "391/391 [==============================] - 1s 3ms/step - loss: 0.0217 - accuracy: 0.9948 - val_loss: 0.0986 - val_accuracy: 0.9740\n",
            "Epoch 22/100\n",
            "391/391 [==============================] - 1s 3ms/step - loss: 0.0194 - accuracy: 0.9959 - val_loss: 0.0962 - val_accuracy: 0.9733\n",
            "Epoch 23/100\n",
            "391/391 [==============================] - 1s 3ms/step - loss: 0.0180 - accuracy: 0.9957 - val_loss: 0.0990 - val_accuracy: 0.9737\n",
            "Epoch 24/100\n",
            "391/391 [==============================] - 1s 3ms/step - loss: 0.0162 - accuracy: 0.9965 - val_loss: 0.1041 - val_accuracy: 0.9721\n",
            "Best epoch: 14\n",
            "Epoch 1/16\n",
            "469/469 [==============================] - 2s 3ms/step - loss: 0.4313 - accuracy: 0.8820\n",
            "Epoch 2/16\n",
            "469/469 [==============================] - 1s 3ms/step - loss: 0.2032 - accuracy: 0.9427\n",
            "Epoch 3/16\n",
            "469/469 [==============================] - 1s 3ms/step - loss: 0.1560 - accuracy: 0.9564\n",
            "Epoch 4/16\n",
            "469/469 [==============================] - 1s 3ms/step - loss: 0.1283 - accuracy: 0.9644\n",
            "Epoch 5/16\n",
            "469/469 [==============================] - 1s 3ms/step - loss: 0.1090 - accuracy: 0.9694\n",
            "Epoch 6/16\n",
            "469/469 [==============================] - 1s 3ms/step - loss: 0.0951 - accuracy: 0.9728\n",
            "Epoch 7/16\n",
            "469/469 [==============================] - 1s 3ms/step - loss: 0.0841 - accuracy: 0.9767\n",
            "Epoch 8/16\n",
            "469/469 [==============================] - 1s 3ms/step - loss: 0.0748 - accuracy: 0.9792\n",
            "Epoch 9/16\n",
            "469/469 [==============================] - 1s 3ms/step - loss: 0.0673 - accuracy: 0.9808\n",
            "Epoch 10/16\n",
            "469/469 [==============================] - 1s 3ms/step - loss: 0.0601 - accuracy: 0.9830\n",
            "Epoch 11/16\n",
            "469/469 [==============================] - 1s 3ms/step - loss: 0.0546 - accuracy: 0.9843\n",
            "Epoch 12/16\n",
            "469/469 [==============================] - 1s 3ms/step - loss: 0.0495 - accuracy: 0.9857\n",
            "Epoch 13/16\n",
            "469/469 [==============================] - 1s 3ms/step - loss: 0.0446 - accuracy: 0.9873\n",
            "Epoch 14/16\n",
            "469/469 [==============================] - 1s 3ms/step - loss: 0.0403 - accuracy: 0.9889\n",
            "Epoch 15/16\n",
            "469/469 [==============================] - 1s 3ms/step - loss: 0.0372 - accuracy: 0.9900\n",
            "Epoch 16/16\n",
            "469/469 [==============================] - 1s 3ms/step - loss: 0.0333 - accuracy: 0.9909\n",
            "313/313 [==============================] - 1s 2ms/step - loss: 0.0815 - accuracy: 0.9762\n",
            "Epoch 1/100\n",
            "391/391 [==============================] - 2s 3ms/step - loss: 0.4483 - accuracy: 0.8793 - val_loss: 0.2290 - val_accuracy: 0.9396\n",
            "Epoch 2/100\n",
            "391/391 [==============================] - 1s 3ms/step - loss: 0.2114 - accuracy: 0.9403 - val_loss: 0.1766 - val_accuracy: 0.9526\n",
            "Epoch 3/100\n",
            "391/391 [==============================] - 1s 3ms/step - loss: 0.1632 - accuracy: 0.9535 - val_loss: 0.1522 - val_accuracy: 0.9588\n",
            "Epoch 4/100\n",
            "391/391 [==============================] - 1s 3ms/step - loss: 0.1350 - accuracy: 0.9614 - val_loss: 0.1335 - val_accuracy: 0.9627\n",
            "Epoch 5/100\n",
            "391/391 [==============================] - 1s 3ms/step - loss: 0.1149 - accuracy: 0.9667 - val_loss: 0.1287 - val_accuracy: 0.9639\n",
            "Epoch 6/100\n",
            "391/391 [==============================] - 1s 3ms/step - loss: 0.1000 - accuracy: 0.9707 - val_loss: 0.1203 - val_accuracy: 0.9657\n",
            "Epoch 7/100\n",
            "391/391 [==============================] - 1s 3ms/step - loss: 0.0879 - accuracy: 0.9740 - val_loss: 0.1119 - val_accuracy: 0.9679\n",
            "Epoch 8/100\n",
            "391/391 [==============================] - 1s 3ms/step - loss: 0.0773 - accuracy: 0.9776 - val_loss: 0.1125 - val_accuracy: 0.9678\n",
            "Epoch 9/100\n",
            "391/391 [==============================] - 1s 3ms/step - loss: 0.0695 - accuracy: 0.9803 - val_loss: 0.1042 - val_accuracy: 0.9699\n",
            "Epoch 10/100\n",
            "391/391 [==============================] - 1s 3ms/step - loss: 0.0619 - accuracy: 0.9826 - val_loss: 0.1038 - val_accuracy: 0.9701\n",
            "Epoch 11/100\n",
            "391/391 [==============================] - 1s 3ms/step - loss: 0.0565 - accuracy: 0.9839 - val_loss: 0.1021 - val_accuracy: 0.9699\n",
            "Epoch 12/100\n",
            "391/391 [==============================] - 1s 3ms/step - loss: 0.0510 - accuracy: 0.9850 - val_loss: 0.0981 - val_accuracy: 0.9709\n",
            "Epoch 13/100\n",
            "391/391 [==============================] - 1s 3ms/step - loss: 0.0460 - accuracy: 0.9870 - val_loss: 0.0972 - val_accuracy: 0.9726\n",
            "Epoch 14/100\n",
            "391/391 [==============================] - 1s 3ms/step - loss: 0.0418 - accuracy: 0.9884 - val_loss: 0.1008 - val_accuracy: 0.9710\n",
            "Epoch 15/100\n",
            "391/391 [==============================] - 1s 3ms/step - loss: 0.0377 - accuracy: 0.9897 - val_loss: 0.1009 - val_accuracy: 0.9720\n",
            "Epoch 16/100\n",
            "391/391 [==============================] - 1s 3ms/step - loss: 0.0347 - accuracy: 0.9907 - val_loss: 0.0970 - val_accuracy: 0.9712\n",
            "Epoch 17/100\n",
            "391/391 [==============================] - 1s 3ms/step - loss: 0.0306 - accuracy: 0.9921 - val_loss: 0.0973 - val_accuracy: 0.9727\n",
            "Epoch 18/100\n",
            "391/391 [==============================] - 1s 3ms/step - loss: 0.0285 - accuracy: 0.9927 - val_loss: 0.1007 - val_accuracy: 0.9728\n",
            "Epoch 19/100\n",
            "391/391 [==============================] - 1s 3ms/step - loss: 0.0253 - accuracy: 0.9936 - val_loss: 0.0996 - val_accuracy: 0.9724\n",
            "Epoch 20/100\n",
            "391/391 [==============================] - 1s 3ms/step - loss: 0.0224 - accuracy: 0.9950 - val_loss: 0.1040 - val_accuracy: 0.9719\n",
            "Epoch 21/100\n",
            "391/391 [==============================] - 1s 3ms/step - loss: 0.0209 - accuracy: 0.9951 - val_loss: 0.1069 - val_accuracy: 0.9723\n",
            "Epoch 22/100\n",
            "391/391 [==============================] - 1s 3ms/step - loss: 0.0192 - accuracy: 0.9954 - val_loss: 0.1093 - val_accuracy: 0.9724\n",
            "Epoch 23/100\n",
            "391/391 [==============================] - 1s 3ms/step - loss: 0.0178 - accuracy: 0.9961 - val_loss: 0.1029 - val_accuracy: 0.9730\n",
            "Epoch 24/100\n",
            "391/391 [==============================] - 1s 3ms/step - loss: 0.0151 - accuracy: 0.9971 - val_loss: 0.1013 - val_accuracy: 0.9732\n",
            "Epoch 25/100\n",
            "391/391 [==============================] - 1s 3ms/step - loss: 0.0146 - accuracy: 0.9973 - val_loss: 0.1064 - val_accuracy: 0.9727\n",
            "Epoch 26/100\n",
            "391/391 [==============================] - 1s 3ms/step - loss: 0.0126 - accuracy: 0.9979 - val_loss: 0.1053 - val_accuracy: 0.9731\n",
            "Best epoch: 16\n",
            "Epoch 1/19\n",
            "469/469 [==============================] - 2s 3ms/step - loss: 0.4288 - accuracy: 0.8825\n",
            "Epoch 2/19\n",
            "469/469 [==============================] - 1s 3ms/step - loss: 0.2029 - accuracy: 0.9418\n",
            "Epoch 3/19\n",
            "469/469 [==============================] - 1s 3ms/step - loss: 0.1531 - accuracy: 0.9561\n",
            "Epoch 4/19\n",
            "469/469 [==============================] - 1s 3ms/step - loss: 0.1249 - accuracy: 0.9638\n",
            "Epoch 5/19\n",
            "469/469 [==============================] - 1s 3ms/step - loss: 0.1050 - accuracy: 0.9695\n",
            "Epoch 6/19\n",
            "469/469 [==============================] - 1s 3ms/step - loss: 0.0911 - accuracy: 0.9732\n",
            "Epoch 7/19\n",
            "469/469 [==============================] - 1s 3ms/step - loss: 0.0807 - accuracy: 0.9762\n",
            "Epoch 8/19\n",
            "469/469 [==============================] - 1s 3ms/step - loss: 0.0723 - accuracy: 0.9787\n",
            "Epoch 9/19\n",
            "469/469 [==============================] - 1s 3ms/step - loss: 0.0640 - accuracy: 0.9808\n",
            "Epoch 10/19\n",
            "469/469 [==============================] - 1s 3ms/step - loss: 0.0585 - accuracy: 0.9828\n",
            "Epoch 11/19\n",
            "469/469 [==============================] - 1s 3ms/step - loss: 0.0522 - accuracy: 0.9849\n",
            "Epoch 12/19\n",
            "469/469 [==============================] - 1s 3ms/step - loss: 0.0474 - accuracy: 0.9868\n",
            "Epoch 13/19\n",
            "469/469 [==============================] - 1s 3ms/step - loss: 0.0432 - accuracy: 0.9876\n",
            "Epoch 14/19\n",
            "469/469 [==============================] - 1s 3ms/step - loss: 0.0394 - accuracy: 0.9890\n",
            "Epoch 15/19\n",
            "469/469 [==============================] - 1s 3ms/step - loss: 0.0360 - accuracy: 0.9900\n",
            "Epoch 16/19\n",
            "469/469 [==============================] - 1s 3ms/step - loss: 0.0330 - accuracy: 0.9911\n",
            "Epoch 17/19\n",
            "469/469 [==============================] - 1s 3ms/step - loss: 0.0296 - accuracy: 0.9920\n",
            "Epoch 18/19\n",
            "469/469 [==============================] - 1s 3ms/step - loss: 0.0273 - accuracy: 0.9925\n",
            "Epoch 19/19\n",
            "469/469 [==============================] - 1s 3ms/step - loss: 0.0244 - accuracy: 0.9940\n",
            "313/313 [==============================] - 1s 2ms/step - loss: 0.0985 - accuracy: 0.9722\n",
            "Epoch 1/100\n",
            "391/391 [==============================] - 2s 4ms/step - loss: 0.4693 - accuracy: 0.8703 - val_loss: 0.2442 - val_accuracy: 0.9313\n",
            "Epoch 2/100\n",
            "391/391 [==============================] - 1s 3ms/step - loss: 0.2308 - accuracy: 0.9342 - val_loss: 0.1925 - val_accuracy: 0.9491\n",
            "Epoch 3/100\n",
            "391/391 [==============================] - 1s 3ms/step - loss: 0.1792 - accuracy: 0.9486 - val_loss: 0.1630 - val_accuracy: 0.9545\n",
            "Epoch 4/100\n",
            "391/391 [==============================] - 1s 3ms/step - loss: 0.1488 - accuracy: 0.9575 - val_loss: 0.1412 - val_accuracy: 0.9606\n",
            "Epoch 5/100\n",
            "391/391 [==============================] - 1s 3ms/step - loss: 0.1253 - accuracy: 0.9640 - val_loss: 0.1307 - val_accuracy: 0.9633\n",
            "Epoch 6/100\n",
            "391/391 [==============================] - 1s 4ms/step - loss: 0.1084 - accuracy: 0.9683 - val_loss: 0.1227 - val_accuracy: 0.9654\n",
            "Epoch 7/100\n",
            "391/391 [==============================] - 1s 4ms/step - loss: 0.0950 - accuracy: 0.9725 - val_loss: 0.1172 - val_accuracy: 0.9670\n",
            "Epoch 8/100\n",
            "391/391 [==============================] - 1s 4ms/step - loss: 0.0852 - accuracy: 0.9755 - val_loss: 0.1120 - val_accuracy: 0.9679\n",
            "Epoch 9/100\n",
            "391/391 [==============================] - 1s 3ms/step - loss: 0.0755 - accuracy: 0.9785 - val_loss: 0.1064 - val_accuracy: 0.9692\n",
            "Epoch 10/100\n",
            "391/391 [==============================] - 1s 3ms/step - loss: 0.0676 - accuracy: 0.9802 - val_loss: 0.1047 - val_accuracy: 0.9701\n",
            "Epoch 11/100\n",
            "391/391 [==============================] - 1s 3ms/step - loss: 0.0607 - accuracy: 0.9827 - val_loss: 0.1053 - val_accuracy: 0.9693\n",
            "Epoch 12/100\n",
            "391/391 [==============================] - 1s 3ms/step - loss: 0.0549 - accuracy: 0.9848 - val_loss: 0.1030 - val_accuracy: 0.9704\n",
            "Epoch 13/100\n",
            "391/391 [==============================] - 1s 3ms/step - loss: 0.0500 - accuracy: 0.9860 - val_loss: 0.0984 - val_accuracy: 0.9706\n",
            "Epoch 14/100\n",
            "391/391 [==============================] - 1s 3ms/step - loss: 0.0447 - accuracy: 0.9878 - val_loss: 0.0993 - val_accuracy: 0.9715\n",
            "Epoch 15/100\n",
            "391/391 [==============================] - 1s 3ms/step - loss: 0.0407 - accuracy: 0.9890 - val_loss: 0.0977 - val_accuracy: 0.9715\n",
            "Epoch 16/100\n",
            "391/391 [==============================] - 1s 3ms/step - loss: 0.0375 - accuracy: 0.9897 - val_loss: 0.0991 - val_accuracy: 0.9715\n",
            "Epoch 17/100\n",
            "391/391 [==============================] - 1s 3ms/step - loss: 0.0338 - accuracy: 0.9908 - val_loss: 0.1004 - val_accuracy: 0.9706\n",
            "Epoch 18/100\n",
            "391/391 [==============================] - 1s 3ms/step - loss: 0.0303 - accuracy: 0.9926 - val_loss: 0.0996 - val_accuracy: 0.9715\n",
            "Epoch 19/100\n",
            "391/391 [==============================] - 1s 3ms/step - loss: 0.0275 - accuracy: 0.9932 - val_loss: 0.0996 - val_accuracy: 0.9728\n",
            "Epoch 20/100\n",
            "391/391 [==============================] - 1s 3ms/step - loss: 0.0259 - accuracy: 0.9934 - val_loss: 0.1000 - val_accuracy: 0.9720\n",
            "Epoch 21/100\n",
            "391/391 [==============================] - 1s 3ms/step - loss: 0.0230 - accuracy: 0.9948 - val_loss: 0.1014 - val_accuracy: 0.9719\n",
            "Epoch 22/100\n",
            "391/391 [==============================] - 1s 3ms/step - loss: 0.0208 - accuracy: 0.9953 - val_loss: 0.1045 - val_accuracy: 0.9723\n",
            "Epoch 23/100\n",
            "391/391 [==============================] - 1s 4ms/step - loss: 0.0187 - accuracy: 0.9960 - val_loss: 0.1007 - val_accuracy: 0.9722\n",
            "Epoch 24/100\n",
            "391/391 [==============================] - 1s 3ms/step - loss: 0.0172 - accuracy: 0.9964 - val_loss: 0.1086 - val_accuracy: 0.9712\n",
            "Epoch 25/100\n",
            "391/391 [==============================] - 1s 4ms/step - loss: 0.0157 - accuracy: 0.9970 - val_loss: 0.1035 - val_accuracy: 0.9727\n",
            "Best epoch: 15\n",
            "Epoch 1/18\n",
            "469/469 [==============================] - 2s 3ms/step - loss: 0.4259 - accuracy: 0.8829\n",
            "Epoch 2/18\n",
            "469/469 [==============================] - 1s 3ms/step - loss: 0.2136 - accuracy: 0.9398\n",
            "Epoch 3/18\n",
            "469/469 [==============================] - 1s 3ms/step - loss: 0.1651 - accuracy: 0.9533\n",
            "Epoch 4/18\n",
            "469/469 [==============================] - 1s 3ms/step - loss: 0.1365 - accuracy: 0.9612\n",
            "Epoch 5/18\n",
            "469/469 [==============================] - 1s 3ms/step - loss: 0.1150 - accuracy: 0.9668\n",
            "Epoch 6/18\n",
            "469/469 [==============================] - 1s 3ms/step - loss: 0.1001 - accuracy: 0.9711\n",
            "Epoch 7/18\n",
            "469/469 [==============================] - 2s 4ms/step - loss: 0.0866 - accuracy: 0.9747\n",
            "Epoch 8/18\n",
            "469/469 [==============================] - 1s 3ms/step - loss: 0.0767 - accuracy: 0.9778\n",
            "Epoch 9/18\n",
            "469/469 [==============================] - 1s 3ms/step - loss: 0.0678 - accuracy: 0.9801\n",
            "Epoch 10/18\n",
            "469/469 [==============================] - 1s 3ms/step - loss: 0.0607 - accuracy: 0.9820\n",
            "Epoch 11/18\n",
            "469/469 [==============================] - 1s 3ms/step - loss: 0.0538 - accuracy: 0.9844\n",
            "Epoch 12/18\n",
            "469/469 [==============================] - 1s 3ms/step - loss: 0.0489 - accuracy: 0.9858\n",
            "Epoch 13/18\n",
            "469/469 [==============================] - 1s 3ms/step - loss: 0.0441 - accuracy: 0.9877\n",
            "Epoch 14/18\n",
            "469/469 [==============================] - 1s 3ms/step - loss: 0.0403 - accuracy: 0.9887\n",
            "Epoch 15/18\n",
            "469/469 [==============================] - 1s 3ms/step - loss: 0.0358 - accuracy: 0.9899\n",
            "Epoch 16/18\n",
            "469/469 [==============================] - 1s 3ms/step - loss: 0.0325 - accuracy: 0.9912\n",
            "Epoch 17/18\n",
            "469/469 [==============================] - 1s 3ms/step - loss: 0.0307 - accuracy: 0.9913\n",
            "Epoch 18/18\n",
            "469/469 [==============================] - 1s 3ms/step - loss: 0.0272 - accuracy: 0.9930\n",
            "313/313 [==============================] - 1s 2ms/step - loss: 0.0880 - accuracy: 0.9745\n"
          ]
        }
      ],
      "source": [
        "def get_best_trained_model(hp):\n",
        "    best_epoch = get_best_epoch(hp)\n",
        "    model = build_model(hp)\n",
        "    model.fit(\n",
        "        x_train_full, y_train_full,\n",
        "        batch_size=128, epochs=int(best_epoch * 1.2))\n",
        "    return model\n",
        "\n",
        "best_models = []\n",
        "for hp in best_hps:\n",
        "    model = get_best_trained_model(hp)\n",
        "    model.evaluate(x_test, y_test)\n",
        "    best_models.append(model)"
      ]
    },
    {
      "cell_type": "code",
      "source": [
        "best_models"
      ],
      "metadata": {
        "colab": {
          "base_uri": "https://localhost:8080/"
        },
        "id": "n2q4bcJSSAmy",
        "outputId": "5f234cb4-803b-48a6-93af-b396f8fc7bd0"
      },
      "execution_count": null,
      "outputs": [
        {
          "output_type": "execute_result",
          "data": {
            "text/plain": [
              "[<keras.engine.sequential.Sequential at 0x7f0c6a1a6280>,\n",
              " <keras.engine.sequential.Sequential at 0x7f0c6a1a6eb0>,\n",
              " <keras.engine.sequential.Sequential at 0x7f0c52f8c700>,\n",
              " <keras.engine.sequential.Sequential at 0x7f0c6a48f250>]"
            ]
          },
          "metadata": {},
          "execution_count": 13
        }
      ]
    },
    {
      "cell_type": "code",
      "execution_count": null,
      "metadata": {
        "colab": {
          "base_uri": "https://localhost:8080/"
        },
        "id": "_I6-m4L61O6R",
        "outputId": "90d07b19-d024-4098-ac98-ced6fdbe9787"
      },
      "outputs": [
        {
          "output_type": "execute_result",
          "data": {
            "text/plain": [
              "[<keras.engine.sequential.Sequential at 0x7f0c528b6a30>,\n",
              " <keras.engine.sequential.Sequential at 0x7f0c528b6490>,\n",
              " <keras.engine.sequential.Sequential at 0x7f0c6a38eca0>,\n",
              " <keras.engine.sequential.Sequential at 0x7f0c52890820>]"
            ]
          },
          "metadata": {},
          "execution_count": 14
        }
      ],
      "source": [
        "best_models = tuner.get_best_models(top_n)\n",
        "best_models"
      ]
    },
    {
      "cell_type": "markdown",
      "source": [
        "---"
      ],
      "metadata": {
        "id": "IPDlIYTK840v"
      }
    }
  ],
  "metadata": {
    "colab": {
      "provenance": [],
      "toc_visible": true,
      "include_colab_link": true
    },
    "kernelspec": {
      "display_name": "Python 3",
      "language": "python",
      "name": "python3"
    },
    "language_info": {
      "codemirror_mode": {
        "name": "ipython",
        "version": 3
      },
      "file_extension": ".py",
      "mimetype": "text/x-python",
      "name": "python",
      "nbconvert_exporter": "python",
      "pygments_lexer": "ipython3",
      "version": "3.7.0"
    },
    "accelerator": "GPU",
    "gpuClass": "standard"
  },
  "nbformat": 4,
  "nbformat_minor": 0
}