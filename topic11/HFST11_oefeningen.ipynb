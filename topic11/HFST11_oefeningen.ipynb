{
  "nbformat": 4,
  "nbformat_minor": 0,
  "metadata": {
    "colab": {
      "provenance": [],
      "authorship_tag": "ABX9TyNrasdSK4WqS+5zyRIQOLtH",
      "include_colab_link": true
    },
    "kernelspec": {
      "name": "python3",
      "display_name": "Python 3"
    },
    "language_info": {
      "name": "python"
    }
  },
  "cells": [
    {
      "cell_type": "markdown",
      "metadata": {
        "id": "view-in-github",
        "colab_type": "text"
      },
      "source": [
        "<a href=\"https://colab.research.google.com/github/alouwyck/vives-deep-learning/blob/main/topic11/HFST11_oefeningen.ipynb\" target=\"_parent\"><img src=\"https://colab.research.google.com/assets/colab-badge.svg\" alt=\"Open In Colab\"/></a>"
      ]
    },
    {
      "cell_type": "markdown",
      "metadata": {
        "id": "p34cmLp6FrA6"
      },
      "source": [
        "<img src=\"data:image/png;base64,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\" align=\"right\" /><br>\n",
        "\n",
        "\n",
        "**DEEP LEARNING**<br>\n",
        "Academiejaar 2022-2023<br>\n",
        "Andy Louwyck\n",
        "\n",
        "---\n",
        "\n",
        "\n",
        "\n",
        "---\n",
        "\n"
      ]
    },
    {
      "cell_type": "markdown",
      "metadata": {
        "id": "DHZbFcxH-Qa2"
      },
      "source": [
        "# 11. Deep learning for text: Oefeningen"
      ]
    },
    {
      "cell_type": "markdown",
      "source": [
        "## Oefening 1"
      ],
      "metadata": {
        "id": "UhFS20MEYZy-"
      }
    },
    {
      "cell_type": "markdown",
      "source": [
        "Hieronder zie je een lijst met strings. De strings zijn [Haiku's](https://examples.yourdictionary.com/examples-of-haiku-poems.html), een vorm van Japanse dichtkunst.\n",
        "\n",
        "- Print de Haiku's mooi onder elkaar uit.\n",
        "- Pas tokenization en stemming toe op de strings en print het resultaat uit.\n",
        "- Pas tokenization en lemmatization toe op de strings en print het resultaat uit.\n",
        "\n",
        "Ga na wat het verschil is tussen het resultaat van stemming en dat van lemmatization. Zorg ervoor dat in beide gevallen de leestekens zijn verwijderd en dat er geen hoofdletters meer voorkomen in de strings. Je kan hiervoor gebruik maken van `string.punctuation` en string methode `lower()`. Schrijf Pythonic code door gebruik te maken van list comprehensions!\n",
        "\n",
        "Maak gebruik van de NLTK library. De volgende links kunnen je op weg helpen:\n",
        "\n",
        "- https://www.nltk.org/api/nltk.tokenize.html\n",
        "- https://www.nltk.org/howto/stem.html\n",
        "- https://www.holisticseo.digital/python-seo/nltk/lemmatize\n",
        "\n",
        "\n",
        "\n"
      ],
      "metadata": {
        "id": "xfVIQBJvBI-_"
      }
    },
    {
      "cell_type": "code",
      "source": [
        "haikus = [\"Autumn moonlight -\\na worm digs silently\\ninto the chestnut.\",\n",
        "          \"In the moonlight,\\nThe color and scent of the wisteria\\nSeems far away.\",\n",
        "          \"Light of the moon\\nMoves west, flowers' shadows\\nCreep eastward.\",\n",
        "          \"A summer river being crossed\\nhow pleasing\\nwith sandals in my hands!\",\n",
        "          \"The summer river:\\nalthough there is a bridge, my horse\\ngoes through the water.\"]"
      ],
      "metadata": {
        "id": "XKF1QdZcbERo"
      },
      "execution_count": null,
      "outputs": []
    },
    {
      "cell_type": "markdown",
      "source": [
        "### Oplossing"
      ],
      "metadata": {
        "id": "pKowBi5aCNbH"
      }
    },
    {
      "cell_type": "code",
      "source": [
        "# uitprinten\n",
        "for haiku in haikus:\n",
        "    print(haiku)\n",
        "    print()"
      ],
      "metadata": {
        "colab": {
          "base_uri": "https://localhost:8080/"
        },
        "id": "1VFS_rlxkB3b",
        "outputId": "b69445a5-a674-46da-c65d-f1bd7b43c1bb"
      },
      "execution_count": null,
      "outputs": [
        {
          "output_type": "stream",
          "name": "stdout",
          "text": [
            "Autumn moonlight -\n",
            "a worm digs silently\n",
            "into the chestnut.\n",
            "\n",
            "In the moonlight,\n",
            "The color and scent of the wisteria\n",
            "Seems far away.\n",
            "\n",
            "Light of the moon\n",
            "Moves west, flowers' shadows\n",
            "Creep eastward.\n",
            "\n",
            "A summer river being crossed\n",
            "how pleasing\n",
            "with sandals in my hands!\n",
            "\n",
            "The summer river:\n",
            "although there is a bridge, my horse\n",
            "goes through the water.\n",
            "\n"
          ]
        }
      ]
    },
    {
      "cell_type": "code",
      "source": [
        "# stemming\n",
        "import string\n",
        "from nltk.tokenize import wordpunct_tokenize\n",
        "from nltk.stem.porter import PorterStemmer\n",
        "\n",
        "stemmer = PorterStemmer()\n",
        "docs = [[stemmer.stem(word) for word in wordpunct_tokenize(haiku)\n",
        "         if word not in string.punctuation]\n",
        "        for haiku in haikus]\n",
        "\n",
        "for doc in docs:\n",
        "    print(\" \".join(doc))\n",
        "print()"
      ],
      "metadata": {
        "colab": {
          "base_uri": "https://localhost:8080/"
        },
        "id": "IKXtiI-Nbk4B",
        "outputId": "cfca5f74-1333-4e55-d395-c80cb2ffe68e"
      },
      "execution_count": null,
      "outputs": [
        {
          "output_type": "stream",
          "name": "stdout",
          "text": [
            "autumn moonlight a worm dig silent into the chestnut\n",
            "in the moonlight the color and scent of the wisteria seem far away\n",
            "light of the moon move west flower shadow creep eastward\n",
            "a summer river be cross how pleas with sandal in my hand\n",
            "the summer river although there is a bridg my hors goe through the water\n"
          ]
        }
      ]
    },
    {
      "cell_type": "code",
      "source": [
        "# lemmatization\n",
        "import nltk\n",
        "from nltk.stem import WordNetLemmatizer\n",
        "\n",
        "nltk.download(\"wordnet\")\n",
        "lemmatizer = WordNetLemmatizer()\n",
        "docs = [[lemmatizer.lemmatize(word).lower() for word in wordpunct_tokenize(haiku)\n",
        "         if word not in string.punctuation]\n",
        "        for haiku in haikus]\n",
        "\n",
        "for doc in docs:\n",
        "    print(\" \".join(doc))\n",
        "print()"
      ],
      "metadata": {
        "colab": {
          "base_uri": "https://localhost:8080/"
        },
        "id": "LzoFXcOH0PGN",
        "outputId": "99d27afd-4135-4b5e-dc9b-ca5f07dce85f"
      },
      "execution_count": null,
      "outputs": [
        {
          "output_type": "stream",
          "name": "stdout",
          "text": [
            "autumn moonlight a worm dig silently into the chestnut\n",
            "in the moonlight the color and scent of the wisteria seems far away\n",
            "light of the moon moves west flower shadow creep eastward\n",
            "a summer river being crossed how pleasing with sandal in my hand\n",
            "the summer river although there is a bridge my horse go through the water\n",
            "\n"
          ]
        },
        {
          "output_type": "stream",
          "name": "stderr",
          "text": [
            "[nltk_data] Downloading package wordnet to /root/nltk_data...\n",
            "[nltk_data]   Package wordnet is already up-to-date!\n"
          ]
        }
      ]
    },
    {
      "cell_type": "markdown",
      "source": [
        "## Oefening 2"
      ],
      "metadata": {
        "id": "E3e2NWZAgWgY"
      }
    },
    {
      "cell_type": "markdown",
      "source": [
        "Hieronder zie je een lijst die 2 strings bevat. De strings bestaan uit woorden die kleuren voorstellen.\n",
        "\n",
        "1. Standaardiseer de strings.\n",
        "2. Splits de strings op het niveau van de woorden (word-level tokenization).\n",
        "3. Stel de vocabulary op (en voeg mask en OOV token toe!).\n",
        "4. Maak gebruik van de vocabulary om de gesplitste strings te vectoriseren naar:\n",
        "  - integer vectoren (+ padding!);\n",
        "  - one-hot encoded matrices;\n",
        "  - een document-term matrix (DTM);\n",
        "  - een multi-hot encoded matrix;\n",
        "  - een TF-IDF matrix.\n",
        "\n",
        "Schrijf eerst je eigen code. Doe dan hetzelfde m.b.v. de Keras `TextVectorizer` layer. Voor de one-hot encoding kan je gebruik maken van function `tensorflow.one_hot()`.\n",
        "\n",
        "(Herinner je dat we in het vak Machine Learning Fundamentals gebruik hebben gemaakt van de `CountVectorizer` klasse uit Scikit-Learn module `feature_extraction.text` voor het opstellen van een DTM).\n",
        "\n",
        "\n"
      ],
      "metadata": {
        "id": "CRYo4NjQDaZa"
      }
    },
    {
      "cell_type": "code",
      "source": [
        "kleuren = [\"rood groen blauw geel zwart wit blauw geel wit rood\",\n",
        "           \"ROOD, BLAUW, ROOD, PAARS, ROOD, ZWART, BLAUW\"]"
      ],
      "metadata": {
        "id": "cCZO-8hvgYwJ"
      },
      "execution_count": null,
      "outputs": []
    },
    {
      "cell_type": "markdown",
      "source": [
        "### Oplossing"
      ],
      "metadata": {
        "id": "HJ0x00l03jeJ"
      }
    },
    {
      "cell_type": "markdown",
      "source": [
        "**Eigen code**"
      ],
      "metadata": {
        "id": "5XOEQ4gC3oB8"
      }
    },
    {
      "cell_type": "code",
      "source": [
        "# standardization + tokenization\n",
        "import re\n",
        "docs = [re.sub(r'[^\\w\\s]', '', doc.lower()).strip().split() for doc in kleuren]\n",
        "for doc in docs:\n",
        "    print(doc)"
      ],
      "metadata": {
        "colab": {
          "base_uri": "https://localhost:8080/"
        },
        "id": "rnF4d13Vhjul",
        "outputId": "13aed395-0de2-4e9f-de5e-426236e037a8"
      },
      "execution_count": null,
      "outputs": [
        {
          "output_type": "stream",
          "name": "stdout",
          "text": [
            "['rood', 'groen', 'blauw', 'geel', 'zwart', 'wit', 'blauw', 'geel', 'wit', 'rood']\n",
            "['rood', 'blauw', 'rood', 'paars', 'rood', 'zwart', 'blauw']\n"
          ]
        }
      ]
    },
    {
      "cell_type": "code",
      "source": [
        "# vocabulary indexing\n",
        "tokens = set([token for doc in docs for token in doc])\n",
        "voc = {token: i+2 for i, token in enumerate(tokens)}\n",
        "voc[''] = 0  # mask\n",
        "voc['[unk]'] = 1  # OOV\n",
        "voc"
      ],
      "metadata": {
        "colab": {
          "base_uri": "https://localhost:8080/"
        },
        "id": "J-5AjfDHhh-V",
        "outputId": "becacc9f-9cbb-4aa6-91af-9b9414252c66"
      },
      "execution_count": null,
      "outputs": [
        {
          "output_type": "execute_result",
          "data": {
            "text/plain": [
              "{'rood': 2,\n",
              " 'wit': 3,\n",
              " 'paars': 4,\n",
              " 'blauw': 5,\n",
              " 'zwart': 6,\n",
              " 'geel': 7,\n",
              " 'groen': 8,\n",
              " '': 0,\n",
              " '[unk]': 1}"
            ]
          },
          "metadata": {},
          "execution_count": 24
        }
      ]
    },
    {
      "cell_type": "code",
      "source": [
        "# integer vectors\n",
        "import numpy as np\n",
        "\n",
        "ndocs = len(kleuren)\n",
        "n = max([len(doc) for doc in docs])  # max lengte van een document\n",
        "ids = np.zeros((ndocs, n), dtype=int)\n",
        "for i, doc in enumerate(docs):\n",
        "    for j, token in enumerate(doc):\n",
        "        ids[i, j] = voc[token] if token in doc else voc['[unk]']\n",
        "ids"
      ],
      "metadata": {
        "colab": {
          "base_uri": "https://localhost:8080/"
        },
        "id": "xQoBuQaMiHLo",
        "outputId": "c615cb27-dfd7-463e-ee52-8493e9d34af2"
      },
      "execution_count": null,
      "outputs": [
        {
          "output_type": "execute_result",
          "data": {
            "text/plain": [
              "array([[2, 8, 5, 7, 6, 3, 5, 7, 3, 2],\n",
              "       [2, 5, 2, 4, 2, 6, 5, 0, 0, 0]])"
            ]
          },
          "metadata": {},
          "execution_count": 27
        }
      ]
    },
    {
      "cell_type": "code",
      "source": [
        "# one-hot encoding\n",
        "nvoc = len(voc)\n",
        "one_hot = np.zeros((ndocs, n, nvoc), dtype=int)\n",
        "for i, sample in enumerate(ids):\n",
        "    for j, id in enumerate(sample):\n",
        "        one_hot[i, j, id] = 1\n",
        "one_hot"
      ],
      "metadata": {
        "colab": {
          "base_uri": "https://localhost:8080/"
        },
        "id": "AO0CeQhIicLd",
        "outputId": "d9df70af-0166-4361-eab5-85a4fc955ead"
      },
      "execution_count": null,
      "outputs": [
        {
          "output_type": "execute_result",
          "data": {
            "text/plain": [
              "array([[[0, 0, 1, 0, 0, 0, 0, 0, 0],\n",
              "        [0, 0, 0, 0, 0, 0, 0, 0, 1],\n",
              "        [0, 0, 0, 0, 0, 1, 0, 0, 0],\n",
              "        [0, 0, 0, 0, 0, 0, 0, 1, 0],\n",
              "        [0, 0, 0, 0, 0, 0, 1, 0, 0],\n",
              "        [0, 0, 0, 1, 0, 0, 0, 0, 0],\n",
              "        [0, 0, 0, 0, 0, 1, 0, 0, 0],\n",
              "        [0, 0, 0, 0, 0, 0, 0, 1, 0],\n",
              "        [0, 0, 0, 1, 0, 0, 0, 0, 0],\n",
              "        [0, 0, 1, 0, 0, 0, 0, 0, 0]],\n",
              "\n",
              "       [[0, 0, 1, 0, 0, 0, 0, 0, 0],\n",
              "        [0, 0, 0, 0, 0, 1, 0, 0, 0],\n",
              "        [0, 0, 1, 0, 0, 0, 0, 0, 0],\n",
              "        [0, 0, 0, 0, 1, 0, 0, 0, 0],\n",
              "        [0, 0, 1, 0, 0, 0, 0, 0, 0],\n",
              "        [0, 0, 0, 0, 0, 0, 1, 0, 0],\n",
              "        [0, 0, 0, 0, 0, 1, 0, 0, 0],\n",
              "        [1, 0, 0, 0, 0, 0, 0, 0, 0],\n",
              "        [1, 0, 0, 0, 0, 0, 0, 0, 0],\n",
              "        [1, 0, 0, 0, 0, 0, 0, 0, 0]]])"
            ]
          },
          "metadata": {},
          "execution_count": 31
        }
      ]
    },
    {
      "cell_type": "code",
      "source": [
        "# DTM\n",
        "dtm = np.array([np.array([(i==id).sum() for i in range(2, nvoc)]) for id in ids])\n",
        "dtm"
      ],
      "metadata": {
        "colab": {
          "base_uri": "https://localhost:8080/"
        },
        "id": "OdBpaQ8pioW1",
        "outputId": "fcba9383-ad01-482e-d778-4e017ede678f"
      },
      "execution_count": null,
      "outputs": [
        {
          "output_type": "execute_result",
          "data": {
            "text/plain": [
              "array([[2, 2, 0, 2, 1, 2, 1],\n",
              "       [3, 0, 1, 2, 1, 0, 0]])"
            ]
          },
          "metadata": {},
          "execution_count": 36
        }
      ]
    },
    {
      "cell_type": "code",
      "source": [
        "# multi-hot encoding\n",
        "multi_hot = dtm.astype(bool).astype(int)\n",
        "multi_hot"
      ],
      "metadata": {
        "colab": {
          "base_uri": "https://localhost:8080/"
        },
        "id": "YfH68fVni-Bf",
        "outputId": "301496b6-5b05-4580-e95f-1c517efe9885"
      },
      "execution_count": null,
      "outputs": [
        {
          "output_type": "execute_result",
          "data": {
            "text/plain": [
              "array([[1, 1, 0, 1, 1, 1, 1],\n",
              "       [1, 0, 1, 1, 1, 0, 0]])"
            ]
          },
          "metadata": {},
          "execution_count": 37
        }
      ]
    },
    {
      "cell_type": "code",
      "source": [
        "# TF-IDF volgens boek\n",
        "tf_idf = dtm / np.log(dtm.sum(axis=0, keepdims=True) + 1)\n",
        "np.round(tf_idf, 4)"
      ],
      "metadata": {
        "colab": {
          "base_uri": "https://localhost:8080/"
        },
        "id": "ujob4z_LjCd2",
        "outputId": "063aaebf-fcab-419e-f107-9797473579c6"
      },
      "execution_count": null,
      "outputs": [
        {
          "output_type": "execute_result",
          "data": {
            "text/plain": [
              "array([[1.1162, 1.8205, 0.    , 1.2427, 0.9102, 1.8205, 1.4427],\n",
              "       [1.6743, 0.    , 1.4427, 1.2427, 0.9102, 0.    , 0.    ]])"
            ]
          },
          "metadata": {},
          "execution_count": 40
        }
      ]
    },
    {
      "cell_type": "code",
      "source": [
        "# TF-IDF volgens Keras\n",
        "# https://linux-blog.anracom.com/2021/10/11/tf-idf-which-formula-to-take-in-combination-with-the-keras-tokenizer/\n",
        "tf_idf_2 = dtm * np.log(1 + ndocs / (multi_hot.sum(axis=0, keepdims=True) + 1))\n",
        "np.round(tf_idf_2, 4)"
      ],
      "metadata": {
        "colab": {
          "base_uri": "https://localhost:8080/"
        },
        "id": "28pKsN-fjUXt",
        "outputId": "45ccb1ff-4cb9-4209-ae6a-9625e32aec92"
      },
      "execution_count": null,
      "outputs": [
        {
          "output_type": "execute_result",
          "data": {
            "text/plain": [
              "array([[1.0217, 1.3863, 0.    , 1.0217, 0.5108, 1.3863, 0.6931],\n",
              "       [1.5325, 0.    , 0.6931, 1.0217, 0.5108, 0.    , 0.    ]])"
            ]
          },
          "metadata": {},
          "execution_count": 41
        }
      ]
    },
    {
      "cell_type": "markdown",
      "source": [
        "**`TextVectorization` layer**"
      ],
      "metadata": {
        "id": "5hyerGxb4MuB"
      }
    },
    {
      "cell_type": "code",
      "source": [
        "# standardization + tokenization\n",
        "from tensorflow.keras.layers import TextVectorization\n",
        "\n",
        "text_vectorization_ids = TextVectorization(output_mode='int')\n",
        "text_vectorization_ids.adapt(kleuren)\n",
        "text_vectorization_ids.get_vocabulary()"
      ],
      "metadata": {
        "colab": {
          "base_uri": "https://localhost:8080/"
        },
        "id": "rpt5Tjcp-_8V",
        "outputId": "46f1705e-e85d-4143-d31a-8cdb2061cd64"
      },
      "execution_count": null,
      "outputs": [
        {
          "output_type": "execute_result",
          "data": {
            "text/plain": [
              "['', '[UNK]', 'rood', 'blauw', 'zwart', 'wit', 'geel', 'paars', 'groen']"
            ]
          },
          "metadata": {},
          "execution_count": 45
        }
      ]
    },
    {
      "cell_type": "code",
      "source": [
        "# integer vectors\n",
        "k_ids = text_vectorization_ids(kleuren)\n",
        "k_ids.numpy()"
      ],
      "metadata": {
        "colab": {
          "base_uri": "https://localhost:8080/"
        },
        "id": "PVEdBY0HAAoO",
        "outputId": "4b770096-4199-4354-9806-8bcbd6d48838"
      },
      "execution_count": null,
      "outputs": [
        {
          "output_type": "execute_result",
          "data": {
            "text/plain": [
              "array([[2, 8, 3, 6, 4, 5, 3, 6, 5, 2],\n",
              "       [2, 3, 2, 7, 2, 4, 3, 0, 0, 0]])"
            ]
          },
          "metadata": {},
          "execution_count": 62
        }
      ]
    },
    {
      "cell_type": "code",
      "source": [
        "# one-hot encoding\n",
        "import tensorflow as tf\n",
        "k_one_hot = tf.one_hot(k_ids, depth=len(voc))\n",
        "k_one_hot.numpy()"
      ],
      "metadata": {
        "colab": {
          "base_uri": "https://localhost:8080/"
        },
        "id": "10QAcRxPH-LC",
        "outputId": "56615e8d-64e3-4acf-b392-18ed43c26ae3"
      },
      "execution_count": null,
      "outputs": [
        {
          "output_type": "execute_result",
          "data": {
            "text/plain": [
              "array([[[0., 0., 1., 0., 0., 0., 0., 0., 0.],\n",
              "        [0., 0., 0., 0., 0., 0., 0., 0., 1.],\n",
              "        [0., 0., 0., 1., 0., 0., 0., 0., 0.],\n",
              "        [0., 0., 0., 0., 0., 0., 1., 0., 0.],\n",
              "        [0., 0., 0., 0., 1., 0., 0., 0., 0.],\n",
              "        [0., 0., 0., 0., 0., 1., 0., 0., 0.],\n",
              "        [0., 0., 0., 1., 0., 0., 0., 0., 0.],\n",
              "        [0., 0., 0., 0., 0., 0., 1., 0., 0.],\n",
              "        [0., 0., 0., 0., 0., 1., 0., 0., 0.],\n",
              "        [0., 0., 1., 0., 0., 0., 0., 0., 0.]],\n",
              "\n",
              "       [[0., 0., 1., 0., 0., 0., 0., 0., 0.],\n",
              "        [0., 0., 0., 1., 0., 0., 0., 0., 0.],\n",
              "        [0., 0., 1., 0., 0., 0., 0., 0., 0.],\n",
              "        [0., 0., 0., 0., 0., 0., 0., 1., 0.],\n",
              "        [0., 0., 1., 0., 0., 0., 0., 0., 0.],\n",
              "        [0., 0., 0., 0., 1., 0., 0., 0., 0.],\n",
              "        [0., 0., 0., 1., 0., 0., 0., 0., 0.],\n",
              "        [1., 0., 0., 0., 0., 0., 0., 0., 0.],\n",
              "        [1., 0., 0., 0., 0., 0., 0., 0., 0.],\n",
              "        [1., 0., 0., 0., 0., 0., 0., 0., 0.]]], dtype=float32)"
            ]
          },
          "metadata": {},
          "execution_count": 49
        }
      ]
    },
    {
      "cell_type": "code",
      "source": [
        "# DTM\n",
        "text_vectorization_dtm = TextVectorization(output_mode='count')\n",
        "text_vectorization_dtm.adapt(kleuren)\n",
        "k_dtm = text_vectorization_dtm(kleuren)\n",
        "k_dtm.numpy()"
      ],
      "metadata": {
        "colab": {
          "base_uri": "https://localhost:8080/"
        },
        "id": "5u6ijkV6AKtn",
        "outputId": "d6c0fc34-4f32-412d-ec7e-361655c31205"
      },
      "execution_count": null,
      "outputs": [
        {
          "output_type": "execute_result",
          "data": {
            "text/plain": [
              "array([[0., 2., 2., 1., 2., 2., 0., 1.],\n",
              "       [0., 3., 2., 1., 0., 0., 1., 0.]], dtype=float32)"
            ]
          },
          "metadata": {},
          "execution_count": 51
        }
      ]
    },
    {
      "cell_type": "code",
      "source": [
        "# multi-hot encoding\n",
        "text_vectorization_multi_hot = TextVectorization(output_mode='multi_hot')\n",
        "text_vectorization_multi_hot.adapt(kleuren)\n",
        "k_multi_hot = text_vectorization_multi_hot(kleuren)\n",
        "k_multi_hot.numpy()"
      ],
      "metadata": {
        "colab": {
          "base_uri": "https://localhost:8080/"
        },
        "id": "BL_uyMg3JpFR",
        "outputId": "7e15b110-48f5-4a88-83e0-a721ba23687b"
      },
      "execution_count": null,
      "outputs": [
        {
          "output_type": "execute_result",
          "data": {
            "text/plain": [
              "array([[0., 1., 1., 1., 1., 1., 0., 1.],\n",
              "       [0., 1., 1., 1., 0., 0., 1., 0.]], dtype=float32)"
            ]
          },
          "metadata": {},
          "execution_count": 52
        }
      ]
    },
    {
      "cell_type": "code",
      "source": [
        "# TF-IDF\n",
        "text_vectorization_tf_idf = TextVectorization(output_mode='tf_idf')\n",
        "text_vectorization_tf_idf.adapt(np.array(kleuren))\n",
        "k_tf_idf = text_vectorization_tf_idf(kleuren)\n",
        "np.round(k_tf_idf.numpy(), 4)"
      ],
      "metadata": {
        "colab": {
          "base_uri": "https://localhost:8080/"
        },
        "id": "iXxw5MFgJ8z-",
        "outputId": "b9c13685-20b5-4e94-9316-e0ff6b3a6c0b"
      },
      "execution_count": null,
      "outputs": [
        {
          "output_type": "execute_result",
          "data": {
            "text/plain": [
              "array([[0.    , 1.0217, 1.0217, 0.5108, 1.3863, 1.3863, 0.    , 0.6931],\n",
              "       [0.    , 1.5325, 1.0217, 0.5108, 0.    , 0.    , 0.6931, 0.    ]],\n",
              "      dtype=float32)"
            ]
          },
          "metadata": {},
          "execution_count": 57
        }
      ]
    },
    {
      "cell_type": "markdown",
      "source": [
        "## Oefening 3"
      ],
      "metadata": {
        "id": "IAGeGHCk6R_W"
      }
    },
    {
      "cell_type": "markdown",
      "source": [
        "Lees de file `'deep_learning_aliens.csv'` in. Het bevat tekstfragmenten van aliens en een indicatie van het bijhorende sentiment dat de fragmenten uitdrukken (`'happy'` of `'sad'`).\n",
        "\n",
        "Pas eerst logistic regression, multinomiale en Bernoulli naive Bayes toe om de tekstfragmenten te classificeren op hun sentiment. Stel daarna een eenvoudig feedforward netwerk op.\n",
        "\n",
        "Het gaat om een synthetische dataset zonder ruis. Het is dus perfect mogelijk om hier 100% nauwkeurigheid te halen. Je hoeft dus ook de dataset niet op te splitsen.\n",
        "\n",
        "Om je geheugen op te frissen: dit zijn de klassen die je nodig hebt voor logistic regression en naive Bayes:\n",
        "\n",
        "```python\n",
        "from sklearn.linear_model import LogisticRegression\n",
        "from sklearn.naive_bayes import MultinomialNB, BernoulliNB\n",
        "```\n"
      ],
      "metadata": {
        "id": "74_AeyDdBpWq"
      }
    },
    {
      "cell_type": "markdown",
      "source": [
        "### Oplossing"
      ],
      "metadata": {
        "id": "BrzGpTUN9Mur"
      }
    },
    {
      "cell_type": "markdown",
      "source": [
        "Ter info de code waarmee de dataset werd gecreëerd:"
      ],
      "metadata": {
        "id": "DX4rBV9VFP6A"
      }
    },
    {
      "cell_type": "code",
      "source": [
        "import numpy as np\n",
        "import pandas as pd\n",
        "np.random.seed(2022)\n",
        "\n",
        "# generate labels\n",
        "voc = np.array(['aack', 'beep', 'crack', 'kling', 'burp', 'dong', 'psss', 'ugh', 'pfff', 'djee'])  # vocabulary\n",
        "numbers = lambda: np.random.randint(0, 10, size=10)  # function to generate frequency for each word in vocabulary\n",
        "N = [numbers() for _ in range(10_000)]  #  generate frequencies for 10 000 samples\n",
        "scores = [num.sum() for num in N]  # score of each sample is the total number of words\n",
        "_, b = np.histogram(scores, bins=2)  # create histogram dividing up scores in two classes\n",
        "c = [int(score >= b[1]) for score in scores]  # assign integer labels to samples\n",
        "labels = np.array(['sad', 'happy'])[c]  # convert integer labels to text\n",
        "\n",
        "# create the text samples by shuffling the words and adding punctuations randomly\n",
        "punct = lambda lst: np.random.choice([' ', '? ', ' ', '! ', ' ', ', ', ' ', '; ', ' ', ' - ', ' ', ': '], len(lst))\n",
        "capit = lambda: np.random.choice([lambda s: s.upper(), lambda s: s.capitalize(), lambda s: s.lower()])\n",
        "text = []\n",
        "for num in N:\n",
        "    zin = [woord for woorden in [[voc[i]]*n for i, n in enumerate(num)] for woord in woorden]\n",
        "    np.random.shuffle(zin)\n",
        "    zin = np.array([capit()(word) for word in zin])[:, np.newaxis]\n",
        "    tekens = punct(zin)[:, np.newaxis]\n",
        "    text.append(\"\".join(np.hstack((zin, tekens)).flatten()))\n",
        "\n",
        "# write samples and labels to dataframe and to csv-file\n",
        "df = pd.DataFrame(dict(text=text, sentiment=labels))\n",
        "df.to_csv(\"deep_learning_aliens.csv\")"
      ],
      "metadata": {
        "id": "w1z6_JYIoGSI"
      },
      "execution_count": null,
      "outputs": []
    },
    {
      "cell_type": "markdown",
      "source": [
        "De eigenlijke oplossing:"
      ],
      "metadata": {
        "id": "WwYJw3rzFi91"
      }
    },
    {
      "cell_type": "code",
      "source": [
        "# import statements\n",
        "import numpy as np\n",
        "import pandas as pd"
      ],
      "metadata": {
        "id": "QaZuZ9Xh9Log"
      },
      "execution_count": null,
      "outputs": []
    },
    {
      "cell_type": "code",
      "source": [
        "# reading csv-file\n",
        "df = pd.read_csv(\"deep_learning_aliens.csv\")\n",
        "df.head()"
      ],
      "metadata": {
        "colab": {
          "base_uri": "https://localhost:8080/",
          "height": 206
        },
        "id": "J8EU2-BZul8C",
        "outputId": "d81b7123-87bd-4067-fc26-a0f53669d0a1"
      },
      "execution_count": null,
      "outputs": [
        {
          "output_type": "execute_result",
          "data": {
            "text/plain": [
              "   Unnamed: 0                                               text sentiment\n",
              "0           0  psss; djee! dong Djee Burp, Djee ugh - Ugh: UG...       sad\n",
              "1           1  KLING; Kling: aack - BEEP: AACK kling AACK pss...       sad\n",
              "2           2  burp! burp! AACK - DJEE Ugh psss! aack KLING! ...       sad\n",
              "3           3  Psss: Crack Beep! AACK; PSSS AACK - psss? Dong...       sad\n",
              "4           4  kling DONG DONG, Dong PFFF Dong CRACK? Aack Dj...     happy"
            ],
            "text/html": [
              "\n",
              "  <div id=\"df-152e4816-0d72-46a1-a80a-4d05ff0de09d\">\n",
              "    <div class=\"colab-df-container\">\n",
              "      <div>\n",
              "<style scoped>\n",
              "    .dataframe tbody tr th:only-of-type {\n",
              "        vertical-align: middle;\n",
              "    }\n",
              "\n",
              "    .dataframe tbody tr th {\n",
              "        vertical-align: top;\n",
              "    }\n",
              "\n",
              "    .dataframe thead th {\n",
              "        text-align: right;\n",
              "    }\n",
              "</style>\n",
              "<table border=\"1\" class=\"dataframe\">\n",
              "  <thead>\n",
              "    <tr style=\"text-align: right;\">\n",
              "      <th></th>\n",
              "      <th>Unnamed: 0</th>\n",
              "      <th>text</th>\n",
              "      <th>sentiment</th>\n",
              "    </tr>\n",
              "  </thead>\n",
              "  <tbody>\n",
              "    <tr>\n",
              "      <th>0</th>\n",
              "      <td>0</td>\n",
              "      <td>psss; djee! dong Djee Burp, Djee ugh - Ugh: UG...</td>\n",
              "      <td>sad</td>\n",
              "    </tr>\n",
              "    <tr>\n",
              "      <th>1</th>\n",
              "      <td>1</td>\n",
              "      <td>KLING; Kling: aack - BEEP: AACK kling AACK pss...</td>\n",
              "      <td>sad</td>\n",
              "    </tr>\n",
              "    <tr>\n",
              "      <th>2</th>\n",
              "      <td>2</td>\n",
              "      <td>burp! burp! AACK - DJEE Ugh psss! aack KLING! ...</td>\n",
              "      <td>sad</td>\n",
              "    </tr>\n",
              "    <tr>\n",
              "      <th>3</th>\n",
              "      <td>3</td>\n",
              "      <td>Psss: Crack Beep! AACK; PSSS AACK - psss? Dong...</td>\n",
              "      <td>sad</td>\n",
              "    </tr>\n",
              "    <tr>\n",
              "      <th>4</th>\n",
              "      <td>4</td>\n",
              "      <td>kling DONG DONG, Dong PFFF Dong CRACK? Aack Dj...</td>\n",
              "      <td>happy</td>\n",
              "    </tr>\n",
              "  </tbody>\n",
              "</table>\n",
              "</div>\n",
              "      <button class=\"colab-df-convert\" onclick=\"convertToInteractive('df-152e4816-0d72-46a1-a80a-4d05ff0de09d')\"\n",
              "              title=\"Convert this dataframe to an interactive table.\"\n",
              "              style=\"display:none;\">\n",
              "        \n",
              "  <svg xmlns=\"http://www.w3.org/2000/svg\" height=\"24px\"viewBox=\"0 0 24 24\"\n",
              "       width=\"24px\">\n",
              "    <path d=\"M0 0h24v24H0V0z\" fill=\"none\"/>\n",
              "    <path d=\"M18.56 5.44l.94 2.06.94-2.06 2.06-.94-2.06-.94-.94-2.06-.94 2.06-2.06.94zm-11 1L8.5 8.5l.94-2.06 2.06-.94-2.06-.94L8.5 2.5l-.94 2.06-2.06.94zm10 10l.94 2.06.94-2.06 2.06-.94-2.06-.94-.94-2.06-.94 2.06-2.06.94z\"/><path d=\"M17.41 7.96l-1.37-1.37c-.4-.4-.92-.59-1.43-.59-.52 0-1.04.2-1.43.59L10.3 9.45l-7.72 7.72c-.78.78-.78 2.05 0 2.83L4 21.41c.39.39.9.59 1.41.59.51 0 1.02-.2 1.41-.59l7.78-7.78 2.81-2.81c.8-.78.8-2.07 0-2.86zM5.41 20L4 18.59l7.72-7.72 1.47 1.35L5.41 20z\"/>\n",
              "  </svg>\n",
              "      </button>\n",
              "      \n",
              "  <style>\n",
              "    .colab-df-container {\n",
              "      display:flex;\n",
              "      flex-wrap:wrap;\n",
              "      gap: 12px;\n",
              "    }\n",
              "\n",
              "    .colab-df-convert {\n",
              "      background-color: #E8F0FE;\n",
              "      border: none;\n",
              "      border-radius: 50%;\n",
              "      cursor: pointer;\n",
              "      display: none;\n",
              "      fill: #1967D2;\n",
              "      height: 32px;\n",
              "      padding: 0 0 0 0;\n",
              "      width: 32px;\n",
              "    }\n",
              "\n",
              "    .colab-df-convert:hover {\n",
              "      background-color: #E2EBFA;\n",
              "      box-shadow: 0px 1px 2px rgba(60, 64, 67, 0.3), 0px 1px 3px 1px rgba(60, 64, 67, 0.15);\n",
              "      fill: #174EA6;\n",
              "    }\n",
              "\n",
              "    [theme=dark] .colab-df-convert {\n",
              "      background-color: #3B4455;\n",
              "      fill: #D2E3FC;\n",
              "    }\n",
              "\n",
              "    [theme=dark] .colab-df-convert:hover {\n",
              "      background-color: #434B5C;\n",
              "      box-shadow: 0px 1px 3px 1px rgba(0, 0, 0, 0.15);\n",
              "      filter: drop-shadow(0px 1px 2px rgba(0, 0, 0, 0.3));\n",
              "      fill: #FFFFFF;\n",
              "    }\n",
              "  </style>\n",
              "\n",
              "      <script>\n",
              "        const buttonEl =\n",
              "          document.querySelector('#df-152e4816-0d72-46a1-a80a-4d05ff0de09d button.colab-df-convert');\n",
              "        buttonEl.style.display =\n",
              "          google.colab.kernel.accessAllowed ? 'block' : 'none';\n",
              "\n",
              "        async function convertToInteractive(key) {\n",
              "          const element = document.querySelector('#df-152e4816-0d72-46a1-a80a-4d05ff0de09d');\n",
              "          const dataTable =\n",
              "            await google.colab.kernel.invokeFunction('convertToInteractive',\n",
              "                                                     [key], {});\n",
              "          if (!dataTable) return;\n",
              "\n",
              "          const docLinkHtml = 'Like what you see? Visit the ' +\n",
              "            '<a target=\"_blank\" href=https://colab.research.google.com/notebooks/data_table.ipynb>data table notebook</a>'\n",
              "            + ' to learn more about interactive tables.';\n",
              "          element.innerHTML = '';\n",
              "          dataTable['output_type'] = 'display_data';\n",
              "          await google.colab.output.renderOutput(dataTable, element);\n",
              "          const docLink = document.createElement('div');\n",
              "          docLink.innerHTML = docLinkHtml;\n",
              "          element.appendChild(docLink);\n",
              "        }\n",
              "      </script>\n",
              "    </div>\n",
              "  </div>\n",
              "  "
            ]
          },
          "metadata": {},
          "execution_count": 43
        }
      ]
    },
    {
      "cell_type": "code",
      "source": [
        "# check number of 'happy' labels -> dataset is imbalanced!\n",
        "(df['sentiment'] == 'happy').sum()"
      ],
      "metadata": {
        "colab": {
          "base_uri": "https://localhost:8080/"
        },
        "id": "Ocb3-rh09lk0",
        "outputId": "fad8a632-c88f-47e1-d10b-1d15012649f5"
      },
      "execution_count": null,
      "outputs": [
        {
          "output_type": "execute_result",
          "data": {
            "text/plain": [
              "6068"
            ]
          },
          "metadata": {},
          "execution_count": 44
        }
      ]
    },
    {
      "cell_type": "code",
      "source": [
        "# vectorization using word counts\n",
        "from tensorflow.keras.layers import TextVectorization\n",
        "\n",
        "text_vectorization = TextVectorization(\n",
        "    ngrams=1,\n",
        "    max_tokens=100,\n",
        "    output_mode=\"count\",\n",
        ")\n",
        "\n",
        "text_vectorization.adapt(df.text.values)\n",
        "text_vectorization.get_vocabulary()"
      ],
      "metadata": {
        "id": "Kr5cZgRN3T5t",
        "colab": {
          "base_uri": "https://localhost:8080/"
        },
        "outputId": "82ac3bfa-c95e-49b7-a14a-29e78b483a76"
      },
      "execution_count": null,
      "outputs": [
        {
          "output_type": "execute_result",
          "data": {
            "text/plain": [
              "['[UNK]',\n",
              " 'kling',\n",
              " 'burp',\n",
              " 'pfff',\n",
              " 'dong',\n",
              " 'psss',\n",
              " 'djee',\n",
              " 'beep',\n",
              " 'crack',\n",
              " 'ugh',\n",
              " 'aack']"
            ]
          },
          "metadata": {},
          "execution_count": 55
        }
      ]
    },
    {
      "cell_type": "code",
      "source": [
        "# create inputs X and integer labels y\n",
        "X = text_vectorization(df.text.values).numpy()\n",
        "y = (df['sentiment'] == 'happy').astype(int)\n",
        "X.shape, y.shape"
      ],
      "metadata": {
        "colab": {
          "base_uri": "https://localhost:8080/"
        },
        "id": "TDxTfr1sF49P",
        "outputId": "a92e014e-52df-4e5c-a957-4743a91920d4"
      },
      "execution_count": null,
      "outputs": [
        {
          "output_type": "execute_result",
          "data": {
            "text/plain": [
              "((10000, 11), (10000,))"
            ]
          },
          "metadata": {},
          "execution_count": 62
        }
      ]
    },
    {
      "cell_type": "code",
      "source": [
        "# check for zero columns and remove\n",
        "not_all_zero = X.sum(axis=0).astype(int) > 0\n",
        "X = X[:, not_all_zero]\n",
        "X.shape"
      ],
      "metadata": {
        "colab": {
          "base_uri": "https://localhost:8080/"
        },
        "id": "MXednf2YKb1u",
        "outputId": "c176353c-45f4-4396-923e-45daa540d0b2"
      },
      "execution_count": null,
      "outputs": [
        {
          "output_type": "execute_result",
          "data": {
            "text/plain": [
              "(10000, 10)"
            ]
          },
          "metadata": {},
          "execution_count": 63
        }
      ]
    },
    {
      "cell_type": "code",
      "source": [
        "# maximum number of words needed for normalizing X\n",
        "max_number = X.sum(axis=1).max()\n",
        "max_number"
      ],
      "metadata": {
        "colab": {
          "base_uri": "https://localhost:8080/"
        },
        "id": "rsdEemgqAPyD",
        "outputId": "949bb0c3-1136-4493-aaab-ebe0cca66ecc"
      },
      "execution_count": null,
      "outputs": [
        {
          "output_type": "execute_result",
          "data": {
            "text/plain": [
              "75.0"
            ]
          },
          "metadata": {},
          "execution_count": 66
        }
      ]
    },
    {
      "cell_type": "code",
      "source": [
        "# create TensorFlow Dataset\n",
        "import tensorflow as tf\n",
        "\n",
        "Xn = X / max_number  # herschalen\n",
        "dataset = tf.data.Dataset.from_tensor_slices((Xn, y))\n",
        "for sample, target in dataset:\n",
        "    print(sample)\n",
        "    print(target)\n",
        "    break"
      ],
      "metadata": {
        "colab": {
          "base_uri": "https://localhost:8080/"
        },
        "id": "P4wJuz4b3lR-",
        "outputId": "8b217951-ea2b-41e5-cf7f-e8c4a8bfe3fc"
      },
      "execution_count": null,
      "outputs": [
        {
          "output_type": "stream",
          "name": "stdout",
          "text": [
            "tf.Tensor(\n",
            "[0.         0.09333333 0.         0.10666667 0.02666667 0.06666667\n",
            " 0.01333333 0.01333333 0.10666667 0.        ], shape=(10,), dtype=float32)\n",
            "tf.Tensor(0, shape=(), dtype=int64)\n"
          ]
        }
      ]
    },
    {
      "cell_type": "code",
      "source": [
        "# create batches of size 32\n",
        "dataset = dataset.batch(32)"
      ],
      "metadata": {
        "id": "bbS_a3uu4DXr"
      },
      "execution_count": null,
      "outputs": []
    },
    {
      "cell_type": "code",
      "source": [
        "# apply small learning models\n",
        "from sklearn.linear_model import LogisticRegression\n",
        "from sklearn.naive_bayes import MultinomialNB, BernoulliNB\n",
        "\n",
        "lr = LogisticRegression(penalty=\"none\")\n",
        "lr.fit(X, y);\n",
        "print(\"logistic regression:\", lr.score(X, y))\n",
        "\n",
        "mnb = MultinomialNB()\n",
        "mnb.fit(X, y);\n",
        "print(\"multinomial naive bayes:\", mnb.score(X, y))\n",
        "\n",
        "Xb = X.astype(bool).astype(int)  # X omzetten naar binaire matrix\n",
        "bnb = BernoulliNB()\n",
        "bnb.fit(Xb, y);\n",
        "print(\"bernoulli naive bayes:\", bnb.score(Xb, y))"
      ],
      "metadata": {
        "id": "L5b1r3Izfy2T",
        "colab": {
          "base_uri": "https://localhost:8080/"
        },
        "outputId": "c7bde741-0c1c-4e2b-e15e-05520cd9bbe5"
      },
      "execution_count": null,
      "outputs": [
        {
          "output_type": "stream",
          "name": "stdout",
          "text": [
            "logistic regression: 1.0\n",
            "multinomial naive bayes: 0.6068\n",
            "bernoulli naive bayes: 0.7184\n"
          ]
        }
      ]
    },
    {
      "cell_type": "code",
      "source": [
        "# create neural network with 1 node and sigmoid (= logistic regression!)\n",
        "from tensorflow import keras\n",
        "from keras import layers\n",
        "\n",
        "inputs = keras.Input(shape=(X.shape[-1],), name='input')\n",
        "outputs = layers.Dense(1, activation=\"sigmoid\", name=\"output\")(inputs)\n",
        "model = keras.Model(inputs, outputs, name=\"logistic_regression_keras\")\n",
        "model.compile(optimizer=\"rmsprop\",\n",
        "              loss=\"binary_crossentropy\",\n",
        "              metrics=[\"accuracy\"])\n",
        "model.summary()"
      ],
      "metadata": {
        "id": "yHg2qoHM4JGG",
        "colab": {
          "base_uri": "https://localhost:8080/"
        },
        "outputId": "24cced96-53a8-48b7-b257-21f3597d697b"
      },
      "execution_count": null,
      "outputs": [
        {
          "output_type": "stream",
          "name": "stdout",
          "text": [
            "Model: \"logistic_regression_keras\"\n",
            "_________________________________________________________________\n",
            " Layer (type)                Output Shape              Param #   \n",
            "=================================================================\n",
            " input (InputLayer)          [(None, 10)]              0         \n",
            "                                                                 \n",
            " output (Dense)              (None, 1)                 11        \n",
            "                                                                 \n",
            "=================================================================\n",
            "Total params: 11\n",
            "Trainable params: 11\n",
            "Non-trainable params: 0\n",
            "_________________________________________________________________\n"
          ]
        }
      ]
    },
    {
      "cell_type": "code",
      "source": [
        "# training and evaluation\n",
        "history = model.fit(dataset, epochs=500, verbose=0)\n",
        "loss, acc = model.evaluate(dataset)\n",
        "print(acc)"
      ],
      "metadata": {
        "colab": {
          "base_uri": "https://localhost:8080/"
        },
        "id": "A93254gh4PQh",
        "outputId": "1aa034bd-d91b-420f-8e4f-81bb8b29cc71"
      },
      "execution_count": null,
      "outputs": [
        {
          "output_type": "stream",
          "name": "stdout",
          "text": [
            "313/313 [==============================] - 0s 1ms/step - loss: 0.1483 - accuracy: 0.9953\n",
            "0.9952999949455261\n"
          ]
        }
      ]
    },
    {
      "cell_type": "code",
      "source": [
        "# function to plot loss and acc\n",
        "import matplotlib.pyplot as plt\n",
        "\n",
        "def plot_result(history):\n",
        "    _, (ax1, ax2) = plt.subplots(1, 2, figsize=(10, 4))\n",
        "    ax1.plot(history.history['loss'], label='training');\n",
        "    ax1.set_title('loss');\n",
        "    ax1.legend();\n",
        "    ax1.grid();\n",
        "    ax2.plot(history.history['accuracy'], label='training');\n",
        "    try:\n",
        "        ax1.plot(history.history['val_loss'], label='validation');\n",
        "        ax2.plot(history.history['val_accuracy'], label='validation');\n",
        "    except:\n",
        "        pass\n",
        "    ax2.set_title('accuracy');\n",
        "    ax2.legend();\n",
        "    ax2.grid();"
      ],
      "metadata": {
        "id": "aPbxPqm54W0C"
      },
      "execution_count": null,
      "outputs": []
    },
    {
      "cell_type": "code",
      "source": [
        "# plot loss and acc\n",
        "plot_result(history)"
      ],
      "metadata": {
        "colab": {
          "base_uri": "https://localhost:8080/",
          "height": 281
        },
        "id": "_YKfSRnE4lN1",
        "outputId": "5c803aa4-c24f-4d67-eff7-a7c1be414092"
      },
      "execution_count": null,
      "outputs": [
        {
          "output_type": "display_data",
          "data": {
            "text/plain": [
              "<Figure size 720x288 with 2 Axes>"
            ],
            "image/png": "[encoded data removed]"
          },
          "metadata": {
            "needs_background": "light"
          }
        }
      ]
    },
    {
      "cell_type": "markdown",
      "source": [
        "Conclusies:\n",
        "- Logistic regression haalt 100% obv word counts\n",
        "- Naive Bayes algoritmes doen het niet goed. De multinomiale variant doet het zelfs niet beter dan de random classifier!\n",
        "- We halen 100% bij logistic regression, dus het volstaat om voor het deep learning model 1 node te nemen. Omdat we ook de sigmoïdefunctie toepassen, doet dit model hetzelfde als logistic regression. Alleen past het RMSprop toe als optimizer, wat in dit geval veel minder efficiënt is, want na 500 epochs hebben we nog steeds geen 100% nauwkeurigheid (ook al zitten we er dicht bij)."
      ],
      "metadata": {
        "id": "TDUi8TAcGm3G"
      }
    },
    {
      "cell_type": "markdown",
      "source": [
        "## Oefening 4"
      ],
      "metadata": {
        "id": "2pJAGN4TYiyq"
      }
    },
    {
      "cell_type": "markdown",
      "source": [
        "Download de volgende dataset van Kaggle:\n",
        "https://www.kaggle.com/datasets/crowdflower/twitter-airline-sentiment/.\n",
        "\n",
        "De dataset bevat tweets van passagiers die gevlogen hebben met één van de luchtvaartmaatschappijen in de VS en hun mening geven over hoe ze hun vlucht hebben ervaren.\n",
        "\n",
        "Train een neuraal netwerk dat de tweets kan classificeren volgens de drie aangegeven klassen: positief, negatief of neutraal. Neem voor de zekerheid de tweets waarvan het label een hoge betrouwbaarheid heeft gekregen. Splits de dataset op in training-, validatie- en testset.\n",
        "\n",
        "Stel je de vraag welk model je gaat nemen: een bag-of-words model of een sequence model? Tip: in het boek staat een vuistregel die je kan helpen om de keuze tussen beide te maken!"
      ],
      "metadata": {
        "id": "QxoSgjGhcUkn"
      }
    },
    {
      "cell_type": "markdown",
      "source": [
        "### Oplossing"
      ],
      "metadata": {
        "id": "d7qAcd3tmZR_"
      }
    },
    {
      "cell_type": "code",
      "source": [
        "# download dataset\n",
        "!mkdir ~/.kaggle\n",
        "!cp kaggle.json ~/.kaggle/\n",
        "!chmod 600 ~/.kaggle/kaggle.json\n",
        "!kaggle datasets download -d crowdflower/twitter-airline-sentiment"
      ],
      "metadata": {
        "colab": {
          "base_uri": "https://localhost:8080/"
        },
        "id": "gP0eA4UM8Hcb",
        "outputId": "57c1c7c0-7fc5-49a5-c458-d777dcf834a1"
      },
      "execution_count": null,
      "outputs": [
        {
          "output_type": "stream",
          "name": "stdout",
          "text": [
            "mkdir: cannot create directory ‘/root/.kaggle’: File exists\n",
            "Downloading twitter-airline-sentiment.zip to /content\n",
            "  0% 0.00/2.55M [00:00<?, ?B/s]\n",
            "100% 2.55M/2.55M [00:00<00:00, 116MB/s]\n"
          ]
        }
      ]
    },
    {
      "cell_type": "code",
      "source": [
        "# unpack zip-file\n",
        "import shutil\n",
        "shutil.unpack_archive('twitter-airline-sentiment.zip')"
      ],
      "metadata": {
        "id": "iiH5yZQp-6Qw"
      },
      "execution_count": null,
      "outputs": []
    },
    {
      "cell_type": "code",
      "source": [
        "# read csv-file and check columns\n",
        "import numpy as np\n",
        "import pandas as pd\n",
        "\n",
        "df = pd.read_csv(\"Tweets.csv\")\n",
        "list(df.columns)"
      ],
      "metadata": {
        "colab": {
          "base_uri": "https://localhost:8080/"
        },
        "id": "1weuYY0fARg2",
        "outputId": "4ae6e6b8-306e-4a50-ac5a-8c35c7da050f"
      },
      "execution_count": null,
      "outputs": [
        {
          "output_type": "execute_result",
          "data": {
            "text/plain": [
              "['tweet_id',\n",
              " 'airline_sentiment',\n",
              " 'airline_sentiment_confidence',\n",
              " 'negativereason',\n",
              " 'negativereason_confidence',\n",
              " 'airline',\n",
              " 'airline_sentiment_gold',\n",
              " 'name',\n",
              " 'negativereason_gold',\n",
              " 'retweet_count',\n",
              " 'text',\n",
              " 'tweet_coord',\n",
              " 'tweet_created',\n",
              " 'tweet_location',\n",
              " 'user_timezone']"
            ]
          },
          "metadata": {},
          "execution_count": 35
        }
      ]
    },
    {
      "cell_type": "code",
      "source": [
        "# check sentiment confidences\n",
        "plt.hist(df.airline_sentiment_confidence, bins=10);"
      ],
      "metadata": {
        "colab": {
          "base_uri": "https://localhost:8080/",
          "height": 265
        },
        "id": "eGw_bp1xe6-W",
        "outputId": "eb622ae6-e357-423b-9635-289f97bd0951"
      },
      "execution_count": null,
      "outputs": [
        {
          "output_type": "display_data",
          "data": {
            "text/plain": [
              "<Figure size 432x288 with 1 Axes>"
            ],
            "image/png": "[encoded data removed]"
          },
          "metadata": {
            "needs_background": "light"
          }
        }
      ]
    },
    {
      "cell_type": "code",
      "source": [
        "# only keep tweets with sentiment confidence > 90%\n",
        "high = df.airline_sentiment_confidence > 0.9\n",
        "df_high = df.loc[high, ['text', 'airline_sentiment']]\n",
        "df_high.head()"
      ],
      "metadata": {
        "colab": {
          "base_uri": "https://localhost:8080/",
          "height": 206
        },
        "id": "4s8o6ZvMfy15",
        "outputId": "bf9d723b-3bec-487b-a037-cca677c27d3f"
      },
      "execution_count": null,
      "outputs": [
        {
          "output_type": "execute_result",
          "data": {
            "text/plain": [
              "                                                text airline_sentiment\n",
              "0                @VirginAmerica What @dhepburn said.           neutral\n",
              "3  @VirginAmerica it's really aggressive to blast...          negative\n",
              "4  @VirginAmerica and it's a really big bad thing...          negative\n",
              "5  @VirginAmerica seriously would pay $30 a fligh...          negative\n",
              "9  @VirginAmerica it was amazing, and arrived an ...          positive"
            ],
            "text/html": [
              "\n",
              "  <div id=\"df-1d25e6e3-9bb0-4bf7-bc36-c8a292e66fb4\">\n",
              "    <div class=\"colab-df-container\">\n",
              "      <div>\n",
              "<style scoped>\n",
              "    .dataframe tbody tr th:only-of-type {\n",
              "        vertical-align: middle;\n",
              "    }\n",
              "\n",
              "    .dataframe tbody tr th {\n",
              "        vertical-align: top;\n",
              "    }\n",
              "\n",
              "    .dataframe thead th {\n",
              "        text-align: right;\n",
              "    }\n",
              "</style>\n",
              "<table border=\"1\" class=\"dataframe\">\n",
              "  <thead>\n",
              "    <tr style=\"text-align: right;\">\n",
              "      <th></th>\n",
              "      <th>text</th>\n",
              "      <th>airline_sentiment</th>\n",
              "    </tr>\n",
              "  </thead>\n",
              "  <tbody>\n",
              "    <tr>\n",
              "      <th>0</th>\n",
              "      <td>@VirginAmerica What @dhepburn said.</td>\n",
              "      <td>neutral</td>\n",
              "    </tr>\n",
              "    <tr>\n",
              "      <th>3</th>\n",
              "      <td>@VirginAmerica it's really aggressive to blast...</td>\n",
              "      <td>negative</td>\n",
              "    </tr>\n",
              "    <tr>\n",
              "      <th>4</th>\n",
              "      <td>@VirginAmerica and it's a really big bad thing...</td>\n",
              "      <td>negative</td>\n",
              "    </tr>\n",
              "    <tr>\n",
              "      <th>5</th>\n",
              "      <td>@VirginAmerica seriously would pay $30 a fligh...</td>\n",
              "      <td>negative</td>\n",
              "    </tr>\n",
              "    <tr>\n",
              "      <th>9</th>\n",
              "      <td>@VirginAmerica it was amazing, and arrived an ...</td>\n",
              "      <td>positive</td>\n",
              "    </tr>\n",
              "  </tbody>\n",
              "</table>\n",
              "</div>\n",
              "      <button class=\"colab-df-convert\" onclick=\"convertToInteractive('df-1d25e6e3-9bb0-4bf7-bc36-c8a292e66fb4')\"\n",
              "              title=\"Convert this dataframe to an interactive table.\"\n",
              "              style=\"display:none;\">\n",
              "        \n",
              "  <svg xmlns=\"http://www.w3.org/2000/svg\" height=\"24px\"viewBox=\"0 0 24 24\"\n",
              "       width=\"24px\">\n",
              "    <path d=\"M0 0h24v24H0V0z\" fill=\"none\"/>\n",
              "    <path d=\"M18.56 5.44l.94 2.06.94-2.06 2.06-.94-2.06-.94-.94-2.06-.94 2.06-2.06.94zm-11 1L8.5 8.5l.94-2.06 2.06-.94-2.06-.94L8.5 2.5l-.94 2.06-2.06.94zm10 10l.94 2.06.94-2.06 2.06-.94-2.06-.94-.94-2.06-.94 2.06-2.06.94z\"/><path d=\"M17.41 7.96l-1.37-1.37c-.4-.4-.92-.59-1.43-.59-.52 0-1.04.2-1.43.59L10.3 9.45l-7.72 7.72c-.78.78-.78 2.05 0 2.83L4 21.41c.39.39.9.59 1.41.59.51 0 1.02-.2 1.41-.59l7.78-7.78 2.81-2.81c.8-.78.8-2.07 0-2.86zM5.41 20L4 18.59l7.72-7.72 1.47 1.35L5.41 20z\"/>\n",
              "  </svg>\n",
              "      </button>\n",
              "      \n",
              "  <style>\n",
              "    .colab-df-container {\n",
              "      display:flex;\n",
              "      flex-wrap:wrap;\n",
              "      gap: 12px;\n",
              "    }\n",
              "\n",
              "    .colab-df-convert {\n",
              "      background-color: #E8F0FE;\n",
              "      border: none;\n",
              "      border-radius: 50%;\n",
              "      cursor: pointer;\n",
              "      display: none;\n",
              "      fill: #1967D2;\n",
              "      height: 32px;\n",
              "      padding: 0 0 0 0;\n",
              "      width: 32px;\n",
              "    }\n",
              "\n",
              "    .colab-df-convert:hover {\n",
              "      background-color: #E2EBFA;\n",
              "      box-shadow: 0px 1px 2px rgba(60, 64, 67, 0.3), 0px 1px 3px 1px rgba(60, 64, 67, 0.15);\n",
              "      fill: #174EA6;\n",
              "    }\n",
              "\n",
              "    [theme=dark] .colab-df-convert {\n",
              "      background-color: #3B4455;\n",
              "      fill: #D2E3FC;\n",
              "    }\n",
              "\n",
              "    [theme=dark] .colab-df-convert:hover {\n",
              "      background-color: #434B5C;\n",
              "      box-shadow: 0px 1px 3px 1px rgba(0, 0, 0, 0.15);\n",
              "      filter: drop-shadow(0px 1px 2px rgba(0, 0, 0, 0.3));\n",
              "      fill: #FFFFFF;\n",
              "    }\n",
              "  </style>\n",
              "\n",
              "      <script>\n",
              "        const buttonEl =\n",
              "          document.querySelector('#df-1d25e6e3-9bb0-4bf7-bc36-c8a292e66fb4 button.colab-df-convert');\n",
              "        buttonEl.style.display =\n",
              "          google.colab.kernel.accessAllowed ? 'block' : 'none';\n",
              "\n",
              "        async function convertToInteractive(key) {\n",
              "          const element = document.querySelector('#df-1d25e6e3-9bb0-4bf7-bc36-c8a292e66fb4');\n",
              "          const dataTable =\n",
              "            await google.colab.kernel.invokeFunction('convertToInteractive',\n",
              "                                                     [key], {});\n",
              "          if (!dataTable) return;\n",
              "\n",
              "          const docLinkHtml = 'Like what you see? Visit the ' +\n",
              "            '<a target=\"_blank\" href=https://colab.research.google.com/notebooks/data_table.ipynb>data table notebook</a>'\n",
              "            + ' to learn more about interactive tables.';\n",
              "          element.innerHTML = '';\n",
              "          dataTable['output_type'] = 'display_data';\n",
              "          await google.colab.output.renderOutput(dataTable, element);\n",
              "          const docLink = document.createElement('div');\n",
              "          docLink.innerHTML = docLinkHtml;\n",
              "          element.appendChild(docLink);\n",
              "        }\n",
              "      </script>\n",
              "    </div>\n",
              "  </div>\n",
              "  "
            ]
          },
          "metadata": {},
          "execution_count": 37
        }
      ]
    },
    {
      "cell_type": "code",
      "source": [
        "# shuffle rows\n",
        "df_high = df_high.sample(frac=1).reset_index()"
      ],
      "metadata": {
        "id": "RFiuGebaYrxF"
      },
      "execution_count": null,
      "outputs": []
    },
    {
      "cell_type": "code",
      "source": [
        "# check classes\n",
        "list(df_high.airline_sentiment.unique())"
      ],
      "metadata": {
        "colab": {
          "base_uri": "https://localhost:8080/"
        },
        "id": "KBFPC51uBndZ",
        "outputId": "592f7fa6-6242-4863-b5d8-48236b1d0222"
      },
      "execution_count": null,
      "outputs": [
        {
          "output_type": "execute_result",
          "data": {
            "text/plain": [
              "['negative', 'neutral', 'positive']"
            ]
          },
          "metadata": {},
          "execution_count": 39
        }
      ]
    },
    {
      "cell_type": "code",
      "source": [
        "# labels to integers:\n",
        "# 0 = negative\n",
        "# 1 = positive\n",
        "# 2 = neutral\n",
        "y = np.array([0 if s == 'negative' else 1 if s == 'positive' else 2\n",
        "              for s in df_high.airline_sentiment.values])"
      ],
      "metadata": {
        "id": "xloT8TfQBJEs"
      },
      "execution_count": null,
      "outputs": []
    },
    {
      "cell_type": "code",
      "source": [
        "# pie chart:\n",
        "# -> dataset is highly imbalanced\n",
        "# -> baseline is 70.7% acc\n",
        "from matplotlib import pyplot as plt\n",
        "labels = ['negative', 'positive', 'neutral']\n",
        "numbers = [(y == i).sum() for i in range(len(labels))]\n",
        "plt.pie(numbers, labels=labels, autopct='%1.2f%%');"
      ],
      "metadata": {
        "colab": {
          "base_uri": "https://localhost:8080/",
          "height": 248
        },
        "id": "X_b5KOtTIlwX",
        "outputId": "a8360ba7-08be-4b9f-fca0-159db09f853f"
      },
      "execution_count": null,
      "outputs": [
        {
          "output_type": "display_data",
          "data": {
            "text/plain": [
              "<Figure size 432x288 with 1 Axes>"
            ],
            "image/png": "[encoded data removed]"
          },
          "metadata": {}
        }
      ]
    },
    {
      "cell_type": "code",
      "source": [
        "# check some tweets\n",
        "text = df_high.text.values\n",
        "for tweet in text[:5]:\n",
        "    print(tweet)"
      ],
      "metadata": {
        "colab": {
          "base_uri": "https://localhost:8080/"
        },
        "id": "cRoKzL2zBm9R",
        "outputId": "1f4f08e4-32bd-40db-f638-e540e361712a"
      },
      "execution_count": null,
      "outputs": [
        {
          "output_type": "stream",
          "name": "stdout",
          "text": [
            "@USAirways Your policy needs a serious revision for babies.  Fortunately I have choices and choose @Southwest from here on out.\n",
            "@united 6344,6373, Sfo-Dfw also 1576 SFO-ORD\n",
            "@USAirways - love the changes in the lounge - cheese, veggies, olives in addition to the crackers and snack mix,\n",
            "@united at what pt do u just Cancelled Flight!  Finally got stndby 4 1pm flight. What a day!  #missedWork #clientNotHappy http://t.co/sUPrLfOi8T\n",
            "@AmericanAir stranded in Miami because your automated system keeps hanging up on me for two days. Help !\n"
          ]
        }
      ]
    },
    {
      "cell_type": "code",
      "source": [
        "# rule of thumb:\n",
        "# -> ratio < 1500\n",
        "# -> bag-of-words model is best choice?\n",
        "num_samples = len(y)\n",
        "print('number of samples:', num_samples)\n",
        "avg_num_words = np.mean([len(tweet.split()) for tweet in text])\n",
        "print('average length:', avg_num_words)\n",
        "print('ratio:', num_samples / avg_num_words)"
      ],
      "metadata": {
        "colab": {
          "base_uri": "https://localhost:8080/"
        },
        "id": "amvImE8ZKkum",
        "outputId": "f1ae4e23-196d-428a-c2e4-d5fc155fbc10"
      },
      "execution_count": null,
      "outputs": [
        {
          "output_type": "stream",
          "name": "stdout",
          "text": [
            "number of samples: 10458\n",
            "average length: 18.31449607955632\n",
            "ratio: 571.0230821842711\n"
          ]
        }
      ]
    },
    {
      "cell_type": "markdown",
      "source": [
        "**TF-IDF weighted bag-of-bigrams**"
      ],
      "metadata": {
        "id": "EQKv7Ue8Wpk7"
      }
    },
    {
      "cell_type": "code",
      "source": [
        "# we could use TweetTokenizer from NLTK\n",
        "from nltk.tokenize import TweetTokenizer\n",
        "from nltk import bigrams\n",
        "\n",
        "tkn = TweetTokenizer(preserve_case=False)\n",
        "print(text[0])\n",
        "print()\n",
        "print(tkn.tokenize(text[0]))\n",
        "print()\n",
        "for bigram in bigrams(tkn.tokenize(text[0])):\n",
        "    print(bigram)"
      ],
      "metadata": {
        "colab": {
          "base_uri": "https://localhost:8080/"
        },
        "id": "xCbvI9hNkwgB",
        "outputId": "f6de8a42-a4cc-4ede-ac28-83c84d9152b1"
      },
      "execution_count": null,
      "outputs": [
        {
          "output_type": "stream",
          "name": "stdout",
          "text": [
            "@USAirways Your policy needs a serious revision for babies.  Fortunately I have choices and choose @Southwest from here on out.\n",
            "\n",
            "['@usairways', 'your', 'policy', 'needs', 'a', 'serious', 'revision', 'for', 'babies', '.', 'fortunately', 'i', 'have', 'choices', 'and', 'choose', '@southwest', 'from', 'here', 'on', 'out', '.']\n",
            "\n",
            "('@usairways', 'your')\n",
            "('your', 'policy')\n",
            "('policy', 'needs')\n",
            "('needs', 'a')\n",
            "('a', 'serious')\n",
            "('serious', 'revision')\n",
            "('revision', 'for')\n",
            "('for', 'babies')\n",
            "('babies', '.')\n",
            "('.', 'fortunately')\n",
            "('fortunately', 'i')\n",
            "('i', 'have')\n",
            "('have', 'choices')\n",
            "('choices', 'and')\n",
            "('and', 'choose')\n",
            "('choose', '@southwest')\n",
            "('@southwest', 'from')\n",
            "('from', 'here')\n",
            "('here', 'on')\n",
            "('on', 'out')\n",
            "('out', '.')\n"
          ]
        }
      ]
    },
    {
      "cell_type": "code",
      "source": [
        "# TweetTokenizer keeps special characters like @ and #\n",
        "# we could do the same using TextVectorization and defining a custom standarize function\n",
        "# that does not remove punctuation (but in the end we did not...)\n",
        "import tensorflow as tf\n",
        "from tensorflow.keras.layers import TextVectorization\n",
        "\n",
        "text_vectorization = TextVectorization(\n",
        "    ngrams=2,  # bigrams\n",
        "    max_tokens=30_000,\n",
        "    output_mode=\"tf_idf\",  # TF-IDF\n",
        "    #standardize=lambda string_tensor: tf.strings.lower(string_tensor),  # string_tensor is tf Tensor!\n",
        ")\n",
        "\n",
        "text_vectorization.adapt(text)\n",
        "print(text_vectorization.get_vocabulary()[:10])\n",
        "print(text_vectorization.get_vocabulary()[-10:])"
      ],
      "metadata": {
        "id": "FSmRhJn_a5YF",
        "colab": {
          "base_uri": "https://localhost:8080/"
        },
        "outputId": "fffb4766-5c6a-4104-b54e-7b47ad8402d3"
      },
      "execution_count": null,
      "outputs": [
        {
          "output_type": "stream",
          "name": "stdout",
          "text": [
            "['[UNK]', 'to', 'the', 'i', 'a', 'for', 'you', 'flight', 'united', 'and']\n",
            "['used our', 'used hope', 'used for', 'used by', 'used a', 'used 2days', 'useable possible', 'useable', 'use whatsoever', 'use what']\n"
          ]
        }
      ]
    },
    {
      "cell_type": "code",
      "source": [
        "# create TF-IDF matrix\n",
        "X = text_vectorization(text).numpy()\n",
        "X.shape"
      ],
      "metadata": {
        "colab": {
          "base_uri": "https://localhost:8080/"
        },
        "id": "qBnZvynBS6E4",
        "outputId": "973f14e6-7d9c-40bc-fd38-c98de554bfbc"
      },
      "execution_count": null,
      "outputs": [
        {
          "output_type": "execute_result",
          "data": {
            "text/plain": [
              "(10458, 30000)"
            ]
          },
          "metadata": {},
          "execution_count": 47
        }
      ]
    },
    {
      "cell_type": "code",
      "source": [
        "# split dataset\n",
        "ntrain = 7500\n",
        "nval = 1500\n",
        "n = ntrain + nval\n",
        "\n",
        "Xtrain = X[:ntrain]\n",
        "ytrain = y[:ntrain]\n",
        "print(Xtrain.shape, ytrain.shape)\n",
        "\n",
        "Xval = X[ntrain:n]\n",
        "yval = y[ntrain:n]\n",
        "print(Xval.shape, yval.shape)\n",
        "\n",
        "Xtest = X[n:]\n",
        "ytest = y[n:]\n",
        "print(Xtest.shape, ytest.shape)"
      ],
      "metadata": {
        "colab": {
          "base_uri": "https://localhost:8080/"
        },
        "id": "IF-NtISGMUji",
        "outputId": "374f7963-e231-4400-99ba-18ff2bd3cec8"
      },
      "execution_count": null,
      "outputs": [
        {
          "output_type": "stream",
          "name": "stdout",
          "text": [
            "(7500, 30000) (7500,)\n",
            "(1500, 30000) (1500,)\n",
            "(1458, 30000) (1458,)\n"
          ]
        }
      ]
    },
    {
      "cell_type": "code",
      "source": [
        "# create tf training Dataset\n",
        "train_ds = tf.data.Dataset.from_tensor_slices((Xtrain, ytrain))\n",
        "for sample, target in train_ds:\n",
        "    print(sample)\n",
        "    print(target)\n",
        "    break"
      ],
      "metadata": {
        "colab": {
          "base_uri": "https://localhost:8080/"
        },
        "id": "8iSGduo9ZhN8",
        "outputId": "c215a471-2c0a-450b-f8b4-12a6ac54e526"
      },
      "execution_count": null,
      "outputs": [
        {
          "output_type": "stream",
          "name": "stdout",
          "text": [
            "tf.Tensor([77.61456  0.       0.      ...  0.       0.       0.     ], shape=(30000,), dtype=float32)\n",
            "tf.Tensor(0, shape=(), dtype=int64)\n"
          ]
        }
      ]
    },
    {
      "cell_type": "code",
      "source": [
        "# set batch size to 32\n",
        "batch_size = 32\n",
        "train_ds = train_ds.batch(batch_size)"
      ],
      "metadata": {
        "id": "MsphIJgVouip"
      },
      "execution_count": null,
      "outputs": []
    },
    {
      "cell_type": "code",
      "source": [
        "# create tf validation and test Dataset\n",
        "val_ds = tf.data.Dataset.from_tensor_slices((Xval, yval)).batch(batch_size)\n",
        "test_ds = tf.data.Dataset.from_tensor_slices((Xtest, ytest)).batch(batch_size)"
      ],
      "metadata": {
        "id": "oyZlJ-LMNCd2"
      },
      "execution_count": null,
      "outputs": []
    },
    {
      "cell_type": "code",
      "source": [
        "# build and compile the model\n",
        "from tensorflow import keras\n",
        "from keras import layers\n",
        "\n",
        "inputs = keras.Input(shape=(X.shape[-1],), name=\"input\")\n",
        "x = layers.Dense(16, activation=\"relu\", name=\"dense1\")(inputs)\n",
        "x = layers.Dropout(0.2, name=\"dropout1\")(x)\n",
        "x = layers.Dense(8, activation=\"relu\", name=\"dense2\")(x)\n",
        "x = layers.Dropout(0.2, name=\"dropout2\")(x)\n",
        "x = layers.Dense(4, activation=\"relu\", name=\"dense3\")(x)\n",
        "x = layers.Dropout(0.2, name=\"dropout3\")(x)\n",
        "outputs = layers.Dense(3, activation=\"softmax\", name=\"output\")(x)\n",
        "model = keras.Model(inputs, outputs, name=\"bag_of_bigrams\")\n",
        "\n",
        "model.compile(optimizer=\"rmsprop\",\n",
        "              loss=\"sparse_categorical_crossentropy\",\n",
        "              metrics=[\"accuracy\"])\n",
        "\n",
        "model.summary()"
      ],
      "metadata": {
        "id": "fuFBJBUeOUyb",
        "colab": {
          "base_uri": "https://localhost:8080/"
        },
        "outputId": "5363719f-0791-49fe-8e8a-d767121f4203"
      },
      "execution_count": null,
      "outputs": [
        {
          "output_type": "stream",
          "name": "stdout",
          "text": [
            "Model: \"bag_of_bigrams\"\n",
            "_________________________________________________________________\n",
            " Layer (type)                Output Shape              Param #   \n",
            "=================================================================\n",
            " input (InputLayer)          [(None, 30000)]           0         \n",
            "                                                                 \n",
            " dense1 (Dense)              (None, 16)                480016    \n",
            "                                                                 \n",
            " dropout1 (Dropout)          (None, 16)                0         \n",
            "                                                                 \n",
            " dense2 (Dense)              (None, 8)                 136       \n",
            "                                                                 \n",
            " dropout2 (Dropout)          (None, 8)                 0         \n",
            "                                                                 \n",
            " dense3 (Dense)              (None, 4)                 36        \n",
            "                                                                 \n",
            " dropout3 (Dropout)          (None, 4)                 0         \n",
            "                                                                 \n",
            " output (Dense)              (None, 3)                 15        \n",
            "                                                                 \n",
            "=================================================================\n",
            "Total params: 480,203\n",
            "Trainable params: 480,203\n",
            "Non-trainable params: 0\n",
            "_________________________________________________________________\n"
          ]
        }
      ]
    },
    {
      "cell_type": "code",
      "source": [
        "# train the model\n",
        "from keras.callbacks import ModelCheckpoint as checkpoint\n",
        "\n",
        "history = model.fit(train_ds, epochs=10, validation_data=val_ds,\n",
        "                    callbacks=[checkpoint(\"tweets_bigrams.keras\", save_best_only=True)])"
      ],
      "metadata": {
        "colab": {
          "base_uri": "https://localhost:8080/"
        },
        "id": "wgs966AEn5PC",
        "outputId": "69c778b0-168f-4c16-8f4e-91f152be67ae"
      },
      "execution_count": null,
      "outputs": [
        {
          "output_type": "stream",
          "name": "stdout",
          "text": [
            "Epoch 1/10\n",
            "235/235 [==============================] - 6s 22ms/step - loss: 1.0052 - accuracy: 0.7168 - val_loss: 0.8887 - val_accuracy: 0.7813\n",
            "Epoch 2/10\n",
            "235/235 [==============================] - 5s 22ms/step - loss: 0.8084 - accuracy: 0.7927 - val_loss: 0.7518 - val_accuracy: 0.7900\n",
            "Epoch 3/10\n",
            "235/235 [==============================] - 5s 22ms/step - loss: 0.6811 - accuracy: 0.8112 - val_loss: 0.6705 - val_accuracy: 0.8020\n",
            "Epoch 4/10\n",
            "235/235 [==============================] - 5s 23ms/step - loss: 0.5903 - accuracy: 0.8224 - val_loss: 0.6193 - val_accuracy: 0.8013\n",
            "Epoch 5/10\n",
            "235/235 [==============================] - 5s 22ms/step - loss: 0.5191 - accuracy: 0.8339 - val_loss: 0.5349 - val_accuracy: 0.8260\n",
            "Epoch 6/10\n",
            "235/235 [==============================] - 5s 22ms/step - loss: 0.4472 - accuracy: 0.8629 - val_loss: 0.4798 - val_accuracy: 0.8533\n",
            "Epoch 7/10\n",
            "235/235 [==============================] - 5s 21ms/step - loss: 0.3775 - accuracy: 0.8881 - val_loss: 0.4604 - val_accuracy: 0.8713\n",
            "Epoch 8/10\n",
            "235/235 [==============================] - 5s 23ms/step - loss: 0.3232 - accuracy: 0.9039 - val_loss: 0.4538 - val_accuracy: 0.8760\n",
            "Epoch 9/10\n",
            "235/235 [==============================] - 5s 23ms/step - loss: 0.2853 - accuracy: 0.9176 - val_loss: 0.5228 - val_accuracy: 0.8713\n",
            "Epoch 10/10\n",
            "235/235 [==============================] - 5s 23ms/step - loss: 0.2583 - accuracy: 0.9208 - val_loss: 0.4517 - val_accuracy: 0.8867\n"
          ]
        }
      ]
    },
    {
      "cell_type": "code",
      "source": [
        "# function to plot loss and acc\n",
        "import matplotlib.pyplot as plt\n",
        "\n",
        "def plot_result(history):\n",
        "    _, (ax1, ax2) = plt.subplots(1, 2, figsize=(10, 4))\n",
        "    ax1.plot(history.history['loss'], label='training');\n",
        "    ax2.plot(history.history['accuracy'], label='training');\n",
        "    try:\n",
        "        ax1.plot(history.history['val_loss'], label='validation');\n",
        "        ax2.plot(history.history['val_accuracy'], label='validation');\n",
        "    except:\n",
        "        pass\n",
        "    ax1.set_title('loss');\n",
        "    ax1.legend();\n",
        "    ax1.grid();\n",
        "    ax2.set_title('accuracy');\n",
        "    ax2.legend();\n",
        "    ax2.grid();"
      ],
      "metadata": {
        "id": "hVivcVySP0qH"
      },
      "execution_count": null,
      "outputs": []
    },
    {
      "cell_type": "code",
      "source": [
        "# plot loss and acc\n",
        "plot_result(history)"
      ],
      "metadata": {
        "colab": {
          "base_uri": "https://localhost:8080/",
          "height": 281
        },
        "id": "p50nyXzcRB1Z",
        "outputId": "f176b0e4-1f82-43eb-de0a-e6069d1927c7"
      },
      "execution_count": null,
      "outputs": [
        {
          "output_type": "display_data",
          "data": {
            "text/plain": [
              "<Figure size 720x288 with 2 Axes>"
            ],
            "image/png": "[encoded data removed]"
          },
          "metadata": {
            "needs_background": "light"
          }
        }
      ]
    },
    {
      "cell_type": "code",
      "source": [
        "# evaluate model\n",
        "model = keras.models.load_model(\"tweets_bigrams.keras\")\n",
        "print(f\"Test acc: {model.evaluate(test_ds)[1]:.3f}\")"
      ],
      "metadata": {
        "colab": {
          "base_uri": "https://localhost:8080/"
        },
        "id": "QZLZQLC2RMdS",
        "outputId": "37ebd181-69da-4d31-9959-b108b7076958"
      },
      "execution_count": null,
      "outputs": [
        {
          "output_type": "stream",
          "name": "stdout",
          "text": [
            "46/46 [==============================] - 0s 4ms/step - loss: 0.4546 - accuracy: 0.8882\n",
            "Test acc: 0.888\n"
          ]
        }
      ]
    },
    {
      "cell_type": "markdown",
      "source": [
        "**Bidirectional LSTM**"
      ],
      "metadata": {
        "id": "lvujh6yaTl9f"
      }
    },
    {
      "cell_type": "code",
      "source": [
        "# Here we need integer vectors\n",
        "text_vectorization = TextVectorization(\n",
        "    max_tokens=30_000,\n",
        "    output_mode=\"int\",\n",
        "    #standardize=lambda string_tensor: tf.strings.lower(string_tensor),  # string_tensor is tf Tensor!\n",
        ")\n",
        "text_vectorization.adapt(text)"
      ],
      "metadata": {
        "id": "jLq3HU3fTiVq"
      },
      "execution_count": null,
      "outputs": []
    },
    {
      "cell_type": "code",
      "source": [
        "# create input matrix\n",
        "X = text_vectorization(text).numpy()\n",
        "X.shape"
      ],
      "metadata": {
        "colab": {
          "base_uri": "https://localhost:8080/"
        },
        "outputId": "c444347c-eead-498e-fe10-f60c7ceb0366",
        "id": "qVpdZhMCT2vx"
      },
      "execution_count": null,
      "outputs": [
        {
          "output_type": "execute_result",
          "data": {
            "text/plain": [
              "(10458, 36)"
            ]
          },
          "metadata": {},
          "execution_count": 59
        }
      ]
    },
    {
      "cell_type": "code",
      "source": [
        "# 36 columns as max length of the tweets is 36 tokens\n",
        "max_num_words = np.max([len(tweet.split()) for tweet in text])\n",
        "print('max length:', max_num_words)"
      ],
      "metadata": {
        "colab": {
          "base_uri": "https://localhost:8080/"
        },
        "id": "oD4dbkXSUeod",
        "outputId": "9d3da74d-3138-46a3-fb7b-21020dab9a82"
      },
      "execution_count": null,
      "outputs": [
        {
          "output_type": "stream",
          "name": "stdout",
          "text": [
            "max length: 36\n"
          ]
        }
      ]
    },
    {
      "cell_type": "code",
      "source": [
        "# split dataset\n",
        "ntrain = 7500\n",
        "nval = 1500\n",
        "\n",
        "Xtrain = X[:ntrain]\n",
        "ytrain = y[:ntrain]\n",
        "print(Xtrain.shape, ytrain.shape)\n",
        "\n",
        "Xval = X[ntrain:(ntrain+nval)]\n",
        "yval = y[ntrain:(ntrain+nval)]\n",
        "print(Xval.shape, yval.shape)\n",
        "\n",
        "Xtest = X[(ntrain+nval):]\n",
        "ytest = y[(ntrain+nval):]\n",
        "print(Xtest.shape, ytest.shape)"
      ],
      "metadata": {
        "colab": {
          "base_uri": "https://localhost:8080/"
        },
        "outputId": "1df7f6b7-c3c6-42ac-82d4-ddfa5f352372",
        "id": "HDZJMNVwT2vz"
      },
      "execution_count": null,
      "outputs": [
        {
          "output_type": "stream",
          "name": "stdout",
          "text": [
            "(7500, 36) (7500,)\n",
            "(1500, 36) (1500,)\n",
            "(1458, 36) (1458,)\n"
          ]
        }
      ]
    },
    {
      "cell_type": "code",
      "source": [
        "# create tf training, validation, and test set\n",
        "batch_size = 32\n",
        "train_ds = tf.data.Dataset.from_tensor_slices((Xtrain, ytrain)).batch(batch_size)\n",
        "val_ds = tf.data.Dataset.from_tensor_slices((Xval, yval)).batch(batch_size)\n",
        "test_ds = tf.data.Dataset.from_tensor_slices((Xtest, ytest)).batch(batch_size)"
      ],
      "metadata": {
        "id": "B238_bw5T2vz"
      },
      "execution_count": null,
      "outputs": []
    },
    {
      "cell_type": "code",
      "source": [
        "# build and compile model\n",
        "input_dim = text_vectorization.vocabulary_size()\n",
        "inputs = keras.Input(shape=(None,), dtype=\"int64\", name=\"input\")\n",
        "embedded = layers.Embedding(input_dim=input_dim, output_dim=256, mask_zero=True, name=\"embedding\")(inputs)\n",
        "x = layers.Bidirectional(layers.LSTM(32, return_sequences=True), name=\"bidir_LSTM1\")(embedded)\n",
        "x = layers.Bidirectional(layers.LSTM(32), name=\"bidir_LSTM2\")(embedded)\n",
        "x = layers.Dropout(0.5, name=\"dropout\")(x)\n",
        "outputs = layers.Dense(3, activation=\"softmax\", name=\"output\")(x)\n",
        "model = keras.Model(inputs, outputs, name=\"bidirectional_RNN\")\n",
        "\n",
        "model.compile(optimizer=\"rmsprop\",\n",
        "              loss=\"sparse_categorical_crossentropy\",\n",
        "              metrics=[\"accuracy\"])\n",
        "\n",
        "model.summary()"
      ],
      "metadata": {
        "colab": {
          "base_uri": "https://localhost:8080/"
        },
        "id": "HmcIOj8jT2v0",
        "outputId": "e0567a80-6348-4984-8613-0dad59e74893"
      },
      "execution_count": null,
      "outputs": [
        {
          "output_type": "stream",
          "name": "stdout",
          "text": [
            "Model: \"bidirectional_RNN\"\n",
            "_________________________________________________________________\n",
            " Layer (type)                Output Shape              Param #   \n",
            "=================================================================\n",
            " input (InputLayer)          [(None, None)]            0         \n",
            "                                                                 \n",
            " embedding (Embedding)       (None, None, 256)         3536896   \n",
            "                                                                 \n",
            " bidir_LSTM2 (Bidirectional)  (None, 64)               73984     \n",
            "                                                                 \n",
            " dropout (Dropout)           (None, 64)                0         \n",
            "                                                                 \n",
            " output (Dense)              (None, 3)                 195       \n",
            "                                                                 \n",
            "=================================================================\n",
            "Total params: 3,611,075\n",
            "Trainable params: 3,611,075\n",
            "Non-trainable params: 0\n",
            "_________________________________________________________________\n"
          ]
        }
      ]
    },
    {
      "cell_type": "code",
      "source": [
        "# train model\n",
        "history = model.fit(train_ds, epochs=5, validation_data=val_ds,\n",
        "                    callbacks=[checkpoint(\"tweets_bidir_lstm.keras\", save_best_only=True)])"
      ],
      "metadata": {
        "colab": {
          "base_uri": "https://localhost:8080/"
        },
        "id": "fZDt9VKUWNfq",
        "outputId": "dd64543a-df7b-4677-aaa6-df0b57ad806d"
      },
      "execution_count": null,
      "outputs": [
        {
          "output_type": "stream",
          "name": "stdout",
          "text": [
            "Epoch 1/5\n",
            "235/235 [==============================] - 30s 88ms/step - loss: 0.5183 - accuracy: 0.7997 - val_loss: 0.3553 - val_accuracy: 0.8640\n",
            "Epoch 2/5\n",
            "235/235 [==============================] - 19s 79ms/step - loss: 0.2808 - accuracy: 0.9051 - val_loss: 0.3185 - val_accuracy: 0.8793\n",
            "Epoch 3/5\n",
            "235/235 [==============================] - 19s 82ms/step - loss: 0.2034 - accuracy: 0.9309 - val_loss: 0.3306 - val_accuracy: 0.8833\n",
            "Epoch 4/5\n",
            "235/235 [==============================] - 18s 77ms/step - loss: 0.1611 - accuracy: 0.9464 - val_loss: 0.3596 - val_accuracy: 0.8787\n",
            "Epoch 5/5\n",
            "235/235 [==============================] - 19s 82ms/step - loss: 0.1284 - accuracy: 0.9591 - val_loss: 0.4122 - val_accuracy: 0.8693\n"
          ]
        }
      ]
    },
    {
      "cell_type": "code",
      "source": [
        "# plot loss and acc\n",
        "plot_result(history)"
      ],
      "metadata": {
        "colab": {
          "base_uri": "https://localhost:8080/",
          "height": 281
        },
        "id": "IQeHDkFFWXZ_",
        "outputId": "d463fc7b-d211-4d4a-e719-4dc498511f43"
      },
      "execution_count": null,
      "outputs": [
        {
          "output_type": "display_data",
          "data": {
            "text/plain": [
              "<Figure size 720x288 with 2 Axes>"
            ],
            "image/png": "[encoded data removed]"
          },
          "metadata": {
            "needs_background": "light"
          }
        }
      ]
    },
    {
      "cell_type": "code",
      "source": [
        "# evaluate model\n",
        "model = keras.models.load_model(\"tweets_bidir_lstm.keras\")\n",
        "print(f\"Test acc: {model.evaluate(test_ds)[1]:.3f}\")"
      ],
      "metadata": {
        "colab": {
          "base_uri": "https://localhost:8080/"
        },
        "id": "ut3trz7EWYYH",
        "outputId": "9aa1186a-62fa-44bc-b992-73425686f6ab"
      },
      "execution_count": null,
      "outputs": [
        {
          "output_type": "stream",
          "name": "stdout",
          "text": [
            "46/46 [==============================] - 4s 14ms/step - loss: 0.3402 - accuracy: 0.8820\n",
            "Test acc: 0.882\n"
          ]
        }
      ]
    },
    {
      "cell_type": "markdown",
      "source": [
        "**Conclusie**\n",
        "\n",
        "- Het bidirectional LSTM model doet het niet beter dan het bag-of-bigrams model, wat in overeenstemming is met de vuistregel uit het boek.\n",
        "- Een grondiger analyse van de tekstdata kan leiden tot een vectorisatie die betere resultaten geeft.\n",
        "- Beide modellen kunnen nog performanter gemaakt worden door verdere finetuning."
      ],
      "metadata": {
        "id": "9pNZ9CDPqGOI"
      }
    },
    {
      "cell_type": "markdown",
      "source": [
        "---"
      ],
      "metadata": {
        "id": "Hv0tmcI5exbZ"
      }
    }
  ]
}