{
  "cells": [
    {
      "cell_type": "markdown",
      "metadata": {
        "id": "view-in-github",
        "colab_type": "text"
      },
      "source": [
        "<a href=\"https://colab.research.google.com/github/alouwyck/vives-deep-learning/blob/main/topic11/Chollet_HFST11b_sequence_models.ipynb\" target=\"_parent\"><img src=\"https://colab.research.google.com/assets/colab-badge.svg\" alt=\"Open In Colab\"/></a>"
      ]
    },
    {
      "cell_type": "markdown",
      "metadata": {
        "id": "p34cmLp6FrA6"
      },
      "source": [
        "<img src=\"data:image/png;base64,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\" align=\"right\" /><br>\n",
        "\n",
        "\n",
        "**DEEP LEARNING**<br>\n",
        "Academiejaar 2022-2023<br>\n",
        "Andy Louwyck\n",
        "\n",
        "---\n",
        "\n",
        "\n",
        "\n",
        "---\n",
        "\n"
      ]
    },
    {
      "cell_type": "markdown",
      "metadata": {
        "id": "DHZbFcxH-Qa2"
      },
      "source": [
        "# 11. Deep learning for text: Bag-of-words vs. sequence models"
      ]
    },
    {
      "cell_type": "markdown",
      "source": [
        "Deze notebook bevat de codevoorbeelden (met aanvullende uitleg) uit het tweede deel van hoofdstuk 11 van het boek \"Deep Learning with Python\" (2e editie) van François Chollet, nl. paragraaf 11.3 over bag-of-words en sequence models."
      ],
      "metadata": {
        "id": "fyYRYjghgKqU"
      }
    },
    {
      "cell_type": "markdown",
      "metadata": {
        "id": "VYPfhyBT-QbL"
      },
      "source": [
        "## 11.3. Two approaches for representing groups of words: Sets and sequences"
      ]
    },
    {
      "cell_type": "markdown",
      "source": [
        "In natuurlijke talen is de **volgorde van woorden** relevant, maar niet zo strikt als bij tijdreeksen. Denk bijv. aan hoe je \"een rode auto\" in het Frans zegt: \"une voiture rouge\". In het Frans wordt het bijvoeglijk naamwoord inderdaad na het zelfstandig naamwoord gezet. Maar ook in het Nederlands kan je hetzelfde zeggen met verschillende zinnen die de woorden in een andere volgorde plaatsen. Bijv. \"Ik blijf binnen omdat het regent.\" en \"Het regent en daarom blijf ik binnen.\"\n",
        "\n",
        "Er zijn 3 mogelijke oplossingen hiervoor:\n",
        "\n",
        "1. de volgorde wordt genegeerd: dit zijn de traditionele **bag-of-words models** waarvan we er enkele in het vak Machine Learning hebben besproken (bv. logistic regression en naive Bayes);\n",
        "2. de volgorde wordt bewaard zoals bij tijdreeksen en dan kunnen we **recurrente neurale netwerken** (RNNs) toepassen waarvan de bidirectional LSTM het meest aangewezen is voor NLP;\n",
        "3. een hybride benadering zoals bij **transformers** waarbij de volgorde in rekening wordt gebracht maar niet zo strikt als bij RNNs.\n",
        "\n",
        "Zowel RNNs als transformers zijn **sequence models** omdat ze de volgorde in rekening brengen."
      ],
      "metadata": {
        "id": "CsVLrEgfzBfR"
      }
    },
    {
      "cell_type": "markdown",
      "source": [
        "Als voorbeeld gaan we de IMDB dataset met reviews classificeren op sentiment. We hebben dat al eerder gedaan, maar deze keer gaan we er dieper op ingaan, en we gaan deze keer ook de tekstdata preprocessen."
      ],
      "metadata": {
        "id": "zVc3W5sk1Sug"
      }
    },
    {
      "cell_type": "markdown",
      "metadata": {
        "id": "qMH9f4R5-QbM"
      },
      "source": [
        "### Preparing the IMDB movie reviews data"
      ]
    },
    {
      "cell_type": "markdown",
      "source": [
        "We downloaden de originele dataset van Stanford University:"
      ],
      "metadata": {
        "id": "TF6juz9s4j09"
      }
    },
    {
      "cell_type": "code",
      "execution_count": null,
      "metadata": {
        "id": "EEXNQ1Pk-QbO",
        "colab": {
          "base_uri": "https://localhost:8080/"
        },
        "outputId": "211753cb-4290-46d6-c9e8-3600abfdc75c"
      },
      "outputs": [
        {
          "output_type": "stream",
          "name": "stdout",
          "text": [
            "  % Total    % Received % Xferd  Average Speed   Time    Time     Time  Current\n",
            "                                 Dload  Upload   Total   Spent    Left  Speed\n",
            "100 80.2M  100 80.2M    0     0  12.9M      0  0:00:06  0:00:06 --:--:-- 16.6M\n"
          ]
        }
      ],
      "source": [
        "!curl -O https://ai.stanford.edu/~amaas/data/sentiment/aclImdb_v1.tar.gz\n",
        "!tar -xf aclImdb_v1.tar.gz"
      ]
    },
    {
      "cell_type": "markdown",
      "source": [
        "De dataset heeft de volgende folderstructuur:\n",
        "\n",
        "![image.png](data:image/png;base64,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)"
      ],
      "metadata": {
        "id": "ELEFyPyD4zIs"
      }
    },
    {
      "cell_type": "markdown",
      "source": [
        "De \"unsup\" subfolder mag verwijderd worden:"
      ],
      "metadata": {
        "id": "PytTaKgy5HsM"
      }
    },
    {
      "cell_type": "code",
      "execution_count": null,
      "metadata": {
        "id": "SUsWtI-f-QbQ"
      },
      "outputs": [],
      "source": [
        "!rm -r aclImdb/train/unsup"
      ]
    },
    {
      "cell_type": "markdown",
      "source": [
        "Het is altijd een goed idee om de data te checken:"
      ],
      "metadata": {
        "id": "Uofc8FVI5Re_"
      }
    },
    {
      "cell_type": "code",
      "execution_count": null,
      "metadata": {
        "id": "la52T1DJ-QbR",
        "colab": {
          "base_uri": "https://localhost:8080/"
        },
        "outputId": "11a8e558-7994-47da-f773-4daaf81c41c1"
      },
      "outputs": [
        {
          "output_type": "stream",
          "name": "stdout",
          "text": [
            "I first saw this back in the early 90s on UK TV, i did like it then but i missed the chance to tape it, many years passed but the film always stuck with me and i lost hope of seeing it TV again, the main thing that stuck with me was the end, the hole castle part really touched me, its easy to watch, has a great story, great music, the list goes on and on, its OK me saying how good it is but everyone will take there own best bits away with them once they have seen it, yes the animation is top notch and beautiful to watch, it does show its age in a very few parts but that has now become part of it beauty, i am so glad it has came out on DVD as it is one of my top 10 films of all time. Buy it or rent it just see it, best viewing is at night alone with drink and food in reach so you don't have to stop the film.<br /><br />Enjoy"
          ]
        }
      ],
      "source": [
        "!cat aclImdb/train/pos/4077_10.txt"
      ]
    },
    {
      "cell_type": "markdown",
      "source": [
        "Er is enkel een training- en testset, dus we maken een validatieset aan door 20% van de trainingsdata aan de kant te zetten in subfolder \"val\":"
      ],
      "metadata": {
        "id": "eKOMv5Bw5iu0"
      }
    },
    {
      "cell_type": "code",
      "execution_count": null,
      "metadata": {
        "id": "wfLQ8jSd-QbS"
      },
      "outputs": [],
      "source": [
        "import os, pathlib, shutil, random\n",
        "\n",
        "base_dir = pathlib.Path(\"aclImdb\")\n",
        "val_dir = base_dir / \"val\"\n",
        "train_dir = base_dir / \"train\"\n",
        "for category in (\"neg\", \"pos\"):\n",
        "    os.makedirs(val_dir / category)\n",
        "    files = os.listdir(train_dir / category)\n",
        "    random.Random(1337).shuffle(files)\n",
        "    num_val_samples = int(0.2 * len(files))\n",
        "    val_files = files[-num_val_samples:]\n",
        "    for fname in val_files:\n",
        "        shutil.move(train_dir / category / fname,\n",
        "                    val_dir / category / fname)"
      ]
    },
    {
      "cell_type": "markdown",
      "source": [
        "Voilà, we zijn klaar om er Keras datasets van te maken mbv `text_dataset_from_directory`:"
      ],
      "metadata": {
        "id": "yVt09Unt50Xv"
      }
    },
    {
      "cell_type": "code",
      "execution_count": null,
      "metadata": {
        "id": "4PDU7JB7-QbU",
        "colab": {
          "base_uri": "https://localhost:8080/"
        },
        "outputId": "2975b9ed-825b-420c-aebb-6067d98224ef"
      },
      "outputs": [
        {
          "output_type": "stream",
          "name": "stdout",
          "text": [
            "Found 20000 files belonging to 2 classes.\n",
            "Found 5000 files belonging to 2 classes.\n",
            "Found 25000 files belonging to 2 classes.\n"
          ]
        }
      ],
      "source": [
        "from tensorflow import keras\n",
        "\n",
        "batch_size = 32\n",
        "\n",
        "train_ds = keras.utils.text_dataset_from_directory(\n",
        "    \"aclImdb/train\", batch_size=batch_size\n",
        ")\n",
        "val_ds = keras.utils.text_dataset_from_directory(\n",
        "    \"aclImdb/val\", batch_size=batch_size\n",
        ")\n",
        "test_ds = keras.utils.text_dataset_from_directory(\n",
        "    \"aclImdb/test\", batch_size=batch_size\n",
        ")"
      ]
    },
    {
      "cell_type": "markdown",
      "metadata": {
        "id": "Sf_6NUY8-QbU"
      },
      "source": [
        "Shapes en dtypes checken:"
      ]
    },
    {
      "cell_type": "code",
      "execution_count": null,
      "metadata": {
        "id": "u1t29OXo-QbV",
        "colab": {
          "base_uri": "https://localhost:8080/"
        },
        "outputId": "71714f2f-4a8f-4f2d-f452-0054667227c0"
      },
      "outputs": [
        {
          "output_type": "stream",
          "name": "stdout",
          "text": [
            "inputs.shape: (32,)\n",
            "inputs.dtype: <dtype: 'string'>\n",
            "targets.shape: (32,)\n",
            "targets.dtype: <dtype: 'int32'>\n",
            "inputs[0]: tf.Tensor(b'Dissapointing action movie with an interesting premise: a young Mafia would-to-be killer (Chandler) must demonstrate to his boss that he is a good man for the service so he goes to California to take some lessons with a very known professional killer (Beluschi). First and most important task: to kill a young woman (Lee) that is a completely strange for all of them. But is she a easy target? The movie goes on and on based upon this principal idea but the result is just bad routine; even the weird twist at the end does not save the movie. Good performance by Chandler. I give this a 4 (four).', shape=(), dtype=string)\n",
            "targets[0]: tf.Tensor(0, shape=(), dtype=int32)\n"
          ]
        }
      ],
      "source": [
        "for inputs, targets in train_ds:\n",
        "    print(\"inputs.shape:\", inputs.shape)\n",
        "    print(\"inputs.dtype:\", inputs.dtype)\n",
        "    print(\"targets.shape:\", targets.shape)\n",
        "    print(\"targets.dtype:\", targets.dtype)\n",
        "    print(\"inputs[0]:\", inputs[0])\n",
        "    print(\"targets[0]:\", targets[0])\n",
        "    break"
      ]
    },
    {
      "cell_type": "markdown",
      "source": [
        "We hebben ook het eerste sample uitgeprint. Dat is een negatieve review die label 0 krijgt."
      ],
      "metadata": {
        "id": "y4lZl6ul6UdZ"
      }
    },
    {
      "cell_type": "markdown",
      "metadata": {
        "id": "opmo-ygb-QbV"
      },
      "source": [
        "### Processing words as a set: The bag-of-words approach"
      ]
    },
    {
      "cell_type": "markdown",
      "source": [
        "Laten we eerst eens de klassieke bag-of-words benadering toepassen waarin de woordvolgorde van geen belang is."
      ],
      "metadata": {
        "id": "nR07jw2U6vP8"
      }
    },
    {
      "cell_type": "markdown",
      "metadata": {
        "id": "gy0PWowt-QbW"
      },
      "source": [
        "#### Single words (unigrams) with binary encoding"
      ]
    },
    {
      "cell_type": "markdown",
      "source": [
        "We starten met \"word-level tokenization\" en gebruiken hiervoor de `TextVectorization` layer. We limiteren de 'vocabulary' tot de 20 000 meest voorkomende woorden, wat in het geval van tekstclassificatie meestal een goeie keuze is. Waarom doen we dat? Omdat we anders woorden die maar 1 of 2 keer voorkomen mee nemen in de training, terwijl die waarschijnlijk geen nuttige informatie bevatten."
      ],
      "metadata": {
        "id": "TBDmJbmR7vgM"
      }
    },
    {
      "cell_type": "code",
      "execution_count": null,
      "metadata": {
        "id": "N6yzRGpe-QbY"
      },
      "outputs": [],
      "source": [
        "from keras.layers import TextVectorization\n",
        "\n",
        "text_vectorization = TextVectorization(\n",
        "    max_tokens=20_000,  # limit the vocabulary to the 20 000 most frequent words\n",
        "    output_mode=\"multi_hot\",  # Encode the output tokens as multi-hot binary vectors\n",
        ")\n",
        "text_only_train_ds = train_ds.map(lambda x, y: x)  # Prepare a dataset that only yields raw text inputs (no labels)\n",
        "text_vectorization.adapt(text_only_train_ds)  # Use that dataset to index the dataset vocabulary via the adapt method\n",
        "\n",
        "# Prepare processed versions of our training, validation, and test dataset.\n",
        "# Make sure to specify num_parallel_calls to leverage multiple CPU cores.\n",
        "binary_1gram_train_ds = train_ds.map(\n",
        "    lambda x, y: (text_vectorization(x), y),\n",
        "    num_parallel_calls=4)\n",
        "binary_1gram_val_ds = val_ds.map(\n",
        "    lambda x, y: (text_vectorization(x), y),\n",
        "    num_parallel_calls=4)\n",
        "binary_1gram_test_ds = test_ds.map(\n",
        "    lambda x, y: (text_vectorization(x), y),\n",
        "    num_parallel_calls=4)"
      ]
    },
    {
      "cell_type": "markdown",
      "metadata": {
        "id": "0xH7Vyip-QbZ"
      },
      "source": [
        "De output checken van deze \"binary unigram\" datasets:"
      ]
    },
    {
      "cell_type": "code",
      "execution_count": null,
      "metadata": {
        "id": "jkq0vIU1-Qba",
        "colab": {
          "base_uri": "https://localhost:8080/"
        },
        "outputId": "c400e8e7-e1d0-4552-9af7-df4f0153de61"
      },
      "outputs": [
        {
          "output_type": "stream",
          "name": "stdout",
          "text": [
            "inputs.shape: (32, 20000)\n",
            "inputs.dtype: <dtype: 'float32'>\n",
            "targets.shape: (32,)\n",
            "targets.dtype: <dtype: 'int32'>\n",
            "inputs[0]: tf.Tensor([1. 1. 1. ... 0. 0. 0.], shape=(20000,), dtype=float32)\n",
            "targets[0]: tf.Tensor(1, shape=(), dtype=int32)\n"
          ]
        }
      ],
      "source": [
        "for inputs, targets in binary_1gram_train_ds:\n",
        "    print(\"inputs.shape:\", inputs.shape)\n",
        "    print(\"inputs.dtype:\", inputs.dtype)\n",
        "    print(\"targets.shape:\", targets.shape)\n",
        "    print(\"targets.dtype:\", targets.dtype)\n",
        "    print(\"inputs[0]:\", inputs[0])\n",
        "    print(\"targets[0]:\", targets[0])\n",
        "    break"
      ]
    },
    {
      "cell_type": "markdown",
      "source": [
        "Waarom spreken we hier van \"binary unigram\"? Unigram wil zeggen 1-gram of dus individuele woorden als tokens. Binary verwijst naar de **multi-hot encoding**, d.w.z. dat er wordt aangegeven via 1 of 0 of een woord uit de 'vocabulary' al dan niet voorkomt in een review. Dat wil dus zeggen dat elke sample wordt omgezet naar een binaire vector met lengte gelijk aan het aantal woorden in de 'vocabulary':"
      ],
      "metadata": {
        "id": "GKHMoXD38Mul"
      }
    },
    {
      "cell_type": "code",
      "source": [
        "len(inputs[0]) == len(text_vectorization.get_vocabulary())"
      ],
      "metadata": {
        "colab": {
          "base_uri": "https://localhost:8080/"
        },
        "id": "OSTvEh3k866r",
        "outputId": "ee5cad6e-d8ca-4fc0-e141-6dae88fc31c0"
      },
      "execution_count": null,
      "outputs": [
        {
          "output_type": "execute_result",
          "data": {
            "text/plain": [
              "True"
            ]
          },
          "metadata": {},
          "execution_count": 15
        }
      ]
    },
    {
      "cell_type": "markdown",
      "metadata": {
        "id": "p_Xj-maJ-Qba"
      },
      "source": [
        "We definiëren een model en stoppen dat in een functie `get_model` omdat we dit model zullen toepassen op alle experimenten die we in deze paragraaf zullen uitvoeren:"
      ]
    },
    {
      "cell_type": "code",
      "execution_count": null,
      "metadata": {
        "id": "rk7vnvff-Qbb"
      },
      "outputs": [],
      "source": [
        "from tensorflow import keras\n",
        "from keras import layers\n",
        "\n",
        "def get_model(max_tokens=20000, hidden_dim=16):\n",
        "    inputs = keras.Input(shape=(max_tokens,))\n",
        "    x = layers.Dense(hidden_dim, activation=\"relu\")(inputs)\n",
        "    x = layers.Dropout(0.5)(x)\n",
        "    outputs = layers.Dense(1, activation=\"sigmoid\")(x)\n",
        "    model = keras.Model(inputs, outputs)\n",
        "    model.compile(optimizer=\"rmsprop\",\n",
        "                  loss=\"binary_crossentropy\",\n",
        "                  metrics=[\"accuracy\"])\n",
        "    return model"
      ]
    },
    {
      "cell_type": "markdown",
      "metadata": {
        "id": "o2_TKrtQ-Qbc"
      },
      "source": [
        "Trainen en evalueren van het \"binary unigram model\" (dat kan met CPU omdat het een eenvoudig feedforward model is):"
      ]
    },
    {
      "cell_type": "code",
      "execution_count": null,
      "metadata": {
        "id": "ewD6-JRj-Qbc",
        "colab": {
          "base_uri": "https://localhost:8080/"
        },
        "outputId": "c75de038-4c4d-4e92-9a15-00a64a09b17d"
      },
      "outputs": [
        {
          "output_type": "stream",
          "name": "stdout",
          "text": [
            "Model: \"model_1\"\n",
            "_________________________________________________________________\n",
            " Layer (type)                Output Shape              Param #   \n",
            "=================================================================\n",
            " input_2 (InputLayer)        [(None, 20000)]           0         \n",
            "                                                                 \n",
            " dense_2 (Dense)             (None, 16)                320016    \n",
            "                                                                 \n",
            " dropout_1 (Dropout)         (None, 16)                0         \n",
            "                                                                 \n",
            " dense_3 (Dense)             (None, 1)                 17        \n",
            "                                                                 \n",
            "=================================================================\n",
            "Total params: 320,033\n",
            "Trainable params: 320,033\n",
            "Non-trainable params: 0\n",
            "_________________________________________________________________\n",
            "Epoch 1/10\n",
            "625/625 [==============================] - 9s 14ms/step - loss: 0.3958 - accuracy: 0.8355 - val_loss: 0.2956 - val_accuracy: 0.8846\n",
            "Epoch 2/10\n",
            "625/625 [==============================] - 3s 5ms/step - loss: 0.2658 - accuracy: 0.9034 - val_loss: 0.2995 - val_accuracy: 0.8868\n",
            "Epoch 3/10\n",
            "625/625 [==============================] - 5s 8ms/step - loss: 0.2330 - accuracy: 0.9193 - val_loss: 0.3231 - val_accuracy: 0.8866\n",
            "Epoch 4/10\n",
            "625/625 [==============================] - 5s 7ms/step - loss: 0.2258 - accuracy: 0.9257 - val_loss: 0.3425 - val_accuracy: 0.8876\n",
            "Epoch 5/10\n",
            "625/625 [==============================] - 4s 6ms/step - loss: 0.2117 - accuracy: 0.9318 - val_loss: 0.3533 - val_accuracy: 0.8876\n",
            "Epoch 6/10\n",
            "625/625 [==============================] - 3s 5ms/step - loss: 0.2103 - accuracy: 0.9345 - val_loss: 0.3624 - val_accuracy: 0.8876\n",
            "Epoch 7/10\n",
            "625/625 [==============================] - 4s 6ms/step - loss: 0.2087 - accuracy: 0.9347 - val_loss: 0.3710 - val_accuracy: 0.8868\n",
            "Epoch 8/10\n",
            "625/625 [==============================] - 3s 4ms/step - loss: 0.2028 - accuracy: 0.9383 - val_loss: 0.3838 - val_accuracy: 0.8852\n",
            "Epoch 9/10\n",
            "625/625 [==============================] - 4s 7ms/step - loss: 0.2077 - accuracy: 0.9388 - val_loss: 0.3904 - val_accuracy: 0.8848\n",
            "Epoch 10/10\n",
            "625/625 [==============================] - 4s 6ms/step - loss: 0.2162 - accuracy: 0.9373 - val_loss: 0.3929 - val_accuracy: 0.8838\n",
            "782/782 [==============================] - 7s 9ms/step - loss: 0.2864 - accuracy: 0.8888\n",
            "Test acc: 0.889\n"
          ]
        }
      ],
      "source": [
        "model = get_model()\n",
        "model.summary()\n",
        "\n",
        "callbacks = [\n",
        "    keras.callbacks.ModelCheckpoint(\"binary_1gram.keras\",\n",
        "                                    save_best_only=True)\n",
        "]\n",
        "# fit() laten gebruik maken van Dataset.cache():\n",
        "# https://www.tensorflow.org/api_docs/python/tf/data/Dataset#cache\n",
        "history = model.fit(binary_1gram_train_ds.cache(),\n",
        "                    validation_data=binary_1gram_val_ds.cache(),\n",
        "                    epochs=10,\n",
        "                    callbacks=callbacks)\n",
        "\n",
        "model = keras.models.load_model(\"binary_1gram.keras\")\n",
        "print(f\"Test acc: {model.evaluate(binary_1gram_test_ds)[1]:.3f}\")"
      ]
    },
    {
      "cell_type": "markdown",
      "source": [
        "We hebben al direct een test accuracy van ongeveer 89%. Dat is zeker niet slecht aangezien dit een binaire classificatie is en een random classifier slechts 50% zou halen."
      ],
      "metadata": {
        "id": "v024Ig2qCK9B"
      }
    },
    {
      "cell_type": "markdown",
      "source": [
        "We definiëren een functie om vlot de evolutie van loss en nauwkeurigheid tijdens training en validatie te kunnen plotten:"
      ],
      "metadata": {
        "id": "1IqruvmQCA6t"
      }
    },
    {
      "cell_type": "code",
      "source": [
        "import matplotlib.pyplot as plt\n",
        "\n",
        "def plot_result(history):\n",
        "    _, (ax1, ax2) = plt.subplots(1, 2, figsize=(10, 4))\n",
        "    ax1.plot(history.history['loss'], label='training');\n",
        "    ax1.plot(history.history['val_loss'], label='validation');\n",
        "    ax1.set_title('loss');\n",
        "    ax1.legend();\n",
        "    ax1.grid();\n",
        "    ax2.plot(history.history['accuracy'], label='training');\n",
        "    ax2.plot(history.history['val_accuracy'], label='validation');\n",
        "    ax2.set_title('accuracy');\n",
        "    ax2.legend();\n",
        "    ax2.grid();"
      ],
      "metadata": {
        "id": "cH8ZIWqlA40j"
      },
      "execution_count": null,
      "outputs": []
    },
    {
      "cell_type": "code",
      "source": [
        "plot_result(history)"
      ],
      "metadata": {
        "colab": {
          "base_uri": "https://localhost:8080/",
          "height": 281
        },
        "id": "1jz23rUlBzmA",
        "outputId": "007f756d-5060-46c7-e6ad-2b6d4686e89a"
      },
      "execution_count": null,
      "outputs": [
        {
          "output_type": "display_data",
          "data": {
            "text/plain": [
              "<Figure size 720x288 with 2 Axes>"
            ],
            "image/png": "[encoded data removed]"
          },
          "metadata": {
            "needs_background": "light"
          }
        }
      ]
    },
    {
      "cell_type": "markdown",
      "source": [
        "We krijgen wel direct overfitting..."
      ],
      "metadata": {
        "id": "daLxAy4lCliG"
      }
    },
    {
      "cell_type": "markdown",
      "metadata": {
        "id": "OlYq1IND-Qbd"
      },
      "source": [
        "#### Bigrams with binary encoding"
      ]
    },
    {
      "cell_type": "markdown",
      "source": [
        "Een bag-of-words model houdt geen rekening met de woordvolgorde, maar door met N-grams te werken, kunnen we toch die volgorde een beetje in rekening brengen. Laten we eens uittesten of 'bigrams' als input van het neuraal netwerk een beter resultaat geven."
      ],
      "metadata": {
        "id": "jou6z1-PCtJY"
      }
    },
    {
      "cell_type": "markdown",
      "source": [
        "We moeten natuurlijk eerst weer de training-, validatie- en testset aanmaken:"
      ],
      "metadata": {
        "id": "_frKCoEaD0qH"
      }
    },
    {
      "cell_type": "code",
      "execution_count": null,
      "metadata": {
        "id": "gjqSWEmg-Qbe"
      },
      "outputs": [],
      "source": [
        "text_vectorization = TextVectorization(\n",
        "    ngrams=2,  # default is ngrams 1 - hier nemen we dus 2\n",
        "    max_tokens=20_000,  # opnieuw enkel de 20 000 meest voorkomende woorden gebruiken\n",
        "    output_mode=\"multi_hot\",  # multi-hot encoding toepassen\n",
        ")\n",
        "text_vectorization.adapt(text_only_train_ds)\n",
        "\n",
        "binary_2gram_train_ds = train_ds.map(\n",
        "    lambda x, y: (text_vectorization(x), y),\n",
        "    num_parallel_calls=4)\n",
        "binary_2gram_val_ds = val_ds.map(\n",
        "    lambda x, y: (text_vectorization(x), y),\n",
        "    num_parallel_calls=4)\n",
        "binary_2gram_test_ds = test_ds.map(\n",
        "    lambda x, y: (text_vectorization(x), y),\n",
        "    num_parallel_calls=4)"
      ]
    },
    {
      "cell_type": "markdown",
      "metadata": {
        "id": "VXNBFpkf-Qbg"
      },
      "source": [
        "Het \"binary bigram model\" trainen en evalueren:"
      ]
    },
    {
      "cell_type": "code",
      "execution_count": null,
      "metadata": {
        "id": "SEYh0CVd-Qbh",
        "colab": {
          "base_uri": "https://localhost:8080/"
        },
        "outputId": "537d0b4a-4647-4ea7-f5b1-6df9fe249c35"
      },
      "outputs": [
        {
          "output_type": "stream",
          "name": "stdout",
          "text": [
            "Model: \"model_2\"\n",
            "_________________________________________________________________\n",
            " Layer (type)                Output Shape              Param #   \n",
            "=================================================================\n",
            " input_3 (InputLayer)        [(None, 20000)]           0         \n",
            "                                                                 \n",
            " dense_4 (Dense)             (None, 16)                320016    \n",
            "                                                                 \n",
            " dropout_2 (Dropout)         (None, 16)                0         \n",
            "                                                                 \n",
            " dense_5 (Dense)             (None, 1)                 17        \n",
            "                                                                 \n",
            "=================================================================\n",
            "Total params: 320,033\n",
            "Trainable params: 320,033\n",
            "Non-trainable params: 0\n",
            "_________________________________________________________________\n",
            "Epoch 1/10\n",
            "625/625 [==============================] - 8s 12ms/step - loss: 0.3877 - accuracy: 0.8381 - val_loss: 0.2912 - val_accuracy: 0.8876\n",
            "Epoch 2/10\n",
            "625/625 [==============================] - 3s 4ms/step - loss: 0.2495 - accuracy: 0.9135 - val_loss: 0.2973 - val_accuracy: 0.8894\n",
            "Epoch 3/10\n",
            "625/625 [==============================] - 3s 4ms/step - loss: 0.2134 - accuracy: 0.9295 - val_loss: 0.3377 - val_accuracy: 0.8910\n",
            "Epoch 4/10\n",
            "625/625 [==============================] - 3s 5ms/step - loss: 0.1996 - accuracy: 0.9362 - val_loss: 0.3445 - val_accuracy: 0.8922\n",
            "Epoch 5/10\n",
            "625/625 [==============================] - 4s 6ms/step - loss: 0.1900 - accuracy: 0.9430 - val_loss: 0.3619 - val_accuracy: 0.8914\n",
            "Epoch 6/10\n",
            "625/625 [==============================] - 3s 4ms/step - loss: 0.1866 - accuracy: 0.9477 - val_loss: 0.3717 - val_accuracy: 0.8930\n",
            "Epoch 7/10\n",
            "625/625 [==============================] - 3s 4ms/step - loss: 0.1866 - accuracy: 0.9490 - val_loss: 0.3857 - val_accuracy: 0.8920\n",
            "Epoch 8/10\n",
            "625/625 [==============================] - 3s 4ms/step - loss: 0.1712 - accuracy: 0.9523 - val_loss: 0.4058 - val_accuracy: 0.8894\n",
            "Epoch 9/10\n",
            "625/625 [==============================] - 2s 4ms/step - loss: 0.1702 - accuracy: 0.9542 - val_loss: 0.4098 - val_accuracy: 0.8870\n",
            "Epoch 10/10\n",
            "625/625 [==============================] - 2s 4ms/step - loss: 0.1769 - accuracy: 0.9542 - val_loss: 0.4291 - val_accuracy: 0.8856\n",
            "782/782 [==============================] - 5s 7ms/step - loss: 0.2725 - accuracy: 0.8972\n",
            "Test acc: 0.897\n"
          ]
        }
      ],
      "source": [
        "model = get_model()\n",
        "model.summary()\n",
        "\n",
        "callbacks = [\n",
        "    keras.callbacks.ModelCheckpoint(\"binary_2gram.keras\",\n",
        "                                    save_best_only=True)\n",
        "]\n",
        "history = model.fit(binary_2gram_train_ds.cache(),\n",
        "                    validation_data=binary_2gram_val_ds.cache(),\n",
        "                    epochs=10,\n",
        "                    callbacks=callbacks)\n",
        "\n",
        "model = keras.models.load_model(\"binary_2gram.keras\")\n",
        "print(f\"Test acc: {model.evaluate(binary_2gram_test_ds)[1]:.3f}\")"
      ]
    },
    {
      "cell_type": "markdown",
      "source": [
        "Bijna 90%, dus het is iets beter, wat wil zeggen dat 'lokale' woordvolgorde toch wel relevant is!"
      ],
      "metadata": {
        "id": "xzpiMCGfElCl"
      }
    },
    {
      "cell_type": "code",
      "source": [
        "plot_result(history)"
      ],
      "metadata": {
        "colab": {
          "base_uri": "https://localhost:8080/",
          "height": 281
        },
        "id": "rZqNvUC8ESD_",
        "outputId": "a505ce59-b986-4de7-a075-1f274ea5fab8"
      },
      "execution_count": null,
      "outputs": [
        {
          "output_type": "display_data",
          "data": {
            "text/plain": [
              "<Figure size 720x288 with 2 Axes>"
            ],
            "image/png": "[encoded data removed]"
          },
          "metadata": {
            "needs_background": "light"
          }
        }
      ]
    },
    {
      "cell_type": "markdown",
      "metadata": {
        "id": "XZhExTS5-Qbi"
      },
      "source": [
        "#### Bigrams with TF-IDF encoding"
      ]
    },
    {
      "cell_type": "markdown",
      "source": [
        "We kunnen nog wat meer informatie uit die N-grams halen door te tellen hoeveel keer een N-gram voorkomt. In plaats van een binaire vector met nullen en enen wordt elk sampel dan omgezet naar een integer vector. Zo krijgen we een [document-term matrix](https://en.wikipedia.org/wiki/Document-term_matrix)."
      ],
      "metadata": {
        "id": "sRfhjRBMOzCI"
      }
    },
    {
      "cell_type": "markdown",
      "source": [
        "Laten we het verschil illustreren met het voorbeeldje van de 'cat' zinnen. Eerst zetten we de zinnen om naar binaire vectoren mbv multi-hot encoding:"
      ],
      "metadata": {
        "id": "oWdEbh9tSzRq"
      }
    },
    {
      "cell_type": "code",
      "source": [
        "import re  # regular expressions\n",
        "import pandas as pd\n",
        "\n",
        "# inputs\n",
        "docs = [\"The cat sat on the mat.\",\n",
        "        \"The cat catches two mice.\"]\n",
        "\n",
        "# standardization and tokenization\n",
        "docs = [re.sub(r'[^\\w\\s]', '', doc.lower()).split() for doc in docs]\n",
        "tokens = list(set([token for doc in docs for token in doc]))\n",
        "\n",
        "# multi-hot encoding\n",
        "multi_hot = pd.DataFrame([[int(token in doc) for token in tokens] for doc in docs])\n",
        "multi_hot.columns = tokens\n",
        "multi_hot"
      ],
      "metadata": {
        "colab": {
          "base_uri": "https://localhost:8080/",
          "height": 112
        },
        "id": "BHhhSgdqP3U8",
        "outputId": "921f00e3-441b-4eaf-f3e8-f2cb2f98bf89"
      },
      "execution_count": null,
      "outputs": [
        {
          "output_type": "execute_result",
          "data": {
            "text/plain": [
              "   on  cat  catches  two  mat  sat  the  mice\n",
              "0   1    1        0    0    1    1    1     0\n",
              "1   0    1        1    1    0    0    1     1"
            ],
            "text/html": [
              "\n",
              "  <div id=\"df-84333fae-81dc-4793-89ac-f9c76565e3cf\">\n",
              "    <div class=\"colab-df-container\">\n",
              "      <div>\n",
              "<style scoped>\n",
              "    .dataframe tbody tr th:only-of-type {\n",
              "        vertical-align: middle;\n",
              "    }\n",
              "\n",
              "    .dataframe tbody tr th {\n",
              "        vertical-align: top;\n",
              "    }\n",
              "\n",
              "    .dataframe thead th {\n",
              "        text-align: right;\n",
              "    }\n",
              "</style>\n",
              "<table border=\"1\" class=\"dataframe\">\n",
              "  <thead>\n",
              "    <tr style=\"text-align: right;\">\n",
              "      <th></th>\n",
              "      <th>on</th>\n",
              "      <th>cat</th>\n",
              "      <th>catches</th>\n",
              "      <th>two</th>\n",
              "      <th>mat</th>\n",
              "      <th>sat</th>\n",
              "      <th>the</th>\n",
              "      <th>mice</th>\n",
              "    </tr>\n",
              "  </thead>\n",
              "  <tbody>\n",
              "    <tr>\n",
              "      <th>0</th>\n",
              "      <td>1</td>\n",
              "      <td>1</td>\n",
              "      <td>0</td>\n",
              "      <td>0</td>\n",
              "      <td>1</td>\n",
              "      <td>1</td>\n",
              "      <td>1</td>\n",
              "      <td>0</td>\n",
              "    </tr>\n",
              "    <tr>\n",
              "      <th>1</th>\n",
              "      <td>0</td>\n",
              "      <td>1</td>\n",
              "      <td>1</td>\n",
              "      <td>1</td>\n",
              "      <td>0</td>\n",
              "      <td>0</td>\n",
              "      <td>1</td>\n",
              "      <td>1</td>\n",
              "    </tr>\n",
              "  </tbody>\n",
              "</table>\n",
              "</div>\n",
              "      <button class=\"colab-df-convert\" onclick=\"convertToInteractive('df-84333fae-81dc-4793-89ac-f9c76565e3cf')\"\n",
              "              title=\"Convert this dataframe to an interactive table.\"\n",
              "              style=\"display:none;\">\n",
              "        \n",
              "  <svg xmlns=\"http://www.w3.org/2000/svg\" height=\"24px\"viewBox=\"0 0 24 24\"\n",
              "       width=\"24px\">\n",
              "    <path d=\"M0 0h24v24H0V0z\" fill=\"none\"/>\n",
              "    <path d=\"M18.56 5.44l.94 2.06.94-2.06 2.06-.94-2.06-.94-.94-2.06-.94 2.06-2.06.94zm-11 1L8.5 8.5l.94-2.06 2.06-.94-2.06-.94L8.5 2.5l-.94 2.06-2.06.94zm10 10l.94 2.06.94-2.06 2.06-.94-2.06-.94-.94-2.06-.94 2.06-2.06.94z\"/><path d=\"M17.41 7.96l-1.37-1.37c-.4-.4-.92-.59-1.43-.59-.52 0-1.04.2-1.43.59L10.3 9.45l-7.72 7.72c-.78.78-.78 2.05 0 2.83L4 21.41c.39.39.9.59 1.41.59.51 0 1.02-.2 1.41-.59l7.78-7.78 2.81-2.81c.8-.78.8-2.07 0-2.86zM5.41 20L4 18.59l7.72-7.72 1.47 1.35L5.41 20z\"/>\n",
              "  </svg>\n",
              "      </button>\n",
              "      \n",
              "  <style>\n",
              "    .colab-df-container {\n",
              "      display:flex;\n",
              "      flex-wrap:wrap;\n",
              "      gap: 12px;\n",
              "    }\n",
              "\n",
              "    .colab-df-convert {\n",
              "      background-color: #E8F0FE;\n",
              "      border: none;\n",
              "      border-radius: 50%;\n",
              "      cursor: pointer;\n",
              "      display: none;\n",
              "      fill: #1967D2;\n",
              "      height: 32px;\n",
              "      padding: 0 0 0 0;\n",
              "      width: 32px;\n",
              "    }\n",
              "\n",
              "    .colab-df-convert:hover {\n",
              "      background-color: #E2EBFA;\n",
              "      box-shadow: 0px 1px 2px rgba(60, 64, 67, 0.3), 0px 1px 3px 1px rgba(60, 64, 67, 0.15);\n",
              "      fill: #174EA6;\n",
              "    }\n",
              "\n",
              "    [theme=dark] .colab-df-convert {\n",
              "      background-color: #3B4455;\n",
              "      fill: #D2E3FC;\n",
              "    }\n",
              "\n",
              "    [theme=dark] .colab-df-convert:hover {\n",
              "      background-color: #434B5C;\n",
              "      box-shadow: 0px 1px 3px 1px rgba(0, 0, 0, 0.15);\n",
              "      filter: drop-shadow(0px 1px 2px rgba(0, 0, 0, 0.3));\n",
              "      fill: #FFFFFF;\n",
              "    }\n",
              "  </style>\n",
              "\n",
              "      <script>\n",
              "        const buttonEl =\n",
              "          document.querySelector('#df-84333fae-81dc-4793-89ac-f9c76565e3cf button.colab-df-convert');\n",
              "        buttonEl.style.display =\n",
              "          google.colab.kernel.accessAllowed ? 'block' : 'none';\n",
              "\n",
              "        async function convertToInteractive(key) {\n",
              "          const element = document.querySelector('#df-84333fae-81dc-4793-89ac-f9c76565e3cf');\n",
              "          const dataTable =\n",
              "            await google.colab.kernel.invokeFunction('convertToInteractive',\n",
              "                                                     [key], {});\n",
              "          if (!dataTable) return;\n",
              "\n",
              "          const docLinkHtml = 'Like what you see? Visit the ' +\n",
              "            '<a target=\"_blank\" href=https://colab.research.google.com/notebooks/data_table.ipynb>data table notebook</a>'\n",
              "            + ' to learn more about interactive tables.';\n",
              "          element.innerHTML = '';\n",
              "          dataTable['output_type'] = 'display_data';\n",
              "          await google.colab.output.renderOutput(dataTable, element);\n",
              "          const docLink = document.createElement('div');\n",
              "          docLink.innerHTML = docLinkHtml;\n",
              "          element.appendChild(docLink);\n",
              "        }\n",
              "      </script>\n",
              "    </div>\n",
              "  </div>\n",
              "  "
            ]
          },
          "metadata": {},
          "execution_count": 42
        }
      ]
    },
    {
      "cell_type": "markdown",
      "source": [
        "Als we nu het aantal keren dat een woord voorkomt tellen ipv enkel kijken of het voorkomt, dan krijgen we bij de eerste zin de waarde 2 bij het woord `\"the\"` ipv een 1:"
      ],
      "metadata": {
        "id": "UheftcxwS_sO"
      }
    },
    {
      "cell_type": "code",
      "source": [
        "# counting\n",
        "dtm = pd.DataFrame([[doc.count(token) for token in tokens] for doc in docs])\n",
        "dtm.columns = tokens\n",
        "dtm"
      ],
      "metadata": {
        "colab": {
          "base_uri": "https://localhost:8080/",
          "height": 112
        },
        "id": "avBgOcmPSreJ",
        "outputId": "bd633f1a-0dd0-416e-c597-8af0a07d4bb1"
      },
      "execution_count": null,
      "outputs": [
        {
          "output_type": "execute_result",
          "data": {
            "text/plain": [
              "   on  cat  catches  two  mat  sat  the  mice\n",
              "0   1    1        0    0    1    1    2     0\n",
              "1   0    1        1    1    0    0    1     1"
            ],
            "text/html": [
              "\n",
              "  <div id=\"df-7223a08e-eb8b-49c0-a7e7-73f01bdfc3fc\">\n",
              "    <div class=\"colab-df-container\">\n",
              "      <div>\n",
              "<style scoped>\n",
              "    .dataframe tbody tr th:only-of-type {\n",
              "        vertical-align: middle;\n",
              "    }\n",
              "\n",
              "    .dataframe tbody tr th {\n",
              "        vertical-align: top;\n",
              "    }\n",
              "\n",
              "    .dataframe thead th {\n",
              "        text-align: right;\n",
              "    }\n",
              "</style>\n",
              "<table border=\"1\" class=\"dataframe\">\n",
              "  <thead>\n",
              "    <tr style=\"text-align: right;\">\n",
              "      <th></th>\n",
              "      <th>on</th>\n",
              "      <th>cat</th>\n",
              "      <th>catches</th>\n",
              "      <th>two</th>\n",
              "      <th>mat</th>\n",
              "      <th>sat</th>\n",
              "      <th>the</th>\n",
              "      <th>mice</th>\n",
              "    </tr>\n",
              "  </thead>\n",
              "  <tbody>\n",
              "    <tr>\n",
              "      <th>0</th>\n",
              "      <td>1</td>\n",
              "      <td>1</td>\n",
              "      <td>0</td>\n",
              "      <td>0</td>\n",
              "      <td>1</td>\n",
              "      <td>1</td>\n",
              "      <td>2</td>\n",
              "      <td>0</td>\n",
              "    </tr>\n",
              "    <tr>\n",
              "      <th>1</th>\n",
              "      <td>0</td>\n",
              "      <td>1</td>\n",
              "      <td>1</td>\n",
              "      <td>1</td>\n",
              "      <td>0</td>\n",
              "      <td>0</td>\n",
              "      <td>1</td>\n",
              "      <td>1</td>\n",
              "    </tr>\n",
              "  </tbody>\n",
              "</table>\n",
              "</div>\n",
              "      <button class=\"colab-df-convert\" onclick=\"convertToInteractive('df-7223a08e-eb8b-49c0-a7e7-73f01bdfc3fc')\"\n",
              "              title=\"Convert this dataframe to an interactive table.\"\n",
              "              style=\"display:none;\">\n",
              "        \n",
              "  <svg xmlns=\"http://www.w3.org/2000/svg\" height=\"24px\"viewBox=\"0 0 24 24\"\n",
              "       width=\"24px\">\n",
              "    <path d=\"M0 0h24v24H0V0z\" fill=\"none\"/>\n",
              "    <path d=\"M18.56 5.44l.94 2.06.94-2.06 2.06-.94-2.06-.94-.94-2.06-.94 2.06-2.06.94zm-11 1L8.5 8.5l.94-2.06 2.06-.94-2.06-.94L8.5 2.5l-.94 2.06-2.06.94zm10 10l.94 2.06.94-2.06 2.06-.94-2.06-.94-.94-2.06-.94 2.06-2.06.94z\"/><path d=\"M17.41 7.96l-1.37-1.37c-.4-.4-.92-.59-1.43-.59-.52 0-1.04.2-1.43.59L10.3 9.45l-7.72 7.72c-.78.78-.78 2.05 0 2.83L4 21.41c.39.39.9.59 1.41.59.51 0 1.02-.2 1.41-.59l7.78-7.78 2.81-2.81c.8-.78.8-2.07 0-2.86zM5.41 20L4 18.59l7.72-7.72 1.47 1.35L5.41 20z\"/>\n",
              "  </svg>\n",
              "      </button>\n",
              "      \n",
              "  <style>\n",
              "    .colab-df-container {\n",
              "      display:flex;\n",
              "      flex-wrap:wrap;\n",
              "      gap: 12px;\n",
              "    }\n",
              "\n",
              "    .colab-df-convert {\n",
              "      background-color: #E8F0FE;\n",
              "      border: none;\n",
              "      border-radius: 50%;\n",
              "      cursor: pointer;\n",
              "      display: none;\n",
              "      fill: #1967D2;\n",
              "      height: 32px;\n",
              "      padding: 0 0 0 0;\n",
              "      width: 32px;\n",
              "    }\n",
              "\n",
              "    .colab-df-convert:hover {\n",
              "      background-color: #E2EBFA;\n",
              "      box-shadow: 0px 1px 2px rgba(60, 64, 67, 0.3), 0px 1px 3px 1px rgba(60, 64, 67, 0.15);\n",
              "      fill: #174EA6;\n",
              "    }\n",
              "\n",
              "    [theme=dark] .colab-df-convert {\n",
              "      background-color: #3B4455;\n",
              "      fill: #D2E3FC;\n",
              "    }\n",
              "\n",
              "    [theme=dark] .colab-df-convert:hover {\n",
              "      background-color: #434B5C;\n",
              "      box-shadow: 0px 1px 3px 1px rgba(0, 0, 0, 0.15);\n",
              "      filter: drop-shadow(0px 1px 2px rgba(0, 0, 0, 0.3));\n",
              "      fill: #FFFFFF;\n",
              "    }\n",
              "  </style>\n",
              "\n",
              "      <script>\n",
              "        const buttonEl =\n",
              "          document.querySelector('#df-7223a08e-eb8b-49c0-a7e7-73f01bdfc3fc button.colab-df-convert');\n",
              "        buttonEl.style.display =\n",
              "          google.colab.kernel.accessAllowed ? 'block' : 'none';\n",
              "\n",
              "        async function convertToInteractive(key) {\n",
              "          const element = document.querySelector('#df-7223a08e-eb8b-49c0-a7e7-73f01bdfc3fc');\n",
              "          const dataTable =\n",
              "            await google.colab.kernel.invokeFunction('convertToInteractive',\n",
              "                                                     [key], {});\n",
              "          if (!dataTable) return;\n",
              "\n",
              "          const docLinkHtml = 'Like what you see? Visit the ' +\n",
              "            '<a target=\"_blank\" href=https://colab.research.google.com/notebooks/data_table.ipynb>data table notebook</a>'\n",
              "            + ' to learn more about interactive tables.';\n",
              "          element.innerHTML = '';\n",
              "          dataTable['output_type'] = 'display_data';\n",
              "          await google.colab.output.renderOutput(dataTable, element);\n",
              "          const docLink = document.createElement('div');\n",
              "          docLink.innerHTML = docLinkHtml;\n",
              "          element.appendChild(docLink);\n",
              "        }\n",
              "      </script>\n",
              "    </div>\n",
              "  </div>\n",
              "  "
            ]
          },
          "metadata": {},
          "execution_count": 60
        }
      ]
    },
    {
      "cell_type": "markdown",
      "metadata": {
        "id": "8URDwzlR-Qbj"
      },
      "source": [
        "Dit kunnen we natuurlijk sneller met de `TextVectorization` layer. In dat geval moeten we de `output_mode` op `\"count\"` zetten:"
      ]
    },
    {
      "cell_type": "code",
      "execution_count": null,
      "metadata": {
        "id": "rCGplEPV-Qbk"
      },
      "outputs": [],
      "source": [
        "text_vectorization = TextVectorization(\n",
        "    ngrams=2,\n",
        "    max_tokens=20000,\n",
        "    output_mode=\"count\"\n",
        ")"
      ]
    },
    {
      "cell_type": "markdown",
      "source": [
        "Probleem bij die benadering is dat bepaalde woorden zoals lidwoorden en voorzetsels ('a', 'the', 'on', 'in', 'by', ...) veel voorkomen en toch niet zoveel informatie bevatten. We moeten dus **normalizeren**. We zouden elk aantal door het totaal aantal samples kunnen delen. Of we zouden kunnen standaardiseren door het gemiddelde aantal af te trekken en daarna te delen door de standaardafwijking. Maar het probleem hierbij is dat we heel veel nullen hebben in onze matrix. M.a.w. onze matrix is *'sparse'*. Daarom past men meestal **TF-IDF** normalisatie toe. Dat staat voor *'term frequency - inverse document frequency'*."
      ],
      "metadata": {
        "id": "2GEVgg9uT7s1"
      }
    },
    {
      "cell_type": "markdown",
      "source": [
        "Uit het boek:\n",
        "\n",
        "*The more a given term appears in a document, the more important that term is for\n",
        "understanding what the document is about. At the same time, the frequency at which\n",
        "the term appears across all documents in your dataset matters too: terms that\n",
        "appear in almost every document (like “the” or “a”) aren’t particularly informative,\n",
        "while terms that appear only in a small subset of all texts (like “Herzog”) are very distinctive,\n",
        "and thus important. TF-IDF is a metric that uses these two ideas. It weights\n",
        "a given term by taking “term frequency,” how many times the term appears in the\n",
        "current document, and dividing it by a measure of “document frequency,” which estimates\n",
        "how often the term comes up across the dataset. You’d compute it as follows:*\n",
        "\n",
        "```python\n",
        "import math\n",
        "def tfidf(term, document, dataset):\n",
        "    term_freq = document.count(term)\n",
        "    doc_freq = math.log(sum([doc.count(term) for doc in dataset]) + 1)\n",
        "    return term_freq / doc_freq\n",
        "```"
      ],
      "metadata": {
        "id": "gKC28wcpVTte"
      }
    },
    {
      "cell_type": "markdown",
      "source": [
        "Je ziet dus dat het aantal keren dat een woord (token of term) voorkomt in een document (= \"term frequency\") wordt gedeeld door de logaritme van het aantal keren dat hetzelfde woord voorkomt in alle documenten (= \"document frequency\"). Bij dat aantal wordt 1 opgeteld om een soort van 'smoothing' toe te passen.\n",
        "\n",
        "In ons voorbeeldje kunnen we de TF-IDF matrix eenvoudig berekenen adhv de document-term matrix met aantallen:"
      ],
      "metadata": {
        "id": "yqLIwMyHV0AZ"
      }
    },
    {
      "cell_type": "code",
      "source": [
        "import numpy as np\n",
        "tfidf = dtm / np.log(dtm.sum(axis=0) + 1)\n",
        "tfidf"
      ],
      "metadata": {
        "colab": {
          "base_uri": "https://localhost:8080/",
          "height": 112
        },
        "id": "lWcVr-9pWda5",
        "outputId": "c0142862-f4a7-48fc-eed8-5a6bbb49dff3"
      },
      "execution_count": null,
      "outputs": [
        {
          "output_type": "execute_result",
          "data": {
            "text/plain": [
              "         on       cat   catches       two       mat       sat       the  \\\n",
              "0  1.442695  0.910239  0.000000  0.000000  1.442695  1.442695  1.442695   \n",
              "1  0.000000  0.910239  1.442695  1.442695  0.000000  0.000000  0.721348   \n",
              "\n",
              "       mice  \n",
              "0  0.000000  \n",
              "1  1.442695  "
            ],
            "text/html": [
              "\n",
              "  <div id=\"df-ce007fa8-a94f-46e9-b0ef-7e633bae129e\">\n",
              "    <div class=\"colab-df-container\">\n",
              "      <div>\n",
              "<style scoped>\n",
              "    .dataframe tbody tr th:only-of-type {\n",
              "        vertical-align: middle;\n",
              "    }\n",
              "\n",
              "    .dataframe tbody tr th {\n",
              "        vertical-align: top;\n",
              "    }\n",
              "\n",
              "    .dataframe thead th {\n",
              "        text-align: right;\n",
              "    }\n",
              "</style>\n",
              "<table border=\"1\" class=\"dataframe\">\n",
              "  <thead>\n",
              "    <tr style=\"text-align: right;\">\n",
              "      <th></th>\n",
              "      <th>on</th>\n",
              "      <th>cat</th>\n",
              "      <th>catches</th>\n",
              "      <th>two</th>\n",
              "      <th>mat</th>\n",
              "      <th>sat</th>\n",
              "      <th>the</th>\n",
              "      <th>mice</th>\n",
              "    </tr>\n",
              "  </thead>\n",
              "  <tbody>\n",
              "    <tr>\n",
              "      <th>0</th>\n",
              "      <td>1.442695</td>\n",
              "      <td>0.910239</td>\n",
              "      <td>0.000000</td>\n",
              "      <td>0.000000</td>\n",
              "      <td>1.442695</td>\n",
              "      <td>1.442695</td>\n",
              "      <td>1.442695</td>\n",
              "      <td>0.000000</td>\n",
              "    </tr>\n",
              "    <tr>\n",
              "      <th>1</th>\n",
              "      <td>0.000000</td>\n",
              "      <td>0.910239</td>\n",
              "      <td>1.442695</td>\n",
              "      <td>1.442695</td>\n",
              "      <td>0.000000</td>\n",
              "      <td>0.000000</td>\n",
              "      <td>0.721348</td>\n",
              "      <td>1.442695</td>\n",
              "    </tr>\n",
              "  </tbody>\n",
              "</table>\n",
              "</div>\n",
              "      <button class=\"colab-df-convert\" onclick=\"convertToInteractive('df-ce007fa8-a94f-46e9-b0ef-7e633bae129e')\"\n",
              "              title=\"Convert this dataframe to an interactive table.\"\n",
              "              style=\"display:none;\">\n",
              "        \n",
              "  <svg xmlns=\"http://www.w3.org/2000/svg\" height=\"24px\"viewBox=\"0 0 24 24\"\n",
              "       width=\"24px\">\n",
              "    <path d=\"M0 0h24v24H0V0z\" fill=\"none\"/>\n",
              "    <path d=\"M18.56 5.44l.94 2.06.94-2.06 2.06-.94-2.06-.94-.94-2.06-.94 2.06-2.06.94zm-11 1L8.5 8.5l.94-2.06 2.06-.94-2.06-.94L8.5 2.5l-.94 2.06-2.06.94zm10 10l.94 2.06.94-2.06 2.06-.94-2.06-.94-.94-2.06-.94 2.06-2.06.94z\"/><path d=\"M17.41 7.96l-1.37-1.37c-.4-.4-.92-.59-1.43-.59-.52 0-1.04.2-1.43.59L10.3 9.45l-7.72 7.72c-.78.78-.78 2.05 0 2.83L4 21.41c.39.39.9.59 1.41.59.51 0 1.02-.2 1.41-.59l7.78-7.78 2.81-2.81c.8-.78.8-2.07 0-2.86zM5.41 20L4 18.59l7.72-7.72 1.47 1.35L5.41 20z\"/>\n",
              "  </svg>\n",
              "      </button>\n",
              "      \n",
              "  <style>\n",
              "    .colab-df-container {\n",
              "      display:flex;\n",
              "      flex-wrap:wrap;\n",
              "      gap: 12px;\n",
              "    }\n",
              "\n",
              "    .colab-df-convert {\n",
              "      background-color: #E8F0FE;\n",
              "      border: none;\n",
              "      border-radius: 50%;\n",
              "      cursor: pointer;\n",
              "      display: none;\n",
              "      fill: #1967D2;\n",
              "      height: 32px;\n",
              "      padding: 0 0 0 0;\n",
              "      width: 32px;\n",
              "    }\n",
              "\n",
              "    .colab-df-convert:hover {\n",
              "      background-color: #E2EBFA;\n",
              "      box-shadow: 0px 1px 2px rgba(60, 64, 67, 0.3), 0px 1px 3px 1px rgba(60, 64, 67, 0.15);\n",
              "      fill: #174EA6;\n",
              "    }\n",
              "\n",
              "    [theme=dark] .colab-df-convert {\n",
              "      background-color: #3B4455;\n",
              "      fill: #D2E3FC;\n",
              "    }\n",
              "\n",
              "    [theme=dark] .colab-df-convert:hover {\n",
              "      background-color: #434B5C;\n",
              "      box-shadow: 0px 1px 3px 1px rgba(0, 0, 0, 0.15);\n",
              "      filter: drop-shadow(0px 1px 2px rgba(0, 0, 0, 0.3));\n",
              "      fill: #FFFFFF;\n",
              "    }\n",
              "  </style>\n",
              "\n",
              "      <script>\n",
              "        const buttonEl =\n",
              "          document.querySelector('#df-ce007fa8-a94f-46e9-b0ef-7e633bae129e button.colab-df-convert');\n",
              "        buttonEl.style.display =\n",
              "          google.colab.kernel.accessAllowed ? 'block' : 'none';\n",
              "\n",
              "        async function convertToInteractive(key) {\n",
              "          const element = document.querySelector('#df-ce007fa8-a94f-46e9-b0ef-7e633bae129e');\n",
              "          const dataTable =\n",
              "            await google.colab.kernel.invokeFunction('convertToInteractive',\n",
              "                                                     [key], {});\n",
              "          if (!dataTable) return;\n",
              "\n",
              "          const docLinkHtml = 'Like what you see? Visit the ' +\n",
              "            '<a target=\"_blank\" href=https://colab.research.google.com/notebooks/data_table.ipynb>data table notebook</a>'\n",
              "            + ' to learn more about interactive tables.';\n",
              "          element.innerHTML = '';\n",
              "          dataTable['output_type'] = 'display_data';\n",
              "          await google.colab.output.renderOutput(dataTable, element);\n",
              "          const docLink = document.createElement('div');\n",
              "          docLink.innerHTML = docLinkHtml;\n",
              "          element.appendChild(docLink);\n",
              "        }\n",
              "      </script>\n",
              "    </div>\n",
              "  </div>\n",
              "  "
            ]
          },
          "metadata": {},
          "execution_count": 61
        }
      ]
    },
    {
      "cell_type": "markdown",
      "source": [
        "Volgens [Wikipedia](https://en.wikipedia.org/wiki/Tf%E2%80%93idf) zijn er nog andere manieren om de TF-IDF te berekenen. Zo deelt men soms de TF term in de teller door het totaal aantal termen (woorden) in een document zodat het een echte frequentie is, en soms telt men nog eens 1 op bij de IDF in de noemer.\n",
        "\n",
        "In Keras hoeven we ons daar allemaal geen zorgen over te maken als we de `TextVectorization` layer gebruiken. We moeten dan wel de `output_mode` op `tf_idf` zetten. Wie toch wil weten welke formule men in Keras toepast om de TF-IDF gewichten te berekenen, vindt de nodige uitleg in [dit artikel](https://linux-blog.anracom.com/2021/10/11/tf-idf-which-formula-to-take-in-combination-with-the-keras-tokenizer/)."
      ],
      "metadata": {
        "id": "eN9f7FQrYwOZ"
      }
    },
    {
      "cell_type": "code",
      "execution_count": null,
      "metadata": {
        "id": "0rOPzkk--Qbl"
      },
      "outputs": [],
      "source": [
        "text_vectorization = TextVectorization(\n",
        "    ngrams=2,\n",
        "    max_tokens=20000,\n",
        "    output_mode=\"tf_idf\",  # TF-IDF encoding!\n",
        ")"
      ]
    },
    {
      "cell_type": "markdown",
      "source": [
        "We doen verder met deze TF-IDF scores en dus maken we opnieuw een training-, validatie- en testset aan:"
      ],
      "metadata": {
        "id": "3BaIcfHrZ2Im"
      }
    },
    {
      "cell_type": "code",
      "execution_count": null,
      "metadata": {
        "id": "5h4-kKhe-Qbn"
      },
      "outputs": [],
      "source": [
        "text_vectorization.adapt(text_only_train_ds)\n",
        "\n",
        "tfidf_2gram_train_ds = train_ds.map(\n",
        "    lambda x, y: (text_vectorization(x), y),\n",
        "    num_parallel_calls=4)\n",
        "tfidf_2gram_val_ds = val_ds.map(\n",
        "    lambda x, y: (text_vectorization(x), y),\n",
        "    num_parallel_calls=4)\n",
        "tfidf_2gram_test_ds = test_ds.map(\n",
        "    lambda x, y: (text_vectorization(x), y),\n",
        "    num_parallel_calls=4)"
      ]
    },
    {
      "cell_type": "markdown",
      "source": [
        "En we trainen en evalueren het \"TF-IDF bigram\" model:"
      ],
      "metadata": {
        "id": "AWqJsySPZ_yc"
      }
    },
    {
      "cell_type": "code",
      "source": [
        "model = get_model()\n",
        "model.summary()\n",
        "\n",
        "callbacks = [\n",
        "    keras.callbacks.ModelCheckpoint(\"tfidf_2gram.keras\",\n",
        "                                    save_best_only=True)\n",
        "]\n",
        "\n",
        "history = model.fit(tfidf_2gram_train_ds.cache(),\n",
        "                    validation_data=tfidf_2gram_val_ds.cache(),\n",
        "                    epochs=10,\n",
        "                    callbacks=callbacks)\n",
        "\n",
        "model = keras.models.load_model(\"tfidf_2gram.keras\")\n",
        "print(f\"Test acc: {model.evaluate(tfidf_2gram_test_ds)[1]:.3f}\")"
      ],
      "metadata": {
        "colab": {
          "base_uri": "https://localhost:8080/"
        },
        "id": "asDIzVn9aDle",
        "outputId": "11464814-b6a5-4dd7-eb93-2ce3a5ba88fb"
      },
      "execution_count": null,
      "outputs": [
        {
          "output_type": "stream",
          "name": "stdout",
          "text": [
            "Model: \"model_3\"\n",
            "_________________________________________________________________\n",
            " Layer (type)                Output Shape              Param #   \n",
            "=================================================================\n",
            " input_4 (InputLayer)        [(None, 20000)]           0         \n",
            "                                                                 \n",
            " dense_6 (Dense)             (None, 16)                320016    \n",
            "                                                                 \n",
            " dropout_3 (Dropout)         (None, 16)                0         \n",
            "                                                                 \n",
            " dense_7 (Dense)             (None, 1)                 17        \n",
            "                                                                 \n",
            "=================================================================\n",
            "Total params: 320,033\n",
            "Trainable params: 320,033\n",
            "Non-trainable params: 0\n",
            "_________________________________________________________________\n",
            "Epoch 1/10\n",
            "625/625 [==============================] - 9s 14ms/step - loss: 0.4975 - accuracy: 0.7833 - val_loss: 0.3090 - val_accuracy: 0.8796\n",
            "Epoch 2/10\n",
            "625/625 [==============================] - 3s 4ms/step - loss: 0.3464 - accuracy: 0.8619 - val_loss: 0.3206 - val_accuracy: 0.8680\n",
            "Epoch 3/10\n",
            "625/625 [==============================] - 3s 4ms/step - loss: 0.3113 - accuracy: 0.8719 - val_loss: 0.3161 - val_accuracy: 0.8734\n",
            "Epoch 4/10\n",
            "625/625 [==============================] - 2s 4ms/step - loss: 0.2828 - accuracy: 0.8794 - val_loss: 0.3760 - val_accuracy: 0.8566\n",
            "Epoch 5/10\n",
            "625/625 [==============================] - 3s 5ms/step - loss: 0.2745 - accuracy: 0.8870 - val_loss: 0.3758 - val_accuracy: 0.8654\n",
            "Epoch 6/10\n",
            "625/625 [==============================] - 3s 4ms/step - loss: 0.2621 - accuracy: 0.8946 - val_loss: 0.3622 - val_accuracy: 0.8752\n",
            "Epoch 7/10\n",
            "625/625 [==============================] - 3s 4ms/step - loss: 0.2480 - accuracy: 0.8995 - val_loss: 0.3974 - val_accuracy: 0.8750\n",
            "Epoch 8/10\n",
            "625/625 [==============================] - 3s 4ms/step - loss: 0.2347 - accuracy: 0.9053 - val_loss: 0.3990 - val_accuracy: 0.8680\n",
            "Epoch 9/10\n",
            "625/625 [==============================] - 3s 4ms/step - loss: 0.2354 - accuracy: 0.9039 - val_loss: 0.3930 - val_accuracy: 0.8726\n",
            "Epoch 10/10\n",
            "625/625 [==============================] - 3s 4ms/step - loss: 0.2346 - accuracy: 0.9058 - val_loss: 0.4033 - val_accuracy: 0.8722\n",
            "782/782 [==============================] - 8s 10ms/step - loss: 0.3017 - accuracy: 0.8880\n",
            "Test acc: 0.888\n"
          ]
        }
      ]
    },
    {
      "cell_type": "markdown",
      "source": [
        "In dit geval krijgen we geen beter resultaat, maar bij veel problemen van tekstclassificatie zorgt 'TF-IDF weighting' wel voor een verbetering van ongeveer een percent. Als we naar de overfitting kijken adhv de evolutie van de loss en de nauwkeurigheid tijdens trainen en valideren, dan zien we wel een kleine verbetering:"
      ],
      "metadata": {
        "id": "UN2MSDlMam7k"
      }
    },
    {
      "cell_type": "code",
      "source": [
        "plot_result(history)"
      ],
      "metadata": {
        "colab": {
          "base_uri": "https://localhost:8080/",
          "height": 281
        },
        "id": "nc33QVl0a0mL",
        "outputId": "dc954d1a-460f-4fdd-a6aa-08ac3625d43b"
      },
      "execution_count": null,
      "outputs": [
        {
          "output_type": "display_data",
          "data": {
            "text/plain": [
              "<Figure size 720x288 with 2 Axes>"
            ],
            "image/png": "[encoded data removed]"
          },
          "metadata": {
            "needs_background": "light"
          }
        }
      ]
    },
    {
      "cell_type": "markdown",
      "source": [
        "#### Exporting a model that processes raw strings"
      ],
      "metadata": {
        "id": "y-bXm791bRM1"
      }
    },
    {
      "cell_type": "markdown",
      "source": [
        "Uit het boek:\n",
        "\n",
        "*In the preceding examples, we did our text standardization, splitting, and indexing as\n",
        "part of the tf.data pipeline. But if we want to export a standalone model independent\n",
        "of this pipeline, we should make sure that it incorporates its own text preprocessing\n",
        "(otherwise, you’d have to reimplement in the production environment, which\n",
        "can be challenging or can lead to subtle discrepancies between the training data and\n",
        "the production data). Thankfully, this is easy.\n",
        "Just create a new model that reuses your TextVectorization layer and adds to it\n",
        "the model you just trained:*"
      ],
      "metadata": {
        "id": "47TVGAGeb59w"
      }
    },
    {
      "cell_type": "code",
      "execution_count": null,
      "metadata": {
        "id": "zBZ_e6Zw-Qbn"
      },
      "outputs": [],
      "source": [
        "inputs = keras.Input(shape=(1,), dtype=\"string\")\n",
        "processed_inputs = text_vectorization(inputs)\n",
        "outputs = model(processed_inputs)\n",
        "inference_model = keras.Model(inputs, outputs)"
      ]
    },
    {
      "cell_type": "code",
      "execution_count": null,
      "metadata": {
        "id": "h4HR67uI-Qbo",
        "colab": {
          "base_uri": "https://localhost:8080/"
        },
        "outputId": "15c7cbca-3a01-4111-9022-3dff4444e765"
      },
      "outputs": [
        {
          "output_type": "stream",
          "name": "stdout",
          "text": [
            "90.90 percent positive\n"
          ]
        }
      ],
      "source": [
        "import tensorflow as tf\n",
        "raw_text_data = tf.convert_to_tensor([\n",
        "    [\"That was an excellent movie, I loved it.\"],\n",
        "])\n",
        "predictions = inference_model(raw_text_data)\n",
        "print(f\"{float(predictions[0] * 100):.2f} percent positive\")"
      ]
    },
    {
      "cell_type": "markdown",
      "metadata": {
        "id": "1H5Iuxc7mmfZ"
      },
      "source": [
        "### Processing words as a sequence: The sequence model approach"
      ]
    },
    {
      "cell_type": "markdown",
      "source": [
        "Woordvolgorde is dus belangrijk. Het probleem met het gebruik van N-grams is dat dit een vorm van manuele feature extraction is, terwijl we eigenlijk liever willen dat de neurale netwerken zelf de features gaan extraheren! Dus laten we de sequence modellen eens uitproberen die wél de volgorde van de woorden in rekening brengen.\n",
        "\n",
        "Uit het boek:\n",
        "\n",
        "*To implement a sequence model, you’d start by representing your input samples as\n",
        "sequences of integer indices (one integer standing for one word). Then, you’d map\n",
        "each integer to a vector to obtain vector sequences. Finally, you’d feed these\n",
        "sequences of vectors into a stack of layers that could cross-correlate features from adjacent\n",
        "vectors, such as a 1D convnet, a RNN, or a Transformer.*\n",
        "\n",
        "Eerst proberen we de bidirectional LSTM uit, die we al kennen uit het vorige hoofdstuk! In 2016-2017 werd dit type model beschouwd als de state-of-the-art. Vandaag de dag zijn dat echter de transformers. Die komen later in dit hoofdstuk aan bod."
      ],
      "metadata": {
        "id": "q64YJUG8ELFV"
      }
    },
    {
      "cell_type": "markdown",
      "metadata": {
        "id": "teQTzJ5Bmmfb"
      },
      "source": [
        "#### A first practical example"
      ]
    },
    {
      "cell_type": "markdown",
      "source": [
        "Zoals gezegd moeten we \"integer sequence\" datasets creëren voor training, validatie en evaluatie."
      ],
      "metadata": {
        "id": "1oCmq3PrFxZT"
      }
    },
    {
      "cell_type": "markdown",
      "metadata": {
        "id": "_JNjvKLYmmfb"
      },
      "source": [
        "De data opnieuw downloaden:"
      ]
    },
    {
      "cell_type": "code",
      "execution_count": null,
      "metadata": {
        "colab": {
          "base_uri": "https://localhost:8080/"
        },
        "id": "XJHpFa_0mmfc",
        "outputId": "1f08d74c-df9b-4178-c2d4-9955f34d1c15"
      },
      "outputs": [
        {
          "output_type": "stream",
          "name": "stdout",
          "text": [
            "  % Total    % Received % Xferd  Average Speed   Time    Time     Time  Current\n",
            "                                 Dload  Upload   Total   Spent    Left  Speed\n",
            "100 80.2M  100 80.2M    0     0  21.8M      0  0:00:03  0:00:03 --:--:-- 21.8M\n"
          ]
        }
      ],
      "source": [
        "from shutil import rmtree\n",
        "try: rmtree(\"aclImdb\")  # voor het geval de aclImdb folder zou bestaan\n",
        "except: pass\n",
        "!curl -O https://ai.stanford.edu/~amaas/data/sentiment/aclImdb_v1.tar.gz\n",
        "!tar -xf aclImdb_v1.tar.gz\n",
        "!rm -r aclImdb/train/unsup"
      ]
    },
    {
      "cell_type": "markdown",
      "metadata": {
        "id": "g74VizRAmmfe"
      },
      "source": [
        "De training-, validatie- en testset aanmaken:"
      ]
    },
    {
      "cell_type": "code",
      "execution_count": null,
      "metadata": {
        "colab": {
          "base_uri": "https://localhost:8080/"
        },
        "id": "8tIv2RJemmfe",
        "outputId": "53b50e6d-33e0-4e8a-c8d4-03a2a69cfc51"
      },
      "outputs": [
        {
          "output_type": "stream",
          "name": "stdout",
          "text": [
            "Found 20000 files belonging to 2 classes.\n",
            "Found 5000 files belonging to 2 classes.\n",
            "Found 25000 files belonging to 2 classes.\n"
          ]
        }
      ],
      "source": [
        "import os, pathlib, shutil, random\n",
        "from tensorflow import keras\n",
        "\n",
        "batch_size = 32\n",
        "\n",
        "base_dir = pathlib.Path(\"aclImdb\")\n",
        "val_dir = base_dir / \"val\"\n",
        "train_dir = base_dir / \"train\"\n",
        "\n",
        "for category in (\"neg\", \"pos\"):\n",
        "    os.makedirs(val_dir / category)\n",
        "    files = os.listdir(train_dir / category)\n",
        "    random.Random(1337).shuffle(files)\n",
        "    num_val_samples = int(0.2 * len(files))  # 20% voor validatie\n",
        "    val_files = files[-num_val_samples:]\n",
        "    for fname in val_files:\n",
        "        shutil.move(train_dir / category / fname,\n",
        "                    val_dir / category / fname)\n",
        "\n",
        "train_ds = keras.utils.text_dataset_from_directory(\n",
        "    \"aclImdb/train\", batch_size=batch_size\n",
        ")\n",
        "val_ds = keras.utils.text_dataset_from_directory(\n",
        "    \"aclImdb/val\", batch_size=batch_size\n",
        ")\n",
        "test_ds = keras.utils.text_dataset_from_directory(\n",
        "    \"aclImdb/test\", batch_size=batch_size\n",
        ")\n",
        "\n",
        "# Prepare a dataset that only yields raw text inputs (no labels).\n",
        "# Use that dataset to index the dataset vocabulary via the adapt() method (see below).\n",
        "text_only_train_ds = train_ds.map(lambda x, y: x)"
      ]
    },
    {
      "cell_type": "markdown",
      "source": [
        "Om te begrijpen wat het verschil is tussen `train_ds` en `text_only_train_ds` printen we de eerste sample van de eerste batch uit. Bij `train_ds` is er ook een target, bij `text_only_train_ds` niet:"
      ],
      "metadata": {
        "id": "jEYq7riuMsrh"
      }
    },
    {
      "cell_type": "code",
      "source": [
        "for sample, target in train_ds:\n",
        "    print(sample[0])\n",
        "    print(target[0])\n",
        "    break"
      ],
      "metadata": {
        "colab": {
          "base_uri": "https://localhost:8080/"
        },
        "id": "OKfIiakNMHB5",
        "outputId": "58440b27-aedc-48bc-98bb-49f08b0c1e35"
      },
      "execution_count": null,
      "outputs": [
        {
          "output_type": "stream",
          "name": "stdout",
          "text": [
            "tf.Tensor(b'Well, on the endless quest for horror, we will come across this film, apparently re-released on DVD recently for some ungodly reason. The transfer is awful and the quality just sucks. I don\\'t think this is due to a bad remaster or anything, I just think the film is poorly done.<br /><br />Obviously filmed at an abandoned school with a budget that was no doubt wasted on cheap beer and no talent hacks, \"Slaughter High\" starts out slow and doesn\\'t pick up pace until about an hour in. First, we get to see a \\'nerd\\' as he is picked on by a group of...I actually don\\'t even know what they were supposed to be...jocks? The ringleader, with his ultra hooknose is so ugly he should have definitely been cast as the nerd. Then, there is a \\'big guy\\' and a couple of dumb losers and chicks who are supposed to be \\'hot\\' but aren\\'t. It\\'s a mystery why this group of rejects is picking on one of their own, but I guess the viewer is to assume these are \\'cool kids\\' picking on a dweeb. The casting choices are horrendous as most of the high schoolers are played by thirty-somethings. As other reviewers on here have pointed out, the actors (if you can call them that,) are a bunch of Brits whose accents slip out numerous times throughout this piece of crap. We are left to assume that this group of \\'children\\' were the only students at this school, as their \\'reunion\\' is only them at the school, which is now shown to be abandoned, is just them.<br /><br />The kills are lame, the gore is not great and the script is like Scooby Doo with real people; lines like: \\'This place gives me the creeps...\\' and \\'Someone gimme a beer\\' are highlights...It\\'s just not good. Skip this one unless you are getting wasted with some friends and wanna laugh at a real lame attempt at a slasher. If you wanna see good, get Bava\\'s \"Bay Of Blood,\" done 14 years earlier and a heck of a lot better. If you wanna see a good BAD slasher, see \"Just Before Dawn\" or \"The Burning.\" 2 out of 10, kids.', shape=(), dtype=string)\n",
            "tf.Tensor(0, shape=(), dtype=int32)\n"
          ]
        }
      ]
    },
    {
      "cell_type": "code",
      "source": [
        "for sample in text_only_train_ds:\n",
        "    print(sample[0])\n",
        "    break"
      ],
      "metadata": {
        "colab": {
          "base_uri": "https://localhost:8080/"
        },
        "id": "W22FM8CqMchu",
        "outputId": "a9faa6a9-217e-411e-e3a2-1529022a3e7b"
      },
      "execution_count": null,
      "outputs": [
        {
          "output_type": "stream",
          "name": "stdout",
          "text": [
            "tf.Tensor(b\"This was an excellent film. I don't understand why so many people don't like it. There was so much in it to connect with, so many beautiful images, and so much compassion in the things that weren't said. I was thoroughly entertained, and was left with a feeling of joyous exuberance, just as I am when I finish most any Tom Robbins story. Now I haven't read this particular book of Robbin's, so I don't now how this matched up, but I can't imagine this movie could have been a very bad interpretation. The movie left a lot for you to define yourself, which is the best part of any Tom Robbins novel, dreaming up the details. <br /><br />To all of you who said this was the worst movie ever, I pity what little must be left of the dimming light in your hearts. Far from the worst ever this movie was glorious. Long live the whooping crane.\", shape=(), dtype=string)\n"
          ]
        }
      ]
    },
    {
      "cell_type": "markdown",
      "metadata": {
        "id": "6lexdrTSmmfg"
      },
      "source": [
        "De \"integer sequence\" datasets aanmaken mbv `TextVectorization`. Uit het boek:\n",
        "\n",
        "*In order to keep a manageable\n",
        "input size, we’ll truncate the\n",
        "inputs after the first 600 words.\n",
        "This is a reasonable choice, since\n",
        "the average review length is 233\n",
        "words, and only 5% of reviews\n",
        "are longer than 600 words.*"
      ]
    },
    {
      "cell_type": "code",
      "execution_count": null,
      "metadata": {
        "id": "bsJyqLJ8mmfh"
      },
      "outputs": [],
      "source": [
        "from keras import layers\n",
        "\n",
        "max_length = 600\n",
        "max_tokens = 20_000\n",
        "text_vectorization = layers.TextVectorization(\n",
        "    max_tokens=max_tokens,\n",
        "    output_mode=\"int\",  # we willen integer sequences\n",
        "    output_sequence_length=max_length,\n",
        ")\n",
        "text_vectorization.adapt(text_only_train_ds)  # de dataset zonder labels!\n",
        "\n",
        "int_train_ds = train_ds.map(\n",
        "    lambda x, y: (text_vectorization(x), y),\n",
        "    num_parallel_calls=4)\n",
        "int_val_ds = val_ds.map(\n",
        "    lambda x, y: (text_vectorization(x), y),\n",
        "    num_parallel_calls=4)\n",
        "int_test_ds = test_ds.map(\n",
        "    lambda x, y: (text_vectorization(x), y),\n",
        "    num_parallel_calls=4)"
      ]
    },
    {
      "cell_type": "markdown",
      "source": [
        "Ook hier checken we de eerste sample van de eerste batch in de trainingset:"
      ],
      "metadata": {
        "id": "JjjZaz2PM8Ms"
      }
    },
    {
      "cell_type": "code",
      "source": [
        "for sample, target in int_train_ds:\n",
        "    print(sample[0])\n",
        "    print(target[0])\n",
        "    break"
      ],
      "metadata": {
        "colab": {
          "base_uri": "https://localhost:8080/"
        },
        "id": "M9deGAeCNGCG",
        "outputId": "ee86aa32-a0ee-452a-f90b-d3f57e79ec5d"
      },
      "execution_count": null,
      "outputs": [
        {
          "output_type": "stream",
          "name": "stdout",
          "text": [
            "tf.Tensor(\n",
            "[  106   282    36  8720   308     5     2   568   355    31   602   286\n",
            "     8    40   400   703   488    93     5    32    62     3    31     2\n",
            "   167    62  1873    11  1505    20  2058    10   232    10   216  4684\n",
            "    11    19   417     2  2394  5476 14485   821    11   347    18  1069\n",
            "  9375    44   204    76     4     1    31   201     3  1120  1350    19\n",
            "     1   113   144    36  4635    26     4   114     5     2   527   241\n",
            "   118    22     6   189   810    93    99   640    11    20     7     4\n",
            "  3231     6     2   198    22    34  2397     9     7  1383     6    28\n",
            "   161     3   105   380    36    10    26   537 13064    16     3  5915\n",
            "     9  1038    17    70    12     9  2697   261    16   144     5   169\n",
            "    36    26   108     1  1989   217   104    16     2   172  1999    15\n",
            "  1607  2321  1687     1     3    79    45    23    26     2  1429  1256\n",
            "    25  1441  2058 15395     0     0     0     0     0     0     0     0\n",
            "     0     0     0     0     0     0     0     0     0     0     0     0\n",
            "     0     0     0     0     0     0     0     0     0     0     0     0\n",
            "     0     0     0     0     0     0     0     0     0     0     0     0\n",
            "     0     0     0     0     0     0     0     0     0     0     0     0\n",
            "     0     0     0     0     0     0     0     0     0     0     0     0\n",
            "     0     0     0     0     0     0     0     0     0     0     0     0\n",
            "     0     0     0     0     0     0     0     0     0     0     0     0\n",
            "     0     0     0     0     0     0     0     0     0     0     0     0\n",
            "     0     0     0     0     0     0     0     0     0     0     0     0\n",
            "     0     0     0     0     0     0     0     0     0     0     0     0\n",
            "     0     0     0     0     0     0     0     0     0     0     0     0\n",
            "     0     0     0     0     0     0     0     0     0     0     0     0\n",
            "     0     0     0     0     0     0     0     0     0     0     0     0\n",
            "     0     0     0     0     0     0     0     0     0     0     0     0\n",
            "     0     0     0     0     0     0     0     0     0     0     0     0\n",
            "     0     0     0     0     0     0     0     0     0     0     0     0\n",
            "     0     0     0     0     0     0     0     0     0     0     0     0\n",
            "     0     0     0     0     0     0     0     0     0     0     0     0\n",
            "     0     0     0     0     0     0     0     0     0     0     0     0\n",
            "     0     0     0     0     0     0     0     0     0     0     0     0\n",
            "     0     0     0     0     0     0     0     0     0     0     0     0\n",
            "     0     0     0     0     0     0     0     0     0     0     0     0\n",
            "     0     0     0     0     0     0     0     0     0     0     0     0\n",
            "     0     0     0     0     0     0     0     0     0     0     0     0\n",
            "     0     0     0     0     0     0     0     0     0     0     0     0\n",
            "     0     0     0     0     0     0     0     0     0     0     0     0\n",
            "     0     0     0     0     0     0     0     0     0     0     0     0\n",
            "     0     0     0     0     0     0     0     0     0     0     0     0\n",
            "     0     0     0     0     0     0     0     0     0     0     0     0\n",
            "     0     0     0     0     0     0     0     0     0     0     0     0\n",
            "     0     0     0     0     0     0     0     0     0     0     0     0\n",
            "     0     0     0     0     0     0     0     0     0     0     0     0\n",
            "     0     0     0     0     0     0     0     0     0     0     0     0\n",
            "     0     0     0     0     0     0     0     0     0     0     0     0\n",
            "     0     0     0     0     0     0     0     0     0     0     0     0\n",
            "     0     0     0     0     0     0     0     0     0     0     0     0\n",
            "     0     0     0     0     0     0     0     0     0     0     0     0], shape=(600,), dtype=int64)\n",
            "tf.Tensor(1, shape=(), dtype=int32)\n"
          ]
        }
      ]
    },
    {
      "cell_type": "markdown",
      "source": [
        "We zien duidelijk dat de reeks is opgevuld met nullen om aan 600 elementen te komen."
      ],
      "metadata": {
        "id": "Yat-uxTWNU-b"
      }
    },
    {
      "cell_type": "markdown",
      "metadata": {
        "id": "URTbE4vymmfi"
      },
      "source": [
        "Ons eerste 'sequence model' is een eenvoudig bidirectioneel LSTM waarbij we de integer sequences omzetten mbv one-hot encoding. Herinner je dat one-hot encoding een integer omzet naar een vector met allemaal nullen en een één op de positie van de integer. Laten we dat even checken:"
      ]
    },
    {
      "cell_type": "code",
      "source": [
        "import tensorflow as tf\n",
        "\n",
        "for sample, target in int_train_ds:\n",
        "    print(tf.one_hot(sample[0], depth=max_tokens))\n",
        "    break"
      ],
      "metadata": {
        "colab": {
          "base_uri": "https://localhost:8080/"
        },
        "id": "juGAVa5kNrv1",
        "outputId": "22116ffd-b53b-42ff-aac7-0865bfbfe202"
      },
      "execution_count": null,
      "outputs": [
        {
          "output_type": "stream",
          "name": "stdout",
          "text": [
            "tf.Tensor(\n",
            "[[0. 0. 0. ... 0. 0. 0.]\n",
            " [0. 0. 0. ... 0. 0. 0.]\n",
            " [0. 0. 0. ... 0. 0. 0.]\n",
            " ...\n",
            " [1. 0. 0. ... 0. 0. 0.]\n",
            " [1. 0. 0. ... 0. 0. 0.]\n",
            " [1. 0. 0. ... 0. 0. 0.]], shape=(600, 20000), dtype=float32)\n"
          ]
        }
      ]
    },
    {
      "cell_type": "markdown",
      "source": [
        "We krijgen dus inderdaad een 600 x 20000 matrix, waarbij elke rij overeenkomt met een element uit de integer sequence. In elke rij komt er exact één element voor dat gelijk is aan 1. In de laatste rijen komt 1 voor op de eerste positie om die rijen overeenkomen met de nullen die zijn toegevoegd aan de integer sequence, de zogenaamde 'padding'."
      ],
      "metadata": {
        "id": "8jhpxmx8OAh6"
      }
    },
    {
      "cell_type": "markdown",
      "source": [
        "Laten we nu het model bouwen en compileren:"
      ],
      "metadata": {
        "id": "6-aCIDALO6-Y"
      }
    },
    {
      "cell_type": "code",
      "execution_count": null,
      "metadata": {
        "colab": {
          "base_uri": "https://localhost:8080/"
        },
        "id": "bpmLGmKfmmfj",
        "outputId": "9628ec65-1925-4be6-8012-a6eb71856e89"
      },
      "outputs": [
        {
          "output_type": "stream",
          "name": "stdout",
          "text": [
            "Model: \"model\"\n",
            "_________________________________________________________________\n",
            " Layer (type)                Output Shape              Param #   \n",
            "=================================================================\n",
            " input_1 (InputLayer)        [(None, None)]            0         \n",
            "                                                                 \n",
            " tf.one_hot (TFOpLambda)     (None, None, 20000)       0         \n",
            "                                                                 \n",
            " bidirectional (Bidirectiona  (None, 64)               5128448   \n",
            " l)                                                              \n",
            "                                                                 \n",
            " dropout (Dropout)           (None, 64)                0         \n",
            "                                                                 \n",
            " dense (Dense)               (None, 1)                 65        \n",
            "                                                                 \n",
            "=================================================================\n",
            "Total params: 5,128,513\n",
            "Trainable params: 5,128,513\n",
            "Non-trainable params: 0\n",
            "_________________________________________________________________\n"
          ]
        }
      ],
      "source": [
        "import tensorflow as tf\n",
        "\n",
        "inputs = keras.Input(shape=(None,), dtype=\"int64\")   # One input is a sequence of integers\n",
        "embedded = tf.one_hot(inputs, depth=max_tokens)      # One-hot encoding\n",
        "x = layers.Bidirectional(layers.LSTM(32))(embedded)  # Add a bidirectional LSTM\n",
        "x = layers.Dropout(0.5)(x)                           # dropout layer\n",
        "outputs = layers.Dense(1, activation=\"sigmoid\")(x)   # Finally, add a classification layer\n",
        "\n",
        "model = keras.Model(inputs, outputs)\n",
        "\n",
        "model.compile(optimizer=\"rmsprop\",\n",
        "              loss=\"binary_crossentropy\",\n",
        "              metrics=[\"accuracy\"])\n",
        "\n",
        "model.summary()"
      ]
    },
    {
      "cell_type": "markdown",
      "metadata": {
        "id": "Admceh8gmmfk"
      },
      "source": [
        "Ons eerste basis \"sequence model\" kunnen we nu trainen mbv de code hieronder. Hiervoor heb je GPU nodig!\n",
        "\n",
        "Uit het boek:\n",
        "\n",
        "*This model trains very slowly, especially compared to the lightweight\n",
        "model of the previous section. This is because our inputs are quite large: each\n",
        "input sample is encoded as a matrix of size (600, 20000) (600 words per sample,\n",
        "20,000 possible words). That’s 12,000,000 floats for a single movie review. Our bidirectional\n",
        "LSTM has a lot of work to do!*"
      ]
    },
    {
      "cell_type": "code",
      "source": [
        "callbacks = [\n",
        "    keras.callbacks.ModelCheckpoint(\"one_hot_bidir_lstm.keras\",\n",
        "                                    save_best_only=True)\n",
        "]\n",
        "history = model.fit(int_train_ds,\n",
        "                    validation_data=int_val_ds,\n",
        "                    epochs=10,\n",
        "                    callbacks=callbacks)\n",
        "model = keras.models.load_model(\"one_hot_bidir_lstm.keras\")\n",
        "print(f\"Test acc: {model.evaluate(int_test_ds)[1]:.3f}\")"
      ],
      "metadata": {
        "colab": {
          "base_uri": "https://localhost:8080/"
        },
        "id": "iSrXT4-9PjSX",
        "outputId": "c6efb855-fd29-40b0-9dbd-12f600211ad1"
      },
      "execution_count": null,
      "outputs": [
        {
          "output_type": "stream",
          "name": "stdout",
          "text": [
            "Epoch 1/10\n",
            "625/625 [==============================] - 179s 274ms/step - loss: 0.5312 - accuracy: 0.7492 - val_loss: 0.3463 - val_accuracy: 0.8680\n",
            "Epoch 2/10\n",
            "625/625 [==============================] - 171s 273ms/step - loss: 0.3458 - accuracy: 0.8779 - val_loss: 0.3442 - val_accuracy: 0.8736\n",
            "Epoch 3/10\n",
            "625/625 [==============================] - 171s 274ms/step - loss: 0.2749 - accuracy: 0.9056 - val_loss: 0.4172 - val_accuracy: 0.8640\n",
            "Epoch 4/10\n",
            "625/625 [==============================] - 171s 274ms/step - loss: 0.2339 - accuracy: 0.9191 - val_loss: 0.3960 - val_accuracy: 0.8788\n",
            "Epoch 5/10\n",
            "625/625 [==============================] - 171s 274ms/step - loss: 0.2032 - accuracy: 0.9308 - val_loss: 0.3286 - val_accuracy: 0.8828\n",
            "Epoch 6/10\n",
            "625/625 [==============================] - 172s 274ms/step - loss: 0.1839 - accuracy: 0.9404 - val_loss: 0.4512 - val_accuracy: 0.8840\n",
            "Epoch 7/10\n",
            "625/625 [==============================] - 171s 274ms/step - loss: 0.1594 - accuracy: 0.9475 - val_loss: 0.3701 - val_accuracy: 0.8806\n",
            "Epoch 8/10\n",
            "625/625 [==============================] - 171s 273ms/step - loss: 0.1400 - accuracy: 0.9530 - val_loss: 0.5097 - val_accuracy: 0.8668\n",
            "Epoch 9/10\n",
            "625/625 [==============================] - 172s 275ms/step - loss: 0.1264 - accuracy: 0.9598 - val_loss: 0.3608 - val_accuracy: 0.8718\n",
            "Epoch 10/10\n",
            "625/625 [==============================] - 172s 274ms/step - loss: 0.1055 - accuracy: 0.9659 - val_loss: 0.4269 - val_accuracy: 0.8404\n",
            "782/782 [==============================] - 103s 130ms/step - loss: 0.3516 - accuracy: 0.8754\n",
            "Test acc: 0.875\n"
          ]
        }
      ]
    },
    {
      "cell_type": "markdown",
      "source": [
        "De nauwkeurigheid die het model haalt op de testset is slechter dan die van onze vorige modellen en we zien ook dat er vrij snel overfitting optreedt:"
      ],
      "metadata": {
        "id": "LJjNY8bbYHu4"
      }
    },
    {
      "cell_type": "code",
      "source": [
        "plot_result(history)"
      ],
      "metadata": {
        "colab": {
          "base_uri": "https://localhost:8080/",
          "height": 281
        },
        "id": "hLSVWylNQ7Ai",
        "outputId": "10d8e89e-1fc2-4941-8a9e-e2e91b36a189"
      },
      "execution_count": null,
      "outputs": [
        {
          "output_type": "display_data",
          "data": {
            "text/plain": [
              "<Figure size 720x288 with 2 Axes>"
            ],
            "image/png": "[encoded data removed]"
          },
          "metadata": {
            "needs_background": "light"
          }
        }
      ]
    },
    {
      "cell_type": "markdown",
      "source": [
        "One-hot encoding is hier geen goed idee - [word embedding](https://en.wikipedia.org/wiki/Word_embedding) is dat wel!"
      ],
      "metadata": {
        "id": "UHltAbwJYcJI"
      }
    },
    {
      "cell_type": "markdown",
      "metadata": {
        "id": "BpCGQYkEmmfl"
      },
      "source": [
        "#### Understanding word embeddings"
      ]
    },
    {
      "cell_type": "markdown",
      "source": [
        "One-hot encoding toepassen betekent dat je er (impliciet) vanuit gaat dat de features (de woorden dus) onafhankelijk zijn van elkaar. Denk maar aan het 'naive Bayes' algoritme dat in we in het vak Machine Learning Fundamentals hebben besproken en waarbij we eveneens met binaire vectoren hebben gewerkt en dus diezelfde veronderstelling hebben gemaakt. Omdat die veronderstelling in werkelijkheid niet opgaat, noemen we dat algoritme 'naïef'.\n",
        "\n",
        "Neem bijvoorbeeld de woorden 'film' en 'movie' die in het Engels dezelfde betekenis hebben en meestal door elkaar kunnen gebruikt worden. Als we dat in een afstandsmaat zouden willen uitdrukken, zoals de cosinusgelijkheid, dan zou de afstand tussen 'movie' en 'film' zeer klein moeten zijn, omdat die woorden qua betekenis zeer dicht bij elkaar liggen. Bij one-hot encoding staan ze wiskundig gezien echter loodrecht op elkaar, en liggen ze dus zeer ver van elkaar! Dat probleem wordt opgelost met **word embeddings**, die de betekenis van woorden op een correctere manier omzetten in wiskundige relaties."
      ],
      "metadata": {
        "id": "aAumncHcSz3e"
      }
    },
    {
      "cell_type": "markdown",
      "source": [
        "![image.png](data:image/png;base64,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)"
      ],
      "metadata": {
        "id": "KqS9-2d3V1Sa"
      }
    },
    {
      "cell_type": "markdown",
      "source": [
        "Het eenvoudig voorbeeldje in de figuur hierboven illustreert dit. Je ziet dat 'dog' en 'wolf' op een verticale lijn liggen omdat ze beiden 'hondachtigen' zijn, net zoals 'cat' en 'tiger' op een lijn liggen als 'katachtigen'. Op dezelfde manier liggen 'dog' en 'cat' ongeveer op dezelfde hoogte als 'huisdieren', net als 'wolf' en 'tiger' omdat het 'wilde dieren' zijn. 'Word embeddings' leren dat soort van relaties tussen woorden uit tekstdata en plaatsen de woorden meetkundig op een betekenisvolle manier zoals in het voorbeeldje: *Similar words get embedded in close\n",
        "locations, and further, specific directions in the embedding space are meaningful.* Een ander klassiek voorbeeld is dat van 'koning' waarvan je de 'man' vector aftrekt en de 'vrouw' vector optelt om uit te komen bij 'koningin'."
      ],
      "metadata": {
        "id": "PHnsOJ-ZV4iN"
      }
    },
    {
      "cell_type": "markdown",
      "source": [
        "Een tweede voordeel van 'word embeddings' is dat die resulteren in 'dense' arrays met minder dimensies dan de arrays die one-hot encoding oplevert. Bij one-hot encoding zijn de arrays bovendien 'sparse'; m.a.w. ze bevatten heel veel nullen."
      ],
      "metadata": {
        "id": "IdmXWGNSX2eo"
      }
    },
    {
      "cell_type": "markdown",
      "source": [
        "![image.png](data:image/png;base64,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)"
      ],
      "metadata": {
        "id": "gpPULGQQZqD8"
      }
    },
    {
      "cell_type": "markdown",
      "source": [
        "In tegenstelling tot one-hot encoding worden word embeddings dus geleerd uit tekstdata, wat uiteraard ook een voordeel is. Er zijn 2 manieren om word embeddings te verkrijgen:\n",
        "\n",
        "1. *Learn word embeddings jointly with the main task you care about (such as document classification or sentiment prediction). In this setup, you start with random word vectors and then learn word vectors in the same way you learn the weights of a neural network.*\n",
        "\n",
        "2. *Load into your model word embeddings that were precomputed using a different machine learning task than the one you’re trying to solve. These are called* **pretrained word embeddings**."
      ],
      "metadata": {
        "id": "bxL3qypYaSn_"
      }
    },
    {
      "cell_type": "markdown",
      "metadata": {
        "id": "FKHUjfdtmmfl"
      },
      "source": [
        "#### Learning word embeddings with the `Embedding` layer"
      ]
    },
    {
      "cell_type": "markdown",
      "source": [
        "Omdat er verschillende natuurlijke talen zijn maar ook verschillende conteksten waarin die talen worden toegepast - een sentimentanalyse van reviews van films is bijv iets compleet anders dan juridische documenten classificeren - moeten we in principe voor elke specifieke NLP taak een nieuwe 'word embedding space' leren. In Keras kan dat eenvoudig met de `Embedding` layer! *This layer is best understood as a dictionary that maps integer indices (which stand for specific words) to dense vectors. It takes integers as input, looks up these integers in an internal dictionary, and returns the associated vectors. It’s effectively\n",
        "a dictionary lookup:*\n",
        "\n",
        "> `word index -> Embedding layer -> corresponding word vector`"
      ],
      "metadata": {
        "id": "pb9PPVm-rbaF"
      }
    },
    {
      "cell_type": "markdown",
      "source": [
        "*The Embedding layer takes as input a rank-2 tensor of integers, of shape (batch_size, sequence_length), where each entry is a sequence of integers. The layer then returns a 3D floating-point tensor of shape (batch_size, sequence_length, embedding_\n",
        "dimensionality):*\n",
        "\n",
        "```python\n",
        "# max_tokens = 20_000\n",
        "embedding_layer = layers.Embedding(input_dim=max_tokens,  # sequence_length\n",
        "                                   output_dim=256)  # embedding_dimensionality\n",
        "```\n",
        "\n",
        "*When you instantiate an Embedding layer, its weights (its internal dictionary of token vectors) are initially random, just as with any other layer. During training, these\n",
        "word vectors are gradually adjusted via backpropagation, structuring the space into something the downstream model can exploit. Once fully trained, the embedding space will show a lot of structure — a kind of structure specialized for the specific problem for which you’re training your model.*"
      ],
      "metadata": {
        "id": "ZYK6U2Mis_8f"
      }
    },
    {
      "cell_type": "markdown",
      "source": [
        "We trainen nu een 'Bidirectional LSTM' model met een `Embedding` layer die 'from scratch' wordt getraind:"
      ],
      "metadata": {
        "id": "a6XSbU_kt-Zd"
      }
    },
    {
      "cell_type": "code",
      "execution_count": null,
      "metadata": {
        "id": "HmbzSrnzmmfn",
        "colab": {
          "base_uri": "https://localhost:8080/"
        },
        "outputId": "d22f2070-915e-453e-8893-d708be870870"
      },
      "outputs": [
        {
          "output_type": "stream",
          "name": "stdout",
          "text": [
            "Model: \"model\"\n",
            "_________________________________________________________________\n",
            " Layer (type)                Output Shape              Param #   \n",
            "=================================================================\n",
            " input_1 (InputLayer)        [(None, None)]            0         \n",
            "                                                                 \n",
            " embedding_1 (Embedding)     (None, None, 256)         5120000   \n",
            "                                                                 \n",
            " bidirectional (Bidirectiona  (None, 64)               73984     \n",
            " l)                                                              \n",
            "                                                                 \n",
            " dropout (Dropout)           (None, 64)                0         \n",
            "                                                                 \n",
            " dense (Dense)               (None, 1)                 65        \n",
            "                                                                 \n",
            "=================================================================\n",
            "Total params: 5,194,049\n",
            "Trainable params: 5,194,049\n",
            "Non-trainable params: 0\n",
            "_________________________________________________________________\n"
          ]
        }
      ],
      "source": [
        "inputs = keras.Input(shape=(None,), dtype=\"int64\")\n",
        "embedded = layers.Embedding(input_dim=max_tokens, output_dim=256)(inputs)\n",
        "x = layers.Bidirectional(layers.LSTM(32))(embedded)\n",
        "x = layers.Dropout(0.5)(x)\n",
        "outputs = layers.Dense(1, activation=\"sigmoid\")(x)\n",
        "model = keras.Model(inputs, outputs)\n",
        "\n",
        "model.compile(optimizer=\"rmsprop\",\n",
        "              loss=\"binary_crossentropy\",\n",
        "              metrics=[\"accuracy\"])\n",
        "model.summary()"
      ]
    },
    {
      "cell_type": "code",
      "source": [
        "callbacks = [\n",
        "    keras.callbacks.ModelCheckpoint(\"embeddings_bidir_rnn.keras\",\n",
        "                                    save_best_only=True)\n",
        "]\n",
        "history = model.fit(int_train_ds, validation_data=int_val_ds, epochs=10, callbacks=callbacks)\n",
        "model = keras.models.load_model(\"embeddings_bidir_rnn.keras\")\n",
        "print(f\"Test acc: {model.evaluate(int_test_ds)[1]:.3f}\")"
      ],
      "metadata": {
        "colab": {
          "base_uri": "https://localhost:8080/"
        },
        "id": "kHXH_Hmapqz-",
        "outputId": "cddd57ce-5928-4fb3-c869-b43eb30b3ad5"
      },
      "execution_count": null,
      "outputs": [
        {
          "output_type": "stream",
          "name": "stdout",
          "text": [
            "Epoch 1/10\n",
            "625/625 [==============================] - 37s 59ms/step - loss: 0.1562 - accuracy: 0.9482 - val_loss: 0.3824 - val_accuracy: 0.8794\n",
            "Epoch 2/10\n",
            "625/625 [==============================] - 38s 61ms/step - loss: 0.1291 - accuracy: 0.9567 - val_loss: 0.3916 - val_accuracy: 0.8742\n",
            "Epoch 3/10\n",
            "625/625 [==============================] - 32s 51ms/step - loss: 0.1095 - accuracy: 0.9654 - val_loss: 0.3873 - val_accuracy: 0.8870\n",
            "Epoch 4/10\n",
            "625/625 [==============================] - 36s 57ms/step - loss: 0.0862 - accuracy: 0.9727 - val_loss: 0.4102 - val_accuracy: 0.8820\n",
            "Epoch 5/10\n",
            "625/625 [==============================] - 32s 51ms/step - loss: 0.0734 - accuracy: 0.9776 - val_loss: 0.4403 - val_accuracy: 0.8840\n",
            "Epoch 6/10\n",
            "625/625 [==============================] - 37s 59ms/step - loss: 0.0631 - accuracy: 0.9801 - val_loss: 0.4486 - val_accuracy: 0.8734\n",
            "Epoch 7/10\n",
            "625/625 [==============================] - 36s 57ms/step - loss: 0.0553 - accuracy: 0.9839 - val_loss: 0.4894 - val_accuracy: 0.8748\n",
            "Epoch 8/10\n",
            "625/625 [==============================] - 34s 54ms/step - loss: 0.0467 - accuracy: 0.9861 - val_loss: 0.5282 - val_accuracy: 0.8732\n",
            "Epoch 9/10\n",
            "625/625 [==============================] - 33s 53ms/step - loss: 0.0448 - accuracy: 0.9869 - val_loss: 0.5026 - val_accuracy: 0.8664\n",
            "Epoch 10/10\n",
            "625/625 [==============================] - 30s 48ms/step - loss: 0.0347 - accuracy: 0.9905 - val_loss: 0.5791 - val_accuracy: 0.8638\n",
            "782/782 [==============================] - 27s 33ms/step - loss: 0.4353 - accuracy: 0.8596\n",
            "Test acc: 0.860\n"
          ]
        }
      ]
    },
    {
      "cell_type": "code",
      "source": [
        "plot_result(history)"
      ],
      "metadata": {
        "colab": {
          "base_uri": "https://localhost:8080/",
          "height": 281
        },
        "id": "HUFh_qdWqrRF",
        "outputId": "a711456b-688a-44e1-e459-28d5780876c2"
      },
      "execution_count": null,
      "outputs": [
        {
          "output_type": "display_data",
          "data": {
            "text/plain": [
              "<Figure size 720x288 with 2 Axes>"
            ],
            "image/png": "[encoded data removed]"
          },
          "metadata": {
            "needs_background": "light"
          }
        }
      ]
    },
    {
      "cell_type": "markdown",
      "source": [
        "Enkele vaststellingen:\n",
        "- Het model traint veel sneller dan het LSTM model met one-hot encoded input.\n",
        "- De nauwkeurigheid van het model voor de testset is vergelijkbaar of zelfs iets minder, wat deels te verklaren is doordat we de reviews hebben beperkt tot 600 woorden.\n",
        "- We krijgen vrij snel overtraining.\n"
      ],
      "metadata": {
        "id": "9lWkjG--udVh"
      }
    },
    {
      "cell_type": "markdown",
      "metadata": {
        "id": "nJ6ZyCMsmmfn"
      },
      "source": [
        "#### Understanding padding and masking"
      ]
    },
    {
      "cell_type": "markdown",
      "source": [
        "Het beperken van de reviews tot 600 woorden is dus een probleem: reviews langer dan 600 woorden verliezen informatie, en omgekeerd worden reviews met minder dan 600 woorden opgevuld met nullen (= **padding**). Die nullen worden ook door het neurale netwerk verwerkt en dat is natuurlijk onnodig! Gelukkig kunnen we via de **masking** API het model duidelijk maken dat die nullen mogen overgeslagen worden!"
      ],
      "metadata": {
        "id": "jr6W3icSvy73"
      }
    },
    {
      "cell_type": "markdown",
      "source": [
        "*The Embedding layer is capable of generating a “mask” that corresponds to its\n",
        "input data. This mask is a tensor of ones and zeros (or True/False booleans), of shape\n",
        "(batch_size, sequence_length), where the entry `mask[i, t]` indicates where timestep\n",
        "`t` of sample `i` should be skipped or not (the timestep will be skipped if `mask[i, t]`\n",
        "is `0` or `False`, and processed otherwise).\n",
        "By default, this option isn’t active — you can turn it on by passing `mask_zero=True`\n",
        "to your Embedding layer. You can retrieve the mask with the `compute_mask()` method:*"
      ],
      "metadata": {
        "id": "40O-sjvNwtYG"
      }
    },
    {
      "cell_type": "code",
      "source": [
        "embedding_layer = layers.Embedding(input_dim=10, output_dim=256, mask_zero=True)\n",
        "some_input = [[4, 3, 2, 1, 0, 0, 0],\n",
        "              [5, 4, 3, 2, 1, 0, 0],\n",
        "              [2, 1, 0, 0, 0, 0, 0]]\n",
        "mask = embedding_layer.compute_mask(some_input)\n",
        "mask"
      ],
      "metadata": {
        "colab": {
          "base_uri": "https://localhost:8080/"
        },
        "id": "qiq8V9unxgru",
        "outputId": "1164cdf1-bb32-4db4-bd66-bd7936c03181"
      },
      "execution_count": null,
      "outputs": [
        {
          "output_type": "execute_result",
          "data": {
            "text/plain": [
              "<tf.Tensor: shape=(3, 7), dtype=bool, numpy=\n",
              "array([[ True,  True,  True,  True, False, False, False],\n",
              "       [ True,  True,  True,  True,  True, False, False],\n",
              "       [ True,  True, False, False, False, False, False]])>"
            ]
          },
          "metadata": {},
          "execution_count": 21
        }
      ]
    },
    {
      "cell_type": "markdown",
      "metadata": {
        "id": "msGVndRdmmfo"
      },
      "source": [
        "In praktijk moet je die masks gelukkig niet manueel berekenen en doet Keras dat voor jou. Laten we die optie nu eens uitproberen:"
      ]
    },
    {
      "cell_type": "code",
      "execution_count": null,
      "metadata": {
        "id": "NygV9N9gmmfo",
        "colab": {
          "base_uri": "https://localhost:8080/"
        },
        "outputId": "bfb62e0c-d606-4008-a17c-0c90c888ead0"
      },
      "outputs": [
        {
          "output_type": "stream",
          "name": "stdout",
          "text": [
            "Model: \"model_1\"\n",
            "_________________________________________________________________\n",
            " Layer (type)                Output Shape              Param #   \n",
            "=================================================================\n",
            " input_2 (InputLayer)        [(None, None)]            0         \n",
            "                                                                 \n",
            " embedding_2 (Embedding)     (None, None, 256)         5120000   \n",
            "                                                                 \n",
            " bidirectional_1 (Bidirectio  (None, 64)               73984     \n",
            " nal)                                                            \n",
            "                                                                 \n",
            " dropout_1 (Dropout)         (None, 64)                0         \n",
            "                                                                 \n",
            " dense_1 (Dense)             (None, 1)                 65        \n",
            "                                                                 \n",
            "=================================================================\n",
            "Total params: 5,194,049\n",
            "Trainable params: 5,194,049\n",
            "Non-trainable params: 0\n",
            "_________________________________________________________________\n"
          ]
        }
      ],
      "source": [
        "inputs = keras.Input(shape=(None,), dtype=\"int64\")\n",
        "embedded = layers.Embedding(\n",
        "    input_dim=max_tokens, output_dim=256, mask_zero=True)(inputs)  # mask_zero = True!\n",
        "x = layers.Bidirectional(layers.LSTM(32))(embedded)\n",
        "x = layers.Dropout(0.5)(x)\n",
        "outputs = layers.Dense(1, activation=\"sigmoid\")(x)\n",
        "model = keras.Model(inputs, outputs)\n",
        "\n",
        "model.compile(optimizer=\"rmsprop\",\n",
        "              loss=\"binary_crossentropy\",\n",
        "              metrics=[\"accuracy\"])\n",
        "model.summary()"
      ]
    },
    {
      "cell_type": "markdown",
      "source": [
        "Het model trainen en evalueren:"
      ],
      "metadata": {
        "id": "t1ZPmb5a4Brg"
      }
    },
    {
      "cell_type": "code",
      "source": [
        "callbacks = [\n",
        "    keras.callbacks.ModelCheckpoint(\"embeddings_bidir_rnn_with_masking.keras\",\n",
        "                                    save_best_only=True)\n",
        "]\n",
        "history = model.fit(int_train_ds, validation_data=int_val_ds, epochs=10, callbacks=callbacks)\n",
        "model = keras.models.load_model(\"embeddings_bidir_rnn_with_masking.keras\")\n",
        "print(f\"Test acc: {model.evaluate(int_test_ds)[1]:.3f}\")"
      ],
      "metadata": {
        "colab": {
          "base_uri": "https://localhost:8080/"
        },
        "id": "bjOoIr0_q3Ax",
        "outputId": "22d25c1d-3aff-49e3-a981-ea7562971013"
      },
      "execution_count": null,
      "outputs": [
        {
          "output_type": "stream",
          "name": "stdout",
          "text": [
            "Epoch 1/10\n",
            "625/625 [==============================] - 41s 55ms/step - loss: 0.4054 - accuracy: 0.8181 - val_loss: 0.2998 - val_accuracy: 0.8782\n",
            "Epoch 2/10\n",
            "625/625 [==============================] - 36s 58ms/step - loss: 0.2298 - accuracy: 0.9104 - val_loss: 0.2611 - val_accuracy: 0.9016\n",
            "Epoch 3/10\n",
            "625/625 [==============================] - 35s 56ms/step - loss: 0.1662 - accuracy: 0.9377 - val_loss: 0.2943 - val_accuracy: 0.8854\n",
            "Epoch 4/10\n",
            "625/625 [==============================] - 33s 53ms/step - loss: 0.1227 - accuracy: 0.9564 - val_loss: 0.3150 - val_accuracy: 0.8920\n",
            "Epoch 5/10\n",
            "625/625 [==============================] - 33s 52ms/step - loss: 0.0929 - accuracy: 0.9667 - val_loss: 0.3430 - val_accuracy: 0.8880\n",
            "Epoch 6/10\n",
            "625/625 [==============================] - 34s 54ms/step - loss: 0.0669 - accuracy: 0.9777 - val_loss: 0.5141 - val_accuracy: 0.8622\n",
            "Epoch 7/10\n",
            "625/625 [==============================] - 38s 61ms/step - loss: 0.0494 - accuracy: 0.9844 - val_loss: 0.6236 - val_accuracy: 0.8396\n",
            "Epoch 8/10\n",
            "625/625 [==============================] - 37s 58ms/step - loss: 0.0386 - accuracy: 0.9868 - val_loss: 0.5962 - val_accuracy: 0.8646\n",
            "Epoch 9/10\n",
            "625/625 [==============================] - 36s 57ms/step - loss: 0.0274 - accuracy: 0.9907 - val_loss: 0.4762 - val_accuracy: 0.8774\n",
            "Epoch 10/10\n",
            "625/625 [==============================] - 36s 57ms/step - loss: 0.0191 - accuracy: 0.9940 - val_loss: 0.5776 - val_accuracy: 0.8708\n",
            "782/782 [==============================] - 27s 32ms/step - loss: 0.2984 - accuracy: 0.8838\n",
            "Test acc: 0.884\n"
          ]
        }
      ]
    },
    {
      "cell_type": "code",
      "source": [
        "plot_result(history)"
      ],
      "metadata": {
        "colab": {
          "base_uri": "https://localhost:8080/",
          "height": 281
        },
        "id": "q3s-Rkmqq7gt",
        "outputId": "9dbb8378-6161-4212-b4ea-56e89275e01d"
      },
      "execution_count": null,
      "outputs": [
        {
          "output_type": "display_data",
          "data": {
            "text/plain": [
              "<Figure size 720x288 with 2 Axes>"
            ],
            "image/png": "[encoded data removed]"
          },
          "metadata": {
            "needs_background": "light"
          }
        }
      ]
    },
    {
      "cell_type": "markdown",
      "source": [
        "We krijgen inderdaad een iets beter resultaat!"
      ],
      "metadata": {
        "id": "UnxN8R70ySWx"
      }
    },
    {
      "cell_type": "markdown",
      "metadata": {
        "id": "5SA9i3Kemmfp"
      },
      "source": [
        "#### Using pretrained word embeddings"
      ]
    },
    {
      "cell_type": "markdown",
      "source": [
        "In plaats van zelf een 'word embedding space' af te leiden uit onze tekstdata, kunnen we ook een bestaande gebruiken, wat zeker interessant is als onze dataset klein is:\n",
        "\n",
        "*The rationale behind using pretrained word embeddings in natural\n",
        "language processing is much the same as for using pretrained convnets in image\n",
        "classification: you don’t have enough data available to learn truly powerful features on\n",
        "your own, but you expect that the features you need are fairly generic — that is, common\n",
        "visual features or semantic features. In this case, it makes sense to reuse features\n",
        "learned on a different problem.*\n",
        "\n",
        "Er staan verschillende technieken om word embeddings te creëren, waarvan sommige gebruik maken van neurale netwerken en andere niet. Bekende pretrained word embeddings zijn:\n",
        "- word2vec\n",
        "- GloVe\n",
        "- FastText\n",
        "- ELMo\n",
        "\n",
        "Dit YouTube filmpje legt kort uit hoe word embeddings zoals word2vec en ELMo werken: https://youtu.be/5MaWmXwxFNQ."
      ],
      "metadata": {
        "id": "DAeAk9VEz-eq"
      }
    },
    {
      "cell_type": "markdown",
      "source": [
        "Hier gebruiken we GloVe, wat staat voor Global Vectors, en in 2014 is opgesteld aan Stanford University adhv de Engelstalige Wikipedia:"
      ],
      "metadata": {
        "id": "pWHBc6uybx4A"
      }
    },
    {
      "cell_type": "code",
      "execution_count": null,
      "metadata": {
        "id": "ug9E3U1Xmmfp",
        "colab": {
          "base_uri": "https://localhost:8080/"
        },
        "outputId": "6518b486-9900-4eda-9fd4-c1c449f8ed92"
      },
      "outputs": [
        {
          "output_type": "stream",
          "name": "stdout",
          "text": [
            "--2022-12-14 13:04:09--  http://nlp.stanford.edu/data/glove.6B.zip\n",
            "Resolving nlp.stanford.edu (nlp.stanford.edu)... 171.64.67.140\n",
            "Connecting to nlp.stanford.edu (nlp.stanford.edu)|171.64.67.140|:80... connected.\n",
            "HTTP request sent, awaiting response... 302 Found\n",
            "Location: https://nlp.stanford.edu/data/glove.6B.zip [following]\n",
            "--2022-12-14 13:04:09--  https://nlp.stanford.edu/data/glove.6B.zip\n",
            "Connecting to nlp.stanford.edu (nlp.stanford.edu)|171.64.67.140|:443... connected.\n",
            "HTTP request sent, awaiting response... 301 Moved Permanently\n",
            "Location: https://downloads.cs.stanford.edu/nlp/data/glove.6B.zip [following]\n",
            "--2022-12-14 13:04:10--  https://downloads.cs.stanford.edu/nlp/data/glove.6B.zip\n",
            "Resolving downloads.cs.stanford.edu (downloads.cs.stanford.edu)... 171.64.64.22\n",
            "Connecting to downloads.cs.stanford.edu (downloads.cs.stanford.edu)|171.64.64.22|:443... connected.\n",
            "HTTP request sent, awaiting response... 200 OK\n",
            "Length: 862182613 (822M) [application/zip]\n",
            "Saving to: ‘glove.6B.zip’\n",
            "\n",
            "glove.6B.zip        100%[===================>] 822.24M  5.09MB/s    in 2m 39s  \n",
            "\n",
            "2022-12-14 13:06:49 (5.16 MB/s) - ‘glove.6B.zip’ saved [862182613/862182613]\n",
            "\n"
          ]
        }
      ],
      "source": [
        "!wget http://nlp.stanford.edu/data/glove.6B.zip\n",
        "!unzip -q glove.6B.zip"
      ]
    },
    {
      "cell_type": "markdown",
      "metadata": {
        "id": "MKkW6ysXmmfp"
      },
      "source": [
        "Eerst moeten we de GloVe tekstfile parsen:"
      ]
    },
    {
      "cell_type": "code",
      "execution_count": null,
      "metadata": {
        "id": "BSk7P5-ymmfq",
        "colab": {
          "base_uri": "https://localhost:8080/"
        },
        "outputId": "88ca9227-d6c5-4cde-d559-ba9cf0719cb0"
      },
      "outputs": [
        {
          "output_type": "stream",
          "name": "stdout",
          "text": [
            "Found 400000 word vectors.\n"
          ]
        }
      ],
      "source": [
        "import numpy as np\n",
        "\n",
        "path_to_glove_file = \"glove.6B.100d.txt\"\n",
        "\n",
        "embeddings_index = {}\n",
        "with open(path_to_glove_file) as f:\n",
        "    for line in f:\n",
        "        word, coefs = line.split(maxsplit=1)\n",
        "        coefs = np.fromstring(coefs, \"f\", sep=\" \")\n",
        "        embeddings_index[word] = coefs\n",
        "\n",
        "print(f\"Found {len(embeddings_index)} word vectors.\")"
      ]
    },
    {
      "cell_type": "markdown",
      "metadata": {
        "id": "3JnMlrwrmmfq"
      },
      "source": [
        "Nu kunnen we de GloVe word-embeddings matrix creëren. Die matrix heeft shape `(max_tokens, embedding_dim)`:"
      ]
    },
    {
      "cell_type": "code",
      "execution_count": null,
      "metadata": {
        "id": "x-6i_Kwjmmfq"
      },
      "outputs": [],
      "source": [
        "embedding_dim = 100  # given by user\n",
        "\n",
        "vocabulary = text_vectorization.get_vocabulary()  # Retrieve the vocabulary indexed by our previous TextVectorization layer\n",
        "word_index = dict(zip(vocabulary, range(len(vocabulary))))  # Use it to create a mapping from words to their index in the vocabulary\n",
        "\n",
        "embedding_matrix = np.zeros((max_tokens, embedding_dim))  # Initialize a matrix that we’ll fill with the GloVe vectors\n",
        "for word, i in word_index.items():\n",
        "    if i < max_tokens:\n",
        "        embedding_vector = embeddings_index.get(word)\n",
        "    # Fill entry i in the matrix with the word vector for index i.\n",
        "    # Words not found in the embedding index will be all zeros.\n",
        "    if embedding_vector is not None:\n",
        "        embedding_matrix[i] = embedding_vector"
      ]
    },
    {
      "cell_type": "markdown",
      "source": [
        "Tenslotte laden we de pretrained embeddings in een `Embedding` layer waarbij we gebruik maken van een `Constant` initializer:"
      ],
      "metadata": {
        "id": "DV5y4KIg3XIL"
      }
    },
    {
      "cell_type": "code",
      "execution_count": null,
      "metadata": {
        "id": "DluyigBtmmfr"
      },
      "outputs": [],
      "source": [
        "embedding_layer = layers.Embedding(\n",
        "    max_tokens,\n",
        "    embedding_dim,\n",
        "    embeddings_initializer=keras.initializers.Constant(embedding_matrix),\n",
        "    trainable=False,  # op False zetten want de laag mag niet mee getraind worden!\n",
        "    mask_zero=True,\n",
        ")"
      ]
    },
    {
      "cell_type": "markdown",
      "source": [
        "Uiteraard zetten we de laag niet op `trainable` want ze mag niet worden mee getraind!\n",
        "\n",
        "We kunnen de gecreëerde `Embedding` layer met de GloVe vectoren nu eenvoudig aan ons model toevoegen:"
      ],
      "metadata": {
        "id": "bborMZ4F3lu_"
      }
    },
    {
      "cell_type": "code",
      "execution_count": null,
      "metadata": {
        "id": "cYQBCjoEmmfr",
        "colab": {
          "base_uri": "https://localhost:8080/"
        },
        "outputId": "1329a94a-9495-48e7-aab5-72fe72baf018"
      },
      "outputs": [
        {
          "output_type": "stream",
          "name": "stdout",
          "text": [
            "Model: \"model_2\"\n",
            "_________________________________________________________________\n",
            " Layer (type)                Output Shape              Param #   \n",
            "=================================================================\n",
            " input_3 (InputLayer)        [(None, None)]            0         \n",
            "                                                                 \n",
            " embedding_3 (Embedding)     (None, None, 100)         2000000   \n",
            "                                                                 \n",
            " bidirectional_2 (Bidirectio  (None, 64)               34048     \n",
            " nal)                                                            \n",
            "                                                                 \n",
            " dropout_2 (Dropout)         (None, 64)                0         \n",
            "                                                                 \n",
            " dense_2 (Dense)             (None, 1)                 65        \n",
            "                                                                 \n",
            "=================================================================\n",
            "Total params: 2,034,113\n",
            "Trainable params: 34,113\n",
            "Non-trainable params: 2,000,000\n",
            "_________________________________________________________________\n"
          ]
        }
      ],
      "source": [
        "inputs = keras.Input(shape=(None,), dtype=\"int64\")\n",
        "embedded = embedding_layer(inputs)\n",
        "x = layers.Bidirectional(layers.LSTM(32))(embedded)\n",
        "x = layers.Dropout(0.5)(x)\n",
        "outputs = layers.Dense(1, activation=\"sigmoid\")(x)\n",
        "model = keras.Model(inputs, outputs)\n",
        "\n",
        "model.compile(optimizer=\"rmsprop\",\n",
        "              loss=\"binary_crossentropy\",\n",
        "              metrics=[\"accuracy\"])\n",
        "model.summary()"
      ]
    },
    {
      "cell_type": "markdown",
      "source": [
        "Het model trainen en evalueren:"
      ],
      "metadata": {
        "id": "qHud2xN54SbD"
      }
    },
    {
      "cell_type": "code",
      "source": [
        "callbacks = [\n",
        "    keras.callbacks.ModelCheckpoint(\"glove_embeddings_sequence_model.keras\",\n",
        "                                    save_best_only=True)\n",
        "]\n",
        "history = model.fit(int_train_ds, validation_data=int_val_ds, epochs=10, callbacks=callbacks)\n",
        "model = keras.models.load_model(\"glove_embeddings_sequence_model.keras\")\n",
        "print(f\"Test acc: {model.evaluate(int_test_ds)[1]:.3f}\")"
      ],
      "metadata": {
        "colab": {
          "base_uri": "https://localhost:8080/"
        },
        "id": "CknijbHfvMfE",
        "outputId": "9d16a41c-1c0e-4397-865c-f1ed597c135c"
      },
      "execution_count": null,
      "outputs": [
        {
          "output_type": "stream",
          "name": "stdout",
          "text": [
            "Epoch 1/10\n",
            "625/625 [==============================] - 45s 59ms/step - loss: 0.5756 - accuracy: 0.6916 - val_loss: 0.4967 - val_accuracy: 0.7606\n",
            "Epoch 2/10\n",
            "625/625 [==============================] - 39s 62ms/step - loss: 0.4510 - accuracy: 0.7947 - val_loss: 0.4033 - val_accuracy: 0.8188\n",
            "Epoch 3/10\n",
            "625/625 [==============================] - 34s 54ms/step - loss: 0.3978 - accuracy: 0.8246 - val_loss: 0.4163 - val_accuracy: 0.8182\n",
            "Epoch 4/10\n",
            "625/625 [==============================] - 34s 55ms/step - loss: 0.3665 - accuracy: 0.8438 - val_loss: 0.3587 - val_accuracy: 0.8428\n",
            "Epoch 5/10\n",
            "625/625 [==============================] - 35s 57ms/step - loss: 0.3399 - accuracy: 0.8561 - val_loss: 0.3424 - val_accuracy: 0.8468\n",
            "Epoch 6/10\n",
            "625/625 [==============================] - 36s 57ms/step - loss: 0.3207 - accuracy: 0.8669 - val_loss: 0.3528 - val_accuracy: 0.8550\n",
            "Epoch 7/10\n",
            "625/625 [==============================] - 34s 54ms/step - loss: 0.3024 - accuracy: 0.8776 - val_loss: 0.3754 - val_accuracy: 0.8386\n",
            "Epoch 8/10\n",
            "625/625 [==============================] - 35s 55ms/step - loss: 0.2830 - accuracy: 0.8857 - val_loss: 0.3210 - val_accuracy: 0.8634\n",
            "Epoch 9/10\n",
            "625/625 [==============================] - 40s 64ms/step - loss: 0.2702 - accuracy: 0.8907 - val_loss: 0.3017 - val_accuracy: 0.8708\n",
            "Epoch 10/10\n",
            "625/625 [==============================] - 36s 58ms/step - loss: 0.2591 - accuracy: 0.8970 - val_loss: 0.2933 - val_accuracy: 0.8776\n",
            "782/782 [==============================] - 25s 28ms/step - loss: 0.2865 - accuracy: 0.8812\n",
            "Test acc: 0.881\n"
          ]
        }
      ]
    },
    {
      "cell_type": "code",
      "source": [
        "plot_result(history)"
      ],
      "metadata": {
        "colab": {
          "base_uri": "https://localhost:8080/",
          "height": 281
        },
        "id": "Uc2oHZg9vPgb",
        "outputId": "c1245220-fc1c-41dc-fcd1-99672632d9df"
      },
      "execution_count": null,
      "outputs": [
        {
          "output_type": "display_data",
          "data": {
            "text/plain": [
              "<Figure size 720x288 with 2 Axes>"
            ],
            "image/png": "[encoded data removed]"
          },
          "metadata": {
            "needs_background": "light"
          }
        }
      ]
    },
    {
      "cell_type": "markdown",
      "source": [
        "We krijgen hier niet echt een beter resultaat omdat onze dataset groot genoeg is om zelf de word embeddings te leren zoals we eerder hebben gedaan. Maar bij kleine datasets zijn pretrained word embeddings wel zeer nuttig!"
      ],
      "metadata": {
        "id": "FO-v5Qmf4gJj"
      }
    },
    {
      "cell_type": "markdown",
      "source": [
        "---"
      ],
      "metadata": {
        "id": "QrE4Wrcu5WiI"
      }
    }
  ],
  "metadata": {
    "colab": {
      "provenance": [],
      "include_colab_link": true
    },
    "kernelspec": {
      "display_name": "Python 3",
      "language": "python",
      "name": "python3"
    },
    "language_info": {
      "codemirror_mode": {
        "name": "ipython",
        "version": 3
      },
      "file_extension": ".py",
      "mimetype": "text/x-python",
      "name": "python",
      "nbconvert_exporter": "python",
      "pygments_lexer": "ipython3",
      "version": "3.7.0"
    },
    "accelerator": "GPU",
    "gpuClass": "standard"
  },
  "nbformat": 4,
  "nbformat_minor": 0
}