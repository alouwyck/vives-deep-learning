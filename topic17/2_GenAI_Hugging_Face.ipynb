{
  "nbformat": 4,
  "nbformat_minor": 0,
  "metadata": {
    "colab": {
      "provenance": [],
      "authorship_tag": "ABX9TyOP5kVyGhT3KWiqLIFZqGME",
      "include_colab_link": true
    },
    "kernelspec": {
      "name": "python3",
      "display_name": "Python 3"
    },
    "language_info": {
      "name": "python"
    },
    "widgets": {
      "application/vnd.jupyter.widget-state+json": {
        "65130c6b994d480580c30012c245f0e9": {
          "model_module": "@jupyter-widgets/controls",
          "model_name": "HBoxModel",
          "model_module_version": "1.5.0",
          "state": {
            "_dom_classes": [],
            "_model_module": "@jupyter-widgets/controls",
            "_model_module_version": "1.5.0",
            "_model_name": "HBoxModel",
            "_view_count": null,
            "_view_module": "@jupyter-widgets/controls",
            "_view_module_version": "1.5.0",
            "_view_name": "HBoxView",
            "box_style": "",
            "children": [
              "IPY_MODEL_c988ea5849ff4217a3537b3fec3b3809",
              "IPY_MODEL_f6e623a69ea74664b096423ecc4bfd57",
              "IPY_MODEL_057590d7e3814bb49f0269183c3dc8a7"
            ],
            "layout": "IPY_MODEL_4012317929c649b993daffcd847c19b2"
          }
        },
        "c988ea5849ff4217a3537b3fec3b3809": {
          "model_module": "@jupyter-widgets/controls",
          "model_name": "HTMLModel",
          "model_module_version": "1.5.0",
          "state": {
            "_dom_classes": [],
            "_model_module": "@jupyter-widgets/controls",
            "_model_module_version": "1.5.0",
            "_model_name": "HTMLModel",
            "_view_count": null,
            "_view_module": "@jupyter-widgets/controls",
            "_view_module_version": "1.5.0",
            "_view_name": "HTMLView",
            "description": "",
            "description_tooltip": null,
            "layout": "IPY_MODEL_753f343761f8416a8ea41a31bd3342d3",
            "placeholder": "​",
            "style": "IPY_MODEL_07860f75495842379c9a4e62adf05dc4",
            "value": "Loading pipeline components...: 100%"
          }
        },
        "f6e623a69ea74664b096423ecc4bfd57": {
          "model_module": "@jupyter-widgets/controls",
          "model_name": "FloatProgressModel",
          "model_module_version": "1.5.0",
          "state": {
            "_dom_classes": [],
            "_model_module": "@jupyter-widgets/controls",
            "_model_module_version": "1.5.0",
            "_model_name": "FloatProgressModel",
            "_view_count": null,
            "_view_module": "@jupyter-widgets/controls",
            "_view_module_version": "1.5.0",
            "_view_name": "ProgressView",
            "bar_style": "success",
            "description": "",
            "description_tooltip": null,
            "layout": "IPY_MODEL_a7d05282c9d3438fb13278e7863db661",
            "max": 7,
            "min": 0,
            "orientation": "horizontal",
            "style": "IPY_MODEL_2858218f18aa4d82a5990de9f9a51e02",
            "value": 7
          }
        },
        "057590d7e3814bb49f0269183c3dc8a7": {
          "model_module": "@jupyter-widgets/controls",
          "model_name": "HTMLModel",
          "model_module_version": "1.5.0",
          "state": {
            "_dom_classes": [],
            "_model_module": "@jupyter-widgets/controls",
            "_model_module_version": "1.5.0",
            "_model_name": "HTMLModel",
            "_view_count": null,
            "_view_module": "@jupyter-widgets/controls",
            "_view_module_version": "1.5.0",
            "_view_name": "HTMLView",
            "description": "",
            "description_tooltip": null,
            "layout": "IPY_MODEL_6e9e5124ebd74ebe8c213e1c02338f79",
            "placeholder": "​",
            "style": "IPY_MODEL_7b8465fb28304d18b403c13e70aed297",
            "value": " 7/7 [00:01&lt;00:00,  3.84it/s]"
          }
        },
        "4012317929c649b993daffcd847c19b2": {
          "model_module": "@jupyter-widgets/base",
          "model_name": "LayoutModel",
          "model_module_version": "1.2.0",
          "state": {
            "_model_module": "@jupyter-widgets/base",
            "_model_module_version": "1.2.0",
            "_model_name": "LayoutModel",
            "_view_count": null,
            "_view_module": "@jupyter-widgets/base",
            "_view_module_version": "1.2.0",
            "_view_name": "LayoutView",
            "align_content": null,
            "align_items": null,
            "align_self": null,
            "border": null,
            "bottom": null,
            "display": null,
            "flex": null,
            "flex_flow": null,
            "grid_area": null,
            "grid_auto_columns": null,
            "grid_auto_flow": null,
            "grid_auto_rows": null,
            "grid_column": null,
            "grid_gap": null,
            "grid_row": null,
            "grid_template_areas": null,
            "grid_template_columns": null,
            "grid_template_rows": null,
            "height": null,
            "justify_content": null,
            "justify_items": null,
            "left": null,
            "margin": null,
            "max_height": null,
            "max_width": null,
            "min_height": null,
            "min_width": null,
            "object_fit": null,
            "object_position": null,
            "order": null,
            "overflow": null,
            "overflow_x": null,
            "overflow_y": null,
            "padding": null,
            "right": null,
            "top": null,
            "visibility": null,
            "width": null
          }
        },
        "753f343761f8416a8ea41a31bd3342d3": {
          "model_module": "@jupyter-widgets/base",
          "model_name": "LayoutModel",
          "model_module_version": "1.2.0",
          "state": {
            "_model_module": "@jupyter-widgets/base",
            "_model_module_version": "1.2.0",
            "_model_name": "LayoutModel",
            "_view_count": null,
            "_view_module": "@jupyter-widgets/base",
            "_view_module_version": "1.2.0",
            "_view_name": "LayoutView",
            "align_content": null,
            "align_items": null,
            "align_self": null,
            "border": null,
            "bottom": null,
            "display": null,
            "flex": null,
            "flex_flow": null,
            "grid_area": null,
            "grid_auto_columns": null,
            "grid_auto_flow": null,
            "grid_auto_rows": null,
            "grid_column": null,
            "grid_gap": null,
            "grid_row": null,
            "grid_template_areas": null,
            "grid_template_columns": null,
            "grid_template_rows": null,
            "height": null,
            "justify_content": null,
            "justify_items": null,
            "left": null,
            "margin": null,
            "max_height": null,
            "max_width": null,
            "min_height": null,
            "min_width": null,
            "object_fit": null,
            "object_position": null,
            "order": null,
            "overflow": null,
            "overflow_x": null,
            "overflow_y": null,
            "padding": null,
            "right": null,
            "top": null,
            "visibility": null,
            "width": null
          }
        },
        "07860f75495842379c9a4e62adf05dc4": {
          "model_module": "@jupyter-widgets/controls",
          "model_name": "DescriptionStyleModel",
          "model_module_version": "1.5.0",
          "state": {
            "_model_module": "@jupyter-widgets/controls",
            "_model_module_version": "1.5.0",
            "_model_name": "DescriptionStyleModel",
            "_view_count": null,
            "_view_module": "@jupyter-widgets/base",
            "_view_module_version": "1.2.0",
            "_view_name": "StyleView",
            "description_width": ""
          }
        },
        "a7d05282c9d3438fb13278e7863db661": {
          "model_module": "@jupyter-widgets/base",
          "model_name": "LayoutModel",
          "model_module_version": "1.2.0",
          "state": {
            "_model_module": "@jupyter-widgets/base",
            "_model_module_version": "1.2.0",
            "_model_name": "LayoutModel",
            "_view_count": null,
            "_view_module": "@jupyter-widgets/base",
            "_view_module_version": "1.2.0",
            "_view_name": "LayoutView",
            "align_content": null,
            "align_items": null,
            "align_self": null,
            "border": null,
            "bottom": null,
            "display": null,
            "flex": null,
            "flex_flow": null,
            "grid_area": null,
            "grid_auto_columns": null,
            "grid_auto_flow": null,
            "grid_auto_rows": null,
            "grid_column": null,
            "grid_gap": null,
            "grid_row": null,
            "grid_template_areas": null,
            "grid_template_columns": null,
            "grid_template_rows": null,
            "height": null,
            "justify_content": null,
            "justify_items": null,
            "left": null,
            "margin": null,
            "max_height": null,
            "max_width": null,
            "min_height": null,
            "min_width": null,
            "object_fit": null,
            "object_position": null,
            "order": null,
            "overflow": null,
            "overflow_x": null,
            "overflow_y": null,
            "padding": null,
            "right": null,
            "top": null,
            "visibility": null,
            "width": null
          }
        },
        "2858218f18aa4d82a5990de9f9a51e02": {
          "model_module": "@jupyter-widgets/controls",
          "model_name": "ProgressStyleModel",
          "model_module_version": "1.5.0",
          "state": {
            "_model_module": "@jupyter-widgets/controls",
            "_model_module_version": "1.5.0",
            "_model_name": "ProgressStyleModel",
            "_view_count": null,
            "_view_module": "@jupyter-widgets/base",
            "_view_module_version": "1.2.0",
            "_view_name": "StyleView",
            "bar_color": null,
            "description_width": ""
          }
        },
        "6e9e5124ebd74ebe8c213e1c02338f79": {
          "model_module": "@jupyter-widgets/base",
          "model_name": "LayoutModel",
          "model_module_version": "1.2.0",
          "state": {
            "_model_module": "@jupyter-widgets/base",
            "_model_module_version": "1.2.0",
            "_model_name": "LayoutModel",
            "_view_count": null,
            "_view_module": "@jupyter-widgets/base",
            "_view_module_version": "1.2.0",
            "_view_name": "LayoutView",
            "align_content": null,
            "align_items": null,
            "align_self": null,
            "border": null,
            "bottom": null,
            "display": null,
            "flex": null,
            "flex_flow": null,
            "grid_area": null,
            "grid_auto_columns": null,
            "grid_auto_flow": null,
            "grid_auto_rows": null,
            "grid_column": null,
            "grid_gap": null,
            "grid_row": null,
            "grid_template_areas": null,
            "grid_template_columns": null,
            "grid_template_rows": null,
            "height": null,
            "justify_content": null,
            "justify_items": null,
            "left": null,
            "margin": null,
            "max_height": null,
            "max_width": null,
            "min_height": null,
            "min_width": null,
            "object_fit": null,
            "object_position": null,
            "order": null,
            "overflow": null,
            "overflow_x": null,
            "overflow_y": null,
            "padding": null,
            "right": null,
            "top": null,
            "visibility": null,
            "width": null
          }
        },
        "7b8465fb28304d18b403c13e70aed297": {
          "model_module": "@jupyter-widgets/controls",
          "model_name": "DescriptionStyleModel",
          "model_module_version": "1.5.0",
          "state": {
            "_model_module": "@jupyter-widgets/controls",
            "_model_module_version": "1.5.0",
            "_model_name": "DescriptionStyleModel",
            "_view_count": null,
            "_view_module": "@jupyter-widgets/base",
            "_view_module_version": "1.2.0",
            "_view_name": "StyleView",
            "description_width": ""
          }
        },
        "05e74f12fe514217abfd8b2f63172269": {
          "model_module": "@jupyter-widgets/controls",
          "model_name": "HBoxModel",
          "model_module_version": "1.5.0",
          "state": {
            "_dom_classes": [],
            "_model_module": "@jupyter-widgets/controls",
            "_model_module_version": "1.5.0",
            "_model_name": "HBoxModel",
            "_view_count": null,
            "_view_module": "@jupyter-widgets/controls",
            "_view_module_version": "1.5.0",
            "_view_name": "HBoxView",
            "box_style": "",
            "children": [
              "IPY_MODEL_ec82506befdf4c3fa14554cfeb0ec454",
              "IPY_MODEL_0918af43213b476689e45cebf2268392",
              "IPY_MODEL_340feea37ecb4beda736e1b117f18aed"
            ],
            "layout": "IPY_MODEL_1ede43c8de764207939ca458aa314f6f"
          }
        },
        "ec82506befdf4c3fa14554cfeb0ec454": {
          "model_module": "@jupyter-widgets/controls",
          "model_name": "HTMLModel",
          "model_module_version": "1.5.0",
          "state": {
            "_dom_classes": [],
            "_model_module": "@jupyter-widgets/controls",
            "_model_module_version": "1.5.0",
            "_model_name": "HTMLModel",
            "_view_count": null,
            "_view_module": "@jupyter-widgets/controls",
            "_view_module_version": "1.5.0",
            "_view_name": "HTMLView",
            "description": "",
            "description_tooltip": null,
            "layout": "IPY_MODEL_f8467f391dcf48d399cedcfa4fd46add",
            "placeholder": "​",
            "style": "IPY_MODEL_ed5d5aeb0e3f4720adacb4edcfb6fc65",
            "value": "config.json: 100%"
          }
        },
        "0918af43213b476689e45cebf2268392": {
          "model_module": "@jupyter-widgets/controls",
          "model_name": "FloatProgressModel",
          "model_module_version": "1.5.0",
          "state": {
            "_dom_classes": [],
            "_model_module": "@jupyter-widgets/controls",
            "_model_module_version": "1.5.0",
            "_model_name": "FloatProgressModel",
            "_view_count": null,
            "_view_module": "@jupyter-widgets/controls",
            "_view_module_version": "1.5.0",
            "_view_name": "ProgressView",
            "bar_style": "success",
            "description": "",
            "description_tooltip": null,
            "layout": "IPY_MODEL_dcfd509f571b43b79d3fbcb83861afb1",
            "max": 1802,
            "min": 0,
            "orientation": "horizontal",
            "style": "IPY_MODEL_621483ee9c294e39a764472dd71a0f2b",
            "value": 1802
          }
        },
        "340feea37ecb4beda736e1b117f18aed": {
          "model_module": "@jupyter-widgets/controls",
          "model_name": "HTMLModel",
          "model_module_version": "1.5.0",
          "state": {
            "_dom_classes": [],
            "_model_module": "@jupyter-widgets/controls",
            "_model_module_version": "1.5.0",
            "_model_name": "HTMLModel",
            "_view_count": null,
            "_view_module": "@jupyter-widgets/controls",
            "_view_module_version": "1.5.0",
            "_view_name": "HTMLView",
            "description": "",
            "description_tooltip": null,
            "layout": "IPY_MODEL_da0985e215af426ea3da5793d79a08a1",
            "placeholder": "​",
            "style": "IPY_MODEL_ddda0e16fa3447a1ad2fa54a0e9a2c7b",
            "value": " 1.80k/1.80k [00:00&lt;00:00, 102kB/s]"
          }
        },
        "1ede43c8de764207939ca458aa314f6f": {
          "model_module": "@jupyter-widgets/base",
          "model_name": "LayoutModel",
          "model_module_version": "1.2.0",
          "state": {
            "_model_module": "@jupyter-widgets/base",
            "_model_module_version": "1.2.0",
            "_model_name": "LayoutModel",
            "_view_count": null,
            "_view_module": "@jupyter-widgets/base",
            "_view_module_version": "1.2.0",
            "_view_name": "LayoutView",
            "align_content": null,
            "align_items": null,
            "align_self": null,
            "border": null,
            "bottom": null,
            "display": null,
            "flex": null,
            "flex_flow": null,
            "grid_area": null,
            "grid_auto_columns": null,
            "grid_auto_flow": null,
            "grid_auto_rows": null,
            "grid_column": null,
            "grid_gap": null,
            "grid_row": null,
            "grid_template_areas": null,
            "grid_template_columns": null,
            "grid_template_rows": null,
            "height": null,
            "justify_content": null,
            "justify_items": null,
            "left": null,
            "margin": null,
            "max_height": null,
            "max_width": null,
            "min_height": null,
            "min_width": null,
            "object_fit": null,
            "object_position": null,
            "order": null,
            "overflow": null,
            "overflow_x": null,
            "overflow_y": null,
            "padding": null,
            "right": null,
            "top": null,
            "visibility": null,
            "width": null
          }
        },
        "f8467f391dcf48d399cedcfa4fd46add": {
          "model_module": "@jupyter-widgets/base",
          "model_name": "LayoutModel",
          "model_module_version": "1.2.0",
          "state": {
            "_model_module": "@jupyter-widgets/base",
            "_model_module_version": "1.2.0",
            "_model_name": "LayoutModel",
            "_view_count": null,
            "_view_module": "@jupyter-widgets/base",
            "_view_module_version": "1.2.0",
            "_view_name": "LayoutView",
            "align_content": null,
            "align_items": null,
            "align_self": null,
            "border": null,
            "bottom": null,
            "display": null,
            "flex": null,
            "flex_flow": null,
            "grid_area": null,
            "grid_auto_columns": null,
            "grid_auto_flow": null,
            "grid_auto_rows": null,
            "grid_column": null,
            "grid_gap": null,
            "grid_row": null,
            "grid_template_areas": null,
            "grid_template_columns": null,
            "grid_template_rows": null,
            "height": null,
            "justify_content": null,
            "justify_items": null,
            "left": null,
            "margin": null,
            "max_height": null,
            "max_width": null,
            "min_height": null,
            "min_width": null,
            "object_fit": null,
            "object_position": null,
            "order": null,
            "overflow": null,
            "overflow_x": null,
            "overflow_y": null,
            "padding": null,
            "right": null,
            "top": null,
            "visibility": null,
            "width": null
          }
        },
        "ed5d5aeb0e3f4720adacb4edcfb6fc65": {
          "model_module": "@jupyter-widgets/controls",
          "model_name": "DescriptionStyleModel",
          "model_module_version": "1.5.0",
          "state": {
            "_model_module": "@jupyter-widgets/controls",
            "_model_module_version": "1.5.0",
            "_model_name": "DescriptionStyleModel",
            "_view_count": null,
            "_view_module": "@jupyter-widgets/base",
            "_view_module_version": "1.2.0",
            "_view_name": "StyleView",
            "description_width": ""
          }
        },
        "dcfd509f571b43b79d3fbcb83861afb1": {
          "model_module": "@jupyter-widgets/base",
          "model_name": "LayoutModel",
          "model_module_version": "1.2.0",
          "state": {
            "_model_module": "@jupyter-widgets/base",
            "_model_module_version": "1.2.0",
            "_model_name": "LayoutModel",
            "_view_count": null,
            "_view_module": "@jupyter-widgets/base",
            "_view_module_version": "1.2.0",
            "_view_name": "LayoutView",
            "align_content": null,
            "align_items": null,
            "align_self": null,
            "border": null,
            "bottom": null,
            "display": null,
            "flex": null,
            "flex_flow": null,
            "grid_area": null,
            "grid_auto_columns": null,
            "grid_auto_flow": null,
            "grid_auto_rows": null,
            "grid_column": null,
            "grid_gap": null,
            "grid_row": null,
            "grid_template_areas": null,
            "grid_template_columns": null,
            "grid_template_rows": null,
            "height": null,
            "justify_content": null,
            "justify_items": null,
            "left": null,
            "margin": null,
            "max_height": null,
            "max_width": null,
            "min_height": null,
            "min_width": null,
            "object_fit": null,
            "object_position": null,
            "order": null,
            "overflow": null,
            "overflow_x": null,
            "overflow_y": null,
            "padding": null,
            "right": null,
            "top": null,
            "visibility": null,
            "width": null
          }
        },
        "621483ee9c294e39a764472dd71a0f2b": {
          "model_module": "@jupyter-widgets/controls",
          "model_name": "ProgressStyleModel",
          "model_module_version": "1.5.0",
          "state": {
            "_model_module": "@jupyter-widgets/controls",
            "_model_module_version": "1.5.0",
            "_model_name": "ProgressStyleModel",
            "_view_count": null,
            "_view_module": "@jupyter-widgets/base",
            "_view_module_version": "1.2.0",
            "_view_name": "StyleView",
            "bar_color": null,
            "description_width": ""
          }
        },
        "da0985e215af426ea3da5793d79a08a1": {
          "model_module": "@jupyter-widgets/base",
          "model_name": "LayoutModel",
          "model_module_version": "1.2.0",
          "state": {
            "_model_module": "@jupyter-widgets/base",
            "_model_module_version": "1.2.0",
            "_model_name": "LayoutModel",
            "_view_count": null,
            "_view_module": "@jupyter-widgets/base",
            "_view_module_version": "1.2.0",
            "_view_name": "LayoutView",
            "align_content": null,
            "align_items": null,
            "align_self": null,
            "border": null,
            "bottom": null,
            "display": null,
            "flex": null,
            "flex_flow": null,
            "grid_area": null,
            "grid_auto_columns": null,
            "grid_auto_flow": null,
            "grid_auto_rows": null,
            "grid_column": null,
            "grid_gap": null,
            "grid_row": null,
            "grid_template_areas": null,
            "grid_template_columns": null,
            "grid_template_rows": null,
            "height": null,
            "justify_content": null,
            "justify_items": null,
            "left": null,
            "margin": null,
            "max_height": null,
            "max_width": null,
            "min_height": null,
            "min_width": null,
            "object_fit": null,
            "object_position": null,
            "order": null,
            "overflow": null,
            "overflow_x": null,
            "overflow_y": null,
            "padding": null,
            "right": null,
            "top": null,
            "visibility": null,
            "width": null
          }
        },
        "ddda0e16fa3447a1ad2fa54a0e9a2c7b": {
          "model_module": "@jupyter-widgets/controls",
          "model_name": "DescriptionStyleModel",
          "model_module_version": "1.5.0",
          "state": {
            "_model_module": "@jupyter-widgets/controls",
            "_model_module_version": "1.5.0",
            "_model_name": "DescriptionStyleModel",
            "_view_count": null,
            "_view_module": "@jupyter-widgets/base",
            "_view_module_version": "1.2.0",
            "_view_name": "StyleView",
            "description_width": ""
          }
        },
        "a3654674901d4e1a906ea43aad7d30d4": {
          "model_module": "@jupyter-widgets/controls",
          "model_name": "HBoxModel",
          "model_module_version": "1.5.0",
          "state": {
            "_dom_classes": [],
            "_model_module": "@jupyter-widgets/controls",
            "_model_module_version": "1.5.0",
            "_model_name": "HBoxModel",
            "_view_count": null,
            "_view_module": "@jupyter-widgets/controls",
            "_view_module_version": "1.5.0",
            "_view_name": "HBoxView",
            "box_style": "",
            "children": [
              "IPY_MODEL_f410cd23265a47ed816cb78c26455062",
              "IPY_MODEL_36c300c51b3f4c64a58d495d2de0e807",
              "IPY_MODEL_f2cd73903f964e07a39693580666920a"
            ],
            "layout": "IPY_MODEL_8256e19782f04d138e7d952443c4d232"
          }
        },
        "f410cd23265a47ed816cb78c26455062": {
          "model_module": "@jupyter-widgets/controls",
          "model_name": "HTMLModel",
          "model_module_version": "1.5.0",
          "state": {
            "_dom_classes": [],
            "_model_module": "@jupyter-widgets/controls",
            "_model_module_version": "1.5.0",
            "_model_name": "HTMLModel",
            "_view_count": null,
            "_view_module": "@jupyter-widgets/controls",
            "_view_module_version": "1.5.0",
            "_view_name": "HTMLView",
            "description": "",
            "description_tooltip": null,
            "layout": "IPY_MODEL_777bbfa1936a4165a089a9cb29e66812",
            "placeholder": "​",
            "style": "IPY_MODEL_22d5c3b1da7348dc978890bec4950b9a",
            "value": "pytorch_model.bin: 100%"
          }
        },
        "36c300c51b3f4c64a58d495d2de0e807": {
          "model_module": "@jupyter-widgets/controls",
          "model_name": "FloatProgressModel",
          "model_module_version": "1.5.0",
          "state": {
            "_dom_classes": [],
            "_model_module": "@jupyter-widgets/controls",
            "_model_module_version": "1.5.0",
            "_model_name": "FloatProgressModel",
            "_view_count": null,
            "_view_module": "@jupyter-widgets/controls",
            "_view_module_version": "1.5.0",
            "_view_name": "ProgressView",
            "bar_style": "success",
            "description": "",
            "description_tooltip": null,
            "layout": "IPY_MODEL_641507e30f5949858ad84e9bc40dae7a",
            "max": 1222317369,
            "min": 0,
            "orientation": "horizontal",
            "style": "IPY_MODEL_e12485eb80364d9ba355143c64545cc0",
            "value": 1222317369
          }
        },
        "f2cd73903f964e07a39693580666920a": {
          "model_module": "@jupyter-widgets/controls",
          "model_name": "HTMLModel",
          "model_module_version": "1.5.0",
          "state": {
            "_dom_classes": [],
            "_model_module": "@jupyter-widgets/controls",
            "_model_module_version": "1.5.0",
            "_model_name": "HTMLModel",
            "_view_count": null,
            "_view_module": "@jupyter-widgets/controls",
            "_view_module_version": "1.5.0",
            "_view_name": "HTMLView",
            "description": "",
            "description_tooltip": null,
            "layout": "IPY_MODEL_73fbfee5ff4d4616ab02876f2d945445",
            "placeholder": "​",
            "style": "IPY_MODEL_d3d0358871d24dd1828b9ea751350cfb",
            "value": " 1.22G/1.22G [00:10&lt;00:00, 108MB/s]"
          }
        },
        "8256e19782f04d138e7d952443c4d232": {
          "model_module": "@jupyter-widgets/base",
          "model_name": "LayoutModel",
          "model_module_version": "1.2.0",
          "state": {
            "_model_module": "@jupyter-widgets/base",
            "_model_module_version": "1.2.0",
            "_model_name": "LayoutModel",
            "_view_count": null,
            "_view_module": "@jupyter-widgets/base",
            "_view_module_version": "1.2.0",
            "_view_name": "LayoutView",
            "align_content": null,
            "align_items": null,
            "align_self": null,
            "border": null,
            "bottom": null,
            "display": null,
            "flex": null,
            "flex_flow": null,
            "grid_area": null,
            "grid_auto_columns": null,
            "grid_auto_flow": null,
            "grid_auto_rows": null,
            "grid_column": null,
            "grid_gap": null,
            "grid_row": null,
            "grid_template_areas": null,
            "grid_template_columns": null,
            "grid_template_rows": null,
            "height": null,
            "justify_content": null,
            "justify_items": null,
            "left": null,
            "margin": null,
            "max_height": null,
            "max_width": null,
            "min_height": null,
            "min_width": null,
            "object_fit": null,
            "object_position": null,
            "order": null,
            "overflow": null,
            "overflow_x": null,
            "overflow_y": null,
            "padding": null,
            "right": null,
            "top": null,
            "visibility": null,
            "width": null
          }
        },
        "777bbfa1936a4165a089a9cb29e66812": {
          "model_module": "@jupyter-widgets/base",
          "model_name": "LayoutModel",
          "model_module_version": "1.2.0",
          "state": {
            "_model_module": "@jupyter-widgets/base",
            "_model_module_version": "1.2.0",
            "_model_name": "LayoutModel",
            "_view_count": null,
            "_view_module": "@jupyter-widgets/base",
            "_view_module_version": "1.2.0",
            "_view_name": "LayoutView",
            "align_content": null,
            "align_items": null,
            "align_self": null,
            "border": null,
            "bottom": null,
            "display": null,
            "flex": null,
            "flex_flow": null,
            "grid_area": null,
            "grid_auto_columns": null,
            "grid_auto_flow": null,
            "grid_auto_rows": null,
            "grid_column": null,
            "grid_gap": null,
            "grid_row": null,
            "grid_template_areas": null,
            "grid_template_columns": null,
            "grid_template_rows": null,
            "height": null,
            "justify_content": null,
            "justify_items": null,
            "left": null,
            "margin": null,
            "max_height": null,
            "max_width": null,
            "min_height": null,
            "min_width": null,
            "object_fit": null,
            "object_position": null,
            "order": null,
            "overflow": null,
            "overflow_x": null,
            "overflow_y": null,
            "padding": null,
            "right": null,
            "top": null,
            "visibility": null,
            "width": null
          }
        },
        "22d5c3b1da7348dc978890bec4950b9a": {
          "model_module": "@jupyter-widgets/controls",
          "model_name": "DescriptionStyleModel",
          "model_module_version": "1.5.0",
          "state": {
            "_model_module": "@jupyter-widgets/controls",
            "_model_module_version": "1.5.0",
            "_model_name": "DescriptionStyleModel",
            "_view_count": null,
            "_view_module": "@jupyter-widgets/base",
            "_view_module_version": "1.2.0",
            "_view_name": "StyleView",
            "description_width": ""
          }
        },
        "641507e30f5949858ad84e9bc40dae7a": {
          "model_module": "@jupyter-widgets/base",
          "model_name": "LayoutModel",
          "model_module_version": "1.2.0",
          "state": {
            "_model_module": "@jupyter-widgets/base",
            "_model_module_version": "1.2.0",
            "_model_name": "LayoutModel",
            "_view_count": null,
            "_view_module": "@jupyter-widgets/base",
            "_view_module_version": "1.2.0",
            "_view_name": "LayoutView",
            "align_content": null,
            "align_items": null,
            "align_self": null,
            "border": null,
            "bottom": null,
            "display": null,
            "flex": null,
            "flex_flow": null,
            "grid_area": null,
            "grid_auto_columns": null,
            "grid_auto_flow": null,
            "grid_auto_rows": null,
            "grid_column": null,
            "grid_gap": null,
            "grid_row": null,
            "grid_template_areas": null,
            "grid_template_columns": null,
            "grid_template_rows": null,
            "height": null,
            "justify_content": null,
            "justify_items": null,
            "left": null,
            "margin": null,
            "max_height": null,
            "max_width": null,
            "min_height": null,
            "min_width": null,
            "object_fit": null,
            "object_position": null,
            "order": null,
            "overflow": null,
            "overflow_x": null,
            "overflow_y": null,
            "padding": null,
            "right": null,
            "top": null,
            "visibility": null,
            "width": null
          }
        },
        "e12485eb80364d9ba355143c64545cc0": {
          "model_module": "@jupyter-widgets/controls",
          "model_name": "ProgressStyleModel",
          "model_module_version": "1.5.0",
          "state": {
            "_model_module": "@jupyter-widgets/controls",
            "_model_module_version": "1.5.0",
            "_model_name": "ProgressStyleModel",
            "_view_count": null,
            "_view_module": "@jupyter-widgets/base",
            "_view_module_version": "1.2.0",
            "_view_name": "StyleView",
            "bar_color": null,
            "description_width": ""
          }
        },
        "73fbfee5ff4d4616ab02876f2d945445": {
          "model_module": "@jupyter-widgets/base",
          "model_name": "LayoutModel",
          "model_module_version": "1.2.0",
          "state": {
            "_model_module": "@jupyter-widgets/base",
            "_model_module_version": "1.2.0",
            "_model_name": "LayoutModel",
            "_view_count": null,
            "_view_module": "@jupyter-widgets/base",
            "_view_module_version": "1.2.0",
            "_view_name": "LayoutView",
            "align_content": null,
            "align_items": null,
            "align_self": null,
            "border": null,
            "bottom": null,
            "display": null,
            "flex": null,
            "flex_flow": null,
            "grid_area": null,
            "grid_auto_columns": null,
            "grid_auto_flow": null,
            "grid_auto_rows": null,
            "grid_column": null,
            "grid_gap": null,
            "grid_row": null,
            "grid_template_areas": null,
            "grid_template_columns": null,
            "grid_template_rows": null,
            "height": null,
            "justify_content": null,
            "justify_items": null,
            "left": null,
            "margin": null,
            "max_height": null,
            "max_width": null,
            "min_height": null,
            "min_width": null,
            "object_fit": null,
            "object_position": null,
            "order": null,
            "overflow": null,
            "overflow_x": null,
            "overflow_y": null,
            "padding": null,
            "right": null,
            "top": null,
            "visibility": null,
            "width": null
          }
        },
        "d3d0358871d24dd1828b9ea751350cfb": {
          "model_module": "@jupyter-widgets/controls",
          "model_name": "DescriptionStyleModel",
          "model_module_version": "1.5.0",
          "state": {
            "_model_module": "@jupyter-widgets/controls",
            "_model_module_version": "1.5.0",
            "_model_name": "DescriptionStyleModel",
            "_view_count": null,
            "_view_module": "@jupyter-widgets/base",
            "_view_module_version": "1.2.0",
            "_view_name": "StyleView",
            "description_width": ""
          }
        },
        "0cc20178f2df44bfb555f553857e2538": {
          "model_module": "@jupyter-widgets/controls",
          "model_name": "HBoxModel",
          "model_module_version": "1.5.0",
          "state": {
            "_dom_classes": [],
            "_model_module": "@jupyter-widgets/controls",
            "_model_module_version": "1.5.0",
            "_model_name": "HBoxModel",
            "_view_count": null,
            "_view_module": "@jupyter-widgets/controls",
            "_view_module_version": "1.5.0",
            "_view_name": "HBoxView",
            "box_style": "",
            "children": [
              "IPY_MODEL_deea7f2a30174e59aea3f6c4924d900e",
              "IPY_MODEL_dc6690dbde4f40d6be24b69834953f51",
              "IPY_MODEL_e40aae7745c6466c8c6fa9ecee65d5c6"
            ],
            "layout": "IPY_MODEL_2a687ac9407f47c1acea29d16c910d6c"
          }
        },
        "deea7f2a30174e59aea3f6c4924d900e": {
          "model_module": "@jupyter-widgets/controls",
          "model_name": "HTMLModel",
          "model_module_version": "1.5.0",
          "state": {
            "_dom_classes": [],
            "_model_module": "@jupyter-widgets/controls",
            "_model_module_version": "1.5.0",
            "_model_name": "HTMLModel",
            "_view_count": null,
            "_view_module": "@jupyter-widgets/controls",
            "_view_module_version": "1.5.0",
            "_view_name": "HTMLView",
            "description": "",
            "description_tooltip": null,
            "layout": "IPY_MODEL_1b4977660ce34c8992b9bb6a0b455d05",
            "placeholder": "​",
            "style": "IPY_MODEL_be2626acd8284c03838b0b54654f935d",
            "value": "tokenizer_config.json: 100%"
          }
        },
        "dc6690dbde4f40d6be24b69834953f51": {
          "model_module": "@jupyter-widgets/controls",
          "model_name": "FloatProgressModel",
          "model_module_version": "1.5.0",
          "state": {
            "_dom_classes": [],
            "_model_module": "@jupyter-widgets/controls",
            "_model_module_version": "1.5.0",
            "_model_name": "FloatProgressModel",
            "_view_count": null,
            "_view_module": "@jupyter-widgets/controls",
            "_view_module_version": "1.5.0",
            "_view_name": "ProgressView",
            "bar_style": "success",
            "description": "",
            "description_tooltip": null,
            "layout": "IPY_MODEL_b4b12ada97fe4c1eb8299a59f004fd4b",
            "max": 26,
            "min": 0,
            "orientation": "horizontal",
            "style": "IPY_MODEL_3d65e708fa654553b48f2ce8fc5661c2",
            "value": 26
          }
        },
        "e40aae7745c6466c8c6fa9ecee65d5c6": {
          "model_module": "@jupyter-widgets/controls",
          "model_name": "HTMLModel",
          "model_module_version": "1.5.0",
          "state": {
            "_dom_classes": [],
            "_model_module": "@jupyter-widgets/controls",
            "_model_module_version": "1.5.0",
            "_model_name": "HTMLModel",
            "_view_count": null,
            "_view_module": "@jupyter-widgets/controls",
            "_view_module_version": "1.5.0",
            "_view_name": "HTMLView",
            "description": "",
            "description_tooltip": null,
            "layout": "IPY_MODEL_5a7d7fddc7b34f9382364dc38ea080eb",
            "placeholder": "​",
            "style": "IPY_MODEL_b5e6a9e724cd4500a75bdbeb97a83f54",
            "value": " 26.0/26.0 [00:00&lt;00:00, 1.31kB/s]"
          }
        },
        "2a687ac9407f47c1acea29d16c910d6c": {
          "model_module": "@jupyter-widgets/base",
          "model_name": "LayoutModel",
          "model_module_version": "1.2.0",
          "state": {
            "_model_module": "@jupyter-widgets/base",
            "_model_module_version": "1.2.0",
            "_model_name": "LayoutModel",
            "_view_count": null,
            "_view_module": "@jupyter-widgets/base",
            "_view_module_version": "1.2.0",
            "_view_name": "LayoutView",
            "align_content": null,
            "align_items": null,
            "align_self": null,
            "border": null,
            "bottom": null,
            "display": null,
            "flex": null,
            "flex_flow": null,
            "grid_area": null,
            "grid_auto_columns": null,
            "grid_auto_flow": null,
            "grid_auto_rows": null,
            "grid_column": null,
            "grid_gap": null,
            "grid_row": null,
            "grid_template_areas": null,
            "grid_template_columns": null,
            "grid_template_rows": null,
            "height": null,
            "justify_content": null,
            "justify_items": null,
            "left": null,
            "margin": null,
            "max_height": null,
            "max_width": null,
            "min_height": null,
            "min_width": null,
            "object_fit": null,
            "object_position": null,
            "order": null,
            "overflow": null,
            "overflow_x": null,
            "overflow_y": null,
            "padding": null,
            "right": null,
            "top": null,
            "visibility": null,
            "width": null
          }
        },
        "1b4977660ce34c8992b9bb6a0b455d05": {
          "model_module": "@jupyter-widgets/base",
          "model_name": "LayoutModel",
          "model_module_version": "1.2.0",
          "state": {
            "_model_module": "@jupyter-widgets/base",
            "_model_module_version": "1.2.0",
            "_model_name": "LayoutModel",
            "_view_count": null,
            "_view_module": "@jupyter-widgets/base",
            "_view_module_version": "1.2.0",
            "_view_name": "LayoutView",
            "align_content": null,
            "align_items": null,
            "align_self": null,
            "border": null,
            "bottom": null,
            "display": null,
            "flex": null,
            "flex_flow": null,
            "grid_area": null,
            "grid_auto_columns": null,
            "grid_auto_flow": null,
            "grid_auto_rows": null,
            "grid_column": null,
            "grid_gap": null,
            "grid_row": null,
            "grid_template_areas": null,
            "grid_template_columns": null,
            "grid_template_rows": null,
            "height": null,
            "justify_content": null,
            "justify_items": null,
            "left": null,
            "margin": null,
            "max_height": null,
            "max_width": null,
            "min_height": null,
            "min_width": null,
            "object_fit": null,
            "object_position": null,
            "order": null,
            "overflow": null,
            "overflow_x": null,
            "overflow_y": null,
            "padding": null,
            "right": null,
            "top": null,
            "visibility": null,
            "width": null
          }
        },
        "be2626acd8284c03838b0b54654f935d": {
          "model_module": "@jupyter-widgets/controls",
          "model_name": "DescriptionStyleModel",
          "model_module_version": "1.5.0",
          "state": {
            "_model_module": "@jupyter-widgets/controls",
            "_model_module_version": "1.5.0",
            "_model_name": "DescriptionStyleModel",
            "_view_count": null,
            "_view_module": "@jupyter-widgets/base",
            "_view_module_version": "1.2.0",
            "_view_name": "StyleView",
            "description_width": ""
          }
        },
        "b4b12ada97fe4c1eb8299a59f004fd4b": {
          "model_module": "@jupyter-widgets/base",
          "model_name": "LayoutModel",
          "model_module_version": "1.2.0",
          "state": {
            "_model_module": "@jupyter-widgets/base",
            "_model_module_version": "1.2.0",
            "_model_name": "LayoutModel",
            "_view_count": null,
            "_view_module": "@jupyter-widgets/base",
            "_view_module_version": "1.2.0",
            "_view_name": "LayoutView",
            "align_content": null,
            "align_items": null,
            "align_self": null,
            "border": null,
            "bottom": null,
            "display": null,
            "flex": null,
            "flex_flow": null,
            "grid_area": null,
            "grid_auto_columns": null,
            "grid_auto_flow": null,
            "grid_auto_rows": null,
            "grid_column": null,
            "grid_gap": null,
            "grid_row": null,
            "grid_template_areas": null,
            "grid_template_columns": null,
            "grid_template_rows": null,
            "height": null,
            "justify_content": null,
            "justify_items": null,
            "left": null,
            "margin": null,
            "max_height": null,
            "max_width": null,
            "min_height": null,
            "min_width": null,
            "object_fit": null,
            "object_position": null,
            "order": null,
            "overflow": null,
            "overflow_x": null,
            "overflow_y": null,
            "padding": null,
            "right": null,
            "top": null,
            "visibility": null,
            "width": null
          }
        },
        "3d65e708fa654553b48f2ce8fc5661c2": {
          "model_module": "@jupyter-widgets/controls",
          "model_name": "ProgressStyleModel",
          "model_module_version": "1.5.0",
          "state": {
            "_model_module": "@jupyter-widgets/controls",
            "_model_module_version": "1.5.0",
            "_model_name": "ProgressStyleModel",
            "_view_count": null,
            "_view_module": "@jupyter-widgets/base",
            "_view_module_version": "1.2.0",
            "_view_name": "StyleView",
            "bar_color": null,
            "description_width": ""
          }
        },
        "5a7d7fddc7b34f9382364dc38ea080eb": {
          "model_module": "@jupyter-widgets/base",
          "model_name": "LayoutModel",
          "model_module_version": "1.2.0",
          "state": {
            "_model_module": "@jupyter-widgets/base",
            "_model_module_version": "1.2.0",
            "_model_name": "LayoutModel",
            "_view_count": null,
            "_view_module": "@jupyter-widgets/base",
            "_view_module_version": "1.2.0",
            "_view_name": "LayoutView",
            "align_content": null,
            "align_items": null,
            "align_self": null,
            "border": null,
            "bottom": null,
            "display": null,
            "flex": null,
            "flex_flow": null,
            "grid_area": null,
            "grid_auto_columns": null,
            "grid_auto_flow": null,
            "grid_auto_rows": null,
            "grid_column": null,
            "grid_gap": null,
            "grid_row": null,
            "grid_template_areas": null,
            "grid_template_columns": null,
            "grid_template_rows": null,
            "height": null,
            "justify_content": null,
            "justify_items": null,
            "left": null,
            "margin": null,
            "max_height": null,
            "max_width": null,
            "min_height": null,
            "min_width": null,
            "object_fit": null,
            "object_position": null,
            "order": null,
            "overflow": null,
            "overflow_x": null,
            "overflow_y": null,
            "padding": null,
            "right": null,
            "top": null,
            "visibility": null,
            "width": null
          }
        },
        "b5e6a9e724cd4500a75bdbeb97a83f54": {
          "model_module": "@jupyter-widgets/controls",
          "model_name": "DescriptionStyleModel",
          "model_module_version": "1.5.0",
          "state": {
            "_model_module": "@jupyter-widgets/controls",
            "_model_module_version": "1.5.0",
            "_model_name": "DescriptionStyleModel",
            "_view_count": null,
            "_view_module": "@jupyter-widgets/base",
            "_view_module_version": "1.2.0",
            "_view_name": "StyleView",
            "description_width": ""
          }
        },
        "b82586d5678348f492cec83815b5ff69": {
          "model_module": "@jupyter-widgets/controls",
          "model_name": "HBoxModel",
          "model_module_version": "1.5.0",
          "state": {
            "_dom_classes": [],
            "_model_module": "@jupyter-widgets/controls",
            "_model_module_version": "1.5.0",
            "_model_name": "HBoxModel",
            "_view_count": null,
            "_view_module": "@jupyter-widgets/controls",
            "_view_module_version": "1.5.0",
            "_view_name": "HBoxView",
            "box_style": "",
            "children": [
              "IPY_MODEL_ef705123cba14416b2134c917a55bf8d",
              "IPY_MODEL_090abb835cfa4f97a3ca6a7d6923fb23",
              "IPY_MODEL_683db793448c423985c6810da1e9c1a3"
            ],
            "layout": "IPY_MODEL_eea7ac19a9004acf920b653096640a13"
          }
        },
        "ef705123cba14416b2134c917a55bf8d": {
          "model_module": "@jupyter-widgets/controls",
          "model_name": "HTMLModel",
          "model_module_version": "1.5.0",
          "state": {
            "_dom_classes": [],
            "_model_module": "@jupyter-widgets/controls",
            "_model_module_version": "1.5.0",
            "_model_name": "HTMLModel",
            "_view_count": null,
            "_view_module": "@jupyter-widgets/controls",
            "_view_module_version": "1.5.0",
            "_view_name": "HTMLView",
            "description": "",
            "description_tooltip": null,
            "layout": "IPY_MODEL_17b42804b3c848f999a5a8c7cfd4ff51",
            "placeholder": "​",
            "style": "IPY_MODEL_a5c3bced6bd741fb8a8898ddce2b85cd",
            "value": "vocab.json: 100%"
          }
        },
        "090abb835cfa4f97a3ca6a7d6923fb23": {
          "model_module": "@jupyter-widgets/controls",
          "model_name": "FloatProgressModel",
          "model_module_version": "1.5.0",
          "state": {
            "_dom_classes": [],
            "_model_module": "@jupyter-widgets/controls",
            "_model_module_version": "1.5.0",
            "_model_name": "FloatProgressModel",
            "_view_count": null,
            "_view_module": "@jupyter-widgets/controls",
            "_view_module_version": "1.5.0",
            "_view_name": "ProgressView",
            "bar_style": "success",
            "description": "",
            "description_tooltip": null,
            "layout": "IPY_MODEL_6893bb78eea14bf4814dd524b2775949",
            "max": 898822,
            "min": 0,
            "orientation": "horizontal",
            "style": "IPY_MODEL_26de9f9db24b4b4aa7db024c53a254b9",
            "value": 898822
          }
        },
        "683db793448c423985c6810da1e9c1a3": {
          "model_module": "@jupyter-widgets/controls",
          "model_name": "HTMLModel",
          "model_module_version": "1.5.0",
          "state": {
            "_dom_classes": [],
            "_model_module": "@jupyter-widgets/controls",
            "_model_module_version": "1.5.0",
            "_model_name": "HTMLModel",
            "_view_count": null,
            "_view_module": "@jupyter-widgets/controls",
            "_view_module_version": "1.5.0",
            "_view_name": "HTMLView",
            "description": "",
            "description_tooltip": null,
            "layout": "IPY_MODEL_220a3b64609e4b358e1d88dc60ed0e48",
            "placeholder": "​",
            "style": "IPY_MODEL_349cc1b585ba444bbc32d5ee88ea72e2",
            "value": " 899k/899k [00:00&lt;00:00, 6.08MB/s]"
          }
        },
        "eea7ac19a9004acf920b653096640a13": {
          "model_module": "@jupyter-widgets/base",
          "model_name": "LayoutModel",
          "model_module_version": "1.2.0",
          "state": {
            "_model_module": "@jupyter-widgets/base",
            "_model_module_version": "1.2.0",
            "_model_name": "LayoutModel",
            "_view_count": null,
            "_view_module": "@jupyter-widgets/base",
            "_view_module_version": "1.2.0",
            "_view_name": "LayoutView",
            "align_content": null,
            "align_items": null,
            "align_self": null,
            "border": null,
            "bottom": null,
            "display": null,
            "flex": null,
            "flex_flow": null,
            "grid_area": null,
            "grid_auto_columns": null,
            "grid_auto_flow": null,
            "grid_auto_rows": null,
            "grid_column": null,
            "grid_gap": null,
            "grid_row": null,
            "grid_template_areas": null,
            "grid_template_columns": null,
            "grid_template_rows": null,
            "height": null,
            "justify_content": null,
            "justify_items": null,
            "left": null,
            "margin": null,
            "max_height": null,
            "max_width": null,
            "min_height": null,
            "min_width": null,
            "object_fit": null,
            "object_position": null,
            "order": null,
            "overflow": null,
            "overflow_x": null,
            "overflow_y": null,
            "padding": null,
            "right": null,
            "top": null,
            "visibility": null,
            "width": null
          }
        },
        "17b42804b3c848f999a5a8c7cfd4ff51": {
          "model_module": "@jupyter-widgets/base",
          "model_name": "LayoutModel",
          "model_module_version": "1.2.0",
          "state": {
            "_model_module": "@jupyter-widgets/base",
            "_model_module_version": "1.2.0",
            "_model_name": "LayoutModel",
            "_view_count": null,
            "_view_module": "@jupyter-widgets/base",
            "_view_module_version": "1.2.0",
            "_view_name": "LayoutView",
            "align_content": null,
            "align_items": null,
            "align_self": null,
            "border": null,
            "bottom": null,
            "display": null,
            "flex": null,
            "flex_flow": null,
            "grid_area": null,
            "grid_auto_columns": null,
            "grid_auto_flow": null,
            "grid_auto_rows": null,
            "grid_column": null,
            "grid_gap": null,
            "grid_row": null,
            "grid_template_areas": null,
            "grid_template_columns": null,
            "grid_template_rows": null,
            "height": null,
            "justify_content": null,
            "justify_items": null,
            "left": null,
            "margin": null,
            "max_height": null,
            "max_width": null,
            "min_height": null,
            "min_width": null,
            "object_fit": null,
            "object_position": null,
            "order": null,
            "overflow": null,
            "overflow_x": null,
            "overflow_y": null,
            "padding": null,
            "right": null,
            "top": null,
            "visibility": null,
            "width": null
          }
        },
        "a5c3bced6bd741fb8a8898ddce2b85cd": {
          "model_module": "@jupyter-widgets/controls",
          "model_name": "DescriptionStyleModel",
          "model_module_version": "1.5.0",
          "state": {
            "_model_module": "@jupyter-widgets/controls",
            "_model_module_version": "1.5.0",
            "_model_name": "DescriptionStyleModel",
            "_view_count": null,
            "_view_module": "@jupyter-widgets/base",
            "_view_module_version": "1.2.0",
            "_view_name": "StyleView",
            "description_width": ""
          }
        },
        "6893bb78eea14bf4814dd524b2775949": {
          "model_module": "@jupyter-widgets/base",
          "model_name": "LayoutModel",
          "model_module_version": "1.2.0",
          "state": {
            "_model_module": "@jupyter-widgets/base",
            "_model_module_version": "1.2.0",
            "_model_name": "LayoutModel",
            "_view_count": null,
            "_view_module": "@jupyter-widgets/base",
            "_view_module_version": "1.2.0",
            "_view_name": "LayoutView",
            "align_content": null,
            "align_items": null,
            "align_self": null,
            "border": null,
            "bottom": null,
            "display": null,
            "flex": null,
            "flex_flow": null,
            "grid_area": null,
            "grid_auto_columns": null,
            "grid_auto_flow": null,
            "grid_auto_rows": null,
            "grid_column": null,
            "grid_gap": null,
            "grid_row": null,
            "grid_template_areas": null,
            "grid_template_columns": null,
            "grid_template_rows": null,
            "height": null,
            "justify_content": null,
            "justify_items": null,
            "left": null,
            "margin": null,
            "max_height": null,
            "max_width": null,
            "min_height": null,
            "min_width": null,
            "object_fit": null,
            "object_position": null,
            "order": null,
            "overflow": null,
            "overflow_x": null,
            "overflow_y": null,
            "padding": null,
            "right": null,
            "top": null,
            "visibility": null,
            "width": null
          }
        },
        "26de9f9db24b4b4aa7db024c53a254b9": {
          "model_module": "@jupyter-widgets/controls",
          "model_name": "ProgressStyleModel",
          "model_module_version": "1.5.0",
          "state": {
            "_model_module": "@jupyter-widgets/controls",
            "_model_module_version": "1.5.0",
            "_model_name": "ProgressStyleModel",
            "_view_count": null,
            "_view_module": "@jupyter-widgets/base",
            "_view_module_version": "1.2.0",
            "_view_name": "StyleView",
            "bar_color": null,
            "description_width": ""
          }
        },
        "220a3b64609e4b358e1d88dc60ed0e48": {
          "model_module": "@jupyter-widgets/base",
          "model_name": "LayoutModel",
          "model_module_version": "1.2.0",
          "state": {
            "_model_module": "@jupyter-widgets/base",
            "_model_module_version": "1.2.0",
            "_model_name": "LayoutModel",
            "_view_count": null,
            "_view_module": "@jupyter-widgets/base",
            "_view_module_version": "1.2.0",
            "_view_name": "LayoutView",
            "align_content": null,
            "align_items": null,
            "align_self": null,
            "border": null,
            "bottom": null,
            "display": null,
            "flex": null,
            "flex_flow": null,
            "grid_area": null,
            "grid_auto_columns": null,
            "grid_auto_flow": null,
            "grid_auto_rows": null,
            "grid_column": null,
            "grid_gap": null,
            "grid_row": null,
            "grid_template_areas": null,
            "grid_template_columns": null,
            "grid_template_rows": null,
            "height": null,
            "justify_content": null,
            "justify_items": null,
            "left": null,
            "margin": null,
            "max_height": null,
            "max_width": null,
            "min_height": null,
            "min_width": null,
            "object_fit": null,
            "object_position": null,
            "order": null,
            "overflow": null,
            "overflow_x": null,
            "overflow_y": null,
            "padding": null,
            "right": null,
            "top": null,
            "visibility": null,
            "width": null
          }
        },
        "349cc1b585ba444bbc32d5ee88ea72e2": {
          "model_module": "@jupyter-widgets/controls",
          "model_name": "DescriptionStyleModel",
          "model_module_version": "1.5.0",
          "state": {
            "_model_module": "@jupyter-widgets/controls",
            "_model_module_version": "1.5.0",
            "_model_name": "DescriptionStyleModel",
            "_view_count": null,
            "_view_module": "@jupyter-widgets/base",
            "_view_module_version": "1.2.0",
            "_view_name": "StyleView",
            "description_width": ""
          }
        },
        "ab92b844c7f54faeae77e797d1803295": {
          "model_module": "@jupyter-widgets/controls",
          "model_name": "HBoxModel",
          "model_module_version": "1.5.0",
          "state": {
            "_dom_classes": [],
            "_model_module": "@jupyter-widgets/controls",
            "_model_module_version": "1.5.0",
            "_model_name": "HBoxModel",
            "_view_count": null,
            "_view_module": "@jupyter-widgets/controls",
            "_view_module_version": "1.5.0",
            "_view_name": "HBoxView",
            "box_style": "",
            "children": [
              "IPY_MODEL_2764ab9a5cf94517999b3a94d7a67b79",
              "IPY_MODEL_1623164a851c41b884085988811cbd63",
              "IPY_MODEL_dfd79ddfec75424789ddd08bc4921cf5"
            ],
            "layout": "IPY_MODEL_df7303e02dff44c888aef792dc37316c"
          }
        },
        "2764ab9a5cf94517999b3a94d7a67b79": {
          "model_module": "@jupyter-widgets/controls",
          "model_name": "HTMLModel",
          "model_module_version": "1.5.0",
          "state": {
            "_dom_classes": [],
            "_model_module": "@jupyter-widgets/controls",
            "_model_module_version": "1.5.0",
            "_model_name": "HTMLModel",
            "_view_count": null,
            "_view_module": "@jupyter-widgets/controls",
            "_view_module_version": "1.5.0",
            "_view_name": "HTMLView",
            "description": "",
            "description_tooltip": null,
            "layout": "IPY_MODEL_e31d68afde5d494d951f1a557e2cf906",
            "placeholder": "​",
            "style": "IPY_MODEL_7bca833bfc6d4e2e8657c23977dad06a",
            "value": "merges.txt: 100%"
          }
        },
        "1623164a851c41b884085988811cbd63": {
          "model_module": "@jupyter-widgets/controls",
          "model_name": "FloatProgressModel",
          "model_module_version": "1.5.0",
          "state": {
            "_dom_classes": [],
            "_model_module": "@jupyter-widgets/controls",
            "_model_module_version": "1.5.0",
            "_model_name": "FloatProgressModel",
            "_view_count": null,
            "_view_module": "@jupyter-widgets/controls",
            "_view_module_version": "1.5.0",
            "_view_name": "ProgressView",
            "bar_style": "success",
            "description": "",
            "description_tooltip": null,
            "layout": "IPY_MODEL_d441a7794fa14115b6c5a66f8604e039",
            "max": 456318,
            "min": 0,
            "orientation": "horizontal",
            "style": "IPY_MODEL_abeeabefbfe34325a8e77c368219aabd",
            "value": 456318
          }
        },
        "dfd79ddfec75424789ddd08bc4921cf5": {
          "model_module": "@jupyter-widgets/controls",
          "model_name": "HTMLModel",
          "model_module_version": "1.5.0",
          "state": {
            "_dom_classes": [],
            "_model_module": "@jupyter-widgets/controls",
            "_model_module_version": "1.5.0",
            "_model_name": "HTMLModel",
            "_view_count": null,
            "_view_module": "@jupyter-widgets/controls",
            "_view_module_version": "1.5.0",
            "_view_name": "HTMLView",
            "description": "",
            "description_tooltip": null,
            "layout": "IPY_MODEL_b524bcc5393a414e9b04b10861837354",
            "placeholder": "​",
            "style": "IPY_MODEL_d92cb591a59046d1bbfc6412cecda375",
            "value": " 456k/456k [00:00&lt;00:00, 6.27MB/s]"
          }
        },
        "df7303e02dff44c888aef792dc37316c": {
          "model_module": "@jupyter-widgets/base",
          "model_name": "LayoutModel",
          "model_module_version": "1.2.0",
          "state": {
            "_model_module": "@jupyter-widgets/base",
            "_model_module_version": "1.2.0",
            "_model_name": "LayoutModel",
            "_view_count": null,
            "_view_module": "@jupyter-widgets/base",
            "_view_module_version": "1.2.0",
            "_view_name": "LayoutView",
            "align_content": null,
            "align_items": null,
            "align_self": null,
            "border": null,
            "bottom": null,
            "display": null,
            "flex": null,
            "flex_flow": null,
            "grid_area": null,
            "grid_auto_columns": null,
            "grid_auto_flow": null,
            "grid_auto_rows": null,
            "grid_column": null,
            "grid_gap": null,
            "grid_row": null,
            "grid_template_areas": null,
            "grid_template_columns": null,
            "grid_template_rows": null,
            "height": null,
            "justify_content": null,
            "justify_items": null,
            "left": null,
            "margin": null,
            "max_height": null,
            "max_width": null,
            "min_height": null,
            "min_width": null,
            "object_fit": null,
            "object_position": null,
            "order": null,
            "overflow": null,
            "overflow_x": null,
            "overflow_y": null,
            "padding": null,
            "right": null,
            "top": null,
            "visibility": null,
            "width": null
          }
        },
        "e31d68afde5d494d951f1a557e2cf906": {
          "model_module": "@jupyter-widgets/base",
          "model_name": "LayoutModel",
          "model_module_version": "1.2.0",
          "state": {
            "_model_module": "@jupyter-widgets/base",
            "_model_module_version": "1.2.0",
            "_model_name": "LayoutModel",
            "_view_count": null,
            "_view_module": "@jupyter-widgets/base",
            "_view_module_version": "1.2.0",
            "_view_name": "LayoutView",
            "align_content": null,
            "align_items": null,
            "align_self": null,
            "border": null,
            "bottom": null,
            "display": null,
            "flex": null,
            "flex_flow": null,
            "grid_area": null,
            "grid_auto_columns": null,
            "grid_auto_flow": null,
            "grid_auto_rows": null,
            "grid_column": null,
            "grid_gap": null,
            "grid_row": null,
            "grid_template_areas": null,
            "grid_template_columns": null,
            "grid_template_rows": null,
            "height": null,
            "justify_content": null,
            "justify_items": null,
            "left": null,
            "margin": null,
            "max_height": null,
            "max_width": null,
            "min_height": null,
            "min_width": null,
            "object_fit": null,
            "object_position": null,
            "order": null,
            "overflow": null,
            "overflow_x": null,
            "overflow_y": null,
            "padding": null,
            "right": null,
            "top": null,
            "visibility": null,
            "width": null
          }
        },
        "7bca833bfc6d4e2e8657c23977dad06a": {
          "model_module": "@jupyter-widgets/controls",
          "model_name": "DescriptionStyleModel",
          "model_module_version": "1.5.0",
          "state": {
            "_model_module": "@jupyter-widgets/controls",
            "_model_module_version": "1.5.0",
            "_model_name": "DescriptionStyleModel",
            "_view_count": null,
            "_view_module": "@jupyter-widgets/base",
            "_view_module_version": "1.2.0",
            "_view_name": "StyleView",
            "description_width": ""
          }
        },
        "d441a7794fa14115b6c5a66f8604e039": {
          "model_module": "@jupyter-widgets/base",
          "model_name": "LayoutModel",
          "model_module_version": "1.2.0",
          "state": {
            "_model_module": "@jupyter-widgets/base",
            "_model_module_version": "1.2.0",
            "_model_name": "LayoutModel",
            "_view_count": null,
            "_view_module": "@jupyter-widgets/base",
            "_view_module_version": "1.2.0",
            "_view_name": "LayoutView",
            "align_content": null,
            "align_items": null,
            "align_self": null,
            "border": null,
            "bottom": null,
            "display": null,
            "flex": null,
            "flex_flow": null,
            "grid_area": null,
            "grid_auto_columns": null,
            "grid_auto_flow": null,
            "grid_auto_rows": null,
            "grid_column": null,
            "grid_gap": null,
            "grid_row": null,
            "grid_template_areas": null,
            "grid_template_columns": null,
            "grid_template_rows": null,
            "height": null,
            "justify_content": null,
            "justify_items": null,
            "left": null,
            "margin": null,
            "max_height": null,
            "max_width": null,
            "min_height": null,
            "min_width": null,
            "object_fit": null,
            "object_position": null,
            "order": null,
            "overflow": null,
            "overflow_x": null,
            "overflow_y": null,
            "padding": null,
            "right": null,
            "top": null,
            "visibility": null,
            "width": null
          }
        },
        "abeeabefbfe34325a8e77c368219aabd": {
          "model_module": "@jupyter-widgets/controls",
          "model_name": "ProgressStyleModel",
          "model_module_version": "1.5.0",
          "state": {
            "_model_module": "@jupyter-widgets/controls",
            "_model_module_version": "1.5.0",
            "_model_name": "ProgressStyleModel",
            "_view_count": null,
            "_view_module": "@jupyter-widgets/base",
            "_view_module_version": "1.2.0",
            "_view_name": "StyleView",
            "bar_color": null,
            "description_width": ""
          }
        },
        "b524bcc5393a414e9b04b10861837354": {
          "model_module": "@jupyter-widgets/base",
          "model_name": "LayoutModel",
          "model_module_version": "1.2.0",
          "state": {
            "_model_module": "@jupyter-widgets/base",
            "_model_module_version": "1.2.0",
            "_model_name": "LayoutModel",
            "_view_count": null,
            "_view_module": "@jupyter-widgets/base",
            "_view_module_version": "1.2.0",
            "_view_name": "LayoutView",
            "align_content": null,
            "align_items": null,
            "align_self": null,
            "border": null,
            "bottom": null,
            "display": null,
            "flex": null,
            "flex_flow": null,
            "grid_area": null,
            "grid_auto_columns": null,
            "grid_auto_flow": null,
            "grid_auto_rows": null,
            "grid_column": null,
            "grid_gap": null,
            "grid_row": null,
            "grid_template_areas": null,
            "grid_template_columns": null,
            "grid_template_rows": null,
            "height": null,
            "justify_content": null,
            "justify_items": null,
            "left": null,
            "margin": null,
            "max_height": null,
            "max_width": null,
            "min_height": null,
            "min_width": null,
            "object_fit": null,
            "object_position": null,
            "order": null,
            "overflow": null,
            "overflow_x": null,
            "overflow_y": null,
            "padding": null,
            "right": null,
            "top": null,
            "visibility": null,
            "width": null
          }
        },
        "d92cb591a59046d1bbfc6412cecda375": {
          "model_module": "@jupyter-widgets/controls",
          "model_name": "DescriptionStyleModel",
          "model_module_version": "1.5.0",
          "state": {
            "_model_module": "@jupyter-widgets/controls",
            "_model_module_version": "1.5.0",
            "_model_name": "DescriptionStyleModel",
            "_view_count": null,
            "_view_module": "@jupyter-widgets/base",
            "_view_module_version": "1.2.0",
            "_view_name": "StyleView",
            "description_width": ""
          }
        }
      }
    }
  },
  "cells": [
    {
      "cell_type": "markdown",
      "metadata": {
        "id": "view-in-github",
        "colab_type": "text"
      },
      "source": [
        "<a href=\"https://colab.research.google.com/github/alouwyck/vives-deep-learning/blob/main/topic17/2_GenAI_Hugging_Face.ipynb\" target=\"_parent\"><img src=\"https://colab.research.google.com/assets/colab-badge.svg\" alt=\"Open In Colab\"/></a>"
      ]
    },
    {
      "cell_type": "markdown",
      "metadata": {
        "id": "p34cmLp6FrA6"
      },
      "source": [
        "<img src=\"data:image/png;base64,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\" align=\"right\" /><br>\n",
        "\n",
        "\n",
        "**DEEP LEARNING**<br>\n",
        "Academiejaar 2023-2024<br>\n",
        "Andy Louwyck\n",
        "\n",
        "---\n",
        "\n",
        "\n",
        "\n",
        "---\n",
        "\n"
      ]
    },
    {
      "cell_type": "markdown",
      "source": [
        "# **GENERATIVE AI WITH HUGGING FACE**"
      ],
      "metadata": {
        "id": "EX4Y9JjVwZ0E"
      }
    },
    {
      "cell_type": "markdown",
      "source": [
        "## Building Generative AI Applications with Gradio"
      ],
      "metadata": {
        "id": "Q9O5nnnS7GYI"
      }
    },
    {
      "cell_type": "markdown",
      "source": [
        "To become familiar with the possibilities of generative AI, let's go through the examples of the following online course:\n",
        "\n",
        "https://learn.deeplearning.ai/huggingface-gradio/"
      ],
      "metadata": {
        "id": "CV-asusf7DGE"
      }
    },
    {
      "cell_type": "markdown",
      "source": [
        "The examples in the course make use of an API. Here it is shown how to run the examples 'locally' in Google Colab. The code looks very similar. For more information, check the [Pipelines](https://huggingface.co/docs/transformers/main_classes/pipelines) documentation page on Hugging Face."
      ],
      "metadata": {
        "id": "gcHpSUUIyblo"
      }
    },
    {
      "cell_type": "markdown",
      "source": [
        "In Google Colab you first need to install\n",
        "- the [Hugging Face](https://huggingface.co/) `transformers` library\n",
        "- and the [gradio](https://www.gradio.app/) library."
      ],
      "metadata": {
        "id": "vQ6I-W9wwIoC"
      }
    },
    {
      "cell_type": "code",
      "source": [
        "!pip install transformers datasets"
      ],
      "metadata": {
        "id": "IFDZK7Wss3d1"
      },
      "execution_count": null,
      "outputs": []
    },
    {
      "cell_type": "code",
      "source": [
        "!pip install gradio"
      ],
      "metadata": {
        "id": "yKC9yV2pu8t_"
      },
      "execution_count": null,
      "outputs": []
    },
    {
      "cell_type": "markdown",
      "source": [
        "Next we import `pipeline` from the `transformers` library and `gradio`. For the latter, it is common to use alias `gr`:"
      ],
      "metadata": {
        "id": "QUw6lYCnwHJr"
      }
    },
    {
      "cell_type": "code",
      "source": [
        "from transformers import pipeline\n",
        "import gradio as gr"
      ],
      "metadata": {
        "id": "sEHl1zD1xrm1"
      },
      "execution_count": 3,
      "outputs": []
    },
    {
      "cell_type": "markdown",
      "source": [
        "We're ready now to go through the course!"
      ],
      "metadata": {
        "id": "Ax_ALF-dweqC"
      }
    },
    {
      "cell_type": "markdown",
      "source": [
        "### L1: NLP tasks with a simple interface"
      ],
      "metadata": {
        "id": "doe6tmVNwAS6"
      }
    },
    {
      "cell_type": "markdown",
      "source": [
        "#### Building a text summarization app"
      ],
      "metadata": {
        "id": "R7rdrqxfyBXs"
      }
    },
    {
      "cell_type": "code",
      "source": [
        "get_completion = pipeline(\"summarization\",\n",
        "                          model=\"sshleifer/distilbart-cnn-12-6\")  # sshleifer with double s! (typo in example notebook on deeplearning.ai)\n",
        "\n",
        "def summarize(input):\n",
        "    output = get_completion(input)\n",
        "    return output[0]['summary_text']"
      ],
      "metadata": {
        "id": "XejOH18ssxJg",
        "colab": {
          "base_uri": "https://localhost:8080/",
          "height": 177,
          "referenced_widgets": [
            "05e74f12fe514217abfd8b2f63172269",
            "ec82506befdf4c3fa14554cfeb0ec454",
            "0918af43213b476689e45cebf2268392",
            "340feea37ecb4beda736e1b117f18aed",
            "1ede43c8de764207939ca458aa314f6f",
            "f8467f391dcf48d399cedcfa4fd46add",
            "ed5d5aeb0e3f4720adacb4edcfb6fc65",
            "dcfd509f571b43b79d3fbcb83861afb1",
            "621483ee9c294e39a764472dd71a0f2b",
            "da0985e215af426ea3da5793d79a08a1",
            "ddda0e16fa3447a1ad2fa54a0e9a2c7b",
            "a3654674901d4e1a906ea43aad7d30d4",
            "f410cd23265a47ed816cb78c26455062",
            "36c300c51b3f4c64a58d495d2de0e807",
            "f2cd73903f964e07a39693580666920a",
            "8256e19782f04d138e7d952443c4d232",
            "777bbfa1936a4165a089a9cb29e66812",
            "22d5c3b1da7348dc978890bec4950b9a",
            "641507e30f5949858ad84e9bc40dae7a",
            "e12485eb80364d9ba355143c64545cc0",
            "73fbfee5ff4d4616ab02876f2d945445",
            "d3d0358871d24dd1828b9ea751350cfb",
            "0cc20178f2df44bfb555f553857e2538",
            "deea7f2a30174e59aea3f6c4924d900e",
            "dc6690dbde4f40d6be24b69834953f51",
            "e40aae7745c6466c8c6fa9ecee65d5c6",
            "2a687ac9407f47c1acea29d16c910d6c",
            "1b4977660ce34c8992b9bb6a0b455d05",
            "be2626acd8284c03838b0b54654f935d",
            "b4b12ada97fe4c1eb8299a59f004fd4b",
            "3d65e708fa654553b48f2ce8fc5661c2",
            "5a7d7fddc7b34f9382364dc38ea080eb",
            "b5e6a9e724cd4500a75bdbeb97a83f54",
            "b82586d5678348f492cec83815b5ff69",
            "ef705123cba14416b2134c917a55bf8d",
            "090abb835cfa4f97a3ca6a7d6923fb23",
            "683db793448c423985c6810da1e9c1a3",
            "eea7ac19a9004acf920b653096640a13",
            "17b42804b3c848f999a5a8c7cfd4ff51",
            "a5c3bced6bd741fb8a8898ddce2b85cd",
            "6893bb78eea14bf4814dd524b2775949",
            "26de9f9db24b4b4aa7db024c53a254b9",
            "220a3b64609e4b358e1d88dc60ed0e48",
            "349cc1b585ba444bbc32d5ee88ea72e2",
            "ab92b844c7f54faeae77e797d1803295",
            "2764ab9a5cf94517999b3a94d7a67b79",
            "1623164a851c41b884085988811cbd63",
            "dfd79ddfec75424789ddd08bc4921cf5",
            "df7303e02dff44c888aef792dc37316c",
            "e31d68afde5d494d951f1a557e2cf906",
            "7bca833bfc6d4e2e8657c23977dad06a",
            "d441a7794fa14115b6c5a66f8604e039",
            "abeeabefbfe34325a8e77c368219aabd",
            "b524bcc5393a414e9b04b10861837354",
            "d92cb591a59046d1bbfc6412cecda375"
          ]
        },
        "outputId": "df39c53b-5f2a-4245-b91d-b17c781338b5"
      },
      "execution_count": 4,
      "outputs": [
        {
          "output_type": "display_data",
          "data": {
            "text/plain": [
              "config.json:   0%|          | 0.00/1.80k [00:00<?, ?B/s]"
            ],
            "application/vnd.jupyter.widget-view+json": {
              "version_major": 2,
              "version_minor": 0,
              "model_id": "05e74f12fe514217abfd8b2f63172269"
            }
          },
          "metadata": {}
        },
        {
          "output_type": "display_data",
          "data": {
            "text/plain": [
              "pytorch_model.bin:   0%|          | 0.00/1.22G [00:00<?, ?B/s]"
            ],
            "application/vnd.jupyter.widget-view+json": {
              "version_major": 2,
              "version_minor": 0,
              "model_id": "a3654674901d4e1a906ea43aad7d30d4"
            }
          },
          "metadata": {}
        },
        {
          "output_type": "display_data",
          "data": {
            "text/plain": [
              "tokenizer_config.json:   0%|          | 0.00/26.0 [00:00<?, ?B/s]"
            ],
            "application/vnd.jupyter.widget-view+json": {
              "version_major": 2,
              "version_minor": 0,
              "model_id": "0cc20178f2df44bfb555f553857e2538"
            }
          },
          "metadata": {}
        },
        {
          "output_type": "display_data",
          "data": {
            "text/plain": [
              "vocab.json:   0%|          | 0.00/899k [00:00<?, ?B/s]"
            ],
            "application/vnd.jupyter.widget-view+json": {
              "version_major": 2,
              "version_minor": 0,
              "model_id": "b82586d5678348f492cec83815b5ff69"
            }
          },
          "metadata": {}
        },
        {
          "output_type": "display_data",
          "data": {
            "text/plain": [
              "merges.txt:   0%|          | 0.00/456k [00:00<?, ?B/s]"
            ],
            "application/vnd.jupyter.widget-view+json": {
              "version_major": 2,
              "version_minor": 0,
              "model_id": "ab92b844c7f54faeae77e797d1803295"
            }
          },
          "metadata": {}
        }
      ]
    },
    {
      "cell_type": "code",
      "source": [
        "text = ('''The tower is 324 metres (1,063 ft) tall, about the same height\n",
        "        as an 81-storey building, and the tallest structure in Paris.\n",
        "        Its base is square, measuring 125 metres (410 ft) on each side.\n",
        "        During its construction, the Eiffel Tower surpassed the Washington\n",
        "        Monument to become the tallest man-made structure in the world,\n",
        "        a title it held for 41 years until the Chrysler Building\n",
        "        in New York City was finished in 1930. It was the first structure\n",
        "        to reach a height of 300 metres. Due to the addition of a broadcasting\n",
        "        aerial at the top of the tower in 1957, it is now taller than the\n",
        "        Chrysler Building by 5.2 metres (17 ft). Excluding transmitters, the\n",
        "        Eiffel Tower is the second tallest free-standing structure in France\n",
        "        after the Millau Viaduct.''')\n",
        "\n",
        "get_completion(text)"
      ],
      "metadata": {
        "id": "ksMbHcEvuURd",
        "colab": {
          "base_uri": "https://localhost:8080/"
        },
        "outputId": "fa6a6c2a-6ff4-4cdd-a9c4-6a125fa41e6d"
      },
      "execution_count": 5,
      "outputs": [
        {
          "output_type": "execute_result",
          "data": {
            "text/plain": [
              "[{'summary_text': ' The tower is 324 metres (1,063 ft) tall, about the same height as an 81-storey building in Paris . It is the second tallest free-standing structure in France after the Millau Viaduct . It was the first structure in the world to reach a height of 300 metres . The Eiffel Tower is now taller than the Chrysler Building in New York City by 5.2 metres (17 ft)'}]"
            ]
          },
          "metadata": {},
          "execution_count": 5
        }
      ]
    },
    {
      "cell_type": "markdown",
      "source": [
        "Or using function `summarize`:"
      ],
      "metadata": {
        "id": "1r8KW08oyub_"
      }
    },
    {
      "cell_type": "code",
      "source": [
        "summarize(text)"
      ],
      "metadata": {
        "id": "qunjzXOiugh5",
        "colab": {
          "base_uri": "https://localhost:8080/",
          "height": 70
        },
        "outputId": "815532f9-6a05-4814-8757-da91ed642033"
      },
      "execution_count": 6,
      "outputs": [
        {
          "output_type": "execute_result",
          "data": {
            "text/plain": [
              "' The tower is 324 metres (1,063 ft) tall, about the same height as an 81-storey building in Paris . It is the second tallest free-standing structure in France after the Millau Viaduct . It was the first structure in the world to reach a height of 300 metres . The Eiffel Tower is now taller than the Chrysler Building in New York City by 5.2 metres (17 ft)'"
            ],
            "application/vnd.google.colaboratory.intrinsic+json": {
              "type": "string"
            }
          },
          "metadata": {},
          "execution_count": 6
        }
      ]
    },
    {
      "cell_type": "markdown",
      "source": [
        "#### Trying out the Hugging Face Inference API"
      ],
      "metadata": {
        "id": "Hn3K4X1w2XGh"
      }
    },
    {
      "cell_type": "markdown",
      "source": [
        "First get a Hugging Face Inference API key: https://youtu.be/jo_fTD2H4xA?si=GNrDbhkPNOqu9HGa\n",
        "\n",
        "\n",
        "Copy the key from the Hugging Face website and store it as an environment variable:"
      ],
      "metadata": {
        "id": "nS3vROwj2h_v"
      }
    },
    {
      "cell_type": "code",
      "source": [
        "import os, getpass\n",
        "\n",
        "os.environ[\"HF_API_KEY\"] = getpass.getpass()"
      ],
      "metadata": {
        "colab": {
          "base_uri": "https://localhost:8080/"
        },
        "id": "E0W8-Xjj7rVe",
        "outputId": "aa4299e5-d176-4a60-9b64-42b0bf06216d"
      },
      "execution_count": 11,
      "outputs": [
        {
          "name": "stdout",
          "output_type": "stream",
          "text": [
            "··········\n"
          ]
        }
      ]
    },
    {
      "cell_type": "markdown",
      "source": [
        "`os.environ` is a mapping object that represents your environmental variables. It can be used to get, set, and delete environmental variables. Environmental variables are useful for storing sensitive information like API keys. By storing them in environmental variables, you can avoid hardcoding them in your code, which can be a security risk. Using `getpass()` it is possible to safely assign your HuggingFace API token to environmental variable `'HF_API_KEY'`."
      ],
      "metadata": {
        "id": "g1lx19YP8G59"
      }
    },
    {
      "cell_type": "markdown",
      "source": [
        "Another common and secure way to deal with API tokens is to store them in an .env-file, which can be created easily using the Linux `echo` command:"
      ],
      "metadata": {
        "id": "M-qDgi4j7tsZ"
      }
    },
    {
      "cell_type": "code",
      "source": [
        "!echo \"HF_API_KEY=your_key\" > .env"
      ],
      "metadata": {
        "id": "SDT4f6wx5-V3"
      },
      "execution_count": null,
      "outputs": []
    },
    {
      "cell_type": "markdown",
      "source": [
        "Of course you need to replace `your_key` by the actual key you copy-pasted from the Hugging Face website.\n",
        "\n",
        "Check if the .env-file indeed contains your key:"
      ],
      "metadata": {
        "id": "t-EgdPuv5clz"
      }
    },
    {
      "cell_type": "code",
      "source": [
        "!cat .env"
      ],
      "metadata": {
        "id": "SmQ6-R1L5BoU"
      },
      "execution_count": null,
      "outputs": []
    },
    {
      "cell_type": "markdown",
      "source": [
        "To be able to run the code from the course we have to install the `dotenv` library:"
      ],
      "metadata": {
        "id": "xM8yxZx76J9K"
      }
    },
    {
      "cell_type": "code",
      "source": [
        "!pip install python-dotenv"
      ],
      "metadata": {
        "id": "4SXuW6gBpqgM"
      },
      "execution_count": null,
      "outputs": []
    },
    {
      "cell_type": "markdown",
      "source": [
        "This is the code snippet from the course to read the .env-file and assign your key to variable `hf_api_key`:"
      ],
      "metadata": {
        "id": "c6RbbKtw6TE6"
      }
    },
    {
      "cell_type": "code",
      "source": [
        "import os\n",
        "from dotenv import load_dotenv, find_dotenv\n",
        "\n",
        "_ = load_dotenv(find_dotenv()) # read local .env file\n",
        "hf_api_key = os.environ['HF_API_KEY']\n",
        "hf_api_key"
      ],
      "metadata": {
        "id": "oXBe9AgKn_Qu"
      },
      "execution_count": null,
      "outputs": []
    },
    {
      "cell_type": "markdown",
      "source": [
        "Of course it is safer to delete commands and output that display your key!"
      ],
      "metadata": {
        "id": "yOtWzoAp61fu"
      }
    },
    {
      "cell_type": "markdown",
      "source": [
        "However, if you are using Google Colab, it is easier to save your API keys using the *Secrets* pane on the left. The keys you store there are private and visible only to you, which implies this is also a secure way of dealing with API tokens. Once you have stored a key, it can be used in all of the notebooks you create, if you toggle the notebook access for that key.\n",
        "\n",
        "Here, we have stored our HuggingFace API token as `HF_TOKEN` secret:"
      ],
      "metadata": {
        "id": "fUpZX-zW3uOD"
      }
    },
    {
      "cell_type": "markdown",
      "source": [
        "![image.png](data:image/png;base64,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)"
      ],
      "metadata": {
        "id": "QfgcQTzm4u4k"
      }
    },
    {
      "cell_type": "markdown",
      "source": [
        "Using the Python code given in the *Secrets* pane, it is straightforward to assign `HF_TOKEN` to variable `hf_api_key`:"
      ],
      "metadata": {
        "id": "3wjzaDvh6fHZ"
      }
    },
    {
      "cell_type": "code",
      "source": [
        "from google.colab import userdata\n",
        "hf_api_key = userdata.get('HF_TOKEN')"
      ],
      "metadata": {
        "id": "cJr3LYh-3OHJ"
      },
      "execution_count": 7,
      "outputs": []
    },
    {
      "cell_type": "markdown",
      "source": [
        "Now your HuggingFace API key is set, go to the Hugging Face page for `distilbart-cnn-12-6`:\n",
        "\n",
        "https://huggingface.co/sshleifer/distilbart-cnn-12-6\n",
        "\n",
        "On the right, you see a \"Deploy\" button. Click on it and then on \"Inference API\" to get the `API_URL`. You may also copy-paste the following code:"
      ],
      "metadata": {
        "id": "wG0zKwX37Ddg"
      }
    },
    {
      "cell_type": "code",
      "source": [
        "import requests\n",
        "\n",
        "API_URL = \"https://api-inference.huggingface.co/models/sshleifer/distilbart-cnn-12-6\"\n",
        "headers = {\"Authorization\": f\"Bearer {hf_api_key}\"}\n",
        "\n",
        "def query(payload):\n",
        "\tresponse = requests.post(API_URL, headers=headers, json=payload)\n",
        "\treturn response.json()\n",
        "\n",
        "output = query(dict(inputs=text))\n",
        "output"
      ],
      "metadata": {
        "id": "Vs1Pdb7jsh5D",
        "colab": {
          "base_uri": "https://localhost:8080/"
        },
        "outputId": "7d7694e4-2e27-47e5-b708-62d5c1281e94"
      },
      "execution_count": 8,
      "outputs": [
        {
          "output_type": "execute_result",
          "data": {
            "text/plain": [
              "[{'summary_text': ' The tower is 324 metres (1,063 ft) tall, about the same height as an 81-storey building in Paris . It is the second tallest free-standing structure in France after the Millau Viaduct . It was the first structure in the world to reach a height of 300 metres . The Eiffel Tower is now taller than the Chrysler Building in New York City by 5.2 metres (17 ft)'}]"
            ]
          },
          "metadata": {},
          "execution_count": 8
        }
      ]
    },
    {
      "cell_type": "markdown",
      "source": [
        "It's easy now to redefine the `summarize` function so it calls the API instead of using the pipeline:\n",
        "\n"
      ],
      "metadata": {
        "id": "MPQi254d9Emf"
      }
    },
    {
      "cell_type": "code",
      "source": [
        "def summarize(input):\n",
        "    output = query(dict(inputs=text))\n",
        "    return output[0]['summary_text']"
      ],
      "metadata": {
        "id": "sasBNS5j9H0m"
      },
      "execution_count": 9,
      "outputs": []
    },
    {
      "cell_type": "code",
      "source": [
        "summarize(text)"
      ],
      "metadata": {
        "id": "IhIL49yX9c1H",
        "colab": {
          "base_uri": "https://localhost:8080/",
          "height": 70
        },
        "outputId": "d1a4124d-e054-49e8-d9af-e27d64e4ae69"
      },
      "execution_count": 10,
      "outputs": [
        {
          "output_type": "execute_result",
          "data": {
            "text/plain": [
              "' The tower is 324 metres (1,063 ft) tall, about the same height as an 81-storey building in Paris . It is the second tallest free-standing structure in France after the Millau Viaduct . It was the first structure in the world to reach a height of 300 metres . The Eiffel Tower is now taller than the Chrysler Building in New York City by 5.2 metres (17 ft)'"
            ],
            "application/vnd.google.colaboratory.intrinsic+json": {
              "type": "string"
            }
          },
          "metadata": {},
          "execution_count": 10
        }
      ]
    },
    {
      "cell_type": "markdown",
      "source": [
        "Notice how much faster the query is executed using the API!"
      ],
      "metadata": {
        "id": "93reRgZg64Zd"
      }
    },
    {
      "cell_type": "markdown",
      "source": [
        "#### Getting started with Gradio `gr.Interface`"
      ],
      "metadata": {
        "id": "TP_bwRCTyahc"
      }
    },
    {
      "cell_type": "code",
      "source": [
        "gr.close_all()\n",
        "demo = gr.Interface(fn=summarize,  # function summarize\n",
        "                    inputs=\"text\", outputs=\"text\")\n",
        "demo.launch()"
      ],
      "metadata": {
        "id": "q-IIov6Zu4Y6"
      },
      "execution_count": null,
      "outputs": []
    },
    {
      "cell_type": "markdown",
      "source": [
        "You can add `demo.launch(share=True)` to create a public link to share with your team or friends:"
      ],
      "metadata": {
        "id": "70SVN0dyypB6"
      }
    },
    {
      "cell_type": "code",
      "source": [
        "demo.launch(share=True)"
      ],
      "metadata": {
        "id": "lYtcCXcrvEWa"
      },
      "execution_count": null,
      "outputs": []
    },
    {
      "cell_type": "markdown",
      "source": [
        "#### Building a Named Entity Recognition app"
      ],
      "metadata": {
        "id": "5aueMZO3yr_o"
      }
    },
    {
      "cell_type": "code",
      "source": [
        "get_completion = pipeline(\"ner\", model=\"dslim/bert-base-NER\")\n",
        "\n",
        "def ner(input):\n",
        "    output = get_completion(input)\n",
        "    return {\"text\": input, \"entities\": output}"
      ],
      "metadata": {
        "id": "lpPt8bwFy0Wh"
      },
      "execution_count": null,
      "outputs": []
    },
    {
      "cell_type": "code",
      "source": [
        "gr.close_all()\n",
        "demo = gr.Interface(fn=ner,  # function ner\n",
        "                    inputs=[gr.Textbox(label=\"Text to find entities\", lines=2)],\n",
        "                    outputs=[gr.HighlightedText(label=\"Text with entities\")],\n",
        "                    title=\"NER with dslim/bert-base-NER\",\n",
        "                    description=\"Find entities using the `dslim/bert-base-NER` model under the hood!\",\n",
        "                    allow_flagging=\"never\",\n",
        "                    #Here we introduce a new tag, examples, easy to use examples for your application\n",
        "                    examples=[\"My name is Andrew and I live in California\",\n",
        "                              \"My name is Poli and work at HuggingFace\"])\n",
        "demo.launch()"
      ],
      "metadata": {
        "id": "gpNBCIykzJRq"
      },
      "execution_count": null,
      "outputs": []
    },
    {
      "cell_type": "markdown",
      "source": [
        "### L2: Image captioning app"
      ],
      "metadata": {
        "id": "B7usBBkdL5mA"
      }
    },
    {
      "cell_type": "code",
      "source": [
        "import io\n",
        "import IPython.display\n",
        "from PIL import Image\n",
        "import base64"
      ],
      "metadata": {
        "id": "JEt2pfU1M-Fq"
      },
      "execution_count": null,
      "outputs": []
    },
    {
      "cell_type": "markdown",
      "source": [
        "#### Building an image captioning app"
      ],
      "metadata": {
        "id": "mA03mN2NMI3N"
      }
    },
    {
      "cell_type": "code",
      "source": [
        "get_completion = pipeline(\"image-to-text\", model=\"Salesforce/blip-image-captioning-base\")\n",
        "\n",
        "def summarize(input):\n",
        "    output = get_completion(input)\n",
        "    return output[0]['generated_text']"
      ],
      "metadata": {
        "id": "xE4hcrzuMJT1"
      },
      "execution_count": null,
      "outputs": []
    },
    {
      "cell_type": "markdown",
      "source": [
        "The free images are available on: https://free-images.com/"
      ],
      "metadata": {
        "id": "AqyMJXA9M0Ir"
      }
    },
    {
      "cell_type": "code",
      "source": [
        "image_url = \"https://free-images.com/sm/9596/dog_animal_greyhound_983023.jpg\"\n",
        "display(IPython.display.Image(url=image_url))\n",
        "get_completion(image_url)"
      ],
      "metadata": {
        "id": "vGFoOOMOM4HG"
      },
      "execution_count": null,
      "outputs": []
    },
    {
      "cell_type": "markdown",
      "source": [
        "Or using function `summarize`:"
      ],
      "metadata": {
        "id": "Vg65nkT5y9d8"
      }
    },
    {
      "cell_type": "code",
      "source": [
        "summarize(image_url)"
      ],
      "metadata": {
        "id": "jGmAehAnNM3C"
      },
      "execution_count": null,
      "outputs": []
    },
    {
      "cell_type": "markdown",
      "source": [
        "#### Captioning with `gr.Interface()`"
      ],
      "metadata": {
        "id": "-bAqZk7bNe7L"
      }
    },
    {
      "cell_type": "code",
      "source": [
        "def image_to_base64_str(pil_image):\n",
        "    byte_arr = io.BytesIO()\n",
        "    pil_image.save(byte_arr, format='PNG')\n",
        "    byte_arr = byte_arr.getvalue()\n",
        "    return str(base64.b64encode(byte_arr).decode('utf-8'))\n",
        "\n",
        "def captioner(image):\n",
        "    base64_image = image_to_base64_str(image)\n",
        "    result = get_completion(base64_image)\n",
        "    return result[0]['generated_text']"
      ],
      "metadata": {
        "id": "pgXjWHGUNnsy"
      },
      "execution_count": null,
      "outputs": []
    },
    {
      "cell_type": "code",
      "source": [
        "gr.close_all()\n",
        "demo = gr.Interface(fn=captioner,\n",
        "                    inputs=[gr.Image(label=\"Upload image\", type=\"pil\")],\n",
        "                    outputs=[gr.Textbox(label=\"Caption\")],\n",
        "                    title=\"Image Captioning with BLIP\",\n",
        "                    description=\"Caption any image using the BLIP model\",\n",
        "                    allow_flagging=\"never\",\n",
        "                    # you need to upload these example images\n",
        "                    # in colab: left pane > Files > Upload to storage session\n",
        "                    examples=[\"christmas_dog.jpg\", \"bird_flight.jpg\", \"cow.jpg\"])\n",
        "\n",
        "demo.launch()"
      ],
      "metadata": {
        "id": "8GjJ6vWVNqSf"
      },
      "execution_count": null,
      "outputs": []
    },
    {
      "cell_type": "markdown",
      "source": [
        "### L3: Image generation app"
      ],
      "metadata": {
        "id": "9FaeyWEKRlWN"
      }
    },
    {
      "cell_type": "markdown",
      "source": [
        "In this lesson [stable diffusion](https://stability.ai/) is applied, which requires the use of GPU.\n",
        "\n",
        "Switching to GPU in Google Colab is done as follows:\n",
        "- click on menu item \"Runtime\"\n",
        "- select \"Change runtime type\"\n",
        "- set \"Hardware accelerator\" to \"T4 GPU\""
      ],
      "metadata": {
        "id": "fHEWl127woNw"
      }
    },
    {
      "cell_type": "markdown",
      "source": [
        "Next the `diffusers` library (see https://huggingface.co/docs/diffusers/quicktour) needs te be installed:"
      ],
      "metadata": {
        "id": "ZmNEMxyzSlvp"
      }
    },
    {
      "cell_type": "code",
      "source": [
        "!pip install --upgrade diffusers accelerate transformers"
      ],
      "metadata": {
        "id": "SKHyn1uSSiC_"
      },
      "execution_count": null,
      "outputs": []
    },
    {
      "cell_type": "markdown",
      "source": [
        "As the runtime type has been changed, we also need to re-install gradio:"
      ],
      "metadata": {
        "id": "rMNc2IR-VaHK"
      }
    },
    {
      "cell_type": "code",
      "source": [
        "!pip install gradio"
      ],
      "metadata": {
        "id": "PziOSO_eU7Vd"
      },
      "execution_count": null,
      "outputs": []
    },
    {
      "cell_type": "markdown",
      "source": [
        "Of course we also need to re-import the required packages and libraries:"
      ],
      "metadata": {
        "id": "QzbvkXslUJG5"
      }
    },
    {
      "cell_type": "code",
      "source": [
        "from transformers import pipeline\n",
        "from diffusers import DiffusionPipeline\n",
        "import gradio as gr\n",
        "import io\n",
        "import IPython.display\n",
        "from PIL import Image\n",
        "import base64"
      ],
      "metadata": {
        "id": "8AV5EvPdS1ZR"
      },
      "execution_count": null,
      "outputs": []
    },
    {
      "cell_type": "markdown",
      "source": [
        "#### Building an image generation app"
      ],
      "metadata": {
        "id": "4oHeyb30S6oE"
      }
    },
    {
      "cell_type": "code",
      "source": [
        "pipeline = DiffusionPipeline.from_pretrained(\"runwayml/stable-diffusion-v1-5\")\n",
        "pipeline.to(\"cuda\")  # we want to use GPU!!!\n",
        "\n",
        "def get_completion(prompt):\n",
        "    return pipeline(prompt).images[0]"
      ],
      "metadata": {
        "colab": {
          "base_uri": "https://localhost:8080/",
          "height": 121,
          "referenced_widgets": [
            "65130c6b994d480580c30012c245f0e9",
            "c988ea5849ff4217a3537b3fec3b3809",
            "f6e623a69ea74664b096423ecc4bfd57",
            "057590d7e3814bb49f0269183c3dc8a7",
            "4012317929c649b993daffcd847c19b2",
            "753f343761f8416a8ea41a31bd3342d3",
            "07860f75495842379c9a4e62adf05dc4",
            "a7d05282c9d3438fb13278e7863db661",
            "2858218f18aa4d82a5990de9f9a51e02",
            "6e9e5124ebd74ebe8c213e1c02338f79",
            "7b8465fb28304d18b403c13e70aed297"
          ]
        },
        "id": "QxhBDEhqSF6H",
        "outputId": "8ed8f794-0d1c-401a-d5e4-e79406004159"
      },
      "execution_count": null,
      "outputs": [
        {
          "output_type": "display_data",
          "data": {
            "text/plain": [
              "Loading pipeline components...:   0%|          | 0/7 [00:00<?, ?it/s]"
            ],
            "application/vnd.jupyter.widget-view+json": {
              "version_major": 2,
              "version_minor": 0,
              "model_id": "65130c6b994d480580c30012c245f0e9"
            }
          },
          "metadata": {}
        },
        {
          "output_type": "stream",
          "name": "stderr",
          "text": [
            "`text_config_dict` is provided which will be used to initialize `CLIPTextConfig`. The value `text_config[\"id2label\"]` will be overriden.\n",
            "`text_config_dict` is provided which will be used to initialize `CLIPTextConfig`. The value `text_config[\"bos_token_id\"]` will be overriden.\n",
            "`text_config_dict` is provided which will be used to initialize `CLIPTextConfig`. The value `text_config[\"eos_token_id\"]` will be overriden.\n"
          ]
        }
      ]
    },
    {
      "cell_type": "code",
      "source": [
        "prompt = \"a dog in a park\"\n",
        "result = get_completion(prompt)\n",
        "result"
      ],
      "metadata": {
        "id": "4xWzCcPUTCpg"
      },
      "execution_count": null,
      "outputs": []
    },
    {
      "cell_type": "markdown",
      "source": [
        "#### Generating with `gr.Interface()`"
      ],
      "metadata": {
        "id": "mvT0dfpATKpR"
      }
    },
    {
      "cell_type": "markdown",
      "source": [
        "Here we don't need the helper functions from the notebook shown in the course."
      ],
      "metadata": {
        "id": "hNtNg_aExpwM"
      }
    },
    {
      "cell_type": "code",
      "source": [
        "gr.close_all()\n",
        "demo = gr.Interface(fn=get_completion,  # we may pass function 'get_completion' as it retunrs an image\n",
        "                    inputs=[gr.Textbox(label=\"Your prompt\")],\n",
        "                    outputs=[gr.Image(label=\"Result\")],\n",
        "                    title=\"Image Generation with Stable Diffusion\",\n",
        "                    description=\"Generate any image with Stable Diffusion\",\n",
        "                    allow_flagging=\"never\",\n",
        "                    examples=[\"the spirit of a tamagotchi wandering in the city of Vienna\",\n",
        "                              \"a mecha robot in a favela\"])\n",
        "\n",
        "demo.launch()"
      ],
      "metadata": {
        "id": "eWhTGwAqWByJ"
      },
      "execution_count": null,
      "outputs": []
    },
    {
      "cell_type": "markdown",
      "source": [
        "#### Building a more advanced interface"
      ],
      "metadata": {
        "id": "XHcHhan2eK2L"
      }
    },
    {
      "cell_type": "code",
      "source": [
        "def get_completion(prompt, params):  # we need 'params' as additional input\n",
        "    return pipeline(prompt, **params).images[0]\n",
        "\n",
        "def generate(prompt, negative_prompt, steps, guidance, width, height):\n",
        "    params = {\n",
        "        \"negative_prompt\": negative_prompt,\n",
        "        \"num_inference_steps\": steps,\n",
        "        \"guidance_scale\": guidance,\n",
        "        \"width\": width,\n",
        "        \"height\": height\n",
        "    }\n",
        "\n",
        "    return get_completion(prompt, params)"
      ],
      "metadata": {
        "id": "memqSQs4eYQF"
      },
      "execution_count": null,
      "outputs": []
    },
    {
      "cell_type": "code",
      "source": [
        "generate(prompt=\"dog in a park\",\n",
        "         negative_prompt=\"low quality\",  # negative prompt is what we don't want\n",
        "         steps=25,\n",
        "         guidance=7,\n",
        "         # width and height must be divisible by 8\n",
        "         width=8*40,\n",
        "         height=8*40)"
      ],
      "metadata": {
        "id": "lJw256JQiTaH"
      },
      "execution_count": null,
      "outputs": []
    },
    {
      "cell_type": "code",
      "source": [
        "gr.close_all()\n",
        "demo = gr.Interface(fn=generate,\n",
        "                    inputs=[\n",
        "                        gr.Textbox(label=\"Your prompt\"),\n",
        "                        gr.Textbox(label=\"Negative prompt\"),\n",
        "                        gr.Slider(label=\"Inference Steps\", minimum=1, maximum=100, value=25,\n",
        "                                 info=\"In how many steps will the denoiser denoise the image?\"),\n",
        "                        gr.Slider(label=\"Guidance Scale\", minimum=1, maximum=20, value=7,\n",
        "                                  info=\"Controls how much the text prompt influences the result\"),\n",
        "                        gr.Slider(label=\"Width\", minimum=64, maximum=512, step=64, value=512),\n",
        "                        gr.Slider(label=\"Height\", minimum=64, maximum=512, step=64, value=512),\n",
        "                    ],\n",
        "                    outputs=[gr.Image(label=\"Result\")],\n",
        "                    title=\"Image Generation with Stable Diffusion\",\n",
        "                    description=\"Generate any image with Stable Diffusion\",\n",
        "                    allow_flagging=\"never\"\n",
        "                    )\n",
        "\n",
        "demo.launch()"
      ],
      "metadata": {
        "id": "UKn0ZYSGeVgM"
      },
      "execution_count": null,
      "outputs": []
    },
    {
      "cell_type": "markdown",
      "source": [
        "#### `gr.Blocks()` to the rescue!"
      ],
      "metadata": {
        "id": "hPZtyxqxe1Cb"
      }
    },
    {
      "cell_type": "code",
      "source": [
        "with gr.Blocks() as demo:\n",
        "    gr.Markdown(\"# Image Generation with Stable Diffusion\")\n",
        "    prompt = gr.Textbox(label=\"Your prompt\")\n",
        "    with gr.Row():\n",
        "        with gr.Column():\n",
        "            negative_prompt = gr.Textbox(label=\"Negative prompt\")\n",
        "            steps = gr.Slider(label=\"Inference Steps\", minimum=1, maximum=100, value=25,\n",
        "                      info=\"In many steps will the denoiser denoise the image?\")\n",
        "            guidance = gr.Slider(label=\"Guidance Scale\", minimum=1, maximum=20, value=7,\n",
        "                      info=\"Controls how much the text prompt influences the result\")\n",
        "            width = gr.Slider(label=\"Width\", minimum=64, maximum=512, step=64, value=512)\n",
        "            height = gr.Slider(label=\"Height\", minimum=64, maximum=512, step=64, value=512)\n",
        "            btn = gr.Button(\"Submit\")\n",
        "        with gr.Column():\n",
        "            output = gr.Image(label=\"Result\")\n",
        "\n",
        "    btn.click(fn=generate, inputs=[prompt,negative_prompt,steps,guidance,width,height], outputs=[output])\n",
        "gr.close_all()\n",
        "demo.launch()"
      ],
      "metadata": {
        "id": "2ExeYHGRe69j"
      },
      "execution_count": null,
      "outputs": []
    },
    {
      "cell_type": "markdown",
      "source": [
        "Now try to hide the \"advanced options\" using Gradio's `Accordion` widget!"
      ],
      "metadata": {
        "id": "wMmViKbZnZYl"
      }
    },
    {
      "cell_type": "code",
      "source": [
        "# write your code here!"
      ],
      "metadata": {
        "id": "8TtSKg0qzeMe"
      },
      "execution_count": null,
      "outputs": []
    },
    {
      "cell_type": "markdown",
      "source": [
        "### L4: Describe-and-Generate game"
      ],
      "metadata": {
        "id": "3ut6osKyoJZZ"
      }
    },
    {
      "cell_type": "markdown",
      "source": [
        "#### Bringing together the functions from previous lessons!"
      ],
      "metadata": {
        "id": "JWFfyJ_gyJN-"
      }
    },
    {
      "cell_type": "code",
      "source": [
        "from transformers import pipeline\n",
        "\n",
        "def image_to_base64_str(pil_image):\n",
        "    byte_arr = io.BytesIO()\n",
        "    pil_image.save(byte_arr, format='PNG')\n",
        "    byte_arr = byte_arr.getvalue()\n",
        "    return str(base64.b64encode(byte_arr).decode('utf-8'))\n",
        "\n",
        "def captioner(image):\n",
        "    get_completion = pipeline(\"image-to-text\",model=\"Salesforce/blip-image-captioning-base\")\n",
        "    base64_image = image_to_base64_str(image)\n",
        "    result = get_completion(base64_image)\n",
        "    return result[0]['generated_text']\n",
        "\n",
        "def generate(prompt):\n",
        "    diff_pipeline = DiffusionPipeline.from_pretrained(\"runwayml/stable-diffusion-v1-5\")\n",
        "    diff_pipeline.to(\"cuda\")  # we want to use GPU!\n",
        "    return diff_pipeline(prompt).images[0]"
      ],
      "metadata": {
        "id": "OUtuXv_GqHZi"
      },
      "execution_count": null,
      "outputs": []
    },
    {
      "cell_type": "markdown",
      "source": [
        "#### First attempt, just captioning"
      ],
      "metadata": {
        "id": "2FxnfxfAsVR_"
      }
    },
    {
      "cell_type": "code",
      "source": [
        "with gr.Blocks() as demo:\n",
        "    gr.Markdown(\"# Describe-and-Generate game 🖍️\")\n",
        "    image_upload = gr.Image(label=\"Your first image\",type=\"pil\")\n",
        "    btn_caption = gr.Button(\"Generate caption\")\n",
        "    caption = gr.Textbox(label=\"Generated caption\")\n",
        "\n",
        "    btn_caption.click(fn=captioner, inputs=[image_upload], outputs=[caption])\n",
        "\n",
        "gr.close_all()\n",
        "demo.launch()"
      ],
      "metadata": {
        "id": "EfTQk-YwsJ4n"
      },
      "execution_count": null,
      "outputs": []
    },
    {
      "cell_type": "markdown",
      "source": [
        "#### Let's add generation"
      ],
      "metadata": {
        "id": "rMQyHUVEsuTX"
      }
    },
    {
      "cell_type": "code",
      "source": [
        "with gr.Blocks() as demo:\n",
        "    gr.Markdown(\"# Describe-and-Generate game 🖍️\")\n",
        "    image_upload = gr.Image(label=\"Your first image\",type=\"pil\")\n",
        "    btn_caption = gr.Button(\"Generate caption\")\n",
        "    caption = gr.Textbox(label=\"Generated caption\")\n",
        "    btn_image = gr.Button(\"Generate image\")\n",
        "    image_output = gr.Image(label=\"Generated Image\")\n",
        "    btn_caption.click(fn=captioner, inputs=[image_upload], outputs=[caption])\n",
        "    btn_image.click(fn=generate, inputs=[caption], outputs=[image_output])\n",
        "\n",
        "gr.close_all()\n",
        "demo.launch()"
      ],
      "metadata": {
        "id": "ge9jBzENsxog"
      },
      "execution_count": null,
      "outputs": []
    },
    {
      "cell_type": "markdown",
      "source": [
        "#### Doing it all at once!"
      ],
      "metadata": {
        "id": "6erVdS5MtSwn"
      }
    },
    {
      "cell_type": "code",
      "source": [
        "def caption_and_generate(image):\n",
        "    caption = captioner(image)\n",
        "    image = generate(caption)\n",
        "    return [caption, image]"
      ],
      "metadata": {
        "id": "JBTCtkWrtbRm"
      },
      "execution_count": null,
      "outputs": []
    },
    {
      "cell_type": "code",
      "source": [
        "with gr.Blocks() as demo:\n",
        "    gr.Markdown(\"# Describe-and-Generate game 🖍️\")\n",
        "    image_upload = gr.Image(label=\"Your first image\",type=\"pil\")\n",
        "    btn_all = gr.Button(\"Caption and generate\")\n",
        "    caption = gr.Textbox(label=\"Generated caption\")\n",
        "    image_output = gr.Image(label=\"Generated Image\")\n",
        "\n",
        "    btn_all.click(fn=caption_and_generate, inputs=[image_upload], outputs=[caption, image_output])\n",
        "\n",
        "gr.close_all()\n",
        "demo.launch()"
      ],
      "metadata": {
        "id": "ceZiB6_VtYNq"
      },
      "execution_count": null,
      "outputs": []
    },
    {
      "cell_type": "markdown",
      "source": [
        "### L5: Chat with any LLM!"
      ],
      "metadata": {
        "id": "MT3CCunTuGG-"
      }
    },
    {
      "cell_type": "markdown",
      "source": [
        "Unfortunately the `falcon-40b-instruct` requires too much memory and cannot be loaded into the free Google Colab environment. The serverless HuggingFace Inference API cannot be used either. It is possible though to use [Inference Endpoints](https://huggingface.co/inference-endpoints) as is done in the course, but that service is not for free.\n",
        "\n",
        "In the following notebooks, we'll use [LangChain](https://www.langchain.com/) to build LLM apps such as chatbots. In the meantime, you can watch the course video to get a better idea how a chatbot is developed!"
      ],
      "metadata": {
        "id": "QmzkYjEa-EMe"
      }
    },
    {
      "cell_type": "markdown",
      "source": [
        "## Prompt Engineering"
      ],
      "metadata": {
        "id": "96a6B7m1tpHu"
      }
    },
    {
      "cell_type": "markdown",
      "source": [
        "Prompt engineering is a technique used when interacting with large language models (LLMs) like GPT-4. It involves crafting well-designed input prompts to guide the model towards generating desired outputs. The goal of prompt engineering is to optimize the communication between a user and the language model, eliciting responses that align with the user's intent or specific requirements.\n",
        "\n",
        "Check out the following free online course from deeplearning.ai to learn more about prompt engineering:"
      ],
      "metadata": {
        "id": "EKF5uPbtvSyv"
      }
    },
    {
      "cell_type": "markdown",
      "source": [
        "- https://learn.deeplearning.ai/chatgpt-prompt-eng"
      ],
      "metadata": {
        "id": "KKrWfFOmtsWF"
      }
    },
    {
      "cell_type": "markdown",
      "source": [
        "---"
      ],
      "metadata": {
        "id": "uNVzySx9xEoB"
      }
    }
  ]
}